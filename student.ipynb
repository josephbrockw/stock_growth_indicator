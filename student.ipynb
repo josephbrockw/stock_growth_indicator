{
 "cells": [
  {
   "cell_type": "markdown",
   "metadata": {},
   "source": [
    "# Growth Stock Indicator\n",
    "\n",
    "Please fill out:\n",
    "* Student name: Joe Wilkinson\n",
    "* Student pace: self paced\n",
    "* Scheduled project review date/time: \n",
    "* Instructor name: \n",
    "* Blog post URL:\n"
   ]
  },
  {
   "cell_type": "markdown",
   "metadata": {},
   "source": [
    "## OSEMN\n",
    "Obtain - Scrub - Explore - Model - Interpret\n",
    "\n",
    "We used the OSEMN framework to evaluate our stock market data with the intent of building a model to classify stock prices as growth, contract, or neutral based on where the stock will be one year out. \n",
    "\n",
    "## Table of Contents\n",
    "\n",
    "### [1. Obtain](#1)\n",
    "1. [Project Discovery](#1.1)\n",
    "2. [Library and Data Import](#1.2)\n",
    "\n",
    "### [2. Scrub and Explore](#2)\n",
    "1. [Subsample](#2.1)\n",
    "2. [Dealing with Data Types](#2.2)\n",
    "3. [Dealing with Null Values](#2.3)\n",
    "4. [Check for Multicollinearity](#2.4)\n",
    "5. [Normalize Data](#2.5)\n",
    "6. [Creating visualizations](#2.6)\n",
    "\n",
    "### [4. Model](#4)\n",
    "1. [One - Hot - Encoding](#4.1)\n",
    "2. [Regression](#4.2)\n",
    "3. [Dimensionality Reduction](#4.3)\n",
    "4. [Final Model](#4.4)\n",
    "\n",
    "\n",
    "### [5. Interpret](#5) "
   ]
  },
  {
   "cell_type": "markdown",
   "metadata": {},
   "source": [
    "<a id=\"1\"></a>\n",
    "## Obtain"
   ]
  },
  {
   "cell_type": "markdown",
   "metadata": {},
   "source": [
    "<a id=\"1.1\"></a>\n",
    "### New York Stock Exchange data from S&P 500\n",
    "The dataset we are using to build our model is from Dominik Gawlik and was posted on [Kaggle](https://www.kaggle.com/dgawlik/nyse) with a CCO: Public Domain liscense. Prices were fetched from Yahoo Finance, fundamentals are from Nasdaq Financials, extended by some fields from EDGAR SEC databases. The data is split up into multiple CSV files.\n",
    "\n",
    "1. **prices.csv:** Raw, as-is daily prices. Most of data spans from 2010 to the end 2016, for companies new on stock market date range is shorter. There have been approx. 140 stock splits in that time, this set doesn't account for that.\n",
    "\n",
    "2. **prices-split-adjusted.csv:** Same as prices, but there have been added adjustments for splits.\n",
    "\n",
    "3. **securities.csv:** General description of each company with division on sectors\n",
    "\n",
    "4. **fundamentals.csv:** Metrics extracted from annual SEC 10K fillings (2012-2016), should be enough to derive most of popular fundamental indicators."
   ]
  },
  {
   "cell_type": "markdown",
   "metadata": {},
   "source": [
    "<a id=\"1.2\"></a>\n",
    "### Importing Libraries and Data"
   ]
  },
  {
   "cell_type": "code",
   "execution_count": 33,
   "metadata": {
    "ExecuteTime": {
     "end_time": "2019-09-08T15:01:40.244767Z",
     "start_time": "2019-09-08T15:01:40.238448Z"
    }
   },
   "outputs": [],
   "source": [
    "#imports and loading in data\n",
    "import pandas as pd\n",
    "import seaborn as sns\n",
    "import matplotlib.pyplot as plt\n",
    "import numpy as np\n",
    "import datetime as dt\n",
    "from dateutil.relativedelta import relativedelta\n",
    "from sklearn.model_selection import train_test_split\n",
    "from sklearn.preprocessing import StandardScaler\n",
    "from sklearn.metrics import confusion_matrix\n",
    "from sklearn.ensemble import RandomForestClassifier\n",
    "\n",
    "%matplotlib inline\n",
    "plt.style.use('ggplot')"
   ]
  },
  {
   "cell_type": "markdown",
   "metadata": {},
   "source": [
    "The fundamentals CSV is where we'll get most of our predictors from. This file contains data from the financial filings of each company. Filed once a year, so each row will join with 365 days of stock prices."
   ]
  },
  {
   "cell_type": "code",
   "execution_count": 175,
   "metadata": {
    "ExecuteTime": {
     "end_time": "2019-09-06T02:46:18.485494Z",
     "start_time": "2019-09-06T02:46:18.428130Z"
    }
   },
   "outputs": [
    {
     "data": {
      "text/html": [
       "<div>\n",
       "<style scoped>\n",
       "    .dataframe tbody tr th:only-of-type {\n",
       "        vertical-align: middle;\n",
       "    }\n",
       "\n",
       "    .dataframe tbody tr th {\n",
       "        vertical-align: top;\n",
       "    }\n",
       "\n",
       "    .dataframe thead th {\n",
       "        text-align: right;\n",
       "    }\n",
       "</style>\n",
       "<table border=\"1\" class=\"dataframe\">\n",
       "  <thead>\n",
       "    <tr style=\"text-align: right;\">\n",
       "      <th></th>\n",
       "      <th>Ticker Symbol</th>\n",
       "      <th>Period Ending</th>\n",
       "      <th>Accounts Payable</th>\n",
       "      <th>Accounts Receivable</th>\n",
       "      <th>Add'l income/expense items</th>\n",
       "      <th>After Tax ROE</th>\n",
       "      <th>Capital Expenditures</th>\n",
       "      <th>Capital Surplus</th>\n",
       "      <th>Cash Ratio</th>\n",
       "      <th>Cash and Cash Equivalents</th>\n",
       "      <th>...</th>\n",
       "      <th>Total Current Assets</th>\n",
       "      <th>Total Current Liabilities</th>\n",
       "      <th>Total Equity</th>\n",
       "      <th>Total Liabilities</th>\n",
       "      <th>Total Liabilities &amp; Equity</th>\n",
       "      <th>Total Revenue</th>\n",
       "      <th>Treasury Stock</th>\n",
       "      <th>For Year</th>\n",
       "      <th>Earnings Per Share</th>\n",
       "      <th>Estimated Shares Outstanding</th>\n",
       "    </tr>\n",
       "  </thead>\n",
       "  <tbody>\n",
       "    <tr>\n",
       "      <td>0</td>\n",
       "      <td>AAL</td>\n",
       "      <td>2012-12-31</td>\n",
       "      <td>3.068000e+09</td>\n",
       "      <td>-222000000.0</td>\n",
       "      <td>-1.961000e+09</td>\n",
       "      <td>23.0</td>\n",
       "      <td>-1.888000e+09</td>\n",
       "      <td>4.695000e+09</td>\n",
       "      <td>53.0</td>\n",
       "      <td>1.330000e+09</td>\n",
       "      <td>...</td>\n",
       "      <td>7.072000e+09</td>\n",
       "      <td>9.011000e+09</td>\n",
       "      <td>-7.987000e+09</td>\n",
       "      <td>2.489100e+10</td>\n",
       "      <td>1.690400e+10</td>\n",
       "      <td>2.485500e+10</td>\n",
       "      <td>-367000000.0</td>\n",
       "      <td>2012.0</td>\n",
       "      <td>-5.60</td>\n",
       "      <td>3.350000e+08</td>\n",
       "    </tr>\n",
       "    <tr>\n",
       "      <td>1</td>\n",
       "      <td>AAL</td>\n",
       "      <td>2013-12-31</td>\n",
       "      <td>4.975000e+09</td>\n",
       "      <td>-93000000.0</td>\n",
       "      <td>-2.723000e+09</td>\n",
       "      <td>67.0</td>\n",
       "      <td>-3.114000e+09</td>\n",
       "      <td>1.059200e+10</td>\n",
       "      <td>75.0</td>\n",
       "      <td>2.175000e+09</td>\n",
       "      <td>...</td>\n",
       "      <td>1.432300e+10</td>\n",
       "      <td>1.380600e+10</td>\n",
       "      <td>-2.731000e+09</td>\n",
       "      <td>4.500900e+10</td>\n",
       "      <td>4.227800e+10</td>\n",
       "      <td>2.674300e+10</td>\n",
       "      <td>0.0</td>\n",
       "      <td>2013.0</td>\n",
       "      <td>-11.25</td>\n",
       "      <td>1.630222e+08</td>\n",
       "    </tr>\n",
       "    <tr>\n",
       "      <td>2</td>\n",
       "      <td>AAL</td>\n",
       "      <td>2014-12-31</td>\n",
       "      <td>4.668000e+09</td>\n",
       "      <td>-160000000.0</td>\n",
       "      <td>-1.500000e+08</td>\n",
       "      <td>143.0</td>\n",
       "      <td>-5.311000e+09</td>\n",
       "      <td>1.513500e+10</td>\n",
       "      <td>60.0</td>\n",
       "      <td>1.768000e+09</td>\n",
       "      <td>...</td>\n",
       "      <td>1.175000e+10</td>\n",
       "      <td>1.340400e+10</td>\n",
       "      <td>2.021000e+09</td>\n",
       "      <td>4.120400e+10</td>\n",
       "      <td>4.322500e+10</td>\n",
       "      <td>4.265000e+10</td>\n",
       "      <td>0.0</td>\n",
       "      <td>2014.0</td>\n",
       "      <td>4.02</td>\n",
       "      <td>7.169154e+08</td>\n",
       "    </tr>\n",
       "    <tr>\n",
       "      <td>3</td>\n",
       "      <td>AAL</td>\n",
       "      <td>2015-12-31</td>\n",
       "      <td>5.102000e+09</td>\n",
       "      <td>352000000.0</td>\n",
       "      <td>-7.080000e+08</td>\n",
       "      <td>135.0</td>\n",
       "      <td>-6.151000e+09</td>\n",
       "      <td>1.159100e+10</td>\n",
       "      <td>51.0</td>\n",
       "      <td>1.085000e+09</td>\n",
       "      <td>...</td>\n",
       "      <td>9.985000e+09</td>\n",
       "      <td>1.360500e+10</td>\n",
       "      <td>5.635000e+09</td>\n",
       "      <td>4.278000e+10</td>\n",
       "      <td>4.841500e+10</td>\n",
       "      <td>4.099000e+10</td>\n",
       "      <td>0.0</td>\n",
       "      <td>2015.0</td>\n",
       "      <td>11.39</td>\n",
       "      <td>6.681299e+08</td>\n",
       "    </tr>\n",
       "    <tr>\n",
       "      <td>4</td>\n",
       "      <td>AAP</td>\n",
       "      <td>2012-12-29</td>\n",
       "      <td>2.409453e+09</td>\n",
       "      <td>-89482000.0</td>\n",
       "      <td>6.000000e+05</td>\n",
       "      <td>32.0</td>\n",
       "      <td>-2.711820e+08</td>\n",
       "      <td>5.202150e+08</td>\n",
       "      <td>23.0</td>\n",
       "      <td>5.981110e+08</td>\n",
       "      <td>...</td>\n",
       "      <td>3.184200e+09</td>\n",
       "      <td>2.559638e+09</td>\n",
       "      <td>1.210694e+09</td>\n",
       "      <td>3.403120e+09</td>\n",
       "      <td>4.613814e+09</td>\n",
       "      <td>6.205003e+09</td>\n",
       "      <td>-27095000.0</td>\n",
       "      <td>2012.0</td>\n",
       "      <td>5.29</td>\n",
       "      <td>7.328355e+07</td>\n",
       "    </tr>\n",
       "  </tbody>\n",
       "</table>\n",
       "<p>5 rows × 78 columns</p>\n",
       "</div>"
      ],
      "text/plain": [
       "  Ticker Symbol Period Ending  Accounts Payable  Accounts Receivable  \\\n",
       "0           AAL    2012-12-31      3.068000e+09         -222000000.0   \n",
       "1           AAL    2013-12-31      4.975000e+09          -93000000.0   \n",
       "2           AAL    2014-12-31      4.668000e+09         -160000000.0   \n",
       "3           AAL    2015-12-31      5.102000e+09          352000000.0   \n",
       "4           AAP    2012-12-29      2.409453e+09          -89482000.0   \n",
       "\n",
       "   Add'l income/expense items  After Tax ROE  Capital Expenditures  \\\n",
       "0               -1.961000e+09           23.0         -1.888000e+09   \n",
       "1               -2.723000e+09           67.0         -3.114000e+09   \n",
       "2               -1.500000e+08          143.0         -5.311000e+09   \n",
       "3               -7.080000e+08          135.0         -6.151000e+09   \n",
       "4                6.000000e+05           32.0         -2.711820e+08   \n",
       "\n",
       "   Capital Surplus  Cash Ratio  Cash and Cash Equivalents  ...  \\\n",
       "0     4.695000e+09        53.0               1.330000e+09  ...   \n",
       "1     1.059200e+10        75.0               2.175000e+09  ...   \n",
       "2     1.513500e+10        60.0               1.768000e+09  ...   \n",
       "3     1.159100e+10        51.0               1.085000e+09  ...   \n",
       "4     5.202150e+08        23.0               5.981110e+08  ...   \n",
       "\n",
       "   Total Current Assets  Total Current Liabilities  Total Equity  \\\n",
       "0          7.072000e+09               9.011000e+09 -7.987000e+09   \n",
       "1          1.432300e+10               1.380600e+10 -2.731000e+09   \n",
       "2          1.175000e+10               1.340400e+10  2.021000e+09   \n",
       "3          9.985000e+09               1.360500e+10  5.635000e+09   \n",
       "4          3.184200e+09               2.559638e+09  1.210694e+09   \n",
       "\n",
       "   Total Liabilities  Total Liabilities & Equity  Total Revenue  \\\n",
       "0       2.489100e+10                1.690400e+10   2.485500e+10   \n",
       "1       4.500900e+10                4.227800e+10   2.674300e+10   \n",
       "2       4.120400e+10                4.322500e+10   4.265000e+10   \n",
       "3       4.278000e+10                4.841500e+10   4.099000e+10   \n",
       "4       3.403120e+09                4.613814e+09   6.205003e+09   \n",
       "\n",
       "   Treasury Stock  For Year  Earnings Per Share  Estimated Shares Outstanding  \n",
       "0    -367000000.0    2012.0               -5.60                  3.350000e+08  \n",
       "1             0.0    2013.0              -11.25                  1.630222e+08  \n",
       "2             0.0    2014.0                4.02                  7.169154e+08  \n",
       "3             0.0    2015.0               11.39                  6.681299e+08  \n",
       "4     -27095000.0    2012.0                5.29                  7.328355e+07  \n",
       "\n",
       "[5 rows x 78 columns]"
      ]
     },
     "execution_count": 175,
     "metadata": {},
     "output_type": "execute_result"
    }
   ],
   "source": [
    "fundamentals = pd.read_csv('fundamentals.csv', index_col=0)\n",
    "fundamentals.head()"
   ]
  },
  {
   "cell_type": "code",
   "execution_count": 176,
   "metadata": {
    "ExecuteTime": {
     "end_time": "2019-09-06T02:46:22.602384Z",
     "start_time": "2019-09-06T02:46:22.589283Z"
    }
   },
   "outputs": [
    {
     "name": "stdout",
     "output_type": "stream",
     "text": [
      "<class 'pandas.core.frame.DataFrame'>\n",
      "Int64Index: 1781 entries, 0 to 1780\n",
      "Data columns (total 26 columns):\n",
      "Ticker Symbol                                          1781 non-null object\n",
      "Period Ending                                          1781 non-null object\n",
      "Accounts Payable                                       1781 non-null float64\n",
      "Accounts Receivable                                    1781 non-null float64\n",
      "Cash and Cash Equivalents                              1781 non-null float64\n",
      "Fixed Assets                                           1781 non-null float64\n",
      "Inventory                                              1781 non-null float64\n",
      "Investments                                            1781 non-null float64\n",
      "Liabilities                                            1781 non-null float64\n",
      "Long-Term Debt                                         1781 non-null float64\n",
      "Long-Term Investments                                  1781 non-null float64\n",
      "Net Income                                             1781 non-null float64\n",
      "Operating Income                                       1781 non-null float64\n",
      "Other Current Assets                                   1781 non-null float64\n",
      "Other Current Liabilities                              1781 non-null float64\n",
      "Research and Development                               1781 non-null float64\n",
      "Short-Term Debt / Current Portion of Long-Term Debt    1781 non-null float64\n",
      "Short-Term Investments                                 1781 non-null float64\n",
      "Total Assets                                           1781 non-null float64\n",
      "Total Current Assets                                   1781 non-null float64\n",
      "Total Current Liabilities                              1781 non-null float64\n",
      "Total Equity                                           1781 non-null float64\n",
      "Total Liabilities                                      1781 non-null float64\n",
      "Total Liabilities & Equity                             1781 non-null float64\n",
      "Total Revenue                                          1781 non-null float64\n",
      "Earnings Per Share                                     1562 non-null float64\n",
      "dtypes: float64(24), object(2)\n",
      "memory usage: 375.7+ KB\n"
     ]
    }
   ],
   "source": [
    "fundamentals.drop(['Add\\'l income/expense items', 'After Tax ROE', 'Capital Expenditures', 'Capital Surplus', \n",
    "                   'Cash Ratio', 'Changes in Inventories', 'Common Stocks', 'Cost of Revenue', 'Current Ratio',\n",
    "                   'Deferred Asset Charges', 'Deferred Liability Charges', 'Depreciation', \n",
    "                   'Earnings Before Interest and Tax', 'Earnings Before Tax', 'Effect of Exchange Rate', \n",
    "                   'Equity Earnings/Loss Unconsolidated Subsidiary', 'Goodwill', 'Gross Margin',\n",
    "                   'Gross Profit', 'Income Tax', 'Intangible Assets', 'Interest Expense', 'Minority Interest', \n",
    "                   'Misc. Stocks', 'Net Borrowings', 'Net Cash Flow', 'Net Cash Flow-Operating', \n",
    "                   'Net Cash Flows-Financing', 'Net Cash Flows-Investing',\n",
    "                   'Net Income Adjustments', 'Net Income Applicable to Common Shareholders', \n",
    "                   'Net Income-Cont. Operations', 'Net Receivables', 'Non-Recurring Items', 'Operating Margin', \n",
    "                   'Other Assets', 'Other Equity', 'Other Financing Activities', 'Other Investing Activities', \n",
    "                   'Other Liabilities', 'Other Operating Activities', 'Other Operating Items', 'Pre-Tax Margin', \n",
    "                   'Pre-Tax ROE', 'Profit Margin', 'Quick Ratio', 'Retained Earnings',\n",
    "                   'Sale and Purchase of Stock', 'Sales, General and Admin.', 'Treasury Stock', 'For Year',\n",
    "                   'Estimated Shares Outstanding'],\n",
    "                  axis = 1, inplace = True)\n",
    "fundamentals.info()"
   ]
  },
  {
   "cell_type": "markdown",
   "metadata": {
    "ExecuteTime": {
     "end_time": "2019-08-12T17:03:13.593938Z",
     "start_time": "2019-08-12T17:03:12.685016Z"
    }
   },
   "source": [
    "For stock prices, we'll use the adjusted for split prices so that stock splits won't affect the outcomes of our classification."
   ]
  },
  {
   "cell_type": "code",
   "execution_count": 177,
   "metadata": {
    "ExecuteTime": {
     "end_time": "2019-09-06T02:46:25.816065Z",
     "start_time": "2019-09-06T02:46:25.108849Z"
    }
   },
   "outputs": [
    {
     "data": {
      "text/html": [
       "<div>\n",
       "<style scoped>\n",
       "    .dataframe tbody tr th:only-of-type {\n",
       "        vertical-align: middle;\n",
       "    }\n",
       "\n",
       "    .dataframe tbody tr th {\n",
       "        vertical-align: top;\n",
       "    }\n",
       "\n",
       "    .dataframe thead th {\n",
       "        text-align: right;\n",
       "    }\n",
       "</style>\n",
       "<table border=\"1\" class=\"dataframe\">\n",
       "  <thead>\n",
       "    <tr style=\"text-align: right;\">\n",
       "      <th></th>\n",
       "      <th>date</th>\n",
       "      <th>symbol</th>\n",
       "      <th>close</th>\n",
       "    </tr>\n",
       "  </thead>\n",
       "  <tbody>\n",
       "    <tr>\n",
       "      <td>0</td>\n",
       "      <td>2016-01-05</td>\n",
       "      <td>WLTW</td>\n",
       "      <td>125.839996</td>\n",
       "    </tr>\n",
       "    <tr>\n",
       "      <td>1</td>\n",
       "      <td>2016-01-06</td>\n",
       "      <td>WLTW</td>\n",
       "      <td>119.980003</td>\n",
       "    </tr>\n",
       "    <tr>\n",
       "      <td>2</td>\n",
       "      <td>2016-01-07</td>\n",
       "      <td>WLTW</td>\n",
       "      <td>114.949997</td>\n",
       "    </tr>\n",
       "    <tr>\n",
       "      <td>3</td>\n",
       "      <td>2016-01-08</td>\n",
       "      <td>WLTW</td>\n",
       "      <td>116.620003</td>\n",
       "    </tr>\n",
       "    <tr>\n",
       "      <td>4</td>\n",
       "      <td>2016-01-11</td>\n",
       "      <td>WLTW</td>\n",
       "      <td>114.970001</td>\n",
       "    </tr>\n",
       "  </tbody>\n",
       "</table>\n",
       "</div>"
      ],
      "text/plain": [
       "         date symbol       close\n",
       "0  2016-01-05   WLTW  125.839996\n",
       "1  2016-01-06   WLTW  119.980003\n",
       "2  2016-01-07   WLTW  114.949997\n",
       "3  2016-01-08   WLTW  116.620003\n",
       "4  2016-01-11   WLTW  114.970001"
      ]
     },
     "execution_count": 177,
     "metadata": {},
     "output_type": "execute_result"
    }
   ],
   "source": [
    "adj_price = pd.read_csv('prices-split-adjusted.csv')\n",
    "adj_price.drop(['open', 'high', 'low', 'volume'], axis = 1, inplace = True)\n",
    "adj_price.head()\n",
    "# adj_price.info()"
   ]
  },
  {
   "cell_type": "code",
   "execution_count": 178,
   "metadata": {
    "ExecuteTime": {
     "end_time": "2019-09-06T02:46:26.081358Z",
     "start_time": "2019-09-06T02:46:26.064538Z"
    }
   },
   "outputs": [
    {
     "data": {
      "text/html": [
       "<div>\n",
       "<style scoped>\n",
       "    .dataframe tbody tr th:only-of-type {\n",
       "        vertical-align: middle;\n",
       "    }\n",
       "\n",
       "    .dataframe tbody tr th {\n",
       "        vertical-align: top;\n",
       "    }\n",
       "\n",
       "    .dataframe thead th {\n",
       "        text-align: right;\n",
       "    }\n",
       "</style>\n",
       "<table border=\"1\" class=\"dataframe\">\n",
       "  <thead>\n",
       "    <tr style=\"text-align: right;\">\n",
       "      <th></th>\n",
       "      <th>Ticker symbol</th>\n",
       "      <th>GICS Sector</th>\n",
       "    </tr>\n",
       "  </thead>\n",
       "  <tbody>\n",
       "    <tr>\n",
       "      <td>0</td>\n",
       "      <td>MMM</td>\n",
       "      <td>Industrials</td>\n",
       "    </tr>\n",
       "    <tr>\n",
       "      <td>1</td>\n",
       "      <td>ABT</td>\n",
       "      <td>Health Care</td>\n",
       "    </tr>\n",
       "    <tr>\n",
       "      <td>2</td>\n",
       "      <td>ABBV</td>\n",
       "      <td>Health Care</td>\n",
       "    </tr>\n",
       "    <tr>\n",
       "      <td>3</td>\n",
       "      <td>ACN</td>\n",
       "      <td>Information Technology</td>\n",
       "    </tr>\n",
       "    <tr>\n",
       "      <td>4</td>\n",
       "      <td>ATVI</td>\n",
       "      <td>Information Technology</td>\n",
       "    </tr>\n",
       "  </tbody>\n",
       "</table>\n",
       "</div>"
      ],
      "text/plain": [
       "  Ticker symbol             GICS Sector\n",
       "0           MMM             Industrials\n",
       "1           ABT             Health Care\n",
       "2          ABBV             Health Care\n",
       "3           ACN  Information Technology\n",
       "4          ATVI  Information Technology"
      ]
     },
     "execution_count": 178,
     "metadata": {},
     "output_type": "execute_result"
    }
   ],
   "source": [
    "securities = pd.read_csv('securities.csv')\n",
    "securities.drop(['Security', 'SEC filings', 'GICS Sub Industry', 'Address of Headquarters', \n",
    "                 'Date first added', 'CIK'], axis = 1, inplace = True)\n",
    "securities.head()"
   ]
  },
  {
   "cell_type": "markdown",
   "metadata": {},
   "source": [
    "Now that we have all the data, we have to combine it into one dataframe. Before we do that, we drop all the columns that we won't use.\n",
    "- fundamentals: [Unnamed: 0]\n",
    "- price: [open, low, high]\n",
    "- Securities: [SEC filings, Date first added, CIK]\n",
    "\n",
    "Then we'll add the `securities` details to each of the observations in `adj_price`, merging on the `stock symbol`. From there we can add columns for year to both our new master df and fundamentals. This will allow us to to merge the fundamental details to all price observations in that year. \n",
    "\n",
    "After we have one combined dataframe, we need to add a column for `pct_growth` that tells us how much the stock has grown or contracted one year from the date."
   ]
  },
  {
   "cell_type": "code",
   "execution_count": null,
   "metadata": {
    "ExecuteTime": {
     "end_time": "2019-08-31T16:28:16.362796Z",
     "start_time": "2019-08-31T16:28:16.326667Z"
    }
   },
   "outputs": [],
   "source": []
  },
  {
   "cell_type": "code",
   "execution_count": 179,
   "metadata": {
    "ExecuteTime": {
     "end_time": "2019-09-06T02:46:39.423775Z",
     "start_time": "2019-09-06T02:46:33.027289Z"
    }
   },
   "outputs": [],
   "source": [
    "df = adj_price.merge(securities, how='left', left_on='symbol', right_on='Ticker symbol')\n",
    "df.drop(['Ticker symbol'], axis=1, inplace=True)\n",
    "\n",
    "# Make date columns datetime\n",
    "df['date'] = pd.to_datetime(df['date'])\n",
    "fundamentals['Period Ending'] = pd.to_datetime(fundamentals['Period Ending'])\n",
    "\n",
    "# Create a new column for year\n",
    "df['year'] = [d.year for d in df['date']]\n",
    "df['month'] = [d.month for d in df['date']]\n",
    "df['day'] = [d.day for d in df['date']]\n",
    "# Plus one because we want to use 2012's EOY financials with 2013's prices\n",
    "fundamentals['year'] = [pe.year + 1 for pe in fundamentals['Period Ending']]\n",
    "\n",
    "# Merge on year\n",
    "df = df.merge(fundamentals, how='inner', left_on=['symbol', 'year'], right_on=['Ticker Symbol', 'year'])\n",
    "df.drop(['Ticker Symbol', 'Period Ending'], axis=1, inplace=True)\n"
   ]
  },
  {
   "cell_type": "code",
   "execution_count": 180,
   "metadata": {
    "ExecuteTime": {
     "end_time": "2019-09-06T02:46:39.732885Z",
     "start_time": "2019-09-06T02:46:39.629405Z"
    }
   },
   "outputs": [
    {
     "name": "stdout",
     "output_type": "stream",
     "text": [
      "<class 'pandas.core.frame.DataFrame'>\n",
      "Int64Index: 388642 entries, 0 to 388641\n",
      "Data columns (total 31 columns):\n",
      "date                                                   388642 non-null datetime64[ns]\n",
      "symbol                                                 388642 non-null object\n",
      "close                                                  388642 non-null float64\n",
      "GICS Sector                                            388642 non-null object\n",
      "year                                                   388642 non-null int64\n",
      "month                                                  388642 non-null int64\n",
      "day                                                    388642 non-null int64\n",
      "Accounts Payable                                       388642 non-null float64\n",
      "Accounts Receivable                                    388642 non-null float64\n",
      "Cash and Cash Equivalents                              388642 non-null float64\n",
      "Fixed Assets                                           388642 non-null float64\n",
      "Inventory                                              388642 non-null float64\n",
      "Investments                                            388642 non-null float64\n",
      "Liabilities                                            388642 non-null float64\n",
      "Long-Term Debt                                         388642 non-null float64\n",
      "Long-Term Investments                                  388642 non-null float64\n",
      "Net Income                                             388642 non-null float64\n",
      "Operating Income                                       388642 non-null float64\n",
      "Other Current Assets                                   388642 non-null float64\n",
      "Other Current Liabilities                              388642 non-null float64\n",
      "Research and Development                               388642 non-null float64\n",
      "Short-Term Debt / Current Portion of Long-Term Debt    388642 non-null float64\n",
      "Short-Term Investments                                 388642 non-null float64\n",
      "Total Assets                                           388642 non-null float64\n",
      "Total Current Assets                                   388642 non-null float64\n",
      "Total Current Liabilities                              388642 non-null float64\n",
      "Total Equity                                           388642 non-null float64\n",
      "Total Liabilities                                      388642 non-null float64\n",
      "Total Liabilities & Equity                             388642 non-null float64\n",
      "Total Revenue                                          388642 non-null float64\n",
      "Earnings Per Share                                     365148 non-null float64\n",
      "dtypes: datetime64[ns](1), float64(25), int64(3), object(2)\n",
      "memory usage: 94.9+ MB\n"
     ]
    }
   ],
   "source": [
    "df.info()"
   ]
  },
  {
   "cell_type": "markdown",
   "metadata": {},
   "source": [
    "\n"
   ]
  },
  {
   "cell_type": "code",
   "execution_count": 181,
   "metadata": {
    "ExecuteTime": {
     "end_time": "2019-09-06T02:46:40.883219Z",
     "start_time": "2019-09-06T02:46:40.876211Z"
    }
   },
   "outputs": [],
   "source": [
    "def get_future_price(row):\n",
    "    date = row.date + relativedelta(years=1)\n",
    "    price = None\n",
    "    symbol = row.symbol\n",
    "    cnt = 0\n",
    "    while price == None and cnt < 7:\n",
    "        try:\n",
    "            price = float(df.loc[(df['date'] == date) & (df['symbol'] == symbol)].close)\n",
    "            continue\n",
    "        except:\n",
    "            price = None\n",
    "        date = date + relativedelta(days=1)\n",
    "        cnt +=1\n",
    "    return price\n",
    "\n"
   ]
  },
  {
   "cell_type": "markdown",
   "metadata": {},
   "source": [
    "Our end of year financials are most relevant in the first month of the following year. The further into the next year that we get, the more the company has changed and the more outdated that information is. So, we'll just take the data from January of each year and drop any 2016 observations all together because they can't have a future date in our dataset."
   ]
  },
  {
   "cell_type": "code",
   "execution_count": 182,
   "metadata": {
    "ExecuteTime": {
     "end_time": "2019-09-06T10:21:20.221332Z",
     "start_time": "2019-09-06T02:47:09.387002Z"
    }
   },
   "outputs": [
    {
     "ename": "AttributeError",
     "evalue": "'DataFrame' object has no attribute 'future_close'",
     "output_type": "error",
     "traceback": [
      "\u001b[0;31m---------------------------------------------------------------------------\u001b[0m",
      "\u001b[0;31mAttributeError\u001b[0m                            Traceback (most recent call last)",
      "\u001b[0;32m<ipython-input-182-61cbd66dd043>\u001b[0m in \u001b[0;36m<module>\u001b[0;34m\u001b[0m\n\u001b[1;32m      7\u001b[0m \u001b[0mdf\u001b[0m\u001b[0;34m[\u001b[0m\u001b[0;34m'future_close'\u001b[0m\u001b[0;34m]\u001b[0m \u001b[0;34m=\u001b[0m \u001b[0mdf\u001b[0m\u001b[0;34m.\u001b[0m\u001b[0mapply\u001b[0m\u001b[0;34m(\u001b[0m\u001b[0;32mlambda\u001b[0m \u001b[0mrow\u001b[0m\u001b[0;34m:\u001b[0m \u001b[0mget_future_price\u001b[0m\u001b[0;34m(\u001b[0m\u001b[0mrow\u001b[0m\u001b[0;34m)\u001b[0m\u001b[0;34m,\u001b[0m \u001b[0maxis\u001b[0m\u001b[0;34m=\u001b[0m\u001b[0;36m1\u001b[0m\u001b[0;34m)\u001b[0m \u001b[0;31m# Estimated 6 hrs to execute\u001b[0m\u001b[0;34m\u001b[0m\u001b[0;34m\u001b[0m\u001b[0m\n\u001b[1;32m      8\u001b[0m \u001b[0;34m\u001b[0m\u001b[0m\n\u001b[0;32m----> 9\u001b[0;31m \u001b[0mdata\u001b[0m\u001b[0;34m.\u001b[0m\u001b[0mfuture_close\u001b[0m\u001b[0;34m.\u001b[0m\u001b[0misna\u001b[0m\u001b[0;34m(\u001b[0m\u001b[0;34m)\u001b[0m\u001b[0;34m.\u001b[0m\u001b[0msum\u001b[0m\u001b[0;34m(\u001b[0m\u001b[0;34m)\u001b[0m\u001b[0;34m\u001b[0m\u001b[0;34m\u001b[0m\u001b[0m\n\u001b[0m",
      "\u001b[0;32m~/anaconda3/lib/python3.6/site-packages/pandas/core/generic.py\u001b[0m in \u001b[0;36m__getattr__\u001b[0;34m(self, name)\u001b[0m\n\u001b[1;32m   5177\u001b[0m             \u001b[0;32mif\u001b[0m \u001b[0mself\u001b[0m\u001b[0;34m.\u001b[0m\u001b[0m_info_axis\u001b[0m\u001b[0;34m.\u001b[0m\u001b[0m_can_hold_identifiers_and_holds_name\u001b[0m\u001b[0;34m(\u001b[0m\u001b[0mname\u001b[0m\u001b[0;34m)\u001b[0m\u001b[0;34m:\u001b[0m\u001b[0;34m\u001b[0m\u001b[0;34m\u001b[0m\u001b[0m\n\u001b[1;32m   5178\u001b[0m                 \u001b[0;32mreturn\u001b[0m \u001b[0mself\u001b[0m\u001b[0;34m[\u001b[0m\u001b[0mname\u001b[0m\u001b[0;34m]\u001b[0m\u001b[0;34m\u001b[0m\u001b[0;34m\u001b[0m\u001b[0m\n\u001b[0;32m-> 5179\u001b[0;31m             \u001b[0;32mreturn\u001b[0m \u001b[0mobject\u001b[0m\u001b[0;34m.\u001b[0m\u001b[0m__getattribute__\u001b[0m\u001b[0;34m(\u001b[0m\u001b[0mself\u001b[0m\u001b[0;34m,\u001b[0m \u001b[0mname\u001b[0m\u001b[0;34m)\u001b[0m\u001b[0;34m\u001b[0m\u001b[0;34m\u001b[0m\u001b[0m\n\u001b[0m\u001b[1;32m   5180\u001b[0m \u001b[0;34m\u001b[0m\u001b[0m\n\u001b[1;32m   5181\u001b[0m     \u001b[0;32mdef\u001b[0m \u001b[0m__setattr__\u001b[0m\u001b[0;34m(\u001b[0m\u001b[0mself\u001b[0m\u001b[0;34m,\u001b[0m \u001b[0mname\u001b[0m\u001b[0;34m,\u001b[0m \u001b[0mvalue\u001b[0m\u001b[0;34m)\u001b[0m\u001b[0;34m:\u001b[0m\u001b[0;34m\u001b[0m\u001b[0;34m\u001b[0m\u001b[0m\n",
      "\u001b[0;31mAttributeError\u001b[0m: 'DataFrame' object has no attribute 'future_close'"
     ]
    }
   ],
   "source": [
    "# Get january future close price\n",
    "# data = df.loc[df['month'] == 1]\n",
    "\n",
    "# data['future_close'] = data.apply(lambda row: get_future_price(row), axis=1) #36 minutes to execute\n",
    "\n",
    "# Get full dataset future close price\n",
    "df['future_close'] = df.apply(lambda row: get_future_price(row), axis=1) # Estimated 6 hrs to execute\n",
    "\n",
    "data.future_close.isna().sum()"
   ]
  },
  {
   "cell_type": "code",
   "execution_count": 183,
   "metadata": {
    "ExecuteTime": {
     "end_time": "2019-09-06T12:45:42.656866Z",
     "start_time": "2019-09-06T12:45:42.649734Z"
    }
   },
   "outputs": [
    {
     "data": {
      "text/plain": [
       "115313"
      ]
     },
     "execution_count": 183,
     "metadata": {},
     "output_type": "execute_result"
    }
   ],
   "source": [
    "df.future_close.isna().sum()"
   ]
  },
  {
   "cell_type": "code",
   "execution_count": 13,
   "metadata": {
    "ExecuteTime": {
     "end_time": "2019-09-01T01:31:50.264773Z",
     "start_time": "2019-09-01T01:31:50.240807Z"
    }
   },
   "outputs": [
    {
     "name": "stdout",
     "output_type": "stream",
     "text": [
      "<class 'pandas.core.frame.DataFrame'>\n",
      "Int64Index: 31041 entries, 0 to 388408\n",
      "Data columns (total 32 columns):\n",
      "date                                                   31041 non-null datetime64[ns]\n",
      "symbol                                                 31041 non-null object\n",
      "close                                                  31041 non-null float64\n",
      "GICS Sector                                            31041 non-null object\n",
      "year                                                   31041 non-null int64\n",
      "month                                                  31041 non-null int64\n",
      "day                                                    31041 non-null int64\n",
      "Accounts Payable                                       31041 non-null float64\n",
      "Accounts Receivable                                    31041 non-null float64\n",
      "Cash and Cash Equivalents                              31041 non-null float64\n",
      "Fixed Assets                                           31041 non-null float64\n",
      "Inventory                                              31041 non-null float64\n",
      "Investments                                            31041 non-null float64\n",
      "Liabilities                                            31041 non-null float64\n",
      "Long-Term Debt                                         31041 non-null float64\n",
      "Long-Term Investments                                  31041 non-null float64\n",
      "Net Income                                             31041 non-null float64\n",
      "Operating Income                                       31041 non-null float64\n",
      "Other Current Assets                                   31041 non-null float64\n",
      "Other Current Liabilities                              31041 non-null float64\n",
      "Research and Development                               31041 non-null float64\n",
      "Short-Term Debt / Current Portion of Long-Term Debt    31041 non-null float64\n",
      "Short-Term Investments                                 31041 non-null float64\n",
      "Total Assets                                           31041 non-null float64\n",
      "Total Current Assets                                   31041 non-null float64\n",
      "Total Current Liabilities                              31041 non-null float64\n",
      "Total Equity                                           31041 non-null float64\n",
      "Total Liabilities                                      31041 non-null float64\n",
      "Total Liabilities & Equity                             31041 non-null float64\n",
      "Total Revenue                                          31041 non-null float64\n",
      "Earnings Per Share                                     29201 non-null float64\n",
      "future_close                                           22356 non-null float64\n",
      "dtypes: datetime64[ns](1), float64(26), int64(3), object(2)\n",
      "memory usage: 7.8+ MB\n"
     ]
    }
   ],
   "source": [
    "df.info()"
   ]
  },
  {
   "cell_type": "code",
   "execution_count": 184,
   "metadata": {
    "ExecuteTime": {
     "end_time": "2019-09-06T12:46:09.782903Z",
     "start_time": "2019-09-06T12:45:54.431362Z"
    }
   },
   "outputs": [],
   "source": [
    "# Save dataset to csv so we don't have to rerun the last bit of code\n",
    "# data.to_csv('january_data.csv')\n",
    "df.to_csv('full_data.csv')\n",
    "# data.drop(['Unnamed: 0'], axis=1, inplace=True)"
   ]
  },
  {
   "cell_type": "markdown",
   "metadata": {},
   "source": [
    "<a id=\"2\"></a>\n",
    "## Scrub\n",
    "<a id=\"2.1\"></a>\n",
    "### 1. Subsample\n",
    "We took a subsample of the data to imporove run times and stored it in the variable 'df'. \n",
    "\n",
    "*To see the final results, comment out.*"
   ]
  },
  {
   "cell_type": "code",
   "execution_count": 77,
   "metadata": {
    "ExecuteTime": {
     "end_time": "2019-09-08T15:18:41.664857Z",
     "start_time": "2019-09-08T15:18:40.079804Z"
    }
   },
   "outputs": [],
   "source": [
    "# df = pd.read_csv('january_data.csv', index_col=0)\n",
    "df = pd.read_csv('full_data.csv', index_col=0)\n",
    "# df = df.sample(frac=0.2, random_state=5)\n"
   ]
  },
  {
   "cell_type": "code",
   "execution_count": 78,
   "metadata": {
    "ExecuteTime": {
     "end_time": "2019-09-08T15:18:42.037313Z",
     "start_time": "2019-09-08T15:18:41.937175Z"
    }
   },
   "outputs": [
    {
     "name": "stdout",
     "output_type": "stream",
     "text": [
      "<class 'pandas.core.frame.DataFrame'>\n",
      "Int64Index: 388642 entries, 0 to 388641\n",
      "Data columns (total 32 columns):\n",
      "date                                                   388642 non-null object\n",
      "symbol                                                 388642 non-null object\n",
      "close                                                  388642 non-null float64\n",
      "GICS Sector                                            388642 non-null object\n",
      "year                                                   388642 non-null int64\n",
      "month                                                  388642 non-null int64\n",
      "day                                                    388642 non-null int64\n",
      "Accounts Payable                                       388642 non-null float64\n",
      "Accounts Receivable                                    388642 non-null float64\n",
      "Cash and Cash Equivalents                              388642 non-null float64\n",
      "Fixed Assets                                           388642 non-null float64\n",
      "Inventory                                              388642 non-null float64\n",
      "Investments                                            388642 non-null float64\n",
      "Liabilities                                            388642 non-null float64\n",
      "Long-Term Debt                                         388642 non-null float64\n",
      "Long-Term Investments                                  388642 non-null float64\n",
      "Net Income                                             388642 non-null float64\n",
      "Operating Income                                       388642 non-null float64\n",
      "Other Current Assets                                   388642 non-null float64\n",
      "Other Current Liabilities                              388642 non-null float64\n",
      "Research and Development                               388642 non-null float64\n",
      "Short-Term Debt / Current Portion of Long-Term Debt    388642 non-null float64\n",
      "Short-Term Investments                                 388642 non-null float64\n",
      "Total Assets                                           388642 non-null float64\n",
      "Total Current Assets                                   388642 non-null float64\n",
      "Total Current Liabilities                              388642 non-null float64\n",
      "Total Equity                                           388642 non-null float64\n",
      "Total Liabilities                                      388642 non-null float64\n",
      "Total Liabilities & Equity                             388642 non-null float64\n",
      "Total Revenue                                          388642 non-null float64\n",
      "Earnings Per Share                                     365148 non-null float64\n",
      "future_close                                           273329 non-null float64\n",
      "dtypes: float64(26), int64(3), object(3)\n",
      "memory usage: 97.8+ MB\n"
     ]
    }
   ],
   "source": [
    "df.info()"
   ]
  },
  {
   "cell_type": "markdown",
   "metadata": {},
   "source": [
    "<a id=\"2.2\"></a>\n",
    "### 2. Dealing with Datatypes \n",
    "When looking at the data we can see there are only two categorical data columns. We'll need to make sure that we are only adding variables that will add a lot of value without needlessly growing complexity.\n",
    "\n",
    "- `GICS Sector`: There aren't too many different sectors, so we'll keep thiss column and convert to categorical data type\n",
    "- `Symbol`: We'll drop this column as they are arbitrary stock names\n",
    "\n"
   ]
  },
  {
   "cell_type": "code",
   "execution_count": 79,
   "metadata": {
    "ExecuteTime": {
     "end_time": "2019-09-08T15:18:42.336549Z",
     "start_time": "2019-09-08T15:18:42.272386Z"
    }
   },
   "outputs": [],
   "source": [
    "df['GICS Sector'] = df['GICS Sector'].astype('category')\n",
    "# df.drop(['symbol'], axis = 1, inplace = True)"
   ]
  },
  {
   "cell_type": "code",
   "execution_count": 80,
   "metadata": {
    "ExecuteTime": {
     "end_time": "2019-09-08T15:18:42.659534Z",
     "start_time": "2019-09-08T15:18:42.573231Z"
    }
   },
   "outputs": [
    {
     "name": "stdout",
     "output_type": "stream",
     "text": [
      "<class 'pandas.core.frame.DataFrame'>\n",
      "Int64Index: 388642 entries, 0 to 388641\n",
      "Data columns (total 32 columns):\n",
      "date                                                   388642 non-null object\n",
      "symbol                                                 388642 non-null object\n",
      "close                                                  388642 non-null float64\n",
      "GICS Sector                                            388642 non-null category\n",
      "year                                                   388642 non-null int64\n",
      "month                                                  388642 non-null int64\n",
      "day                                                    388642 non-null int64\n",
      "Accounts Payable                                       388642 non-null float64\n",
      "Accounts Receivable                                    388642 non-null float64\n",
      "Cash and Cash Equivalents                              388642 non-null float64\n",
      "Fixed Assets                                           388642 non-null float64\n",
      "Inventory                                              388642 non-null float64\n",
      "Investments                                            388642 non-null float64\n",
      "Liabilities                                            388642 non-null float64\n",
      "Long-Term Debt                                         388642 non-null float64\n",
      "Long-Term Investments                                  388642 non-null float64\n",
      "Net Income                                             388642 non-null float64\n",
      "Operating Income                                       388642 non-null float64\n",
      "Other Current Assets                                   388642 non-null float64\n",
      "Other Current Liabilities                              388642 non-null float64\n",
      "Research and Development                               388642 non-null float64\n",
      "Short-Term Debt / Current Portion of Long-Term Debt    388642 non-null float64\n",
      "Short-Term Investments                                 388642 non-null float64\n",
      "Total Assets                                           388642 non-null float64\n",
      "Total Current Assets                                   388642 non-null float64\n",
      "Total Current Liabilities                              388642 non-null float64\n",
      "Total Equity                                           388642 non-null float64\n",
      "Total Liabilities                                      388642 non-null float64\n",
      "Total Liabilities & Equity                             388642 non-null float64\n",
      "Total Revenue                                          388642 non-null float64\n",
      "Earnings Per Share                                     365148 non-null float64\n",
      "future_close                                           273329 non-null float64\n",
      "dtypes: category(1), float64(26), int64(3), object(2)\n",
      "memory usage: 95.3+ MB\n"
     ]
    }
   ],
   "source": [
    "# df['date'] = pd.to_datetime(df['date'])\n",
    "# df['year'] = [d.year for d in df['date']]\n",
    "df.info()"
   ]
  },
  {
   "cell_type": "markdown",
   "metadata": {},
   "source": [
    "<a id=\"2.3\"></a>\n",
    "### 3. Dealing with Null Values\n",
    "We'll drop the `Cash Ratio`, `Current Ratio`, and `Quick Ratio` columns because the information here is just a calculation based on other columns, so there's no new information.\n",
    "\n",
    "We chose to drop all rows that had null values in the `For Year`, `Earnings Per Share`, `Estimated Shares Outstanding`, `future_close` columns. There was a low number of rows that were missing data."
   ]
  },
  {
   "cell_type": "code",
   "execution_count": 81,
   "metadata": {
    "ExecuteTime": {
     "end_time": "2019-09-08T15:18:43.430472Z",
     "start_time": "2019-09-08T15:18:43.360831Z"
    }
   },
   "outputs": [
    {
     "name": "stdout",
     "output_type": "stream",
     "text": [
      "[2016 2013 2014 2015]\n",
      "388642\n",
      "[2013 2014 2015]\n",
      "276755\n"
     ]
    }
   ],
   "source": [
    "\n",
    "print(df.year.unique()) # outputs: [2016 2013 2014 2015]\n",
    "print(len(df)) # 31041 entries\n",
    "\n",
    "df = df.loc[df['year'] != 2016]\n",
    "print(df.year.unique()) # outputs: [2013 2014 2015]\n",
    "print(len(df)) #  22606 entries\n",
    "\n"
   ]
  },
  {
   "cell_type": "code",
   "execution_count": 82,
   "metadata": {
    "ExecuteTime": {
     "end_time": "2019-09-08T15:18:44.229973Z",
     "start_time": "2019-09-08T15:18:44.119892Z"
    }
   },
   "outputs": [],
   "source": [
    "# Drop null values\n",
    "df.dropna(inplace=True)"
   ]
  },
  {
   "cell_type": "code",
   "execution_count": 83,
   "metadata": {
    "ExecuteTime": {
     "end_time": "2019-09-08T15:18:44.601587Z",
     "start_time": "2019-09-08T15:18:44.573846Z"
    }
   },
   "outputs": [],
   "source": [
    "# Additionally, we'll drop year and day as they should have no effect on the outcome\n",
    "df.drop(['day'], axis=1, inplace=True)\n",
    "# data.info()"
   ]
  },
  {
   "cell_type": "markdown",
   "metadata": {},
   "source": [
    "** Maybe **\n",
    "Next we'll group each stocks observations by month and year and averaging the price and future_price. This will help us eliminate some of the volitility from any individual day's data."
   ]
  },
  {
   "cell_type": "markdown",
   "metadata": {
    "ExecuteTime": {
     "end_time": "2019-08-13T18:52:42.861044Z",
     "start_time": "2019-08-13T18:52:39.792780Z"
    }
   },
   "source": [
    "The next step is to calculate our dependent variable by calculating the percentage change from the current price to the future price."
   ]
  },
  {
   "cell_type": "code",
   "execution_count": 84,
   "metadata": {
    "ExecuteTime": {
     "end_time": "2019-09-08T15:18:46.429722Z",
     "start_time": "2019-09-08T15:18:46.426210Z"
    }
   },
   "outputs": [],
   "source": [
    "def growth_category(row):\n",
    "    p1 = row.close\n",
    "    p2 = row.future_close\n",
    "    result = (p2 - p1)/(p1)\n",
    "    if result >= .1:\n",
    "        return 2\n",
    "    elif result >= 0:\n",
    "        return 1\n",
    "    else:\n",
    "        return 0"
   ]
  },
  {
   "cell_type": "code",
   "execution_count": 85,
   "metadata": {
    "ExecuteTime": {
     "end_time": "2019-09-08T15:19:22.103086Z",
     "start_time": "2019-09-08T15:18:46.968627Z"
    }
   },
   "outputs": [],
   "source": [
    "df['growth_category'] = df.apply(lambda row: growth_category(row), axis=1)"
   ]
  },
  {
   "cell_type": "code",
   "execution_count": 86,
   "metadata": {
    "ExecuteTime": {
     "end_time": "2019-09-08T15:19:22.318699Z",
     "start_time": "2019-09-08T15:19:22.307717Z"
    }
   },
   "outputs": [
    {
     "name": "stdout",
     "output_type": "stream",
     "text": [
      "258676\n"
     ]
    },
    {
     "data": {
      "text/plain": [
       "2    120131\n",
       "0     89125\n",
       "1     49420\n",
       "Name: growth_category, dtype: int64"
      ]
     },
     "execution_count": 86,
     "metadata": {},
     "output_type": "execute_result"
    }
   ],
   "source": [
    "print(len(df.growth_category))\n",
    "df.growth_category.value_counts()"
   ]
  },
  {
   "cell_type": "markdown",
   "metadata": {},
   "source": [
    "At this point we can drop the `future_close` column since we were only using it to calculate the growth_category, as well as `symbol` and `date`."
   ]
  },
  {
   "cell_type": "code",
   "execution_count": 87,
   "metadata": {
    "ExecuteTime": {
     "end_time": "2019-09-08T15:19:22.552772Z",
     "start_time": "2019-09-08T15:19:22.521936Z"
    }
   },
   "outputs": [
    {
     "data": {
      "text/html": [
       "<div>\n",
       "<style scoped>\n",
       "    .dataframe tbody tr th:only-of-type {\n",
       "        vertical-align: middle;\n",
       "    }\n",
       "\n",
       "    .dataframe tbody tr th {\n",
       "        vertical-align: top;\n",
       "    }\n",
       "\n",
       "    .dataframe thead th {\n",
       "        text-align: right;\n",
       "    }\n",
       "</style>\n",
       "<table border=\"1\" class=\"dataframe\">\n",
       "  <thead>\n",
       "    <tr style=\"text-align: right;\">\n",
       "      <th></th>\n",
       "      <th>date</th>\n",
       "      <th>symbol</th>\n",
       "      <th>close</th>\n",
       "      <th>GICS Sector</th>\n",
       "      <th>year</th>\n",
       "      <th>month</th>\n",
       "      <th>Accounts Payable</th>\n",
       "      <th>Accounts Receivable</th>\n",
       "      <th>Cash and Cash Equivalents</th>\n",
       "      <th>Fixed Assets</th>\n",
       "      <th>...</th>\n",
       "      <th>Total Current Assets</th>\n",
       "      <th>Total Current Liabilities</th>\n",
       "      <th>Total Equity</th>\n",
       "      <th>Total Liabilities</th>\n",
       "      <th>Total Liabilities &amp; Equity</th>\n",
       "      <th>Total Revenue</th>\n",
       "      <th>Earnings Per Share</th>\n",
       "      <th>future_close</th>\n",
       "      <th>growth_category</th>\n",
       "      <th>sector</th>\n",
       "    </tr>\n",
       "  </thead>\n",
       "  <tbody>\n",
       "    <tr>\n",
       "      <td>251</td>\n",
       "      <td>2013-01-02</td>\n",
       "      <td>AAL</td>\n",
       "      <td>13.98</td>\n",
       "      <td>Industrials</td>\n",
       "      <td>2013</td>\n",
       "      <td>1</td>\n",
       "      <td>3.068000e+09</td>\n",
       "      <td>-222000000.0</td>\n",
       "      <td>1.330000e+09</td>\n",
       "      <td>1.340200e+10</td>\n",
       "      <td>...</td>\n",
       "      <td>7.072000e+09</td>\n",
       "      <td>9.011000e+09</td>\n",
       "      <td>-7.987000e+09</td>\n",
       "      <td>2.489100e+10</td>\n",
       "      <td>1.690400e+10</td>\n",
       "      <td>2.485500e+10</td>\n",
       "      <td>-5.6</td>\n",
       "      <td>25.360001</td>\n",
       "      <td>2</td>\n",
       "      <td>Industrials</td>\n",
       "    </tr>\n",
       "    <tr>\n",
       "      <td>252</td>\n",
       "      <td>2013-01-03</td>\n",
       "      <td>AAL</td>\n",
       "      <td>13.66</td>\n",
       "      <td>Industrials</td>\n",
       "      <td>2013</td>\n",
       "      <td>1</td>\n",
       "      <td>3.068000e+09</td>\n",
       "      <td>-222000000.0</td>\n",
       "      <td>1.330000e+09</td>\n",
       "      <td>1.340200e+10</td>\n",
       "      <td>...</td>\n",
       "      <td>7.072000e+09</td>\n",
       "      <td>9.011000e+09</td>\n",
       "      <td>-7.987000e+09</td>\n",
       "      <td>2.489100e+10</td>\n",
       "      <td>1.690400e+10</td>\n",
       "      <td>2.485500e+10</td>\n",
       "      <td>-5.6</td>\n",
       "      <td>26.540001</td>\n",
       "      <td>2</td>\n",
       "      <td>Industrials</td>\n",
       "    </tr>\n",
       "    <tr>\n",
       "      <td>253</td>\n",
       "      <td>2013-01-04</td>\n",
       "      <td>AAL</td>\n",
       "      <td>14.73</td>\n",
       "      <td>Industrials</td>\n",
       "      <td>2013</td>\n",
       "      <td>1</td>\n",
       "      <td>3.068000e+09</td>\n",
       "      <td>-222000000.0</td>\n",
       "      <td>1.330000e+09</td>\n",
       "      <td>1.340200e+10</td>\n",
       "      <td>...</td>\n",
       "      <td>7.072000e+09</td>\n",
       "      <td>9.011000e+09</td>\n",
       "      <td>-7.987000e+09</td>\n",
       "      <td>2.489100e+10</td>\n",
       "      <td>1.690400e+10</td>\n",
       "      <td>2.485500e+10</td>\n",
       "      <td>-5.6</td>\n",
       "      <td>27.030001</td>\n",
       "      <td>2</td>\n",
       "      <td>Industrials</td>\n",
       "    </tr>\n",
       "    <tr>\n",
       "      <td>254</td>\n",
       "      <td>2013-01-07</td>\n",
       "      <td>AAL</td>\n",
       "      <td>14.84</td>\n",
       "      <td>Industrials</td>\n",
       "      <td>2013</td>\n",
       "      <td>1</td>\n",
       "      <td>3.068000e+09</td>\n",
       "      <td>-222000000.0</td>\n",
       "      <td>1.330000e+09</td>\n",
       "      <td>1.340200e+10</td>\n",
       "      <td>...</td>\n",
       "      <td>7.072000e+09</td>\n",
       "      <td>9.011000e+09</td>\n",
       "      <td>-7.987000e+09</td>\n",
       "      <td>2.489100e+10</td>\n",
       "      <td>1.690400e+10</td>\n",
       "      <td>2.485500e+10</td>\n",
       "      <td>-5.6</td>\n",
       "      <td>26.910000</td>\n",
       "      <td>2</td>\n",
       "      <td>Industrials</td>\n",
       "    </tr>\n",
       "    <tr>\n",
       "      <td>255</td>\n",
       "      <td>2013-01-08</td>\n",
       "      <td>AAL</td>\n",
       "      <td>15.16</td>\n",
       "      <td>Industrials</td>\n",
       "      <td>2013</td>\n",
       "      <td>1</td>\n",
       "      <td>3.068000e+09</td>\n",
       "      <td>-222000000.0</td>\n",
       "      <td>1.330000e+09</td>\n",
       "      <td>1.340200e+10</td>\n",
       "      <td>...</td>\n",
       "      <td>7.072000e+09</td>\n",
       "      <td>9.011000e+09</td>\n",
       "      <td>-7.987000e+09</td>\n",
       "      <td>2.489100e+10</td>\n",
       "      <td>1.690400e+10</td>\n",
       "      <td>2.485500e+10</td>\n",
       "      <td>-5.6</td>\n",
       "      <td>27.629999</td>\n",
       "      <td>2</td>\n",
       "      <td>Industrials</td>\n",
       "    </tr>\n",
       "  </tbody>\n",
       "</table>\n",
       "<p>5 rows × 33 columns</p>\n",
       "</div>"
      ],
      "text/plain": [
       "           date symbol  close  GICS Sector  year  month  Accounts Payable  \\\n",
       "251  2013-01-02    AAL  13.98  Industrials  2013      1      3.068000e+09   \n",
       "252  2013-01-03    AAL  13.66  Industrials  2013      1      3.068000e+09   \n",
       "253  2013-01-04    AAL  14.73  Industrials  2013      1      3.068000e+09   \n",
       "254  2013-01-07    AAL  14.84  Industrials  2013      1      3.068000e+09   \n",
       "255  2013-01-08    AAL  15.16  Industrials  2013      1      3.068000e+09   \n",
       "\n",
       "     Accounts Receivable  Cash and Cash Equivalents  Fixed Assets  ...  \\\n",
       "251         -222000000.0               1.330000e+09  1.340200e+10  ...   \n",
       "252         -222000000.0               1.330000e+09  1.340200e+10  ...   \n",
       "253         -222000000.0               1.330000e+09  1.340200e+10  ...   \n",
       "254         -222000000.0               1.330000e+09  1.340200e+10  ...   \n",
       "255         -222000000.0               1.330000e+09  1.340200e+10  ...   \n",
       "\n",
       "     Total Current Assets  Total Current Liabilities  Total Equity  \\\n",
       "251          7.072000e+09               9.011000e+09 -7.987000e+09   \n",
       "252          7.072000e+09               9.011000e+09 -7.987000e+09   \n",
       "253          7.072000e+09               9.011000e+09 -7.987000e+09   \n",
       "254          7.072000e+09               9.011000e+09 -7.987000e+09   \n",
       "255          7.072000e+09               9.011000e+09 -7.987000e+09   \n",
       "\n",
       "     Total Liabilities  Total Liabilities & Equity  Total Revenue  \\\n",
       "251       2.489100e+10                1.690400e+10   2.485500e+10   \n",
       "252       2.489100e+10                1.690400e+10   2.485500e+10   \n",
       "253       2.489100e+10                1.690400e+10   2.485500e+10   \n",
       "254       2.489100e+10                1.690400e+10   2.485500e+10   \n",
       "255       2.489100e+10                1.690400e+10   2.485500e+10   \n",
       "\n",
       "     Earnings Per Share  future_close  growth_category       sector  \n",
       "251                -5.6     25.360001                2  Industrials  \n",
       "252                -5.6     26.540001                2  Industrials  \n",
       "253                -5.6     27.030001                2  Industrials  \n",
       "254                -5.6     26.910000                2  Industrials  \n",
       "255                -5.6     27.629999                2  Industrials  \n",
       "\n",
       "[5 rows x 33 columns]"
      ]
     },
     "execution_count": 87,
     "metadata": {},
     "output_type": "execute_result"
    }
   ],
   "source": [
    "df['sector'] = df['GICS Sector']\n",
    "df.head()"
   ]
  },
  {
   "cell_type": "code",
   "execution_count": 88,
   "metadata": {
    "ExecuteTime": {
     "end_time": "2019-09-08T15:19:28.772314Z",
     "start_time": "2019-09-08T15:19:28.682229Z"
    }
   },
   "outputs": [],
   "source": [
    "# data.drop(['future_close'], axis=1, inplace=True)\n",
    "df.index = df.date\n",
    "# df['sector'] = df['GICS Sector']\n",
    "df = df.groupby(by=[df.symbol, df.month, df.year], as_index=False).mean()\n",
    "# df.info()\n",
    "# data.drop(['symbol', 'date'], axis=1, inplace=True)\n",
    "df.drop(['future_close'], axis=1, inplace=True)"
   ]
  },
  {
   "cell_type": "code",
   "execution_count": 89,
   "metadata": {
    "ExecuteTime": {
     "end_time": "2019-09-08T15:19:29.327182Z",
     "start_time": "2019-09-08T15:19:29.319054Z"
    }
   },
   "outputs": [
    {
     "name": "stdout",
     "output_type": "stream",
     "text": [
      "<class 'pandas.core.frame.DataFrame'>\n",
      "Int64Index: 12344 entries, 0 to 12343\n",
      "Data columns (total 28 columns):\n",
      "close                                                  12344 non-null float64\n",
      "year                                                   12344 non-null float64\n",
      "month                                                  12344 non-null float64\n",
      "Accounts Payable                                       12344 non-null float64\n",
      "Accounts Receivable                                    12344 non-null float64\n",
      "Cash and Cash Equivalents                              12344 non-null float64\n",
      "Fixed Assets                                           12344 non-null float64\n",
      "Inventory                                              12344 non-null float64\n",
      "Investments                                            12344 non-null float64\n",
      "Liabilities                                            12344 non-null float64\n",
      "Long-Term Debt                                         12344 non-null float64\n",
      "Long-Term Investments                                  12344 non-null float64\n",
      "Net Income                                             12344 non-null float64\n",
      "Operating Income                                       12344 non-null float64\n",
      "Other Current Assets                                   12344 non-null float64\n",
      "Other Current Liabilities                              12344 non-null float64\n",
      "Research and Development                               12344 non-null float64\n",
      "Short-Term Debt / Current Portion of Long-Term Debt    12344 non-null float64\n",
      "Short-Term Investments                                 12344 non-null float64\n",
      "Total Assets                                           12344 non-null float64\n",
      "Total Current Assets                                   12344 non-null float64\n",
      "Total Current Liabilities                              12344 non-null float64\n",
      "Total Equity                                           12344 non-null float64\n",
      "Total Liabilities                                      12344 non-null float64\n",
      "Total Liabilities & Equity                             12344 non-null float64\n",
      "Total Revenue                                          12344 non-null float64\n",
      "Earnings Per Share                                     12344 non-null float64\n",
      "growth_category                                        12344 non-null float64\n",
      "dtypes: float64(28)\n",
      "memory usage: 2.7 MB\n"
     ]
    }
   ],
   "source": [
    "# df.drop(['date'], axis=1, inplace=True)\n",
    "df.info()"
   ]
  },
  {
   "cell_type": "code",
   "execution_count": 92,
   "metadata": {
    "ExecuteTime": {
     "end_time": "2019-09-08T15:20:22.543305Z",
     "start_time": "2019-09-08T15:20:22.496118Z"
    }
   },
   "outputs": [
    {
     "ename": "KeyError",
     "evalue": "'sector'",
     "output_type": "error",
     "traceback": [
      "\u001b[0;31m---------------------------------------------------------------------------\u001b[0m",
      "\u001b[0;31mKeyError\u001b[0m                                  Traceback (most recent call last)",
      "\u001b[0;32m~/anaconda3/lib/python3.6/site-packages/pandas/core/indexes/base.py\u001b[0m in \u001b[0;36mget_loc\u001b[0;34m(self, key, method, tolerance)\u001b[0m\n\u001b[1;32m   2896\u001b[0m             \u001b[0;32mtry\u001b[0m\u001b[0;34m:\u001b[0m\u001b[0;34m\u001b[0m\u001b[0;34m\u001b[0m\u001b[0m\n\u001b[0;32m-> 2897\u001b[0;31m                 \u001b[0;32mreturn\u001b[0m \u001b[0mself\u001b[0m\u001b[0;34m.\u001b[0m\u001b[0m_engine\u001b[0m\u001b[0;34m.\u001b[0m\u001b[0mget_loc\u001b[0m\u001b[0;34m(\u001b[0m\u001b[0mkey\u001b[0m\u001b[0;34m)\u001b[0m\u001b[0;34m\u001b[0m\u001b[0;34m\u001b[0m\u001b[0m\n\u001b[0m\u001b[1;32m   2898\u001b[0m             \u001b[0;32mexcept\u001b[0m \u001b[0mKeyError\u001b[0m\u001b[0;34m:\u001b[0m\u001b[0;34m\u001b[0m\u001b[0;34m\u001b[0m\u001b[0m\n",
      "\u001b[0;32mpandas/_libs/index.pyx\u001b[0m in \u001b[0;36mpandas._libs.index.IndexEngine.get_loc\u001b[0;34m()\u001b[0m\n",
      "\u001b[0;32mpandas/_libs/index.pyx\u001b[0m in \u001b[0;36mpandas._libs.index.IndexEngine.get_loc\u001b[0;34m()\u001b[0m\n",
      "\u001b[0;32mpandas/_libs/hashtable_class_helper.pxi\u001b[0m in \u001b[0;36mpandas._libs.hashtable.PyObjectHashTable.get_item\u001b[0;34m()\u001b[0m\n",
      "\u001b[0;32mpandas/_libs/hashtable_class_helper.pxi\u001b[0m in \u001b[0;36mpandas._libs.hashtable.PyObjectHashTable.get_item\u001b[0;34m()\u001b[0m\n",
      "\u001b[0;31mKeyError\u001b[0m: 'sector'",
      "\nDuring handling of the above exception, another exception occurred:\n",
      "\u001b[0;31mKeyError\u001b[0m                                  Traceback (most recent call last)",
      "\u001b[0;32m<ipython-input-92-a84c9f0996c8>\u001b[0m in \u001b[0;36m<module>\u001b[0;34m\u001b[0m\n\u001b[0;32m----> 1\u001b[0;31m \u001b[0mdf\u001b[0m\u001b[0;34m[\u001b[0m\u001b[0;34m'sector'\u001b[0m\u001b[0;34m]\u001b[0m\u001b[0;34m.\u001b[0m\u001b[0mhead\u001b[0m\u001b[0;34m(\u001b[0m\u001b[0;34m)\u001b[0m\u001b[0;34m\u001b[0m\u001b[0;34m\u001b[0m\u001b[0m\n\u001b[0m",
      "\u001b[0;32m~/anaconda3/lib/python3.6/site-packages/pandas/core/frame.py\u001b[0m in \u001b[0;36m__getitem__\u001b[0;34m(self, key)\u001b[0m\n\u001b[1;32m   2978\u001b[0m             \u001b[0;32mif\u001b[0m \u001b[0mself\u001b[0m\u001b[0;34m.\u001b[0m\u001b[0mcolumns\u001b[0m\u001b[0;34m.\u001b[0m\u001b[0mnlevels\u001b[0m \u001b[0;34m>\u001b[0m \u001b[0;36m1\u001b[0m\u001b[0;34m:\u001b[0m\u001b[0;34m\u001b[0m\u001b[0;34m\u001b[0m\u001b[0m\n\u001b[1;32m   2979\u001b[0m                 \u001b[0;32mreturn\u001b[0m \u001b[0mself\u001b[0m\u001b[0;34m.\u001b[0m\u001b[0m_getitem_multilevel\u001b[0m\u001b[0;34m(\u001b[0m\u001b[0mkey\u001b[0m\u001b[0;34m)\u001b[0m\u001b[0;34m\u001b[0m\u001b[0;34m\u001b[0m\u001b[0m\n\u001b[0;32m-> 2980\u001b[0;31m             \u001b[0mindexer\u001b[0m \u001b[0;34m=\u001b[0m \u001b[0mself\u001b[0m\u001b[0;34m.\u001b[0m\u001b[0mcolumns\u001b[0m\u001b[0;34m.\u001b[0m\u001b[0mget_loc\u001b[0m\u001b[0;34m(\u001b[0m\u001b[0mkey\u001b[0m\u001b[0;34m)\u001b[0m\u001b[0;34m\u001b[0m\u001b[0;34m\u001b[0m\u001b[0m\n\u001b[0m\u001b[1;32m   2981\u001b[0m             \u001b[0;32mif\u001b[0m \u001b[0mis_integer\u001b[0m\u001b[0;34m(\u001b[0m\u001b[0mindexer\u001b[0m\u001b[0;34m)\u001b[0m\u001b[0;34m:\u001b[0m\u001b[0;34m\u001b[0m\u001b[0;34m\u001b[0m\u001b[0m\n\u001b[1;32m   2982\u001b[0m                 \u001b[0mindexer\u001b[0m \u001b[0;34m=\u001b[0m \u001b[0;34m[\u001b[0m\u001b[0mindexer\u001b[0m\u001b[0;34m]\u001b[0m\u001b[0;34m\u001b[0m\u001b[0;34m\u001b[0m\u001b[0m\n",
      "\u001b[0;32m~/anaconda3/lib/python3.6/site-packages/pandas/core/indexes/base.py\u001b[0m in \u001b[0;36mget_loc\u001b[0;34m(self, key, method, tolerance)\u001b[0m\n\u001b[1;32m   2897\u001b[0m                 \u001b[0;32mreturn\u001b[0m \u001b[0mself\u001b[0m\u001b[0;34m.\u001b[0m\u001b[0m_engine\u001b[0m\u001b[0;34m.\u001b[0m\u001b[0mget_loc\u001b[0m\u001b[0;34m(\u001b[0m\u001b[0mkey\u001b[0m\u001b[0;34m)\u001b[0m\u001b[0;34m\u001b[0m\u001b[0;34m\u001b[0m\u001b[0m\n\u001b[1;32m   2898\u001b[0m             \u001b[0;32mexcept\u001b[0m \u001b[0mKeyError\u001b[0m\u001b[0;34m:\u001b[0m\u001b[0;34m\u001b[0m\u001b[0;34m\u001b[0m\u001b[0m\n\u001b[0;32m-> 2899\u001b[0;31m                 \u001b[0;32mreturn\u001b[0m \u001b[0mself\u001b[0m\u001b[0;34m.\u001b[0m\u001b[0m_engine\u001b[0m\u001b[0;34m.\u001b[0m\u001b[0mget_loc\u001b[0m\u001b[0;34m(\u001b[0m\u001b[0mself\u001b[0m\u001b[0;34m.\u001b[0m\u001b[0m_maybe_cast_indexer\u001b[0m\u001b[0;34m(\u001b[0m\u001b[0mkey\u001b[0m\u001b[0;34m)\u001b[0m\u001b[0;34m)\u001b[0m\u001b[0;34m\u001b[0m\u001b[0;34m\u001b[0m\u001b[0m\n\u001b[0m\u001b[1;32m   2900\u001b[0m         \u001b[0mindexer\u001b[0m \u001b[0;34m=\u001b[0m \u001b[0mself\u001b[0m\u001b[0;34m.\u001b[0m\u001b[0mget_indexer\u001b[0m\u001b[0;34m(\u001b[0m\u001b[0;34m[\u001b[0m\u001b[0mkey\u001b[0m\u001b[0;34m]\u001b[0m\u001b[0;34m,\u001b[0m \u001b[0mmethod\u001b[0m\u001b[0;34m=\u001b[0m\u001b[0mmethod\u001b[0m\u001b[0;34m,\u001b[0m \u001b[0mtolerance\u001b[0m\u001b[0;34m=\u001b[0m\u001b[0mtolerance\u001b[0m\u001b[0;34m)\u001b[0m\u001b[0;34m\u001b[0m\u001b[0;34m\u001b[0m\u001b[0m\n\u001b[1;32m   2901\u001b[0m         \u001b[0;32mif\u001b[0m \u001b[0mindexer\u001b[0m\u001b[0;34m.\u001b[0m\u001b[0mndim\u001b[0m \u001b[0;34m>\u001b[0m \u001b[0;36m1\u001b[0m \u001b[0;32mor\u001b[0m \u001b[0mindexer\u001b[0m\u001b[0;34m.\u001b[0m\u001b[0msize\u001b[0m \u001b[0;34m>\u001b[0m \u001b[0;36m1\u001b[0m\u001b[0;34m:\u001b[0m\u001b[0;34m\u001b[0m\u001b[0;34m\u001b[0m\u001b[0m\n",
      "\u001b[0;32mpandas/_libs/index.pyx\u001b[0m in \u001b[0;36mpandas._libs.index.IndexEngine.get_loc\u001b[0;34m()\u001b[0m\n",
      "\u001b[0;32mpandas/_libs/index.pyx\u001b[0m in \u001b[0;36mpandas._libs.index.IndexEngine.get_loc\u001b[0;34m()\u001b[0m\n",
      "\u001b[0;32mpandas/_libs/hashtable_class_helper.pxi\u001b[0m in \u001b[0;36mpandas._libs.hashtable.PyObjectHashTable.get_item\u001b[0;34m()\u001b[0m\n",
      "\u001b[0;32mpandas/_libs/hashtable_class_helper.pxi\u001b[0m in \u001b[0;36mpandas._libs.hashtable.PyObjectHashTable.get_item\u001b[0;34m()\u001b[0m\n",
      "\u001b[0;31mKeyError\u001b[0m: 'sector'"
     ]
    }
   ],
   "source": [
    "df['sector'].head()"
   ]
  },
  {
   "cell_type": "markdown",
   "metadata": {},
   "source": [
    "We want our model to be agnostic of the year since we're not doing time series analysis of our data. This means we can drop the year. We'll also drop close because we're only trying to predict percentage growth based on financial statements."
   ]
  },
  {
   "cell_type": "code",
   "execution_count": 16,
   "metadata": {
    "ExecuteTime": {
     "end_time": "2019-09-08T14:41:41.067752Z",
     "start_time": "2019-09-08T14:41:41.056715Z"
    }
   },
   "outputs": [
    {
     "name": "stdout",
     "output_type": "stream",
     "text": [
      "<class 'pandas.core.frame.DataFrame'>\n",
      "Int64Index: 12344 entries, 0 to 12343\n",
      "Data columns (total 26 columns):\n",
      "month                                                  12344 non-null float64\n",
      "Accounts Payable                                       12344 non-null float64\n",
      "Accounts Receivable                                    12344 non-null float64\n",
      "Cash and Cash Equivalents                              12344 non-null float64\n",
      "Fixed Assets                                           12344 non-null float64\n",
      "Inventory                                              12344 non-null float64\n",
      "Investments                                            12344 non-null float64\n",
      "Liabilities                                            12344 non-null float64\n",
      "Long-Term Debt                                         12344 non-null float64\n",
      "Long-Term Investments                                  12344 non-null float64\n",
      "Net Income                                             12344 non-null float64\n",
      "Operating Income                                       12344 non-null float64\n",
      "Other Current Assets                                   12344 non-null float64\n",
      "Other Current Liabilities                              12344 non-null float64\n",
      "Research and Development                               12344 non-null float64\n",
      "Short-Term Debt / Current Portion of Long-Term Debt    12344 non-null float64\n",
      "Short-Term Investments                                 12344 non-null float64\n",
      "Total Assets                                           12344 non-null float64\n",
      "Total Current Assets                                   12344 non-null float64\n",
      "Total Current Liabilities                              12344 non-null float64\n",
      "Total Equity                                           12344 non-null float64\n",
      "Total Liabilities                                      12344 non-null float64\n",
      "Total Liabilities & Equity                             12344 non-null float64\n",
      "Total Revenue                                          12344 non-null float64\n",
      "Earnings Per Share                                     12344 non-null float64\n",
      "growth_category                                        12344 non-null float64\n",
      "dtypes: float64(26)\n",
      "memory usage: 2.5 MB\n"
     ]
    }
   ],
   "source": [
    "\n",
    "df.drop(['close', 'year'], axis = 1, inplace = True)\n",
    "df.info()"
   ]
  },
  {
   "cell_type": "code",
   "execution_count": 17,
   "metadata": {
    "ExecuteTime": {
     "end_time": "2019-09-08T14:42:06.835841Z",
     "start_time": "2019-09-08T14:42:06.449264Z"
    }
   },
   "outputs": [],
   "source": [
    "# df.to_csv('average_by_month_january.csv')\n",
    "df.to_csv('average_by_month.csv')"
   ]
  },
  {
   "cell_type": "markdown",
   "metadata": {},
   "source": [
    "--- Checkpoint ---"
   ]
  },
  {
   "cell_type": "code",
   "execution_count": 34,
   "metadata": {
    "ExecuteTime": {
     "end_time": "2019-09-08T15:02:34.233169Z",
     "start_time": "2019-09-08T15:02:34.176364Z"
    }
   },
   "outputs": [
    {
     "name": "stdout",
     "output_type": "stream",
     "text": [
      "<class 'pandas.core.frame.DataFrame'>\n",
      "Int64Index: 12344 entries, 0 to 12343\n",
      "Data columns (total 26 columns):\n",
      "month                                                  12344 non-null float64\n",
      "Accounts Payable                                       12344 non-null float64\n",
      "Accounts Receivable                                    12344 non-null float64\n",
      "Cash and Cash Equivalents                              12344 non-null float64\n",
      "Fixed Assets                                           12344 non-null float64\n",
      "Inventory                                              12344 non-null float64\n",
      "Investments                                            12344 non-null float64\n",
      "Liabilities                                            12344 non-null float64\n",
      "Long-Term Debt                                         12344 non-null float64\n",
      "Long-Term Investments                                  12344 non-null float64\n",
      "Net Income                                             12344 non-null float64\n",
      "Operating Income                                       12344 non-null float64\n",
      "Other Current Assets                                   12344 non-null float64\n",
      "Other Current Liabilities                              12344 non-null float64\n",
      "Research and Development                               12344 non-null float64\n",
      "Short-Term Debt / Current Portion of Long-Term Debt    12344 non-null float64\n",
      "Short-Term Investments                                 12344 non-null float64\n",
      "Total Assets                                           12344 non-null float64\n",
      "Total Current Assets                                   12344 non-null float64\n",
      "Total Current Liabilities                              12344 non-null float64\n",
      "Total Equity                                           12344 non-null float64\n",
      "Total Liabilities                                      12344 non-null float64\n",
      "Total Liabilities & Equity                             12344 non-null float64\n",
      "Total Revenue                                          12344 non-null float64\n",
      "Earnings Per Share                                     12344 non-null float64\n",
      "growth_category                                        12344 non-null float64\n",
      "dtypes: float64(26)\n",
      "memory usage: 2.5 MB\n"
     ]
    }
   ],
   "source": [
    "# data = pd.read_csv('average_by_month_january.csv', index_col=0)\n",
    "data = pd.read_csv('average_by_month.csv', index_col=0)\n",
    "data.info()"
   ]
  },
  {
   "cell_type": "code",
   "execution_count": 35,
   "metadata": {
    "ExecuteTime": {
     "end_time": "2019-09-08T15:02:49.795247Z",
     "start_time": "2019-09-08T15:02:49.790461Z"
    }
   },
   "outputs": [],
   "source": [
    "# Get our independent and dependent variables\n",
    "y = df['growth_category'].astype('int')\n",
    "X = df.drop(['growth_category'], axis = 1)"
   ]
  },
  {
   "cell_type": "markdown",
   "metadata": {},
   "source": [
    "<a id=\"2.5\"></a>\n",
    "### 5. Normalize Data\n",
    "Our next step it to standardize all the data. We don't want certain features to have too strong of an influence just because the nature of that particular feature, the numbers are higher. For example, Earnings per share is generally a low number because it's Revenue divided by the number of shares outstanding, while Our total Assets number is going to be astronomical compared to EPS. We don't want Assets to simply out rank EPS. EPS could potentially be more important, so by standardizing all features, we can even the playing field."
   ]
  },
  {
   "cell_type": "code",
   "execution_count": 36,
   "metadata": {
    "ExecuteTime": {
     "end_time": "2019-09-08T15:02:53.465977Z",
     "start_time": "2019-09-08T15:02:53.453142Z"
    }
   },
   "outputs": [],
   "source": [
    "from sklearn.preprocessing import StandardScaler\n",
    "scaler = StandardScaler()\n",
    "X = scaler.fit_transform(X)"
   ]
  },
  {
   "cell_type": "code",
   "execution_count": 37,
   "metadata": {
    "ExecuteTime": {
     "end_time": "2019-09-08T15:02:54.105120Z",
     "start_time": "2019-09-08T15:02:54.100688Z"
    }
   },
   "outputs": [
    {
     "data": {
      "text/plain": [
       "0    2\n",
       "1    2\n",
       "2    0\n",
       "3    2\n",
       "4    2\n",
       "Name: growth_category, dtype: int64"
      ]
     },
     "execution_count": 37,
     "metadata": {},
     "output_type": "execute_result"
    }
   ],
   "source": [
    "y.head()"
   ]
  },
  {
   "cell_type": "markdown",
   "metadata": {},
   "source": [
    "<a id=\"4\"></a>\n",
    "## 4. Model"
   ]
  },
  {
   "cell_type": "code",
   "execution_count": 38,
   "metadata": {
    "ExecuteTime": {
     "end_time": "2019-09-08T15:02:55.625270Z",
     "start_time": "2019-09-08T15:02:55.620200Z"
    }
   },
   "outputs": [],
   "source": [
    "from sklearn.model_selection import train_test_split\n",
    "X_train, X_test, y_train, y_test = train_test_split(X, y, test_size = 0.25, random_state = 3)"
   ]
  },
  {
   "cell_type": "markdown",
   "metadata": {},
   "source": [
    "### K Neighbors Classifier"
   ]
  },
  {
   "cell_type": "code",
   "execution_count": 39,
   "metadata": {
    "ExecuteTime": {
     "end_time": "2019-09-08T15:02:57.411802Z",
     "start_time": "2019-09-08T15:02:57.396266Z"
    }
   },
   "outputs": [
    {
     "data": {
      "text/plain": [
       "KNeighborsClassifier(algorithm='auto', leaf_size=30, metric='minkowski',\n",
       "                     metric_params=None, n_jobs=None, n_neighbors=5, p=2,\n",
       "                     weights='uniform')"
      ]
     },
     "execution_count": 39,
     "metadata": {},
     "output_type": "execute_result"
    }
   ],
   "source": [
    "from sklearn.neighbors import KNeighborsClassifier\n",
    "clf = KNeighborsClassifier(n_neighbors = 5, metric = 'minkowski', p = 2)\n",
    "clf.fit(X_train, y_train)"
   ]
  },
  {
   "cell_type": "code",
   "execution_count": 40,
   "metadata": {
    "ExecuteTime": {
     "end_time": "2019-09-08T15:02:58.957911Z",
     "start_time": "2019-09-08T15:02:58.477926Z"
    }
   },
   "outputs": [
    {
     "name": "stdout",
     "output_type": "stream",
     "text": [
      "[[988 155 171]\n",
      " [277 229 191]\n",
      " [349 207 519]]\n",
      "Accuracy:  0.5625405055087492\n"
     ]
    }
   ],
   "source": [
    "y_pred = clf.predict(X_test)\n",
    "\n",
    "from sklearn.metrics import confusion_matrix, accuracy_score\n",
    "cm = confusion_matrix(y_test, y_pred)\n",
    "acc = accuracy_score(y_test, y_pred)\n",
    "print(cm)\n",
    "print('Accuracy: ', acc)"
   ]
  },
  {
   "cell_type": "markdown",
   "metadata": {},
   "source": [
    "### Support Vector Machine"
   ]
  },
  {
   "cell_type": "code",
   "execution_count": 41,
   "metadata": {
    "ExecuteTime": {
     "end_time": "2019-09-08T15:03:14.968013Z",
     "start_time": "2019-09-08T15:03:02.012887Z"
    }
   },
   "outputs": [
    {
     "data": {
      "text/plain": [
       "SVC(C=1.0, cache_size=200, class_weight=None, coef0=0.0,\n",
       "    decision_function_shape='ovr', degree=3, gamma='auto_deprecated',\n",
       "    kernel='linear', max_iter=-1, probability=False, random_state=3,\n",
       "    shrinking=True, tol=0.001, verbose=False)"
      ]
     },
     "execution_count": 41,
     "metadata": {},
     "output_type": "execute_result"
    }
   ],
   "source": [
    "from sklearn.svm import SVC\n",
    "clf = SVC(kernel = 'linear', random_state = 3)\n",
    "clf.fit(X_train, y_train)"
   ]
  },
  {
   "cell_type": "code",
   "execution_count": 42,
   "metadata": {
    "ExecuteTime": {
     "end_time": "2019-09-08T15:03:15.610329Z",
     "start_time": "2019-09-08T15:03:15.054632Z"
    }
   },
   "outputs": [
    {
     "name": "stdout",
     "output_type": "stream",
     "text": [
      "[[1301    0   13]\n",
      " [ 689    0    8]\n",
      " [1046    0   29]]\n",
      "Accuracy:  0.4309786130913804\n"
     ]
    }
   ],
   "source": [
    "y_pred = clf.predict(X_test)\n",
    "\n",
    "cm = confusion_matrix(y_test, y_pred)\n",
    "acc = accuracy_score(y_test, y_pred)\n",
    "print(cm)\n",
    "print('Accuracy: ', acc)"
   ]
  },
  {
   "cell_type": "markdown",
   "metadata": {},
   "source": [
    "### Kernel SVM"
   ]
  },
  {
   "cell_type": "code",
   "execution_count": 43,
   "metadata": {
    "ExecuteTime": {
     "end_time": "2019-09-08T15:03:23.029611Z",
     "start_time": "2019-09-08T15:03:17.411589Z"
    }
   },
   "outputs": [
    {
     "name": "stderr",
     "output_type": "stream",
     "text": [
      "/Users/joe/anaconda3/lib/python3.6/site-packages/sklearn/svm/base.py:193: FutureWarning: The default value of gamma will change from 'auto' to 'scale' in version 0.22 to account better for unscaled features. Set gamma explicitly to 'auto' or 'scale' to avoid this warning.\n",
      "  \"avoid this warning.\", FutureWarning)\n"
     ]
    },
    {
     "data": {
      "text/plain": [
       "SVC(C=1.0, cache_size=200, class_weight=None, coef0=0.0,\n",
       "    decision_function_shape='ovr', degree=3, gamma='auto_deprecated',\n",
       "    kernel='rbf', max_iter=-1, probability=False, random_state=3,\n",
       "    shrinking=True, tol=0.001, verbose=False)"
      ]
     },
     "execution_count": 43,
     "metadata": {},
     "output_type": "execute_result"
    }
   ],
   "source": [
    "clf = SVC(kernel = 'rbf', random_state = 3)\n",
    "clf.fit(X_train, y_train)"
   ]
  },
  {
   "cell_type": "code",
   "execution_count": 44,
   "metadata": {
    "ExecuteTime": {
     "end_time": "2019-09-08T15:03:24.071593Z",
     "start_time": "2019-09-08T15:03:23.124326Z"
    }
   },
   "outputs": [
    {
     "name": "stdout",
     "output_type": "stream",
     "text": [
      "[[912   5 397]\n",
      " [384  22 291]\n",
      " [493  15 567]]\n",
      "Accuracy:  0.48639014906027217\n"
     ]
    }
   ],
   "source": [
    "y_pred = clf.predict(X_test)\n",
    "\n",
    "cm = confusion_matrix(y_test, y_pred)\n",
    "acc = accuracy_score(y_test, y_pred)\n",
    "print(cm)\n",
    "print('Accuracy: ', acc)"
   ]
  },
  {
   "cell_type": "markdown",
   "metadata": {},
   "source": [
    "### Decision Tree"
   ]
  },
  {
   "cell_type": "code",
   "execution_count": 104,
   "metadata": {
    "ExecuteTime": {
     "end_time": "2019-09-08T15:41:15.574608Z",
     "start_time": "2019-09-08T15:41:15.459973Z"
    }
   },
   "outputs": [
    {
     "data": {
      "text/plain": [
       "DecisionTreeClassifier(class_weight=None, criterion='entropy', max_depth=None,\n",
       "                       max_features=None, max_leaf_nodes=None,\n",
       "                       min_impurity_decrease=0.0, min_impurity_split=None,\n",
       "                       min_samples_leaf=1, min_samples_split=2,\n",
       "                       min_weight_fraction_leaf=0.0, presort=False,\n",
       "                       random_state=3, splitter='best')"
      ]
     },
     "execution_count": 104,
     "metadata": {},
     "output_type": "execute_result"
    }
   ],
   "source": [
    "from sklearn.tree import DecisionTreeClassifier\n",
    "clf_dt = DecisionTreeClassifier(criterion = 'entropy', random_state = 3)\n",
    "clf_dt.fit(X_train, y_train)"
   ]
  },
  {
   "cell_type": "code",
   "execution_count": 105,
   "metadata": {
    "ExecuteTime": {
     "end_time": "2019-09-08T15:41:16.293270Z",
     "start_time": "2019-09-08T15:41:16.284240Z"
    }
   },
   "outputs": [
    {
     "name": "stdout",
     "output_type": "stream",
     "text": [
      "[[1096  176   42]\n",
      " [ 161  361  175]\n",
      " [  42  199  834]]\n",
      "Accuracy:  0.7423849643551523\n"
     ]
    }
   ],
   "source": [
    "y_pred = clf_dt.predict(X_test)\n",
    "\n",
    "cm = confusion_matrix(y_test, y_pred)\n",
    "acc = accuracy_score(y_test, y_pred)\n",
    "print(cm)\n",
    "print('Accuracy: ', acc)"
   ]
  },
  {
   "cell_type": "markdown",
   "metadata": {},
   "source": [
    "### Random Forest"
   ]
  },
  {
   "cell_type": "code",
   "execution_count": 106,
   "metadata": {
    "ExecuteTime": {
     "end_time": "2019-09-08T15:41:27.537594Z",
     "start_time": "2019-09-08T15:41:27.283776Z"
    }
   },
   "outputs": [
    {
     "data": {
      "text/plain": [
       "RandomForestClassifier(bootstrap=True, class_weight=None, criterion='entropy',\n",
       "                       max_depth=None, max_features='auto', max_leaf_nodes=None,\n",
       "                       min_impurity_decrease=0.0, min_impurity_split=None,\n",
       "                       min_samples_leaf=1, min_samples_split=2,\n",
       "                       min_weight_fraction_leaf=0.0, n_estimators=10,\n",
       "                       n_jobs=None, oob_score=False, random_state=3, verbose=0,\n",
       "                       warm_start=False)"
      ]
     },
     "execution_count": 106,
     "metadata": {},
     "output_type": "execute_result"
    }
   ],
   "source": [
    "from sklearn.ensemble import RandomForestClassifier\n",
    "clf_rf = RandomForestClassifier(n_estimators = 10, criterion = 'entropy', random_state = 3)\n",
    "clf_rf.fit(X_train, y_train)"
   ]
  },
  {
   "cell_type": "code",
   "execution_count": 107,
   "metadata": {
    "ExecuteTime": {
     "end_time": "2019-09-08T15:41:28.214598Z",
     "start_time": "2019-09-08T15:41:28.198577Z"
    }
   },
   "outputs": [
    {
     "name": "stdout",
     "output_type": "stream",
     "text": [
      "[[1149  151   14]\n",
      " [ 156  375  166]\n",
      " [  18  191  866]]\n",
      "Accuracy:  0.7744653272845107\n"
     ]
    }
   ],
   "source": [
    "y_pred = clf_rf.predict(X_test)\n",
    "\n",
    "cm = confusion_matrix(y_test, y_pred)\n",
    "acc = accuracy_score(y_test, y_pred)\n",
    "print(cm)\n",
    "print('Accuracy: ', acc)"
   ]
  },
  {
   "cell_type": "markdown",
   "metadata": {},
   "source": [
    "### Validation\n",
    "Here are the accuracy results from our initial models. \n",
    "\n",
    "| Model         | Accuracy |\n",
    "|---------------|----------|\n",
    "| K Neighbors   | 0.5625   |\n",
    "| SVM           | 0.4310   |\n",
    "| Kernel SVM    | 0.4864   |\n",
    "| Decision Tree | 0.7424   |\n",
    "| Random Forest | 0.7745   |\n",
    "\n",
    "There are two models that are clearly better than the rest, Decision Tree and Random Forest. Next we'll use K-Fold Cross Validation to get a more reliable picture of which model is stronger by eliminating the chance that random sampling caused the difference in outcomes."
   ]
  },
  {
   "cell_type": "code",
   "execution_count": 109,
   "metadata": {
    "ExecuteTime": {
     "end_time": "2019-09-08T15:45:56.214344Z",
     "start_time": "2019-09-08T15:45:52.798451Z"
    }
   },
   "outputs": [
    {
     "name": "stdout",
     "output_type": "stream",
     "text": [
      "Decision Tree Results:\n",
      "Accuracies Mean:  0.7169982214186328\n",
      "Accuracies Standard Deviation:  0.010332084038613394\n",
      "Random Forest Results:\n",
      "Accuracies Mean:  0.7511322703999421\n",
      "Accuracies Standard Deviation:  0.011035581112188473\n"
     ]
    }
   ],
   "source": [
    "from sklearn.model_selection import cross_val_score\n",
    "accuracies_dt = cross_val_score(clf_dt, X = X_train, y = y_train, cv = 10)\n",
    "print('Decision Tree Results:')\n",
    "print('Accuracies Mean: ', accuracies_dt.mean())\n",
    "print('Accuracies Standard Deviation: ', accuracies_dt.std())\n",
    "accuracies_rf = cross_val_score(clf_rf, X = X_train, y = y_train, cv = 10)\n",
    "print('Random Forest Results:')\n",
    "print('Accuracies Mean: ', accuracies_rf.mean())\n",
    "print('Accuracies Standard Deviation: ', accuracies_rf.std())"
   ]
  },
  {
   "cell_type": "markdown",
   "metadata": {},
   "source": [
    "With a standard deviation of around 0.01 for both models, we know they are both very consistent and the difference of ~4% is unlikely to be caused by sampling errors. So, we can confidently select the `Random Forest` as our classifying model.\n",
    "\n",
    "Our next steps are to imporove our results feature selection. We want to determine which features are giving us more predictive power and remove ones that may just be noise."
   ]
  },
  {
   "cell_type": "code",
   "execution_count": 114,
   "metadata": {
    "ExecuteTime": {
     "end_time": "2019-09-08T16:41:24.485209Z",
     "start_time": "2019-09-08T16:41:24.453715Z"
    }
   },
   "outputs": [
    {
     "name": "stdout",
     "output_type": "stream",
     "text": [
      "[3.70626447e-01 2.21694717e-01 7.06662345e-02 4.83241220e-02\n",
      " 4.79182007e-02 4.28866059e-02 3.79230901e-02 3.60025238e-02\n",
      " 3.18690963e-02 2.75941795e-02 1.82162051e-02 1.06209892e-02\n",
      " 9.19563799e-03 6.95198863e-03 5.25632676e-03 3.74340609e-03\n",
      " 3.05800964e-03 3.00209510e-03 1.72310878e-03 1.22296744e-03\n",
      " 1.07003598e-03 3.53197911e-04 8.07704046e-05 4.37768774e-08\n",
      " 4.24313511e-33]\n"
     ]
    }
   ],
   "source": [
    "from sklearn.decomposition import PCA\n",
    "pca = PCA(n_components = None)\n",
    "X_train_reduced = pca.fit_transform(X_train)\n",
    "X_test_reduced = pca.fit(X_test)\n",
    "\n",
    "print(pca.explained_variance_ratio_)"
   ]
  },
  {
   "cell_type": "code",
   "execution_count": null,
   "metadata": {},
   "outputs": [],
   "source": []
  },
  {
   "cell_type": "code",
   "execution_count": 118,
   "metadata": {
    "ExecuteTime": {
     "end_time": "2019-09-08T16:44:36.588778Z",
     "start_time": "2019-09-08T16:44:36.584287Z"
    }
   },
   "outputs": [
    {
     "data": {
      "text/plain": [
       "0.9537214219"
      ]
     },
     "execution_count": 118,
     "metadata": {},
     "output_type": "execute_result"
    }
   ],
   "source": [
    "np.sum([3.70626447e-01, 2.21694717e-01, 7.06662345e-02, 4.83241220e-02,\n",
    " 4.79182007e-02, 4.28866059e-02, 3.79230901e-02, 3.60025238e-02,\n",
    " 3.18690963e-02, 2.75941795e-02, 1.82162051e-02])"
   ]
  },
  {
   "cell_type": "code",
   "execution_count": 125,
   "metadata": {
    "ExecuteTime": {
     "end_time": "2019-09-08T16:53:17.090981Z",
     "start_time": "2019-09-08T16:53:17.061784Z"
    }
   },
   "outputs": [],
   "source": []
  },
  {
   "cell_type": "code",
   "execution_count": 138,
   "metadata": {
    "ExecuteTime": {
     "end_time": "2019-09-08T17:14:42.870286Z",
     "start_time": "2019-09-08T17:14:42.865739Z"
    }
   },
   "outputs": [],
   "source": [
    "def get_pca_results(clf, X_train, X_test, y_train, y_test, components=None):\n",
    "    \"\"\"This function returns the accuracy score of a given model.\n",
    "    * Uses 10 fold cross validation to reduce sampling errors\n",
    "    \n",
    "    Keyword arguments:\n",
    "    clf        -- classifier to use\n",
    "    X_train    -- training set of features\n",
    "    X_test     -- test set of features\n",
    "    y_train    -- training set of outcomes\n",
    "    y_test     -- test set of outcomes\n",
    "    components -- the number of components to get out of PCA (default None)\n",
    "    \"\"\"\n",
    "    pca = PCA(n_components = components)\n",
    "    X_train_reduced = pca.fit_transform(X_train)\n",
    "    X_test_reduced = pca.transform(X_test)\n",
    "    clf.fit(X_train_reduced, y_train)\n",
    "    y_pred = clf.predict(X_test_reduced)\n",
    "    accuracies = cross_val_score(clf, X = X_train_reduced, y = y_train, cv = 10)\n",
    "    return accuracies.mean()"
   ]
  },
  {
   "cell_type": "code",
   "execution_count": 144,
   "metadata": {
    "ExecuteTime": {
     "end_time": "2019-09-08T17:28:42.722864Z",
     "start_time": "2019-09-08T17:26:35.253996Z"
    }
   },
   "outputs": [
    {
     "name": "stdout",
     "output_type": "stream",
     "text": [
      "1 :  0.40429821726936366\n",
      "2 :  0.6542508806291648\n",
      "3 :  0.7318030889707379\n",
      "4 :  0.7365538963949919\n",
      "5 :  0.7442215177501301\n",
      "6 :  0.7253242999898833\n",
      "7 :  0.7260733627608168\n",
      "8 :  0.7307196736887861\n",
      "9 :  0.7355757875374769\n",
      "10 :  0.7435718193888002\n",
      "11 :  0.7424873566545651\n",
      "12 :  0.7413035307938536\n",
      "13 :  0.745842559676232\n",
      "14 :  0.746163964548854\n",
      "15 :  0.7464865341306659\n",
      "16 :  0.7500531760449142\n",
      "17 :  0.7496191083889086\n",
      "18 :  0.7475673872681359\n",
      "19 :  0.7462682220080782\n",
      "20 :  0.7497310669030143\n",
      "21 :  0.747679229535318\n",
      "22 :  0.7476772458359406\n",
      "23 :  0.7519985354822529\n",
      "24 :  0.7507026426868528\n",
      "25 :  0.7492978162245919\n"
     ]
    }
   ],
   "source": [
    "clf = RandomForestClassifier(n_estimators = 10, criterion = 'entropy', random_state = 3)\n",
    "for i in range(1, len(X[0]) + 1):\n",
    "    print(i, ': ', get_pca_results(clf, X_train, X_test, y_train, y_test, i))"
   ]
  },
  {
   "cell_type": "markdown",
   "metadata": {
    "ExecuteTime": {
     "end_time": "2019-09-08T16:53:03.691946Z",
     "start_time": "2019-09-08T16:53:03.688191Z"
    }
   },
   "source": [
    "\n",
    "\n",
    "Even though our accuracy did not increase much, it did increase even though we reduced the number of features almost in half."
   ]
  },
  {
   "cell_type": "code",
   "execution_count": 122,
   "metadata": {
    "ExecuteTime": {
     "end_time": "2019-09-08T16:50:32.754502Z",
     "start_time": "2019-09-08T16:50:32.738091Z"
    }
   },
   "outputs": [
    {
     "ename": "TypeError",
     "evalue": "float() argument must be a string or a number, not 'PCA'",
     "output_type": "error",
     "traceback": [
      "\u001b[0;31m---------------------------------------------------------------------------\u001b[0m",
      "\u001b[0;31mTypeError\u001b[0m                                 Traceback (most recent call last)",
      "\u001b[0;32m<ipython-input-122-0e322efff70d>\u001b[0m in \u001b[0;36m<module>\u001b[0;34m\u001b[0m\n\u001b[0;32m----> 1\u001b[0;31m \u001b[0my_pred\u001b[0m \u001b[0;34m=\u001b[0m \u001b[0mclf\u001b[0m\u001b[0;34m.\u001b[0m\u001b[0mpredict\u001b[0m\u001b[0;34m(\u001b[0m\u001b[0mX_test_reduced\u001b[0m\u001b[0;34m)\u001b[0m\u001b[0;34m\u001b[0m\u001b[0;34m\u001b[0m\u001b[0m\n\u001b[0m\u001b[1;32m      2\u001b[0m \u001b[0;34m\u001b[0m\u001b[0m\n\u001b[1;32m      3\u001b[0m \u001b[0mcm\u001b[0m \u001b[0;34m=\u001b[0m \u001b[0mconfusion_matrix\u001b[0m\u001b[0;34m(\u001b[0m\u001b[0my_test\u001b[0m\u001b[0;34m,\u001b[0m \u001b[0my_pred\u001b[0m\u001b[0;34m)\u001b[0m\u001b[0;34m\u001b[0m\u001b[0;34m\u001b[0m\u001b[0m\n\u001b[1;32m      4\u001b[0m \u001b[0macc\u001b[0m \u001b[0;34m=\u001b[0m \u001b[0maccuracy_score\u001b[0m\u001b[0;34m(\u001b[0m\u001b[0my_test\u001b[0m\u001b[0;34m,\u001b[0m \u001b[0my_pred\u001b[0m\u001b[0;34m)\u001b[0m\u001b[0;34m\u001b[0m\u001b[0;34m\u001b[0m\u001b[0m\n\u001b[1;32m      5\u001b[0m \u001b[0mprint\u001b[0m\u001b[0;34m(\u001b[0m\u001b[0;34m'Random Forest Results:'\u001b[0m\u001b[0;34m)\u001b[0m\u001b[0;34m\u001b[0m\u001b[0;34m\u001b[0m\u001b[0m\n",
      "\u001b[0;32m~/anaconda3/lib/python3.6/site-packages/sklearn/ensemble/forest.py\u001b[0m in \u001b[0;36mpredict\u001b[0;34m(self, X)\u001b[0m\n\u001b[1;32m    543\u001b[0m             \u001b[0mThe\u001b[0m \u001b[0mpredicted\u001b[0m \u001b[0mclasses\u001b[0m\u001b[0;34m.\u001b[0m\u001b[0;34m\u001b[0m\u001b[0;34m\u001b[0m\u001b[0m\n\u001b[1;32m    544\u001b[0m         \"\"\"\n\u001b[0;32m--> 545\u001b[0;31m         \u001b[0mproba\u001b[0m \u001b[0;34m=\u001b[0m \u001b[0mself\u001b[0m\u001b[0;34m.\u001b[0m\u001b[0mpredict_proba\u001b[0m\u001b[0;34m(\u001b[0m\u001b[0mX\u001b[0m\u001b[0;34m)\u001b[0m\u001b[0;34m\u001b[0m\u001b[0;34m\u001b[0m\u001b[0m\n\u001b[0m\u001b[1;32m    546\u001b[0m \u001b[0;34m\u001b[0m\u001b[0m\n\u001b[1;32m    547\u001b[0m         \u001b[0;32mif\u001b[0m \u001b[0mself\u001b[0m\u001b[0;34m.\u001b[0m\u001b[0mn_outputs_\u001b[0m \u001b[0;34m==\u001b[0m \u001b[0;36m1\u001b[0m\u001b[0;34m:\u001b[0m\u001b[0;34m\u001b[0m\u001b[0;34m\u001b[0m\u001b[0m\n",
      "\u001b[0;32m~/anaconda3/lib/python3.6/site-packages/sklearn/ensemble/forest.py\u001b[0m in \u001b[0;36mpredict_proba\u001b[0;34m(self, X)\u001b[0m\n\u001b[1;32m    586\u001b[0m         \u001b[0mcheck_is_fitted\u001b[0m\u001b[0;34m(\u001b[0m\u001b[0mself\u001b[0m\u001b[0;34m,\u001b[0m \u001b[0;34m'estimators_'\u001b[0m\u001b[0;34m)\u001b[0m\u001b[0;34m\u001b[0m\u001b[0;34m\u001b[0m\u001b[0m\n\u001b[1;32m    587\u001b[0m         \u001b[0;31m# Check data\u001b[0m\u001b[0;34m\u001b[0m\u001b[0;34m\u001b[0m\u001b[0;34m\u001b[0m\u001b[0m\n\u001b[0;32m--> 588\u001b[0;31m         \u001b[0mX\u001b[0m \u001b[0;34m=\u001b[0m \u001b[0mself\u001b[0m\u001b[0;34m.\u001b[0m\u001b[0m_validate_X_predict\u001b[0m\u001b[0;34m(\u001b[0m\u001b[0mX\u001b[0m\u001b[0;34m)\u001b[0m\u001b[0;34m\u001b[0m\u001b[0;34m\u001b[0m\u001b[0m\n\u001b[0m\u001b[1;32m    589\u001b[0m \u001b[0;34m\u001b[0m\u001b[0m\n\u001b[1;32m    590\u001b[0m         \u001b[0;31m# Assign chunk of trees to jobs\u001b[0m\u001b[0;34m\u001b[0m\u001b[0;34m\u001b[0m\u001b[0;34m\u001b[0m\u001b[0m\n",
      "\u001b[0;32m~/anaconda3/lib/python3.6/site-packages/sklearn/ensemble/forest.py\u001b[0m in \u001b[0;36m_validate_X_predict\u001b[0;34m(self, X)\u001b[0m\n\u001b[1;32m    357\u001b[0m                                  \"call `fit` before exploiting the model.\")\n\u001b[1;32m    358\u001b[0m \u001b[0;34m\u001b[0m\u001b[0m\n\u001b[0;32m--> 359\u001b[0;31m         \u001b[0;32mreturn\u001b[0m \u001b[0mself\u001b[0m\u001b[0;34m.\u001b[0m\u001b[0mestimators_\u001b[0m\u001b[0;34m[\u001b[0m\u001b[0;36m0\u001b[0m\u001b[0;34m]\u001b[0m\u001b[0;34m.\u001b[0m\u001b[0m_validate_X_predict\u001b[0m\u001b[0;34m(\u001b[0m\u001b[0mX\u001b[0m\u001b[0;34m,\u001b[0m \u001b[0mcheck_input\u001b[0m\u001b[0;34m=\u001b[0m\u001b[0;32mTrue\u001b[0m\u001b[0;34m)\u001b[0m\u001b[0;34m\u001b[0m\u001b[0;34m\u001b[0m\u001b[0m\n\u001b[0m\u001b[1;32m    360\u001b[0m \u001b[0;34m\u001b[0m\u001b[0m\n\u001b[1;32m    361\u001b[0m     \u001b[0;34m@\u001b[0m\u001b[0mproperty\u001b[0m\u001b[0;34m\u001b[0m\u001b[0;34m\u001b[0m\u001b[0m\n",
      "\u001b[0;32m~/anaconda3/lib/python3.6/site-packages/sklearn/tree/tree.py\u001b[0m in \u001b[0;36m_validate_X_predict\u001b[0;34m(self, X, check_input)\u001b[0m\n\u001b[1;32m    389\u001b[0m         \u001b[0;34m\"\"\"Validate X whenever one tries to predict, apply, predict_proba\"\"\"\u001b[0m\u001b[0;34m\u001b[0m\u001b[0;34m\u001b[0m\u001b[0m\n\u001b[1;32m    390\u001b[0m         \u001b[0;32mif\u001b[0m \u001b[0mcheck_input\u001b[0m\u001b[0;34m:\u001b[0m\u001b[0;34m\u001b[0m\u001b[0;34m\u001b[0m\u001b[0m\n\u001b[0;32m--> 391\u001b[0;31m             \u001b[0mX\u001b[0m \u001b[0;34m=\u001b[0m \u001b[0mcheck_array\u001b[0m\u001b[0;34m(\u001b[0m\u001b[0mX\u001b[0m\u001b[0;34m,\u001b[0m \u001b[0mdtype\u001b[0m\u001b[0;34m=\u001b[0m\u001b[0mDTYPE\u001b[0m\u001b[0;34m,\u001b[0m \u001b[0maccept_sparse\u001b[0m\u001b[0;34m=\u001b[0m\u001b[0;34m\"csr\"\u001b[0m\u001b[0;34m)\u001b[0m\u001b[0;34m\u001b[0m\u001b[0;34m\u001b[0m\u001b[0m\n\u001b[0m\u001b[1;32m    392\u001b[0m             if issparse(X) and (X.indices.dtype != np.intc or\n\u001b[1;32m    393\u001b[0m                                 X.indptr.dtype != np.intc):\n",
      "\u001b[0;32m~/anaconda3/lib/python3.6/site-packages/sklearn/utils/validation.py\u001b[0m in \u001b[0;36mcheck_array\u001b[0;34m(array, accept_sparse, accept_large_sparse, dtype, order, copy, force_all_finite, ensure_2d, allow_nd, ensure_min_samples, ensure_min_features, warn_on_dtype, estimator)\u001b[0m\n\u001b[1;32m    494\u001b[0m             \u001b[0;32mtry\u001b[0m\u001b[0;34m:\u001b[0m\u001b[0;34m\u001b[0m\u001b[0;34m\u001b[0m\u001b[0m\n\u001b[1;32m    495\u001b[0m                 \u001b[0mwarnings\u001b[0m\u001b[0;34m.\u001b[0m\u001b[0msimplefilter\u001b[0m\u001b[0;34m(\u001b[0m\u001b[0;34m'error'\u001b[0m\u001b[0;34m,\u001b[0m \u001b[0mComplexWarning\u001b[0m\u001b[0;34m)\u001b[0m\u001b[0;34m\u001b[0m\u001b[0;34m\u001b[0m\u001b[0m\n\u001b[0;32m--> 496\u001b[0;31m                 \u001b[0marray\u001b[0m \u001b[0;34m=\u001b[0m \u001b[0mnp\u001b[0m\u001b[0;34m.\u001b[0m\u001b[0masarray\u001b[0m\u001b[0;34m(\u001b[0m\u001b[0marray\u001b[0m\u001b[0;34m,\u001b[0m \u001b[0mdtype\u001b[0m\u001b[0;34m=\u001b[0m\u001b[0mdtype\u001b[0m\u001b[0;34m,\u001b[0m \u001b[0morder\u001b[0m\u001b[0;34m=\u001b[0m\u001b[0morder\u001b[0m\u001b[0;34m)\u001b[0m\u001b[0;34m\u001b[0m\u001b[0;34m\u001b[0m\u001b[0m\n\u001b[0m\u001b[1;32m    497\u001b[0m             \u001b[0;32mexcept\u001b[0m \u001b[0mComplexWarning\u001b[0m\u001b[0;34m:\u001b[0m\u001b[0;34m\u001b[0m\u001b[0;34m\u001b[0m\u001b[0m\n\u001b[1;32m    498\u001b[0m                 raise ValueError(\"Complex data not supported\\n\"\n",
      "\u001b[0;32m~/anaconda3/lib/python3.6/site-packages/numpy/core/numeric.py\u001b[0m in \u001b[0;36masarray\u001b[0;34m(a, dtype, order)\u001b[0m\n\u001b[1;32m    536\u001b[0m \u001b[0;34m\u001b[0m\u001b[0m\n\u001b[1;32m    537\u001b[0m     \"\"\"\n\u001b[0;32m--> 538\u001b[0;31m     \u001b[0;32mreturn\u001b[0m \u001b[0marray\u001b[0m\u001b[0;34m(\u001b[0m\u001b[0ma\u001b[0m\u001b[0;34m,\u001b[0m \u001b[0mdtype\u001b[0m\u001b[0;34m,\u001b[0m \u001b[0mcopy\u001b[0m\u001b[0;34m=\u001b[0m\u001b[0;32mFalse\u001b[0m\u001b[0;34m,\u001b[0m \u001b[0morder\u001b[0m\u001b[0;34m=\u001b[0m\u001b[0morder\u001b[0m\u001b[0;34m)\u001b[0m\u001b[0;34m\u001b[0m\u001b[0;34m\u001b[0m\u001b[0m\n\u001b[0m\u001b[1;32m    539\u001b[0m \u001b[0;34m\u001b[0m\u001b[0m\n\u001b[1;32m    540\u001b[0m \u001b[0;34m\u001b[0m\u001b[0m\n",
      "\u001b[0;31mTypeError\u001b[0m: float() argument must be a string or a number, not 'PCA'"
     ]
    }
   ],
   "source": []
  },
  {
   "cell_type": "markdown",
   "metadata": {},
   "source": [
    "<a id=\"4.1\"></a>\n",
    "### 1. One Hot Encode and Standardize\n",
    "To be able to run numerical calculations on categorical columns, we have to one-hot-encode them. This turns each unique value into it's own column of 1's and 0's. "
   ]
  },
  {
   "cell_type": "code",
   "execution_count": 199,
   "metadata": {
    "ExecuteTime": {
     "end_time": "2019-08-14T00:55:49.488424Z",
     "start_time": "2019-08-14T00:55:49.345041Z"
    }
   },
   "outputs": [
    {
     "name": "stdout",
     "output_type": "stream",
     "text": [
      "<class 'pandas.core.frame.DataFrame'>\n",
      "Int64Index: 22412 entries, 0 to 22551\n",
      "Data columns (total 87 columns):\n",
      "close                                                  21142 non-null float64\n",
      "volume                                                 21142 non-null float64\n",
      "month                                                  21142 non-null float64\n",
      "Accounts Payable                                       21142 non-null float64\n",
      "Accounts Receivable                                    21142 non-null float64\n",
      "Add'l income/expense items                             21142 non-null float64\n",
      "After Tax ROE                                          21142 non-null float64\n",
      "Capital Expenditures                                   21142 non-null float64\n",
      "Capital Surplus                                        21142 non-null float64\n",
      "Cash and Cash Equivalents                              21142 non-null float64\n",
      "Changes in Inventories                                 21142 non-null float64\n",
      "Common Stocks                                          21142 non-null float64\n",
      "Cost of Revenue                                        21142 non-null float64\n",
      "Deferred Asset Charges                                 21142 non-null float64\n",
      "Deferred Liability Charges                             21142 non-null float64\n",
      "Depreciation                                           21142 non-null float64\n",
      "Earnings Before Interest and Tax                       21142 non-null float64\n",
      "Earnings Before Tax                                    21142 non-null float64\n",
      "Effect of Exchange Rate                                21142 non-null float64\n",
      "Equity Earnings/Loss Unconsolidated Subsidiary         21142 non-null float64\n",
      "Fixed Assets                                           21142 non-null float64\n",
      "Goodwill                                               21142 non-null float64\n",
      "Gross Margin                                           21142 non-null float64\n",
      "Gross Profit                                           21142 non-null float64\n",
      "Income Tax                                             21142 non-null float64\n",
      "Intangible Assets                                      21142 non-null float64\n",
      "Interest Expense                                       21142 non-null float64\n",
      "Inventory                                              21142 non-null float64\n",
      "Investments                                            21142 non-null float64\n",
      "Liabilities                                            21142 non-null float64\n",
      "Long-Term Debt                                         21142 non-null float64\n",
      "Long-Term Investments                                  21142 non-null float64\n",
      "Minority Interest                                      21142 non-null float64\n",
      "Misc. Stocks                                           21142 non-null float64\n",
      "Net Borrowings                                         21142 non-null float64\n",
      "Net Cash Flow                                          21142 non-null float64\n",
      "Net Cash Flow-Operating                                21142 non-null float64\n",
      "Net Cash Flows-Financing                               21142 non-null float64\n",
      "Net Cash Flows-Investing                               21142 non-null float64\n",
      "Net Income                                             21142 non-null float64\n",
      "Net Income Adjustments                                 21142 non-null float64\n",
      "Net Income Applicable to Common Shareholders           21142 non-null float64\n",
      "Net Income-Cont. Operations                            21142 non-null float64\n",
      "Net Receivables                                        21142 non-null float64\n",
      "Non-Recurring Items                                    21142 non-null float64\n",
      "Operating Income                                       21142 non-null float64\n",
      "Operating Margin                                       21142 non-null float64\n",
      "Other Assets                                           21142 non-null float64\n",
      "Other Current Assets                                   21142 non-null float64\n",
      "Other Current Liabilities                              21142 non-null float64\n",
      "Other Equity                                           21142 non-null float64\n",
      "Other Financing Activities                             21142 non-null float64\n",
      "Other Investing Activities                             21142 non-null float64\n",
      "Other Liabilities                                      21142 non-null float64\n",
      "Other Operating Activities                             21142 non-null float64\n",
      "Other Operating Items                                  21142 non-null float64\n",
      "Pre-Tax Margin                                         21142 non-null float64\n",
      "Pre-Tax ROE                                            21142 non-null float64\n",
      "Profit Margin                                          21142 non-null float64\n",
      "Research and Development                               21142 non-null float64\n",
      "Retained Earnings                                      21142 non-null float64\n",
      "Sale and Purchase of Stock                             21142 non-null float64\n",
      "Sales, General and Admin.                              21142 non-null float64\n",
      "Short-Term Debt / Current Portion of Long-Term Debt    21142 non-null float64\n",
      "Short-Term Investments                                 21142 non-null float64\n",
      "Total Assets                                           21142 non-null float64\n",
      "Total Current Assets                                   21142 non-null float64\n",
      "Total Current Liabilities                              21142 non-null float64\n",
      "Total Equity                                           21142 non-null float64\n",
      "Total Liabilities                                      21142 non-null float64\n",
      "Total Liabilities & Equity                             21142 non-null float64\n",
      "Total Revenue                                          21142 non-null float64\n",
      "Treasury Stock                                         21142 non-null float64\n",
      "For Year                                               21142 non-null float64\n",
      "Earnings Per Share                                     21142 non-null float64\n",
      "Estimated Shares Outstanding                           21142 non-null float64\n",
      "sector_Consumer Discretionary                          21142 non-null float64\n",
      "sector_Consumer Staples                                21142 non-null float64\n",
      "sector_Energy                                          21142 non-null float64\n",
      "sector_Financials                                      21142 non-null float64\n",
      "sector_Health Care                                     21142 non-null float64\n",
      "sector_Industrials                                     21142 non-null float64\n",
      "sector_Information Technology                          21142 non-null float64\n",
      "sector_Materials                                       21142 non-null float64\n",
      "sector_Real Estate                                     21142 non-null float64\n",
      "sector_Telecommunications Services                     21142 non-null float64\n",
      "sector_Utilities                                       21142 non-null float64\n",
      "dtypes: float64(87)\n",
      "memory usage: 15.0 MB\n"
     ]
    }
   ],
   "source": [
    "# Create one-hot-encoded data for categorical columns\n",
    "data['GICS Sector'] = pd.Categorical(data['GICS Sector'])\n",
    "sector = pd.get_dummies(data['GICS Sector'], prefix='sector')\n",
    "X.drop(['GICS Sector'], axis=1, inplace=True)\n",
    "column_names = X.columns\n",
    "# Standardize numerical columns\n",
    "sc = StandardScaler()\n",
    "X = sc.fit_transform(X)\n",
    "X = pd.DataFrame(X, columns=column_names)\n",
    "# Concat standardized columns with one-hot-encoded columns\n",
    "X = pd.concat([X, sector], axis=1)\n",
    "\n",
    "X.info()"
   ]
  },
  {
   "cell_type": "code",
   "execution_count": 217,
   "metadata": {
    "ExecuteTime": {
     "end_time": "2019-08-14T01:03:47.760338Z",
     "start_time": "2019-08-14T01:03:47.753678Z"
    },
    "scrolled": true
   },
   "outputs": [
    {
     "data": {
      "text/plain": [
       "0.0    18078\n",
       "1.0     3064\n",
       "Name: sector_Consumer Discretionary, dtype: int64"
      ]
     },
     "execution_count": 217,
     "metadata": {},
     "output_type": "execute_result"
    }
   ],
   "source": [
    "# X.iloc[:, 70:-1]\n",
    "X['sector_Consumer Discretionary'].value_counts()"
   ]
  },
  {
   "cell_type": "markdown",
   "metadata": {},
   "source": []
  },
  {
   "cell_type": "markdown",
   "metadata": {},
   "source": [
    "<a id=\"4.2\"></a>\n",
    "### 2. Regression\n",
    "To build the most predictive model that we can, we'll look at a few diffent transformations and how that effects the predicitability of the model. First we'll start with our scrubbed and cleaned data with an unaltered `price` dependent variable."
   ]
  },
  {
   "cell_type": "code",
   "execution_count": 63,
   "metadata": {
    "ExecuteTime": {
     "end_time": "2019-04-24T14:41:23.042257Z",
     "start_time": "2019-04-24T14:41:22.809239Z"
    }
   },
   "outputs": [
    {
     "data": {
      "text/html": [
       "<table class=\"simpletable\">\n",
       "<caption>OLS Regression Results</caption>\n",
       "<tr>\n",
       "  <th>Dep. Variable:</th>          <td>price</td>      <th>  R-squared:         </th>  <td>   0.749</td>  \n",
       "</tr>\n",
       "<tr>\n",
       "  <th>Model:</th>                   <td>OLS</td>       <th>  Adj. R-squared:    </th>  <td>   0.748</td>  \n",
       "</tr>\n",
       "<tr>\n",
       "  <th>Method:</th>             <td>Least Squares</td>  <th>  F-statistic:       </th>  <td>   672.5</td>  \n",
       "</tr>\n",
       "<tr>\n",
       "  <th>Date:</th>             <td>Wed, 24 Apr 2019</td> <th>  Prob (F-statistic):</th>   <td>  0.00</td>   \n",
       "</tr>\n",
       "<tr>\n",
       "  <th>Time:</th>                 <td>09:41:22</td>     <th>  Log-Likelihood:    </th> <td>-2.5410e+05</td>\n",
       "</tr>\n",
       "<tr>\n",
       "  <th>No. Observations:</th>      <td> 18749</td>      <th>  AIC:               </th>  <td>5.084e+05</td> \n",
       "</tr>\n",
       "<tr>\n",
       "  <th>Df Residuals:</th>          <td> 18665</td>      <th>  BIC:               </th>  <td>5.090e+05</td> \n",
       "</tr>\n",
       "<tr>\n",
       "  <th>Df Model:</th>              <td>    83</td>      <th>                     </th>      <td> </td>     \n",
       "</tr>\n",
       "<tr>\n",
       "  <th>Covariance Type:</th>      <td>nonrobust</td>    <th>                     </th>      <td> </td>     \n",
       "</tr>\n",
       "</table>\n",
       "<table class=\"simpletable\">\n",
       "<tr>\n",
       "        <td></td>           <th>coef</th>     <th>std err</th>      <th>t</th>      <th>P>|t|</th>  <th>[0.025</th>    <th>0.975]</th>  \n",
       "</tr>\n",
       "<tr>\n",
       "  <th>const</th>         <td>  5.35e+05</td> <td> 1735.640</td> <td>  308.246</td> <td> 0.000</td> <td> 5.32e+05</td> <td> 5.38e+05</td>\n",
       "</tr>\n",
       "<tr>\n",
       "  <th>date</th>          <td>-1.245e+04</td> <td> 1368.495</td> <td>   -9.100</td> <td> 0.000</td> <td>-1.51e+04</td> <td>-9770.524</td>\n",
       "</tr>\n",
       "<tr>\n",
       "  <th>bedrooms</th>      <td> -3.27e+04</td> <td> 1853.937</td> <td>  -17.638</td> <td> 0.000</td> <td>-3.63e+04</td> <td>-2.91e+04</td>\n",
       "</tr>\n",
       "<tr>\n",
       "  <th>bathrooms</th>     <td> 6808.7678</td> <td> 2460.211</td> <td>    2.768</td> <td> 0.006</td> <td> 1986.531</td> <td> 1.16e+04</td>\n",
       "</tr>\n",
       "<tr>\n",
       "  <th>sqft_lot</th>      <td> 3.751e+04</td> <td> 2096.446</td> <td>   17.894</td> <td> 0.000</td> <td> 3.34e+04</td> <td> 4.16e+04</td>\n",
       "</tr>\n",
       "<tr>\n",
       "  <th>floors</th>        <td>-2939.8610</td> <td> 2258.915</td> <td>   -1.301</td> <td> 0.193</td> <td>-7367.540</td> <td> 1487.818</td>\n",
       "</tr>\n",
       "<tr>\n",
       "  <th>waterfront</th>    <td> 7.036e+04</td> <td> 1444.119</td> <td>   48.722</td> <td> 0.000</td> <td> 6.75e+04</td> <td> 7.32e+04</td>\n",
       "</tr>\n",
       "<tr>\n",
       "  <th>view</th>          <td>  1.34e+05</td> <td> 5339.745</td> <td>   25.095</td> <td> 0.000</td> <td> 1.24e+05</td> <td> 1.44e+05</td>\n",
       "</tr>\n",
       "<tr>\n",
       "  <th>condition</th>     <td> 1.402e+04</td> <td> 1528.522</td> <td>    9.172</td> <td> 0.000</td> <td>  1.1e+04</td> <td>  1.7e+04</td>\n",
       "</tr>\n",
       "<tr>\n",
       "  <th>sqft_above</th>    <td> 1.842e+05</td> <td> 3006.787</td> <td>   61.246</td> <td> 0.000</td> <td> 1.78e+05</td> <td>  1.9e+05</td>\n",
       "</tr>\n",
       "<tr>\n",
       "  <th>sqft_basement</th> <td> 7.136e+04</td> <td> 1896.196</td> <td>   37.632</td> <td> 0.000</td> <td> 6.76e+04</td> <td> 7.51e+04</td>\n",
       "</tr>\n",
       "<tr>\n",
       "  <th>yr_built</th>      <td> 4968.2930</td> <td> 2195.131</td> <td>    2.263</td> <td> 0.024</td> <td>  665.636</td> <td> 9270.950</td>\n",
       "</tr>\n",
       "<tr>\n",
       "  <th>lat</th>           <td> 3.833e+04</td> <td> 1.09e+04</td> <td>    3.502</td> <td> 0.000</td> <td> 1.69e+04</td> <td> 5.98e+04</td>\n",
       "</tr>\n",
       "<tr>\n",
       "  <th>long</th>          <td>-2.435e+04</td> <td> 8051.239</td> <td>   -3.024</td> <td> 0.002</td> <td>-4.01e+04</td> <td>-8568.498</td>\n",
       "</tr>\n",
       "<tr>\n",
       "  <th>sqft_living15</th> <td> 2.057e+04</td> <td> 2316.432</td> <td>    8.879</td> <td> 0.000</td> <td>  1.6e+04</td> <td> 2.51e+04</td>\n",
       "</tr>\n",
       "<tr>\n",
       "  <th>98001</th>         <td>-1.795e+05</td> <td> 2.24e+04</td> <td>   -8.001</td> <td> 0.000</td> <td>-2.24e+05</td> <td>-1.36e+05</td>\n",
       "</tr>\n",
       "<tr>\n",
       "  <th>98002</th>         <td>-1.277e+05</td> <td> 2.38e+04</td> <td>   -5.365</td> <td> 0.000</td> <td>-1.74e+05</td> <td> -8.1e+04</td>\n",
       "</tr>\n",
       "<tr>\n",
       "  <th>98003</th>         <td>-1.813e+05</td> <td> 2.32e+04</td> <td>   -7.816</td> <td> 0.000</td> <td>-2.27e+05</td> <td>-1.36e+05</td>\n",
       "</tr>\n",
       "<tr>\n",
       "  <th>98004</th>         <td> 6.208e+05</td> <td> 1.23e+04</td> <td>   50.498</td> <td> 0.000</td> <td> 5.97e+05</td> <td> 6.45e+05</td>\n",
       "</tr>\n",
       "<tr>\n",
       "  <th>98005</th>         <td> 1.079e+05</td> <td> 1.58e+04</td> <td>    6.820</td> <td> 0.000</td> <td> 7.69e+04</td> <td> 1.39e+05</td>\n",
       "</tr>\n",
       "<tr>\n",
       "  <th>98006</th>         <td> 1.231e+05</td> <td> 9941.679</td> <td>   12.381</td> <td> 0.000</td> <td> 1.04e+05</td> <td> 1.43e+05</td>\n",
       "</tr>\n",
       "<tr>\n",
       "  <th>98007</th>         <td> 5.009e+04</td> <td> 1.81e+04</td> <td>    2.774</td> <td> 0.006</td> <td> 1.47e+04</td> <td> 8.55e+04</td>\n",
       "</tr>\n",
       "<tr>\n",
       "  <th>98008</th>         <td> 5.522e+04</td> <td> 1.39e+04</td> <td>    3.960</td> <td> 0.000</td> <td> 2.79e+04</td> <td> 8.25e+04</td>\n",
       "</tr>\n",
       "<tr>\n",
       "  <th>98010</th>         <td>-8.552e+04</td> <td> 2.85e+04</td> <td>   -2.997</td> <td> 0.003</td> <td>-1.41e+05</td> <td>-2.96e+04</td>\n",
       "</tr>\n",
       "<tr>\n",
       "  <th>98011</th>         <td>-1.548e+05</td> <td> 2.13e+04</td> <td>   -7.268</td> <td> 0.000</td> <td>-1.97e+05</td> <td>-1.13e+05</td>\n",
       "</tr>\n",
       "<tr>\n",
       "  <th>98014</th>         <td>-1.354e+05</td> <td> 2.91e+04</td> <td>   -4.647</td> <td> 0.000</td> <td>-1.93e+05</td> <td>-7.83e+04</td>\n",
       "</tr>\n",
       "<tr>\n",
       "  <th>98019</th>         <td>-1.832e+05</td> <td> 2.56e+04</td> <td>   -7.169</td> <td> 0.000</td> <td>-2.33e+05</td> <td>-1.33e+05</td>\n",
       "</tr>\n",
       "<tr>\n",
       "  <th>98022</th>         <td>-1.249e+05</td> <td> 3.16e+04</td> <td>   -3.956</td> <td> 0.000</td> <td>-1.87e+05</td> <td> -6.3e+04</td>\n",
       "</tr>\n",
       "<tr>\n",
       "  <th>98023</th>         <td>-2.003e+05</td> <td> 2.36e+04</td> <td>   -8.487</td> <td> 0.000</td> <td>-2.47e+05</td> <td>-1.54e+05</td>\n",
       "</tr>\n",
       "<tr>\n",
       "  <th>98024</th>         <td>-4.446e+04</td> <td> 2.78e+04</td> <td>   -1.598</td> <td> 0.110</td> <td> -9.9e+04</td> <td> 1.01e+04</td>\n",
       "</tr>\n",
       "<tr>\n",
       "  <th>98027</th>         <td>-6958.7995</td> <td> 1.39e+04</td> <td>   -0.500</td> <td> 0.617</td> <td>-3.42e+04</td> <td> 2.03e+04</td>\n",
       "</tr>\n",
       "<tr>\n",
       "  <th>98028</th>         <td>-1.653e+05</td> <td> 1.98e+04</td> <td>   -8.366</td> <td> 0.000</td> <td>-2.04e+05</td> <td>-1.27e+05</td>\n",
       "</tr>\n",
       "<tr>\n",
       "  <th>98029</th>         <td> 5.527e+04</td> <td> 1.63e+04</td> <td>    3.391</td> <td> 0.001</td> <td> 2.33e+04</td> <td> 8.72e+04</td>\n",
       "</tr>\n",
       "<tr>\n",
       "  <th>98030</th>         <td>-1.777e+05</td> <td>  1.9e+04</td> <td>   -9.345</td> <td> 0.000</td> <td>-2.15e+05</td> <td> -1.4e+05</td>\n",
       "</tr>\n",
       "<tr>\n",
       "  <th>98031</th>         <td>-1.681e+05</td> <td> 1.69e+04</td> <td>   -9.940</td> <td> 0.000</td> <td>-2.01e+05</td> <td>-1.35e+05</td>\n",
       "</tr>\n",
       "<tr>\n",
       "  <th>98032</th>         <td>-1.632e+05</td> <td>  2.3e+04</td> <td>   -7.105</td> <td> 0.000</td> <td>-2.08e+05</td> <td>-1.18e+05</td>\n",
       "</tr>\n",
       "<tr>\n",
       "  <th>98033</th>         <td> 1.449e+05</td> <td>  1.4e+04</td> <td>   10.320</td> <td> 0.000</td> <td> 1.17e+05</td> <td> 1.72e+05</td>\n",
       "</tr>\n",
       "<tr>\n",
       "  <th>98034</th>         <td>-4.864e+04</td> <td> 1.57e+04</td> <td>   -3.093</td> <td> 0.002</td> <td>-7.95e+04</td> <td>-1.78e+04</td>\n",
       "</tr>\n",
       "<tr>\n",
       "  <th>98038</th>         <td>-1.308e+05</td> <td> 1.91e+04</td> <td>   -6.857</td> <td> 0.000</td> <td>-1.68e+05</td> <td>-9.34e+04</td>\n",
       "</tr>\n",
       "<tr>\n",
       "  <th>98039</th>         <td> 1.214e+06</td> <td> 2.85e+04</td> <td>   42.631</td> <td> 0.000</td> <td> 1.16e+06</td> <td> 1.27e+06</td>\n",
       "</tr>\n",
       "<tr>\n",
       "  <th>98040</th>         <td> 3.421e+05</td> <td> 1.23e+04</td> <td>   27.887</td> <td> 0.000</td> <td> 3.18e+05</td> <td> 3.66e+05</td>\n",
       "</tr>\n",
       "<tr>\n",
       "  <th>98042</th>         <td>-1.576e+05</td> <td> 1.77e+04</td> <td>   -8.926</td> <td> 0.000</td> <td>-1.92e+05</td> <td>-1.23e+05</td>\n",
       "</tr>\n",
       "<tr>\n",
       "  <th>98045</th>         <td>-4.705e+04</td> <td> 2.95e+04</td> <td>   -1.597</td> <td> 0.110</td> <td>-1.05e+05</td> <td> 1.07e+04</td>\n",
       "</tr>\n",
       "<tr>\n",
       "  <th>98052</th>         <td> 1.032e+04</td> <td> 1.44e+04</td> <td>    0.719</td> <td> 0.472</td> <td>-1.78e+04</td> <td> 3.85e+04</td>\n",
       "</tr>\n",
       "<tr>\n",
       "  <th>98053</th>         <td>-2.355e+04</td> <td> 1.81e+04</td> <td>   -1.300</td> <td> 0.194</td> <td> -5.9e+04</td> <td> 1.19e+04</td>\n",
       "</tr>\n",
       "<tr>\n",
       "  <th>98055</th>         <td>  -1.4e+05</td> <td> 1.43e+04</td> <td>   -9.767</td> <td> 0.000</td> <td>-1.68e+05</td> <td>-1.12e+05</td>\n",
       "</tr>\n",
       "<tr>\n",
       "  <th>98056</th>         <td>-1.033e+05</td> <td> 1.06e+04</td> <td>   -9.782</td> <td> 0.000</td> <td>-1.24e+05</td> <td>-8.26e+04</td>\n",
       "</tr>\n",
       "<tr>\n",
       "  <th>98058</th>         <td>-1.476e+05</td> <td> 1.32e+04</td> <td>  -11.209</td> <td> 0.000</td> <td>-1.73e+05</td> <td>-1.22e+05</td>\n",
       "</tr>\n",
       "<tr>\n",
       "  <th>98059</th>         <td>-9.643e+04</td> <td> 1.13e+04</td> <td>   -8.529</td> <td> 0.000</td> <td>-1.19e+05</td> <td>-7.43e+04</td>\n",
       "</tr>\n",
       "<tr>\n",
       "  <th>98065</th>         <td>-7.295e+04</td> <td>  2.3e+04</td> <td>   -3.171</td> <td> 0.002</td> <td>-1.18e+05</td> <td>-2.79e+04</td>\n",
       "</tr>\n",
       "<tr>\n",
       "  <th>98070</th>         <td>-3.121e+05</td> <td> 2.65e+04</td> <td>  -11.765</td> <td> 0.000</td> <td>-3.64e+05</td> <td> -2.6e+05</td>\n",
       "</tr>\n",
       "<tr>\n",
       "  <th>98072</th>         <td>-1.129e+05</td> <td> 2.05e+04</td> <td>   -5.511</td> <td> 0.000</td> <td>-1.53e+05</td> <td>-7.27e+04</td>\n",
       "</tr>\n",
       "<tr>\n",
       "  <th>98074</th>         <td> 5101.3260</td> <td>  1.5e+04</td> <td>    0.341</td> <td> 0.733</td> <td>-2.43e+04</td> <td> 3.45e+04</td>\n",
       "</tr>\n",
       "<tr>\n",
       "  <th>98075</th>         <td>  2.38e+04</td> <td> 1.56e+04</td> <td>    1.526</td> <td> 0.127</td> <td>-6776.520</td> <td> 5.44e+04</td>\n",
       "</tr>\n",
       "<tr>\n",
       "  <th>98077</th>         <td>-1.091e+05</td> <td> 2.29e+04</td> <td>   -4.761</td> <td> 0.000</td> <td>-1.54e+05</td> <td>-6.42e+04</td>\n",
       "</tr>\n",
       "<tr>\n",
       "  <th>98092</th>         <td>-1.935e+05</td> <td> 2.27e+04</td> <td>   -8.527</td> <td> 0.000</td> <td>-2.38e+05</td> <td>-1.49e+05</td>\n",
       "</tr>\n",
       "<tr>\n",
       "  <th>98102</th>         <td> 3.801e+05</td> <td> 2.18e+04</td> <td>   17.431</td> <td> 0.000</td> <td> 3.37e+05</td> <td> 4.23e+05</td>\n",
       "</tr>\n",
       "<tr>\n",
       "  <th>98103</th>         <td> 1.343e+05</td> <td> 1.46e+04</td> <td>    9.191</td> <td> 0.000</td> <td> 1.06e+05</td> <td> 1.63e+05</td>\n",
       "</tr>\n",
       "<tr>\n",
       "  <th>98105</th>         <td> 2.815e+05</td> <td> 1.63e+04</td> <td>   17.250</td> <td> 0.000</td> <td>  2.5e+05</td> <td> 3.14e+05</td>\n",
       "</tr>\n",
       "<tr>\n",
       "  <th>98106</th>         <td>-2.968e+04</td> <td> 1.39e+04</td> <td>   -2.128</td> <td> 0.033</td> <td> -5.7e+04</td> <td>-2347.480</td>\n",
       "</tr>\n",
       "<tr>\n",
       "  <th>98107</th>         <td> 1.483e+05</td> <td> 1.77e+04</td> <td>    8.393</td> <td> 0.000</td> <td> 1.14e+05</td> <td> 1.83e+05</td>\n",
       "</tr>\n",
       "<tr>\n",
       "  <th>98108</th>         <td>-5.715e+04</td> <td> 1.55e+04</td> <td>   -3.678</td> <td> 0.000</td> <td>-8.76e+04</td> <td>-2.67e+04</td>\n",
       "</tr>\n",
       "<tr>\n",
       "  <th>98109</th>         <td> 3.117e+05</td> <td> 2.18e+04</td> <td>   14.306</td> <td> 0.000</td> <td> 2.69e+05</td> <td> 3.54e+05</td>\n",
       "</tr>\n",
       "<tr>\n",
       "  <th>98112</th>         <td> 4.887e+05</td> <td> 1.45e+04</td> <td>   33.678</td> <td> 0.000</td> <td>  4.6e+05</td> <td> 5.17e+05</td>\n",
       "</tr>\n",
       "<tr>\n",
       "  <th>98115</th>         <td> 1.211e+05</td> <td> 1.42e+04</td> <td>    8.541</td> <td> 0.000</td> <td> 9.33e+04</td> <td> 1.49e+05</td>\n",
       "</tr>\n",
       "<tr>\n",
       "  <th>98116</th>         <td> 1.129e+05</td> <td> 1.52e+04</td> <td>    7.419</td> <td> 0.000</td> <td> 8.31e+04</td> <td> 1.43e+05</td>\n",
       "</tr>\n",
       "<tr>\n",
       "  <th>98117</th>         <td> 1.066e+05</td> <td> 1.62e+04</td> <td>    6.574</td> <td> 0.000</td> <td> 7.48e+04</td> <td> 1.38e+05</td>\n",
       "</tr>\n",
       "<tr>\n",
       "  <th>98118</th>         <td>-1849.9988</td> <td> 9868.803</td> <td>   -0.187</td> <td> 0.851</td> <td>-2.12e+04</td> <td> 1.75e+04</td>\n",
       "</tr>\n",
       "<tr>\n",
       "  <th>98119</th>         <td> 3.212e+05</td> <td> 1.85e+04</td> <td>   17.352</td> <td> 0.000</td> <td> 2.85e+05</td> <td> 3.57e+05</td>\n",
       "</tr>\n",
       "<tr>\n",
       "  <th>98122</th>         <td>  1.82e+05</td> <td> 1.37e+04</td> <td>   13.319</td> <td> 0.000</td> <td> 1.55e+05</td> <td> 2.09e+05</td>\n",
       "</tr>\n",
       "<tr>\n",
       "  <th>98125</th>         <td>-4.997e+04</td> <td> 1.68e+04</td> <td>   -2.975</td> <td> 0.003</td> <td>-8.29e+04</td> <td> -1.7e+04</td>\n",
       "</tr>\n",
       "<tr>\n",
       "  <th>98126</th>         <td> 2.212e+04</td> <td> 1.44e+04</td> <td>    1.532</td> <td> 0.126</td> <td>-6187.449</td> <td> 5.04e+04</td>\n",
       "</tr>\n",
       "<tr>\n",
       "  <th>98133</th>         <td> -9.41e+04</td> <td> 1.83e+04</td> <td>   -5.149</td> <td> 0.000</td> <td> -1.3e+05</td> <td>-5.83e+04</td>\n",
       "</tr>\n",
       "<tr>\n",
       "  <th>98136</th>         <td>  6.34e+04</td> <td> 1.62e+04</td> <td>    3.925</td> <td> 0.000</td> <td> 3.17e+04</td> <td> 9.51e+04</td>\n",
       "</tr>\n",
       "<tr>\n",
       "  <th>98144</th>         <td> 1.113e+05</td> <td> 1.23e+04</td> <td>    9.011</td> <td> 0.000</td> <td> 8.71e+04</td> <td> 1.35e+05</td>\n",
       "</tr>\n",
       "<tr>\n",
       "  <th>98146</th>         <td>-9.542e+04</td> <td> 1.52e+04</td> <td>   -6.263</td> <td> 0.000</td> <td>-1.25e+05</td> <td>-6.56e+04</td>\n",
       "</tr>\n",
       "<tr>\n",
       "  <th>98148</th>         <td>-1.186e+05</td> <td> 2.87e+04</td> <td>   -4.137</td> <td> 0.000</td> <td>-1.75e+05</td> <td>-6.24e+04</td>\n",
       "</tr>\n",
       "<tr>\n",
       "  <th>98155</th>         <td>-1.243e+05</td> <td>  1.9e+04</td> <td>   -6.551</td> <td> 0.000</td> <td>-1.62e+05</td> <td>-8.71e+04</td>\n",
       "</tr>\n",
       "<tr>\n",
       "  <th>98166</th>         <td>-1.513e+05</td> <td> 1.71e+04</td> <td>   -8.840</td> <td> 0.000</td> <td>-1.85e+05</td> <td>-1.18e+05</td>\n",
       "</tr>\n",
       "<tr>\n",
       "  <th>98168</th>         <td> -1.36e+05</td> <td> 1.48e+04</td> <td>   -9.206</td> <td> 0.000</td> <td>-1.65e+05</td> <td>-1.07e+05</td>\n",
       "</tr>\n",
       "<tr>\n",
       "  <th>98177</th>         <td>-3.045e+04</td> <td> 2.08e+04</td> <td>   -1.463</td> <td> 0.144</td> <td>-7.13e+04</td> <td> 1.04e+04</td>\n",
       "</tr>\n",
       "<tr>\n",
       "  <th>98178</th>         <td>-1.535e+05</td> <td> 1.33e+04</td> <td>  -11.557</td> <td> 0.000</td> <td> -1.8e+05</td> <td>-1.27e+05</td>\n",
       "</tr>\n",
       "<tr>\n",
       "  <th>98188</th>         <td>-1.625e+05</td> <td> 1.97e+04</td> <td>   -8.243</td> <td> 0.000</td> <td>-2.01e+05</td> <td>-1.24e+05</td>\n",
       "</tr>\n",
       "<tr>\n",
       "  <th>98198</th>         <td>-1.933e+05</td> <td>  1.9e+04</td> <td>  -10.198</td> <td> 0.000</td> <td> -2.3e+05</td> <td>-1.56e+05</td>\n",
       "</tr>\n",
       "<tr>\n",
       "  <th>98199</th>         <td> 1.894e+05</td> <td> 1.69e+04</td> <td>   11.187</td> <td> 0.000</td> <td> 1.56e+05</td> <td> 2.23e+05</td>\n",
       "</tr>\n",
       "</table>\n",
       "<table class=\"simpletable\">\n",
       "<tr>\n",
       "  <th>Omnibus:</th>       <td>20528.797</td> <th>  Durbin-Watson:     </th>  <td>   1.966</td>  \n",
       "</tr>\n",
       "<tr>\n",
       "  <th>Prob(Omnibus):</th>  <td> 0.000</td>   <th>  Jarque-Bera (JB):  </th> <td>6144355.692</td>\n",
       "</tr>\n",
       "<tr>\n",
       "  <th>Skew:</th>           <td> 5.112</td>   <th>  Prob(JB):          </th>  <td>    0.00</td>  \n",
       "</tr>\n",
       "<tr>\n",
       "  <th>Kurtosis:</th>       <td>91.095</td>   <th>  Cond. No.          </th>  <td>4.06e+16</td>  \n",
       "</tr>\n",
       "</table>"
      ],
      "text/plain": [
       "<class 'statsmodels.iolib.summary.Summary'>\n",
       "\"\"\"\n",
       "                            OLS Regression Results                            \n",
       "==============================================================================\n",
       "Dep. Variable:                  price   R-squared:                       0.749\n",
       "Model:                            OLS   Adj. R-squared:                  0.748\n",
       "Method:                 Least Squares   F-statistic:                     672.5\n",
       "Date:                Wed, 24 Apr 2019   Prob (F-statistic):               0.00\n",
       "Time:                        09:41:22   Log-Likelihood:            -2.5410e+05\n",
       "No. Observations:               18749   AIC:                         5.084e+05\n",
       "Df Residuals:                   18665   BIC:                         5.090e+05\n",
       "Df Model:                          83                                         \n",
       "Covariance Type:            nonrobust                                         \n",
       "=================================================================================\n",
       "                    coef    std err          t      P>|t|      [0.025      0.975]\n",
       "---------------------------------------------------------------------------------\n",
       "const           5.35e+05   1735.640    308.246      0.000    5.32e+05    5.38e+05\n",
       "date          -1.245e+04   1368.495     -9.100      0.000   -1.51e+04   -9770.524\n",
       "bedrooms       -3.27e+04   1853.937    -17.638      0.000   -3.63e+04   -2.91e+04\n",
       "bathrooms      6808.7678   2460.211      2.768      0.006    1986.531    1.16e+04\n",
       "sqft_lot       3.751e+04   2096.446     17.894      0.000    3.34e+04    4.16e+04\n",
       "floors        -2939.8610   2258.915     -1.301      0.193   -7367.540    1487.818\n",
       "waterfront     7.036e+04   1444.119     48.722      0.000    6.75e+04    7.32e+04\n",
       "view            1.34e+05   5339.745     25.095      0.000    1.24e+05    1.44e+05\n",
       "condition      1.402e+04   1528.522      9.172      0.000     1.1e+04     1.7e+04\n",
       "sqft_above     1.842e+05   3006.787     61.246      0.000    1.78e+05     1.9e+05\n",
       "sqft_basement  7.136e+04   1896.196     37.632      0.000    6.76e+04    7.51e+04\n",
       "yr_built       4968.2930   2195.131      2.263      0.024     665.636    9270.950\n",
       "lat            3.833e+04   1.09e+04      3.502      0.000    1.69e+04    5.98e+04\n",
       "long          -2.435e+04   8051.239     -3.024      0.002   -4.01e+04   -8568.498\n",
       "sqft_living15  2.057e+04   2316.432      8.879      0.000     1.6e+04    2.51e+04\n",
       "98001         -1.795e+05   2.24e+04     -8.001      0.000   -2.24e+05   -1.36e+05\n",
       "98002         -1.277e+05   2.38e+04     -5.365      0.000   -1.74e+05    -8.1e+04\n",
       "98003         -1.813e+05   2.32e+04     -7.816      0.000   -2.27e+05   -1.36e+05\n",
       "98004          6.208e+05   1.23e+04     50.498      0.000    5.97e+05    6.45e+05\n",
       "98005          1.079e+05   1.58e+04      6.820      0.000    7.69e+04    1.39e+05\n",
       "98006          1.231e+05   9941.679     12.381      0.000    1.04e+05    1.43e+05\n",
       "98007          5.009e+04   1.81e+04      2.774      0.006    1.47e+04    8.55e+04\n",
       "98008          5.522e+04   1.39e+04      3.960      0.000    2.79e+04    8.25e+04\n",
       "98010         -8.552e+04   2.85e+04     -2.997      0.003   -1.41e+05   -2.96e+04\n",
       "98011         -1.548e+05   2.13e+04     -7.268      0.000   -1.97e+05   -1.13e+05\n",
       "98014         -1.354e+05   2.91e+04     -4.647      0.000   -1.93e+05   -7.83e+04\n",
       "98019         -1.832e+05   2.56e+04     -7.169      0.000   -2.33e+05   -1.33e+05\n",
       "98022         -1.249e+05   3.16e+04     -3.956      0.000   -1.87e+05    -6.3e+04\n",
       "98023         -2.003e+05   2.36e+04     -8.487      0.000   -2.47e+05   -1.54e+05\n",
       "98024         -4.446e+04   2.78e+04     -1.598      0.110    -9.9e+04    1.01e+04\n",
       "98027         -6958.7995   1.39e+04     -0.500      0.617   -3.42e+04    2.03e+04\n",
       "98028         -1.653e+05   1.98e+04     -8.366      0.000   -2.04e+05   -1.27e+05\n",
       "98029          5.527e+04   1.63e+04      3.391      0.001    2.33e+04    8.72e+04\n",
       "98030         -1.777e+05    1.9e+04     -9.345      0.000   -2.15e+05    -1.4e+05\n",
       "98031         -1.681e+05   1.69e+04     -9.940      0.000   -2.01e+05   -1.35e+05\n",
       "98032         -1.632e+05    2.3e+04     -7.105      0.000   -2.08e+05   -1.18e+05\n",
       "98033          1.449e+05    1.4e+04     10.320      0.000    1.17e+05    1.72e+05\n",
       "98034         -4.864e+04   1.57e+04     -3.093      0.002   -7.95e+04   -1.78e+04\n",
       "98038         -1.308e+05   1.91e+04     -6.857      0.000   -1.68e+05   -9.34e+04\n",
       "98039          1.214e+06   2.85e+04     42.631      0.000    1.16e+06    1.27e+06\n",
       "98040          3.421e+05   1.23e+04     27.887      0.000    3.18e+05    3.66e+05\n",
       "98042         -1.576e+05   1.77e+04     -8.926      0.000   -1.92e+05   -1.23e+05\n",
       "98045         -4.705e+04   2.95e+04     -1.597      0.110   -1.05e+05    1.07e+04\n",
       "98052          1.032e+04   1.44e+04      0.719      0.472   -1.78e+04    3.85e+04\n",
       "98053         -2.355e+04   1.81e+04     -1.300      0.194    -5.9e+04    1.19e+04\n",
       "98055           -1.4e+05   1.43e+04     -9.767      0.000   -1.68e+05   -1.12e+05\n",
       "98056         -1.033e+05   1.06e+04     -9.782      0.000   -1.24e+05   -8.26e+04\n",
       "98058         -1.476e+05   1.32e+04    -11.209      0.000   -1.73e+05   -1.22e+05\n",
       "98059         -9.643e+04   1.13e+04     -8.529      0.000   -1.19e+05   -7.43e+04\n",
       "98065         -7.295e+04    2.3e+04     -3.171      0.002   -1.18e+05   -2.79e+04\n",
       "98070         -3.121e+05   2.65e+04    -11.765      0.000   -3.64e+05    -2.6e+05\n",
       "98072         -1.129e+05   2.05e+04     -5.511      0.000   -1.53e+05   -7.27e+04\n",
       "98074          5101.3260    1.5e+04      0.341      0.733   -2.43e+04    3.45e+04\n",
       "98075           2.38e+04   1.56e+04      1.526      0.127   -6776.520    5.44e+04\n",
       "98077         -1.091e+05   2.29e+04     -4.761      0.000   -1.54e+05   -6.42e+04\n",
       "98092         -1.935e+05   2.27e+04     -8.527      0.000   -2.38e+05   -1.49e+05\n",
       "98102          3.801e+05   2.18e+04     17.431      0.000    3.37e+05    4.23e+05\n",
       "98103          1.343e+05   1.46e+04      9.191      0.000    1.06e+05    1.63e+05\n",
       "98105          2.815e+05   1.63e+04     17.250      0.000     2.5e+05    3.14e+05\n",
       "98106         -2.968e+04   1.39e+04     -2.128      0.033    -5.7e+04   -2347.480\n",
       "98107          1.483e+05   1.77e+04      8.393      0.000    1.14e+05    1.83e+05\n",
       "98108         -5.715e+04   1.55e+04     -3.678      0.000   -8.76e+04   -2.67e+04\n",
       "98109          3.117e+05   2.18e+04     14.306      0.000    2.69e+05    3.54e+05\n",
       "98112          4.887e+05   1.45e+04     33.678      0.000     4.6e+05    5.17e+05\n",
       "98115          1.211e+05   1.42e+04      8.541      0.000    9.33e+04    1.49e+05\n",
       "98116          1.129e+05   1.52e+04      7.419      0.000    8.31e+04    1.43e+05\n",
       "98117          1.066e+05   1.62e+04      6.574      0.000    7.48e+04    1.38e+05\n",
       "98118         -1849.9988   9868.803     -0.187      0.851   -2.12e+04    1.75e+04\n",
       "98119          3.212e+05   1.85e+04     17.352      0.000    2.85e+05    3.57e+05\n",
       "98122           1.82e+05   1.37e+04     13.319      0.000    1.55e+05    2.09e+05\n",
       "98125         -4.997e+04   1.68e+04     -2.975      0.003   -8.29e+04    -1.7e+04\n",
       "98126          2.212e+04   1.44e+04      1.532      0.126   -6187.449    5.04e+04\n",
       "98133          -9.41e+04   1.83e+04     -5.149      0.000    -1.3e+05   -5.83e+04\n",
       "98136           6.34e+04   1.62e+04      3.925      0.000    3.17e+04    9.51e+04\n",
       "98144          1.113e+05   1.23e+04      9.011      0.000    8.71e+04    1.35e+05\n",
       "98146         -9.542e+04   1.52e+04     -6.263      0.000   -1.25e+05   -6.56e+04\n",
       "98148         -1.186e+05   2.87e+04     -4.137      0.000   -1.75e+05   -6.24e+04\n",
       "98155         -1.243e+05    1.9e+04     -6.551      0.000   -1.62e+05   -8.71e+04\n",
       "98166         -1.513e+05   1.71e+04     -8.840      0.000   -1.85e+05   -1.18e+05\n",
       "98168          -1.36e+05   1.48e+04     -9.206      0.000   -1.65e+05   -1.07e+05\n",
       "98177         -3.045e+04   2.08e+04     -1.463      0.144   -7.13e+04    1.04e+04\n",
       "98178         -1.535e+05   1.33e+04    -11.557      0.000    -1.8e+05   -1.27e+05\n",
       "98188         -1.625e+05   1.97e+04     -8.243      0.000   -2.01e+05   -1.24e+05\n",
       "98198         -1.933e+05    1.9e+04    -10.198      0.000    -2.3e+05   -1.56e+05\n",
       "98199          1.894e+05   1.69e+04     11.187      0.000    1.56e+05    2.23e+05\n",
       "==============================================================================\n",
       "Omnibus:                    20528.797   Durbin-Watson:                   1.966\n",
       "Prob(Omnibus):                  0.000   Jarque-Bera (JB):          6144355.692\n",
       "Skew:                           5.112   Prob(JB):                         0.00\n",
       "Kurtosis:                      91.095   Cond. No.                     4.06e+16\n",
       "==============================================================================\n",
       "\n",
       "Warnings:\n",
       "[1] Standard Errors assume that the covariance matrix of the errors is correctly specified.\n",
       "[2] The smallest eigenvalue is 4.24e-29. This might indicate that there are\n",
       "strong multicollinearity problems or that the design matrix is singular.\n",
       "\"\"\""
      ]
     },
     "execution_count": 63,
     "metadata": {},
     "output_type": "execute_result"
    }
   ],
   "source": [
    "ind_vars.view = ind_vars.view.astype('uint8')\n",
    "X = ind_vars\n",
    "y = dep_var\n",
    "y_log = np.log(y)\n",
    "X = sm.add_constant(X)\n",
    "\n",
    "# fit a linear model for our data\n",
    "model = sm.OLS(y, X).fit()\n",
    "model.summary()"
   ]
  },
  {
   "cell_type": "markdown",
   "metadata": {},
   "source": [
    "With the unaltered `price`, we get a R-squared of *0.749* and an adjusted R-squared of *0.748*. This a moderately predictive model but let's see if we can do better by using the logged version of `price`."
   ]
  },
  {
   "cell_type": "code",
   "execution_count": 64,
   "metadata": {
    "ExecuteTime": {
     "end_time": "2019-04-24T14:41:23.247855Z",
     "start_time": "2019-04-24T14:41:23.045503Z"
    }
   },
   "outputs": [
    {
     "data": {
      "text/html": [
       "<table class=\"simpletable\">\n",
       "<caption>OLS Regression Results</caption>\n",
       "<tr>\n",
       "  <th>Dep. Variable:</th>          <td>price</td>      <th>  R-squared:         </th> <td>   0.871</td>\n",
       "</tr>\n",
       "<tr>\n",
       "  <th>Model:</th>                   <td>OLS</td>       <th>  Adj. R-squared:    </th> <td>   0.870</td>\n",
       "</tr>\n",
       "<tr>\n",
       "  <th>Method:</th>             <td>Least Squares</td>  <th>  F-statistic:       </th> <td>   1514.</td>\n",
       "</tr>\n",
       "<tr>\n",
       "  <th>Date:</th>             <td>Wed, 24 Apr 2019</td> <th>  Prob (F-statistic):</th>  <td>  0.00</td> \n",
       "</tr>\n",
       "<tr>\n",
       "  <th>Time:</th>                 <td>09:41:23</td>     <th>  Log-Likelihood:    </th> <td>  4570.4</td>\n",
       "</tr>\n",
       "<tr>\n",
       "  <th>No. Observations:</th>      <td> 18749</td>      <th>  AIC:               </th> <td>  -8973.</td>\n",
       "</tr>\n",
       "<tr>\n",
       "  <th>Df Residuals:</th>          <td> 18665</td>      <th>  BIC:               </th> <td>  -8314.</td>\n",
       "</tr>\n",
       "<tr>\n",
       "  <th>Df Model:</th>              <td>    83</td>      <th>                     </th>     <td> </td>   \n",
       "</tr>\n",
       "<tr>\n",
       "  <th>Covariance Type:</th>      <td>nonrobust</td>    <th>                     </th>     <td> </td>   \n",
       "</tr>\n",
       "</table>\n",
       "<table class=\"simpletable\">\n",
       "<tr>\n",
       "        <td></td>           <th>coef</th>     <th>std err</th>      <th>t</th>      <th>P>|t|</th>  <th>[0.025</th>    <th>0.975]</th>  \n",
       "</tr>\n",
       "<tr>\n",
       "  <th>const</th>         <td>   12.8544</td> <td>    0.002</td> <td> 7266.194</td> <td> 0.000</td> <td>   12.851</td> <td>   12.858</td>\n",
       "</tr>\n",
       "<tr>\n",
       "  <th>date</th>          <td>   -0.0230</td> <td>    0.001</td> <td>  -16.499</td> <td> 0.000</td> <td>   -0.026</td> <td>   -0.020</td>\n",
       "</tr>\n",
       "<tr>\n",
       "  <th>bedrooms</th>      <td>   -0.0214</td> <td>    0.002</td> <td>  -11.349</td> <td> 0.000</td> <td>   -0.025</td> <td>   -0.018</td>\n",
       "</tr>\n",
       "<tr>\n",
       "  <th>bathrooms</th>     <td>    0.0364</td> <td>    0.003</td> <td>   14.525</td> <td> 0.000</td> <td>    0.032</td> <td>    0.041</td>\n",
       "</tr>\n",
       "<tr>\n",
       "  <th>sqft_lot</th>      <td>    0.0617</td> <td>    0.002</td> <td>   28.857</td> <td> 0.000</td> <td>    0.057</td> <td>    0.066</td>\n",
       "</tr>\n",
       "<tr>\n",
       "  <th>floors</th>        <td>   -0.0056</td> <td>    0.002</td> <td>   -2.441</td> <td> 0.015</td> <td>   -0.010</td> <td>   -0.001</td>\n",
       "</tr>\n",
       "<tr>\n",
       "  <th>waterfront</th>    <td>    0.0511</td> <td>    0.001</td> <td>   34.722</td> <td> 0.000</td> <td>    0.048</td> <td>    0.054</td>\n",
       "</tr>\n",
       "<tr>\n",
       "  <th>view</th>          <td>    0.1474</td> <td>    0.005</td> <td>   27.075</td> <td> 0.000</td> <td>    0.137</td> <td>    0.158</td>\n",
       "</tr>\n",
       "<tr>\n",
       "  <th>condition</th>     <td>    0.0346</td> <td>    0.002</td> <td>   22.201</td> <td> 0.000</td> <td>    0.032</td> <td>    0.038</td>\n",
       "</tr>\n",
       "<tr>\n",
       "  <th>sqft_above</th>    <td>    0.2263</td> <td>    0.003</td> <td>   73.825</td> <td> 0.000</td> <td>    0.220</td> <td>    0.232</td>\n",
       "</tr>\n",
       "<tr>\n",
       "  <th>sqft_basement</th> <td>    0.0709</td> <td>    0.002</td> <td>   36.691</td> <td> 0.000</td> <td>    0.067</td> <td>    0.075</td>\n",
       "</tr>\n",
       "<tr>\n",
       "  <th>yr_built</th>      <td>    0.0184</td> <td>    0.002</td> <td>    8.202</td> <td> 0.000</td> <td>    0.014</td> <td>    0.023</td>\n",
       "</tr>\n",
       "<tr>\n",
       "  <th>lat</th>           <td>    0.0815</td> <td>    0.011</td> <td>    7.307</td> <td> 0.000</td> <td>    0.060</td> <td>    0.103</td>\n",
       "</tr>\n",
       "<tr>\n",
       "  <th>long</th>          <td>   -0.0613</td> <td>    0.008</td> <td>   -7.473</td> <td> 0.000</td> <td>   -0.077</td> <td>   -0.045</td>\n",
       "</tr>\n",
       "<tr>\n",
       "  <th>sqft_living15</th> <td>    0.0724</td> <td>    0.002</td> <td>   30.651</td> <td> 0.000</td> <td>    0.068</td> <td>    0.077</td>\n",
       "</tr>\n",
       "<tr>\n",
       "  <th>98001</th>         <td>   -0.2284</td> <td>    0.023</td> <td>   -9.984</td> <td> 0.000</td> <td>   -0.273</td> <td>   -0.184</td>\n",
       "</tr>\n",
       "<tr>\n",
       "  <th>98002</th>         <td>   -0.2043</td> <td>    0.024</td> <td>   -8.423</td> <td> 0.000</td> <td>   -0.252</td> <td>   -0.157</td>\n",
       "</tr>\n",
       "<tr>\n",
       "  <th>98003</th>         <td>   -0.2103</td> <td>    0.024</td> <td>   -8.898</td> <td> 0.000</td> <td>   -0.257</td> <td>   -0.164</td>\n",
       "</tr>\n",
       "<tr>\n",
       "  <th>98004</th>         <td>    0.8172</td> <td>    0.013</td> <td>   65.221</td> <td> 0.000</td> <td>    0.793</td> <td>    0.842</td>\n",
       "</tr>\n",
       "<tr>\n",
       "  <th>98005</th>         <td>    0.4206</td> <td>    0.016</td> <td>   26.071</td> <td> 0.000</td> <td>    0.389</td> <td>    0.452</td>\n",
       "</tr>\n",
       "<tr>\n",
       "  <th>98006</th>         <td>    0.3982</td> <td>    0.010</td> <td>   39.294</td> <td> 0.000</td> <td>    0.378</td> <td>    0.418</td>\n",
       "</tr>\n",
       "<tr>\n",
       "  <th>98007</th>         <td>    0.3608</td> <td>    0.018</td> <td>   19.603</td> <td> 0.000</td> <td>    0.325</td> <td>    0.397</td>\n",
       "</tr>\n",
       "<tr>\n",
       "  <th>98008</th>         <td>    0.3573</td> <td>    0.014</td> <td>   25.143</td> <td> 0.000</td> <td>    0.329</td> <td>    0.385</td>\n",
       "</tr>\n",
       "<tr>\n",
       "  <th>98010</th>         <td>    0.0992</td> <td>    0.029</td> <td>    3.410</td> <td> 0.001</td> <td>    0.042</td> <td>    0.156</td>\n",
       "</tr>\n",
       "<tr>\n",
       "  <th>98011</th>         <td>   -0.0003</td> <td>    0.022</td> <td>   -0.013</td> <td> 0.990</td> <td>   -0.043</td> <td>    0.042</td>\n",
       "</tr>\n",
       "<tr>\n",
       "  <th>98014</th>         <td>    0.0220</td> <td>    0.030</td> <td>    0.739</td> <td> 0.460</td> <td>   -0.036</td> <td>    0.080</td>\n",
       "</tr>\n",
       "<tr>\n",
       "  <th>98019</th>         <td>   -0.0463</td> <td>    0.026</td> <td>   -1.779</td> <td> 0.075</td> <td>   -0.097</td> <td>    0.005</td>\n",
       "</tr>\n",
       "<tr>\n",
       "  <th>98022</th>         <td>   -0.0137</td> <td>    0.032</td> <td>   -0.425</td> <td> 0.671</td> <td>   -0.077</td> <td>    0.049</td>\n",
       "</tr>\n",
       "<tr>\n",
       "  <th>98023</th>         <td>   -0.2639</td> <td>    0.024</td> <td>  -10.968</td> <td> 0.000</td> <td>   -0.311</td> <td>   -0.217</td>\n",
       "</tr>\n",
       "<tr>\n",
       "  <th>98024</th>         <td>    0.1954</td> <td>    0.028</td> <td>    6.891</td> <td> 0.000</td> <td>    0.140</td> <td>    0.251</td>\n",
       "</tr>\n",
       "<tr>\n",
       "  <th>98027</th>         <td>    0.2833</td> <td>    0.014</td> <td>   19.983</td> <td> 0.000</td> <td>    0.256</td> <td>    0.311</td>\n",
       "</tr>\n",
       "<tr>\n",
       "  <th>98028</th>         <td>   -0.0467</td> <td>    0.020</td> <td>   -2.317</td> <td> 0.020</td> <td>   -0.086</td> <td>   -0.007</td>\n",
       "</tr>\n",
       "<tr>\n",
       "  <th>98029</th>         <td>    0.4020</td> <td>    0.017</td> <td>   24.191</td> <td> 0.000</td> <td>    0.369</td> <td>    0.435</td>\n",
       "</tr>\n",
       "<tr>\n",
       "  <th>98030</th>         <td>   -0.1802</td> <td>    0.019</td> <td>   -9.298</td> <td> 0.000</td> <td>   -0.218</td> <td>   -0.142</td>\n",
       "</tr>\n",
       "<tr>\n",
       "  <th>98031</th>         <td>   -0.1657</td> <td>    0.017</td> <td>   -9.616</td> <td> 0.000</td> <td>   -0.200</td> <td>   -0.132</td>\n",
       "</tr>\n",
       "<tr>\n",
       "  <th>98032</th>         <td>   -0.2525</td> <td>    0.023</td> <td>  -10.781</td> <td> 0.000</td> <td>   -0.298</td> <td>   -0.207</td>\n",
       "</tr>\n",
       "<tr>\n",
       "  <th>98033</th>         <td>    0.4246</td> <td>    0.014</td> <td>   29.662</td> <td> 0.000</td> <td>    0.397</td> <td>    0.453</td>\n",
       "</tr>\n",
       "<tr>\n",
       "  <th>98034</th>         <td>    0.1433</td> <td>    0.016</td> <td>    8.943</td> <td> 0.000</td> <td>    0.112</td> <td>    0.175</td>\n",
       "</tr>\n",
       "<tr>\n",
       "  <th>98038</th>         <td>   -0.0072</td> <td>    0.019</td> <td>   -0.371</td> <td> 0.711</td> <td>   -0.045</td> <td>    0.031</td>\n",
       "</tr>\n",
       "<tr>\n",
       "  <th>98039</th>         <td>    0.9933</td> <td>    0.029</td> <td>   34.222</td> <td> 0.000</td> <td>    0.936</td> <td>    1.050</td>\n",
       "</tr>\n",
       "<tr>\n",
       "  <th>98040</th>         <td>    0.5852</td> <td>    0.013</td> <td>   46.808</td> <td> 0.000</td> <td>    0.561</td> <td>    0.610</td>\n",
       "</tr>\n",
       "<tr>\n",
       "  <th>98042</th>         <td>   -0.1278</td> <td>    0.018</td> <td>   -7.101</td> <td> 0.000</td> <td>   -0.163</td> <td>   -0.093</td>\n",
       "</tr>\n",
       "<tr>\n",
       "  <th>98045</th>         <td>    0.2255</td> <td>    0.030</td> <td>    7.512</td> <td> 0.000</td> <td>    0.167</td> <td>    0.284</td>\n",
       "</tr>\n",
       "<tr>\n",
       "  <th>98052</th>         <td>    0.3011</td> <td>    0.015</td> <td>   20.584</td> <td> 0.000</td> <td>    0.272</td> <td>    0.330</td>\n",
       "</tr>\n",
       "<tr>\n",
       "  <th>98053</th>         <td>    0.2520</td> <td>    0.018</td> <td>   13.653</td> <td> 0.000</td> <td>    0.216</td> <td>    0.288</td>\n",
       "</tr>\n",
       "<tr>\n",
       "  <th>98055</th>         <td>   -0.1152</td> <td>    0.015</td> <td>   -7.882</td> <td> 0.000</td> <td>   -0.144</td> <td>   -0.087</td>\n",
       "</tr>\n",
       "<tr>\n",
       "  <th>98056</th>         <td>    0.0325</td> <td>    0.011</td> <td>    3.017</td> <td> 0.003</td> <td>    0.011</td> <td>    0.054</td>\n",
       "</tr>\n",
       "<tr>\n",
       "  <th>98058</th>         <td>   -0.0659</td> <td>    0.013</td> <td>   -4.912</td> <td> 0.000</td> <td>   -0.092</td> <td>   -0.040</td>\n",
       "</tr>\n",
       "<tr>\n",
       "  <th>98059</th>         <td>    0.0771</td> <td>    0.012</td> <td>    6.692</td> <td> 0.000</td> <td>    0.055</td> <td>    0.100</td>\n",
       "</tr>\n",
       "<tr>\n",
       "  <th>98065</th>         <td>    0.2137</td> <td>    0.023</td> <td>    9.115</td> <td> 0.000</td> <td>    0.168</td> <td>    0.260</td>\n",
       "</tr>\n",
       "<tr>\n",
       "  <th>98070</th>         <td>   -0.1044</td> <td>    0.027</td> <td>   -3.859</td> <td> 0.000</td> <td>   -0.157</td> <td>   -0.051</td>\n",
       "</tr>\n",
       "<tr>\n",
       "  <th>98072</th>         <td>    0.0737</td> <td>    0.021</td> <td>    3.532</td> <td> 0.000</td> <td>    0.033</td> <td>    0.115</td>\n",
       "</tr>\n",
       "<tr>\n",
       "  <th>98074</th>         <td>    0.3067</td> <td>    0.015</td> <td>   20.085</td> <td> 0.000</td> <td>    0.277</td> <td>    0.337</td>\n",
       "</tr>\n",
       "<tr>\n",
       "  <th>98075</th>         <td>    0.3320</td> <td>    0.016</td> <td>   20.881</td> <td> 0.000</td> <td>    0.301</td> <td>    0.363</td>\n",
       "</tr>\n",
       "<tr>\n",
       "  <th>98077</th>         <td>    0.0790</td> <td>    0.023</td> <td>    3.384</td> <td> 0.001</td> <td>    0.033</td> <td>    0.125</td>\n",
       "</tr>\n",
       "<tr>\n",
       "  <th>98092</th>         <td>   -0.1500</td> <td>    0.023</td> <td>   -6.485</td> <td> 0.000</td> <td>   -0.195</td> <td>   -0.105</td>\n",
       "</tr>\n",
       "<tr>\n",
       "  <th>98102</th>         <td>    0.6997</td> <td>    0.022</td> <td>   31.477</td> <td> 0.000</td> <td>    0.656</td> <td>    0.743</td>\n",
       "</tr>\n",
       "<tr>\n",
       "  <th>98103</th>         <td>    0.4838</td> <td>    0.015</td> <td>   32.470</td> <td> 0.000</td> <td>    0.455</td> <td>    0.513</td>\n",
       "</tr>\n",
       "<tr>\n",
       "  <th>98105</th>         <td>    0.6241</td> <td>    0.017</td> <td>   37.517</td> <td> 0.000</td> <td>    0.592</td> <td>    0.657</td>\n",
       "</tr>\n",
       "<tr>\n",
       "  <th>98106</th>         <td>    0.0566</td> <td>    0.014</td> <td>    3.979</td> <td> 0.000</td> <td>    0.029</td> <td>    0.084</td>\n",
       "</tr>\n",
       "<tr>\n",
       "  <th>98107</th>         <td>    0.5026</td> <td>    0.018</td> <td>   27.915</td> <td> 0.000</td> <td>    0.467</td> <td>    0.538</td>\n",
       "</tr>\n",
       "<tr>\n",
       "  <th>98108</th>         <td>    0.0737</td> <td>    0.016</td> <td>    4.656</td> <td> 0.000</td> <td>    0.043</td> <td>    0.105</td>\n",
       "</tr>\n",
       "<tr>\n",
       "  <th>98109</th>         <td>    0.6841</td> <td>    0.022</td> <td>   30.808</td> <td> 0.000</td> <td>    0.641</td> <td>    0.728</td>\n",
       "</tr>\n",
       "<tr>\n",
       "  <th>98112</th>         <td>    0.7845</td> <td>    0.015</td> <td>   53.040</td> <td> 0.000</td> <td>    0.755</td> <td>    0.813</td>\n",
       "</tr>\n",
       "<tr>\n",
       "  <th>98115</th>         <td>    0.4674</td> <td>    0.014</td> <td>   32.344</td> <td> 0.000</td> <td>    0.439</td> <td>    0.496</td>\n",
       "</tr>\n",
       "<tr>\n",
       "  <th>98116</th>         <td>    0.4596</td> <td>    0.016</td> <td>   29.630</td> <td> 0.000</td> <td>    0.429</td> <td>    0.490</td>\n",
       "</tr>\n",
       "<tr>\n",
       "  <th>98117</th>         <td>    0.4459</td> <td>    0.017</td> <td>   26.968</td> <td> 0.000</td> <td>    0.414</td> <td>    0.478</td>\n",
       "</tr>\n",
       "<tr>\n",
       "  <th>98118</th>         <td>    0.1946</td> <td>    0.010</td> <td>   19.342</td> <td> 0.000</td> <td>    0.175</td> <td>    0.214</td>\n",
       "</tr>\n",
       "<tr>\n",
       "  <th>98119</th>         <td>    0.6933</td> <td>    0.019</td> <td>   36.750</td> <td> 0.000</td> <td>    0.656</td> <td>    0.730</td>\n",
       "</tr>\n",
       "<tr>\n",
       "  <th>98122</th>         <td>    0.5530</td> <td>    0.014</td> <td>   39.707</td> <td> 0.000</td> <td>    0.526</td> <td>    0.580</td>\n",
       "</tr>\n",
       "<tr>\n",
       "  <th>98125</th>         <td>    0.1553</td> <td>    0.017</td> <td>    9.072</td> <td> 0.000</td> <td>    0.122</td> <td>    0.189</td>\n",
       "</tr>\n",
       "<tr>\n",
       "  <th>98126</th>         <td>    0.2607</td> <td>    0.015</td> <td>   17.716</td> <td> 0.000</td> <td>    0.232</td> <td>    0.290</td>\n",
       "</tr>\n",
       "<tr>\n",
       "  <th>98133</th>         <td>    0.0255</td> <td>    0.019</td> <td>    1.371</td> <td> 0.170</td> <td>   -0.011</td> <td>    0.062</td>\n",
       "</tr>\n",
       "<tr>\n",
       "  <th>98136</th>         <td>    0.3825</td> <td>    0.016</td> <td>   23.234</td> <td> 0.000</td> <td>    0.350</td> <td>    0.415</td>\n",
       "</tr>\n",
       "<tr>\n",
       "  <th>98144</th>         <td>    0.3935</td> <td>    0.013</td> <td>   31.272</td> <td> 0.000</td> <td>    0.369</td> <td>    0.418</td>\n",
       "</tr>\n",
       "<tr>\n",
       "  <th>98146</th>         <td>   -0.0463</td> <td>    0.016</td> <td>   -2.979</td> <td> 0.003</td> <td>   -0.077</td> <td>   -0.016</td>\n",
       "</tr>\n",
       "<tr>\n",
       "  <th>98148</th>         <td>   -0.1247</td> <td>    0.029</td> <td>   -4.268</td> <td> 0.000</td> <td>   -0.182</td> <td>   -0.067</td>\n",
       "</tr>\n",
       "<tr>\n",
       "  <th>98155</th>         <td>   -0.0282</td> <td>    0.019</td> <td>   -1.459</td> <td> 0.144</td> <td>   -0.066</td> <td>    0.010</td>\n",
       "</tr>\n",
       "<tr>\n",
       "  <th>98166</th>         <td>   -0.0071</td> <td>    0.017</td> <td>   -0.406</td> <td> 0.684</td> <td>   -0.041</td> <td>    0.027</td>\n",
       "</tr>\n",
       "<tr>\n",
       "  <th>98168</th>         <td>   -0.2248</td> <td>    0.015</td> <td>  -14.934</td> <td> 0.000</td> <td>   -0.254</td> <td>   -0.195</td>\n",
       "</tr>\n",
       "<tr>\n",
       "  <th>98177</th>         <td>    0.1474</td> <td>    0.021</td> <td>    6.944</td> <td> 0.000</td> <td>    0.106</td> <td>    0.189</td>\n",
       "</tr>\n",
       "<tr>\n",
       "  <th>98178</th>         <td>   -0.1251</td> <td>    0.014</td> <td>   -9.237</td> <td> 0.000</td> <td>   -0.152</td> <td>   -0.099</td>\n",
       "</tr>\n",
       "<tr>\n",
       "  <th>98188</th>         <td>   -0.1932</td> <td>    0.020</td> <td>   -9.612</td> <td> 0.000</td> <td>   -0.233</td> <td>   -0.154</td>\n",
       "</tr>\n",
       "<tr>\n",
       "  <th>98198</th>         <td>   -0.2036</td> <td>    0.019</td> <td>  -10.536</td> <td> 0.000</td> <td>   -0.241</td> <td>   -0.166</td>\n",
       "</tr>\n",
       "<tr>\n",
       "  <th>98199</th>         <td>    0.5065</td> <td>    0.017</td> <td>   29.354</td> <td> 0.000</td> <td>    0.473</td> <td>    0.540</td>\n",
       "</tr>\n",
       "</table>\n",
       "<table class=\"simpletable\">\n",
       "<tr>\n",
       "  <th>Omnibus:</th>       <td>1209.308</td> <th>  Durbin-Watson:     </th> <td>   1.999</td>\n",
       "</tr>\n",
       "<tr>\n",
       "  <th>Prob(Omnibus):</th>  <td> 0.000</td>  <th>  Jarque-Bera (JB):  </th> <td>4483.943</td>\n",
       "</tr>\n",
       "<tr>\n",
       "  <th>Skew:</th>           <td>-0.240</td>  <th>  Prob(JB):          </th> <td>    0.00</td>\n",
       "</tr>\n",
       "<tr>\n",
       "  <th>Kurtosis:</th>       <td> 5.347</td>  <th>  Cond. No.          </th> <td>4.06e+16</td>\n",
       "</tr>\n",
       "</table>"
      ],
      "text/plain": [
       "<class 'statsmodels.iolib.summary.Summary'>\n",
       "\"\"\"\n",
       "                            OLS Regression Results                            \n",
       "==============================================================================\n",
       "Dep. Variable:                  price   R-squared:                       0.871\n",
       "Model:                            OLS   Adj. R-squared:                  0.870\n",
       "Method:                 Least Squares   F-statistic:                     1514.\n",
       "Date:                Wed, 24 Apr 2019   Prob (F-statistic):               0.00\n",
       "Time:                        09:41:23   Log-Likelihood:                 4570.4\n",
       "No. Observations:               18749   AIC:                            -8973.\n",
       "Df Residuals:                   18665   BIC:                            -8314.\n",
       "Df Model:                          83                                         \n",
       "Covariance Type:            nonrobust                                         \n",
       "=================================================================================\n",
       "                    coef    std err          t      P>|t|      [0.025      0.975]\n",
       "---------------------------------------------------------------------------------\n",
       "const            12.8544      0.002   7266.194      0.000      12.851      12.858\n",
       "date             -0.0230      0.001    -16.499      0.000      -0.026      -0.020\n",
       "bedrooms         -0.0214      0.002    -11.349      0.000      -0.025      -0.018\n",
       "bathrooms         0.0364      0.003     14.525      0.000       0.032       0.041\n",
       "sqft_lot          0.0617      0.002     28.857      0.000       0.057       0.066\n",
       "floors           -0.0056      0.002     -2.441      0.015      -0.010      -0.001\n",
       "waterfront        0.0511      0.001     34.722      0.000       0.048       0.054\n",
       "view              0.1474      0.005     27.075      0.000       0.137       0.158\n",
       "condition         0.0346      0.002     22.201      0.000       0.032       0.038\n",
       "sqft_above        0.2263      0.003     73.825      0.000       0.220       0.232\n",
       "sqft_basement     0.0709      0.002     36.691      0.000       0.067       0.075\n",
       "yr_built          0.0184      0.002      8.202      0.000       0.014       0.023\n",
       "lat               0.0815      0.011      7.307      0.000       0.060       0.103\n",
       "long             -0.0613      0.008     -7.473      0.000      -0.077      -0.045\n",
       "sqft_living15     0.0724      0.002     30.651      0.000       0.068       0.077\n",
       "98001            -0.2284      0.023     -9.984      0.000      -0.273      -0.184\n",
       "98002            -0.2043      0.024     -8.423      0.000      -0.252      -0.157\n",
       "98003            -0.2103      0.024     -8.898      0.000      -0.257      -0.164\n",
       "98004             0.8172      0.013     65.221      0.000       0.793       0.842\n",
       "98005             0.4206      0.016     26.071      0.000       0.389       0.452\n",
       "98006             0.3982      0.010     39.294      0.000       0.378       0.418\n",
       "98007             0.3608      0.018     19.603      0.000       0.325       0.397\n",
       "98008             0.3573      0.014     25.143      0.000       0.329       0.385\n",
       "98010             0.0992      0.029      3.410      0.001       0.042       0.156\n",
       "98011            -0.0003      0.022     -0.013      0.990      -0.043       0.042\n",
       "98014             0.0220      0.030      0.739      0.460      -0.036       0.080\n",
       "98019            -0.0463      0.026     -1.779      0.075      -0.097       0.005\n",
       "98022            -0.0137      0.032     -0.425      0.671      -0.077       0.049\n",
       "98023            -0.2639      0.024    -10.968      0.000      -0.311      -0.217\n",
       "98024             0.1954      0.028      6.891      0.000       0.140       0.251\n",
       "98027             0.2833      0.014     19.983      0.000       0.256       0.311\n",
       "98028            -0.0467      0.020     -2.317      0.020      -0.086      -0.007\n",
       "98029             0.4020      0.017     24.191      0.000       0.369       0.435\n",
       "98030            -0.1802      0.019     -9.298      0.000      -0.218      -0.142\n",
       "98031            -0.1657      0.017     -9.616      0.000      -0.200      -0.132\n",
       "98032            -0.2525      0.023    -10.781      0.000      -0.298      -0.207\n",
       "98033             0.4246      0.014     29.662      0.000       0.397       0.453\n",
       "98034             0.1433      0.016      8.943      0.000       0.112       0.175\n",
       "98038            -0.0072      0.019     -0.371      0.711      -0.045       0.031\n",
       "98039             0.9933      0.029     34.222      0.000       0.936       1.050\n",
       "98040             0.5852      0.013     46.808      0.000       0.561       0.610\n",
       "98042            -0.1278      0.018     -7.101      0.000      -0.163      -0.093\n",
       "98045             0.2255      0.030      7.512      0.000       0.167       0.284\n",
       "98052             0.3011      0.015     20.584      0.000       0.272       0.330\n",
       "98053             0.2520      0.018     13.653      0.000       0.216       0.288\n",
       "98055            -0.1152      0.015     -7.882      0.000      -0.144      -0.087\n",
       "98056             0.0325      0.011      3.017      0.003       0.011       0.054\n",
       "98058            -0.0659      0.013     -4.912      0.000      -0.092      -0.040\n",
       "98059             0.0771      0.012      6.692      0.000       0.055       0.100\n",
       "98065             0.2137      0.023      9.115      0.000       0.168       0.260\n",
       "98070            -0.1044      0.027     -3.859      0.000      -0.157      -0.051\n",
       "98072             0.0737      0.021      3.532      0.000       0.033       0.115\n",
       "98074             0.3067      0.015     20.085      0.000       0.277       0.337\n",
       "98075             0.3320      0.016     20.881      0.000       0.301       0.363\n",
       "98077             0.0790      0.023      3.384      0.001       0.033       0.125\n",
       "98092            -0.1500      0.023     -6.485      0.000      -0.195      -0.105\n",
       "98102             0.6997      0.022     31.477      0.000       0.656       0.743\n",
       "98103             0.4838      0.015     32.470      0.000       0.455       0.513\n",
       "98105             0.6241      0.017     37.517      0.000       0.592       0.657\n",
       "98106             0.0566      0.014      3.979      0.000       0.029       0.084\n",
       "98107             0.5026      0.018     27.915      0.000       0.467       0.538\n",
       "98108             0.0737      0.016      4.656      0.000       0.043       0.105\n",
       "98109             0.6841      0.022     30.808      0.000       0.641       0.728\n",
       "98112             0.7845      0.015     53.040      0.000       0.755       0.813\n",
       "98115             0.4674      0.014     32.344      0.000       0.439       0.496\n",
       "98116             0.4596      0.016     29.630      0.000       0.429       0.490\n",
       "98117             0.4459      0.017     26.968      0.000       0.414       0.478\n",
       "98118             0.1946      0.010     19.342      0.000       0.175       0.214\n",
       "98119             0.6933      0.019     36.750      0.000       0.656       0.730\n",
       "98122             0.5530      0.014     39.707      0.000       0.526       0.580\n",
       "98125             0.1553      0.017      9.072      0.000       0.122       0.189\n",
       "98126             0.2607      0.015     17.716      0.000       0.232       0.290\n",
       "98133             0.0255      0.019      1.371      0.170      -0.011       0.062\n",
       "98136             0.3825      0.016     23.234      0.000       0.350       0.415\n",
       "98144             0.3935      0.013     31.272      0.000       0.369       0.418\n",
       "98146            -0.0463      0.016     -2.979      0.003      -0.077      -0.016\n",
       "98148            -0.1247      0.029     -4.268      0.000      -0.182      -0.067\n",
       "98155            -0.0282      0.019     -1.459      0.144      -0.066       0.010\n",
       "98166            -0.0071      0.017     -0.406      0.684      -0.041       0.027\n",
       "98168            -0.2248      0.015    -14.934      0.000      -0.254      -0.195\n",
       "98177             0.1474      0.021      6.944      0.000       0.106       0.189\n",
       "98178            -0.1251      0.014     -9.237      0.000      -0.152      -0.099\n",
       "98188            -0.1932      0.020     -9.612      0.000      -0.233      -0.154\n",
       "98198            -0.2036      0.019    -10.536      0.000      -0.241      -0.166\n",
       "98199             0.5065      0.017     29.354      0.000       0.473       0.540\n",
       "==============================================================================\n",
       "Omnibus:                     1209.308   Durbin-Watson:                   1.999\n",
       "Prob(Omnibus):                  0.000   Jarque-Bera (JB):             4483.943\n",
       "Skew:                          -0.240   Prob(JB):                         0.00\n",
       "Kurtosis:                       5.347   Cond. No.                     4.06e+16\n",
       "==============================================================================\n",
       "\n",
       "Warnings:\n",
       "[1] Standard Errors assume that the covariance matrix of the errors is correctly specified.\n",
       "[2] The smallest eigenvalue is 4.24e-29. This might indicate that there are\n",
       "strong multicollinearity problems or that the design matrix is singular.\n",
       "\"\"\""
      ]
     },
     "execution_count": 64,
     "metadata": {},
     "output_type": "execute_result"
    }
   ],
   "source": [
    "# fit a linear model for our data with a log transformed dependent variable\n",
    "model = sm.OLS(y_log, X).fit()\n",
    "model.summary()"
   ]
  },
  {
   "cell_type": "markdown",
   "metadata": {},
   "source": [
    "| Dep Var     | price | log_price |\n",
    "|-------------|-------|-----------|\n",
    "| R-sq        | 0.749 | 0.871     |\n",
    "| Adj. R-sq   | 0.748 | 0.870     |\n",
    "| F-statistic | 672.5 | 1514      |\n",
    "\n",
    "It looks like our log transformed dependent variable allows us to have much more predictive power in our model, so we'll stick with that moving forward. \n",
    "\n",
    "At this point, we'll also drop any continuous variables that have a r-sq < 0.01 because those variables add so little that they are negligible and are over complicating our model. Finally, we'll drop one column of each categorical variable. This will help us avoid redundancy."
   ]
  },
  {
   "cell_type": "code",
   "execution_count": 65,
   "metadata": {
    "ExecuteTime": {
     "end_time": "2019-04-24T14:41:23.448920Z",
     "start_time": "2019-04-24T14:41:23.250199Z"
    }
   },
   "outputs": [
    {
     "name": "stdout",
     "output_type": "stream",
     "text": [
      "price~date\n",
      "r-sq:  3.04924900885e-08\n",
      "dropped\n",
      "-------------------------\n",
      "price~bedrooms\n",
      "r-sq:  0.117811795022\n",
      "-------------------------\n",
      "price~bathrooms\n",
      "r-sq:  0.270239548221\n",
      "-------------------------\n",
      "price~sqft_lot\n",
      "r-sq:  0.0190727824117\n",
      "-------------------------\n",
      "price~floors\n",
      "r-sq:  0.106383488337\n",
      "-------------------------\n",
      "price~waterfront\n",
      "r-sq:  0.0319152714983\n",
      "-------------------------\n",
      "price~condition\n",
      "r-sq:  0.00171072944244\n",
      "dropped\n",
      "-------------------------\n",
      "price~sqft_above\n",
      "r-sq:  0.346021427625\n",
      "-------------------------\n",
      "price~sqft_basement\n",
      "r-sq:  0.0985711183603\n",
      "-------------------------\n",
      "price~yr_built\n",
      "r-sq:  0.00684577956569\n",
      "dropped\n",
      "-------------------------\n",
      "price~lat\n",
      "r-sq:  0.203959025551\n",
      "-------------------------\n",
      "price~long\n",
      "r-sq:  0.00276017423884\n",
      "dropped\n",
      "-------------------------\n",
      "price~sqft_living15\n",
      "r-sq:  0.366168703402\n",
      "-------------------------\n"
     ]
    }
   ],
   "source": [
    "data = X.join(y_log)\n",
    "for var in ind_vars.select_dtypes(include=['int64', 'float64']):\n",
    "    formula = 'price~' + str(var)\n",
    "    print(formula)\n",
    "    model = smf.ols(formula=formula, data=data)\n",
    "    reg = model.fit()\n",
    "    print('r-sq: ', reg.rsquared)\n",
    "    # Drop variables with r-squared < 0.01\n",
    "    if reg.rsquared < 0.01:\n",
    "        X.drop(var, axis=1, inplace=True)\n",
    "        print('dropped')\n",
    "    print('-------------------------')\n",
    "\n",
    "X.drop(X.columns[len(X.columns)-1], axis=1, inplace=True)"
   ]
  },
  {
   "cell_type": "code",
   "execution_count": 66,
   "metadata": {
    "ExecuteTime": {
     "end_time": "2019-04-24T14:41:23.507634Z",
     "start_time": "2019-04-24T14:41:23.451087Z"
    }
   },
   "outputs": [
    {
     "name": "stdout",
     "output_type": "stream",
     "text": [
      "<class 'pandas.core.frame.DataFrame'>\n",
      "Int64Index: 18749 entries, 1 to 21596\n",
      "Data columns (total 80 columns):\n",
      "const            18749 non-null float64\n",
      "bedrooms         18749 non-null float64\n",
      "bathrooms        18749 non-null float64\n",
      "sqft_lot         18749 non-null float64\n",
      "floors           18749 non-null float64\n",
      "waterfront       18749 non-null float64\n",
      "view             18749 non-null uint8\n",
      "sqft_above       18749 non-null float64\n",
      "sqft_basement    18749 non-null float64\n",
      "lat              18749 non-null float64\n",
      "sqft_living15    18749 non-null float64\n",
      "98001            18749 non-null uint8\n",
      "98002            18749 non-null uint8\n",
      "98003            18749 non-null uint8\n",
      "98004            18749 non-null uint8\n",
      "98005            18749 non-null uint8\n",
      "98006            18749 non-null uint8\n",
      "98007            18749 non-null uint8\n",
      "98008            18749 non-null uint8\n",
      "98010            18749 non-null uint8\n",
      "98011            18749 non-null uint8\n",
      "98014            18749 non-null uint8\n",
      "98019            18749 non-null uint8\n",
      "98022            18749 non-null uint8\n",
      "98023            18749 non-null uint8\n",
      "98024            18749 non-null uint8\n",
      "98027            18749 non-null uint8\n",
      "98028            18749 non-null uint8\n",
      "98029            18749 non-null uint8\n",
      "98030            18749 non-null uint8\n",
      "98031            18749 non-null uint8\n",
      "98032            18749 non-null uint8\n",
      "98033            18749 non-null uint8\n",
      "98034            18749 non-null uint8\n",
      "98038            18749 non-null uint8\n",
      "98039            18749 non-null uint8\n",
      "98040            18749 non-null uint8\n",
      "98042            18749 non-null uint8\n",
      "98045            18749 non-null uint8\n",
      "98052            18749 non-null uint8\n",
      "98053            18749 non-null uint8\n",
      "98055            18749 non-null uint8\n",
      "98056            18749 non-null uint8\n",
      "98058            18749 non-null uint8\n",
      "98059            18749 non-null uint8\n",
      "98065            18749 non-null uint8\n",
      "98070            18749 non-null uint8\n",
      "98072            18749 non-null uint8\n",
      "98074            18749 non-null uint8\n",
      "98075            18749 non-null uint8\n",
      "98077            18749 non-null uint8\n",
      "98092            18749 non-null uint8\n",
      "98102            18749 non-null uint8\n",
      "98103            18749 non-null uint8\n",
      "98105            18749 non-null uint8\n",
      "98106            18749 non-null uint8\n",
      "98107            18749 non-null uint8\n",
      "98108            18749 non-null uint8\n",
      "98109            18749 non-null uint8\n",
      "98112            18749 non-null uint8\n",
      "98115            18749 non-null uint8\n",
      "98116            18749 non-null uint8\n",
      "98117            18749 non-null uint8\n",
      "98118            18749 non-null uint8\n",
      "98119            18749 non-null uint8\n",
      "98122            18749 non-null uint8\n",
      "98125            18749 non-null uint8\n",
      "98126            18749 non-null uint8\n",
      "98133            18749 non-null uint8\n",
      "98136            18749 non-null uint8\n",
      "98144            18749 non-null uint8\n",
      "98146            18749 non-null uint8\n",
      "98148            18749 non-null uint8\n",
      "98155            18749 non-null uint8\n",
      "98166            18749 non-null uint8\n",
      "98168            18749 non-null uint8\n",
      "98177            18749 non-null uint8\n",
      "98178            18749 non-null uint8\n",
      "98188            18749 non-null uint8\n",
      "98198            18749 non-null uint8\n",
      "dtypes: float64(10), uint8(70)\n",
      "memory usage: 3.5 MB\n"
     ]
    }
   ],
   "source": [
    "X.info()"
   ]
  },
  {
   "cell_type": "code",
   "execution_count": 67,
   "metadata": {
    "ExecuteTime": {
     "end_time": "2019-04-24T14:41:23.700949Z",
     "start_time": "2019-04-24T14:41:23.509998Z"
    }
   },
   "outputs": [
    {
     "data": {
      "text/html": [
       "<table class=\"simpletable\">\n",
       "<caption>OLS Regression Results</caption>\n",
       "<tr>\n",
       "  <th>Dep. Variable:</th>          <td>price</td>      <th>  R-squared:         </th> <td>   0.865</td>\n",
       "</tr>\n",
       "<tr>\n",
       "  <th>Model:</th>                   <td>OLS</td>       <th>  Adj. R-squared:    </th> <td>   0.865</td>\n",
       "</tr>\n",
       "<tr>\n",
       "  <th>Method:</th>             <td>Least Squares</td>  <th>  F-statistic:       </th> <td>   1517.</td>\n",
       "</tr>\n",
       "<tr>\n",
       "  <th>Date:</th>             <td>Wed, 24 Apr 2019</td> <th>  Prob (F-statistic):</th>  <td>  0.00</td> \n",
       "</tr>\n",
       "<tr>\n",
       "  <th>Time:</th>                 <td>09:41:23</td>     <th>  Log-Likelihood:    </th> <td>  4182.2</td>\n",
       "</tr>\n",
       "<tr>\n",
       "  <th>No. Observations:</th>      <td> 18749</td>      <th>  AIC:               </th> <td>  -8204.</td>\n",
       "</tr>\n",
       "<tr>\n",
       "  <th>Df Residuals:</th>          <td> 18669</td>      <th>  BIC:               </th> <td>  -7577.</td>\n",
       "</tr>\n",
       "<tr>\n",
       "  <th>Df Model:</th>              <td>    79</td>      <th>                     </th>     <td> </td>   \n",
       "</tr>\n",
       "<tr>\n",
       "  <th>Covariance Type:</th>      <td>nonrobust</td>    <th>                     </th>     <td> </td>   \n",
       "</tr>\n",
       "</table>\n",
       "<table class=\"simpletable\">\n",
       "<tr>\n",
       "        <td></td>           <th>coef</th>     <th>std err</th>      <th>t</th>      <th>P>|t|</th>  <th>[0.025</th>    <th>0.975]</th>  \n",
       "</tr>\n",
       "<tr>\n",
       "  <th>const</th>         <td>   13.4343</td> <td>    0.014</td> <td>  963.730</td> <td> 0.000</td> <td>   13.407</td> <td>   13.462</td>\n",
       "</tr>\n",
       "<tr>\n",
       "  <th>bedrooms</th>      <td>   -0.0202</td> <td>    0.002</td> <td>  -10.564</td> <td> 0.000</td> <td>   -0.024</td> <td>   -0.016</td>\n",
       "</tr>\n",
       "<tr>\n",
       "  <th>bathrooms</th>     <td>    0.0419</td> <td>    0.002</td> <td>   17.471</td> <td> 0.000</td> <td>    0.037</td> <td>    0.047</td>\n",
       "</tr>\n",
       "<tr>\n",
       "  <th>sqft_lot</th>      <td>    0.0573</td> <td>    0.002</td> <td>   27.322</td> <td> 0.000</td> <td>    0.053</td> <td>    0.061</td>\n",
       "</tr>\n",
       "<tr>\n",
       "  <th>floors</th>        <td>   -0.0087</td> <td>    0.002</td> <td>   -3.808</td> <td> 0.000</td> <td>   -0.013</td> <td>   -0.004</td>\n",
       "</tr>\n",
       "<tr>\n",
       "  <th>waterfront</th>    <td>    0.0512</td> <td>    0.002</td> <td>   34.134</td> <td> 0.000</td> <td>    0.048</td> <td>    0.054</td>\n",
       "</tr>\n",
       "<tr>\n",
       "  <th>view</th>          <td>    0.1491</td> <td>    0.006</td> <td>   26.889</td> <td> 0.000</td> <td>    0.138</td> <td>    0.160</td>\n",
       "</tr>\n",
       "<tr>\n",
       "  <th>sqft_above</th>    <td>    0.2264</td> <td>    0.003</td> <td>   72.367</td> <td> 0.000</td> <td>    0.220</td> <td>    0.233</td>\n",
       "</tr>\n",
       "<tr>\n",
       "  <th>sqft_basement</th> <td>    0.0730</td> <td>    0.002</td> <td>   37.099</td> <td> 0.000</td> <td>    0.069</td> <td>    0.077</td>\n",
       "</tr>\n",
       "<tr>\n",
       "  <th>lat</th>           <td>    0.0823</td> <td>    0.011</td> <td>    7.247</td> <td> 0.000</td> <td>    0.060</td> <td>    0.105</td>\n",
       "</tr>\n",
       "<tr>\n",
       "  <th>sqft_living15</th> <td>    0.0699</td> <td>    0.002</td> <td>   29.128</td> <td> 0.000</td> <td>    0.065</td> <td>    0.075</td>\n",
       "</tr>\n",
       "<tr>\n",
       "  <th>98001</th>         <td>   -0.7778</td> <td>    0.032</td> <td>  -24.222</td> <td> 0.000</td> <td>   -0.841</td> <td>   -0.715</td>\n",
       "</tr>\n",
       "<tr>\n",
       "  <th>98002</th>         <td>   -0.7659</td> <td>    0.034</td> <td>  -22.835</td> <td> 0.000</td> <td>   -0.832</td> <td>   -0.700</td>\n",
       "</tr>\n",
       "<tr>\n",
       "  <th>98003</th>         <td>   -0.7424</td> <td>    0.032</td> <td>  -23.108</td> <td> 0.000</td> <td>   -0.805</td> <td>   -0.679</td>\n",
       "</tr>\n",
       "<tr>\n",
       "  <th>98004</th>         <td>    0.2366</td> <td>    0.017</td> <td>   13.964</td> <td> 0.000</td> <td>    0.203</td> <td>    0.270</td>\n",
       "</tr>\n",
       "<tr>\n",
       "  <th>98005</th>         <td>   -0.1652</td> <td>    0.020</td> <td>   -8.275</td> <td> 0.000</td> <td>   -0.204</td> <td>   -0.126</td>\n",
       "</tr>\n",
       "<tr>\n",
       "  <th>98006</th>         <td>   -0.1949</td> <td>    0.017</td> <td>  -11.512</td> <td> 0.000</td> <td>   -0.228</td> <td>   -0.162</td>\n",
       "</tr>\n",
       "<tr>\n",
       "  <th>98007</th>         <td>   -0.2414</td> <td>    0.022</td> <td>  -11.128</td> <td> 0.000</td> <td>   -0.284</td> <td>   -0.199</td>\n",
       "</tr>\n",
       "<tr>\n",
       "  <th>98008</th>         <td>   -0.2562</td> <td>    0.017</td> <td>  -14.762</td> <td> 0.000</td> <td>   -0.290</td> <td>   -0.222</td>\n",
       "</tr>\n",
       "<tr>\n",
       "  <th>98010</th>         <td>   -0.5525</td> <td>    0.035</td> <td>  -15.593</td> <td> 0.000</td> <td>   -0.622</td> <td>   -0.483</td>\n",
       "</tr>\n",
       "<tr>\n",
       "  <th>98011</th>         <td>   -0.5886</td> <td>    0.021</td> <td>  -28.036</td> <td> 0.000</td> <td>   -0.630</td> <td>   -0.547</td>\n",
       "</tr>\n",
       "<tr>\n",
       "  <th>98014</th>         <td>   -0.7148</td> <td>    0.023</td> <td>  -31.381</td> <td> 0.000</td> <td>   -0.759</td> <td>   -0.670</td>\n",
       "</tr>\n",
       "<tr>\n",
       "  <th>98019</th>         <td>   -0.7400</td> <td>    0.021</td> <td>  -35.605</td> <td> 0.000</td> <td>   -0.781</td> <td>   -0.699</td>\n",
       "</tr>\n",
       "<tr>\n",
       "  <th>98022</th>         <td>   -0.6637</td> <td>    0.040</td> <td>  -16.573</td> <td> 0.000</td> <td>   -0.742</td> <td>   -0.585</td>\n",
       "</tr>\n",
       "<tr>\n",
       "  <th>98023</th>         <td>   -0.7716</td> <td>    0.032</td> <td>  -24.369</td> <td> 0.000</td> <td>   -0.834</td> <td>   -0.709</td>\n",
       "</tr>\n",
       "<tr>\n",
       "  <th>98024</th>         <td>   -0.5121</td> <td>    0.027</td> <td>  -18.790</td> <td> 0.000</td> <td>   -0.566</td> <td>   -0.459</td>\n",
       "</tr>\n",
       "<tr>\n",
       "  <th>98027</th>         <td>   -0.3640</td> <td>    0.019</td> <td>  -19.251</td> <td> 0.000</td> <td>   -0.401</td> <td>   -0.327</td>\n",
       "</tr>\n",
       "<tr>\n",
       "  <th>98028</th>         <td>   -0.6154</td> <td>    0.019</td> <td>  -31.955</td> <td> 0.000</td> <td>   -0.653</td> <td>   -0.578</td>\n",
       "</tr>\n",
       "<tr>\n",
       "  <th>98029</th>         <td>   -0.2701</td> <td>    0.018</td> <td>  -14.878</td> <td> 0.000</td> <td>   -0.306</td> <td>   -0.235</td>\n",
       "</tr>\n",
       "<tr>\n",
       "  <th>98030</th>         <td>   -0.7629</td> <td>    0.029</td> <td>  -26.505</td> <td> 0.000</td> <td>   -0.819</td> <td>   -0.706</td>\n",
       "</tr>\n",
       "<tr>\n",
       "  <th>98031</th>         <td>   -0.7426</td> <td>    0.027</td> <td>  -28.006</td> <td> 0.000</td> <td>   -0.795</td> <td>   -0.691</td>\n",
       "</tr>\n",
       "<tr>\n",
       "  <th>98032</th>         <td>   -0.7913</td> <td>    0.031</td> <td>  -25.261</td> <td> 0.000</td> <td>   -0.853</td> <td>   -0.730</td>\n",
       "</tr>\n",
       "<tr>\n",
       "  <th>98033</th>         <td>   -0.1604</td> <td>    0.016</td> <td>  -10.117</td> <td> 0.000</td> <td>   -0.192</td> <td>   -0.129</td>\n",
       "</tr>\n",
       "<tr>\n",
       "  <th>98034</th>         <td>   -0.4398</td> <td>    0.016</td> <td>  -27.423</td> <td> 0.000</td> <td>   -0.471</td> <td>   -0.408</td>\n",
       "</tr>\n",
       "<tr>\n",
       "  <th>98038</th>         <td>   -0.6573</td> <td>    0.027</td> <td>  -24.226</td> <td> 0.000</td> <td>   -0.710</td> <td>   -0.604</td>\n",
       "</tr>\n",
       "<tr>\n",
       "  <th>98039</th>         <td>    0.4262</td> <td>    0.032</td> <td>   13.406</td> <td> 0.000</td> <td>    0.364</td> <td>    0.489</td>\n",
       "</tr>\n",
       "<tr>\n",
       "  <th>98040</th>         <td>    0.0294</td> <td>    0.019</td> <td>    1.559</td> <td> 0.119</td> <td>   -0.008</td> <td>    0.066</td>\n",
       "</tr>\n",
       "<tr>\n",
       "  <th>98042</th>         <td>   -0.7308</td> <td>    0.028</td> <td>  -26.568</td> <td> 0.000</td> <td>   -0.785</td> <td>   -0.677</td>\n",
       "</tr>\n",
       "<tr>\n",
       "  <th>98045</th>         <td>   -0.5547</td> <td>    0.024</td> <td>  -23.388</td> <td> 0.000</td> <td>   -0.601</td> <td>   -0.508</td>\n",
       "</tr>\n",
       "<tr>\n",
       "  <th>98052</th>         <td>   -0.3185</td> <td>    0.015</td> <td>  -21.109</td> <td> 0.000</td> <td>   -0.348</td> <td>   -0.289</td>\n",
       "</tr>\n",
       "<tr>\n",
       "  <th>98053</th>         <td>   -0.4103</td> <td>    0.016</td> <td>  -25.208</td> <td> 0.000</td> <td>   -0.442</td> <td>   -0.378</td>\n",
       "</tr>\n",
       "<tr>\n",
       "  <th>98055</th>         <td>   -0.7023</td> <td>    0.023</td> <td>  -30.062</td> <td> 0.000</td> <td>   -0.748</td> <td>   -0.657</td>\n",
       "</tr>\n",
       "<tr>\n",
       "  <th>98056</th>         <td>   -0.5416</td> <td>    0.019</td> <td>  -27.954</td> <td> 0.000</td> <td>   -0.580</td> <td>   -0.504</td>\n",
       "</tr>\n",
       "<tr>\n",
       "  <th>98058</th>         <td>   -0.6654</td> <td>    0.023</td> <td>  -29.264</td> <td> 0.000</td> <td>   -0.710</td> <td>   -0.621</td>\n",
       "</tr>\n",
       "<tr>\n",
       "  <th>98059</th>         <td>   -0.5235</td> <td>    0.020</td> <td>  -26.055</td> <td> 0.000</td> <td>   -0.563</td> <td>   -0.484</td>\n",
       "</tr>\n",
       "<tr>\n",
       "  <th>98065</th>         <td>   -0.5210</td> <td>    0.019</td> <td>  -26.922</td> <td> 0.000</td> <td>   -0.559</td> <td>   -0.483</td>\n",
       "</tr>\n",
       "<tr>\n",
       "  <th>98070</th>         <td>   -0.5588</td> <td>    0.030</td> <td>  -18.791</td> <td> 0.000</td> <td>   -0.617</td> <td>   -0.501</td>\n",
       "</tr>\n",
       "<tr>\n",
       "  <th>98072</th>         <td>   -0.5358</td> <td>    0.020</td> <td>  -27.445</td> <td> 0.000</td> <td>   -0.574</td> <td>   -0.498</td>\n",
       "</tr>\n",
       "<tr>\n",
       "  <th>98074</th>         <td>   -0.3505</td> <td>    0.016</td> <td>  -22.043</td> <td> 0.000</td> <td>   -0.382</td> <td>   -0.319</td>\n",
       "</tr>\n",
       "<tr>\n",
       "  <th>98075</th>         <td>   -0.3248</td> <td>    0.017</td> <td>  -18.883</td> <td> 0.000</td> <td>   -0.358</td> <td>   -0.291</td>\n",
       "</tr>\n",
       "<tr>\n",
       "  <th>98077</th>         <td>   -0.5562</td> <td>    0.021</td> <td>  -26.326</td> <td> 0.000</td> <td>   -0.598</td> <td>   -0.515</td>\n",
       "</tr>\n",
       "<tr>\n",
       "  <th>98092</th>         <td>   -0.7370</td> <td>    0.033</td> <td>  -22.421</td> <td> 0.000</td> <td>   -0.801</td> <td>   -0.673</td>\n",
       "</tr>\n",
       "<tr>\n",
       "  <th>98102</th>         <td>    0.1467</td> <td>    0.024</td> <td>    6.114</td> <td> 0.000</td> <td>    0.100</td> <td>    0.194</td>\n",
       "</tr>\n",
       "<tr>\n",
       "  <th>98103</th>         <td>   -0.0531</td> <td>    0.015</td> <td>   -3.592</td> <td> 0.000</td> <td>   -0.082</td> <td>   -0.024</td>\n",
       "</tr>\n",
       "<tr>\n",
       "  <th>98105</th>         <td>    0.0685</td> <td>    0.018</td> <td>    3.814</td> <td> 0.000</td> <td>    0.033</td> <td>    0.104</td>\n",
       "</tr>\n",
       "<tr>\n",
       "  <th>98106</th>         <td>   -0.4751</td> <td>    0.019</td> <td>  -25.210</td> <td> 0.000</td> <td>   -0.512</td> <td>   -0.438</td>\n",
       "</tr>\n",
       "<tr>\n",
       "  <th>98107</th>         <td>   -0.0180</td> <td>    0.017</td> <td>   -1.029</td> <td> 0.303</td> <td>   -0.052</td> <td>    0.016</td>\n",
       "</tr>\n",
       "<tr>\n",
       "  <th>98108</th>         <td>   -0.4826</td> <td>    0.021</td> <td>  -23.143</td> <td> 0.000</td> <td>   -0.523</td> <td>   -0.442</td>\n",
       "</tr>\n",
       "<tr>\n",
       "  <th>98109</th>         <td>    0.1401</td> <td>    0.023</td> <td>    5.978</td> <td> 0.000</td> <td>    0.094</td> <td>    0.186</td>\n",
       "</tr>\n",
       "<tr>\n",
       "  <th>98112</th>         <td>    0.2244</td> <td>    0.017</td> <td>   12.909</td> <td> 0.000</td> <td>    0.190</td> <td>    0.258</td>\n",
       "</tr>\n",
       "<tr>\n",
       "  <th>98115</th>         <td>   -0.0863</td> <td>    0.015</td> <td>   -5.756</td> <td> 0.000</td> <td>   -0.116</td> <td>   -0.057</td>\n",
       "</tr>\n",
       "<tr>\n",
       "  <th>98116</th>         <td>   -0.0496</td> <td>    0.018</td> <td>   -2.828</td> <td> 0.005</td> <td>   -0.084</td> <td>   -0.015</td>\n",
       "</tr>\n",
       "<tr>\n",
       "  <th>98117</th>         <td>   -0.0752</td> <td>    0.015</td> <td>   -4.978</td> <td> 0.000</td> <td>   -0.105</td> <td>   -0.046</td>\n",
       "</tr>\n",
       "<tr>\n",
       "  <th>98118</th>         <td>   -0.3742</td> <td>    0.017</td> <td>  -21.669</td> <td> 0.000</td> <td>   -0.408</td> <td>   -0.340</td>\n",
       "</tr>\n",
       "<tr>\n",
       "  <th>98119</th>         <td>    0.1554</td> <td>    0.019</td> <td>    7.971</td> <td> 0.000</td> <td>    0.117</td> <td>    0.194</td>\n",
       "</tr>\n",
       "<tr>\n",
       "  <th>98122</th>         <td>   -0.0134</td> <td>    0.017</td> <td>   -0.777</td> <td> 0.437</td> <td>   -0.047</td> <td>    0.020</td>\n",
       "</tr>\n",
       "<tr>\n",
       "  <th>98125</th>         <td>   -0.3994</td> <td>    0.017</td> <td>  -23.905</td> <td> 0.000</td> <td>   -0.432</td> <td>   -0.367</td>\n",
       "</tr>\n",
       "<tr>\n",
       "  <th>98126</th>         <td>   -0.2611</td> <td>    0.018</td> <td>  -14.183</td> <td> 0.000</td> <td>   -0.297</td> <td>   -0.225</td>\n",
       "</tr>\n",
       "<tr>\n",
       "  <th>98133</th>         <td>   -0.4956</td> <td>    0.017</td> <td>  -29.400</td> <td> 0.000</td> <td>   -0.529</td> <td>   -0.463</td>\n",
       "</tr>\n",
       "<tr>\n",
       "  <th>98136</th>         <td>   -0.1313</td> <td>    0.020</td> <td>   -6.669</td> <td> 0.000</td> <td>   -0.170</td> <td>   -0.093</td>\n",
       "</tr>\n",
       "<tr>\n",
       "  <th>98144</th>         <td>   -0.1594</td> <td>    0.017</td> <td>   -9.317</td> <td> 0.000</td> <td>   -0.193</td> <td>   -0.126</td>\n",
       "</tr>\n",
       "<tr>\n",
       "  <th>98146</th>         <td>   -0.5763</td> <td>    0.021</td> <td>  -27.588</td> <td> 0.000</td> <td>   -0.617</td> <td>   -0.535</td>\n",
       "</tr>\n",
       "<tr>\n",
       "  <th>98148</th>         <td>   -0.6798</td> <td>    0.035</td> <td>  -19.636</td> <td> 0.000</td> <td>   -0.748</td> <td>   -0.612</td>\n",
       "</tr>\n",
       "<tr>\n",
       "  <th>98155</th>         <td>   -0.5724</td> <td>    0.018</td> <td>  -32.092</td> <td> 0.000</td> <td>   -0.607</td> <td>   -0.537</td>\n",
       "</tr>\n",
       "<tr>\n",
       "  <th>98166</th>         <td>   -0.5263</td> <td>    0.024</td> <td>  -22.121</td> <td> 0.000</td> <td>   -0.573</td> <td>   -0.480</td>\n",
       "</tr>\n",
       "<tr>\n",
       "  <th>98168</th>         <td>   -0.7832</td> <td>    0.022</td> <td>  -35.687</td> <td> 0.000</td> <td>   -0.826</td> <td>   -0.740</td>\n",
       "</tr>\n",
       "<tr>\n",
       "  <th>98177</th>         <td>   -0.3714</td> <td>    0.019</td> <td>  -19.482</td> <td> 0.000</td> <td>   -0.409</td> <td>   -0.334</td>\n",
       "</tr>\n",
       "<tr>\n",
       "  <th>98178</th>         <td>   -0.7054</td> <td>    0.021</td> <td>  -33.104</td> <td> 0.000</td> <td>   -0.747</td> <td>   -0.664</td>\n",
       "</tr>\n",
       "<tr>\n",
       "  <th>98188</th>         <td>   -0.7487</td> <td>    0.027</td> <td>  -27.529</td> <td> 0.000</td> <td>   -0.802</td> <td>   -0.695</td>\n",
       "</tr>\n",
       "<tr>\n",
       "  <th>98198</th>         <td>   -0.7358</td> <td>    0.027</td> <td>  -26.966</td> <td> 0.000</td> <td>   -0.789</td> <td>   -0.682</td>\n",
       "</tr>\n",
       "</table>\n",
       "<table class=\"simpletable\">\n",
       "<tr>\n",
       "  <th>Omnibus:</th>       <td>1388.666</td> <th>  Durbin-Watson:     </th> <td>   2.003</td>\n",
       "</tr>\n",
       "<tr>\n",
       "  <th>Prob(Omnibus):</th>  <td> 0.000</td>  <th>  Jarque-Bera (JB):  </th> <td>5108.686</td>\n",
       "</tr>\n",
       "<tr>\n",
       "  <th>Skew:</th>           <td>-0.313</td>  <th>  Prob(JB):          </th> <td>    0.00</td>\n",
       "</tr>\n",
       "<tr>\n",
       "  <th>Kurtosis:</th>       <td> 5.479</td>  <th>  Cond. No.          </th> <td>    171.</td>\n",
       "</tr>\n",
       "</table>"
      ],
      "text/plain": [
       "<class 'statsmodels.iolib.summary.Summary'>\n",
       "\"\"\"\n",
       "                            OLS Regression Results                            \n",
       "==============================================================================\n",
       "Dep. Variable:                  price   R-squared:                       0.865\n",
       "Model:                            OLS   Adj. R-squared:                  0.865\n",
       "Method:                 Least Squares   F-statistic:                     1517.\n",
       "Date:                Wed, 24 Apr 2019   Prob (F-statistic):               0.00\n",
       "Time:                        09:41:23   Log-Likelihood:                 4182.2\n",
       "No. Observations:               18749   AIC:                            -8204.\n",
       "Df Residuals:                   18669   BIC:                            -7577.\n",
       "Df Model:                          79                                         \n",
       "Covariance Type:            nonrobust                                         \n",
       "=================================================================================\n",
       "                    coef    std err          t      P>|t|      [0.025      0.975]\n",
       "---------------------------------------------------------------------------------\n",
       "const            13.4343      0.014    963.730      0.000      13.407      13.462\n",
       "bedrooms         -0.0202      0.002    -10.564      0.000      -0.024      -0.016\n",
       "bathrooms         0.0419      0.002     17.471      0.000       0.037       0.047\n",
       "sqft_lot          0.0573      0.002     27.322      0.000       0.053       0.061\n",
       "floors           -0.0087      0.002     -3.808      0.000      -0.013      -0.004\n",
       "waterfront        0.0512      0.002     34.134      0.000       0.048       0.054\n",
       "view              0.1491      0.006     26.889      0.000       0.138       0.160\n",
       "sqft_above        0.2264      0.003     72.367      0.000       0.220       0.233\n",
       "sqft_basement     0.0730      0.002     37.099      0.000       0.069       0.077\n",
       "lat               0.0823      0.011      7.247      0.000       0.060       0.105\n",
       "sqft_living15     0.0699      0.002     29.128      0.000       0.065       0.075\n",
       "98001            -0.7778      0.032    -24.222      0.000      -0.841      -0.715\n",
       "98002            -0.7659      0.034    -22.835      0.000      -0.832      -0.700\n",
       "98003            -0.7424      0.032    -23.108      0.000      -0.805      -0.679\n",
       "98004             0.2366      0.017     13.964      0.000       0.203       0.270\n",
       "98005            -0.1652      0.020     -8.275      0.000      -0.204      -0.126\n",
       "98006            -0.1949      0.017    -11.512      0.000      -0.228      -0.162\n",
       "98007            -0.2414      0.022    -11.128      0.000      -0.284      -0.199\n",
       "98008            -0.2562      0.017    -14.762      0.000      -0.290      -0.222\n",
       "98010            -0.5525      0.035    -15.593      0.000      -0.622      -0.483\n",
       "98011            -0.5886      0.021    -28.036      0.000      -0.630      -0.547\n",
       "98014            -0.7148      0.023    -31.381      0.000      -0.759      -0.670\n",
       "98019            -0.7400      0.021    -35.605      0.000      -0.781      -0.699\n",
       "98022            -0.6637      0.040    -16.573      0.000      -0.742      -0.585\n",
       "98023            -0.7716      0.032    -24.369      0.000      -0.834      -0.709\n",
       "98024            -0.5121      0.027    -18.790      0.000      -0.566      -0.459\n",
       "98027            -0.3640      0.019    -19.251      0.000      -0.401      -0.327\n",
       "98028            -0.6154      0.019    -31.955      0.000      -0.653      -0.578\n",
       "98029            -0.2701      0.018    -14.878      0.000      -0.306      -0.235\n",
       "98030            -0.7629      0.029    -26.505      0.000      -0.819      -0.706\n",
       "98031            -0.7426      0.027    -28.006      0.000      -0.795      -0.691\n",
       "98032            -0.7913      0.031    -25.261      0.000      -0.853      -0.730\n",
       "98033            -0.1604      0.016    -10.117      0.000      -0.192      -0.129\n",
       "98034            -0.4398      0.016    -27.423      0.000      -0.471      -0.408\n",
       "98038            -0.6573      0.027    -24.226      0.000      -0.710      -0.604\n",
       "98039             0.4262      0.032     13.406      0.000       0.364       0.489\n",
       "98040             0.0294      0.019      1.559      0.119      -0.008       0.066\n",
       "98042            -0.7308      0.028    -26.568      0.000      -0.785      -0.677\n",
       "98045            -0.5547      0.024    -23.388      0.000      -0.601      -0.508\n",
       "98052            -0.3185      0.015    -21.109      0.000      -0.348      -0.289\n",
       "98053            -0.4103      0.016    -25.208      0.000      -0.442      -0.378\n",
       "98055            -0.7023      0.023    -30.062      0.000      -0.748      -0.657\n",
       "98056            -0.5416      0.019    -27.954      0.000      -0.580      -0.504\n",
       "98058            -0.6654      0.023    -29.264      0.000      -0.710      -0.621\n",
       "98059            -0.5235      0.020    -26.055      0.000      -0.563      -0.484\n",
       "98065            -0.5210      0.019    -26.922      0.000      -0.559      -0.483\n",
       "98070            -0.5588      0.030    -18.791      0.000      -0.617      -0.501\n",
       "98072            -0.5358      0.020    -27.445      0.000      -0.574      -0.498\n",
       "98074            -0.3505      0.016    -22.043      0.000      -0.382      -0.319\n",
       "98075            -0.3248      0.017    -18.883      0.000      -0.358      -0.291\n",
       "98077            -0.5562      0.021    -26.326      0.000      -0.598      -0.515\n",
       "98092            -0.7370      0.033    -22.421      0.000      -0.801      -0.673\n",
       "98102             0.1467      0.024      6.114      0.000       0.100       0.194\n",
       "98103            -0.0531      0.015     -3.592      0.000      -0.082      -0.024\n",
       "98105             0.0685      0.018      3.814      0.000       0.033       0.104\n",
       "98106            -0.4751      0.019    -25.210      0.000      -0.512      -0.438\n",
       "98107            -0.0180      0.017     -1.029      0.303      -0.052       0.016\n",
       "98108            -0.4826      0.021    -23.143      0.000      -0.523      -0.442\n",
       "98109             0.1401      0.023      5.978      0.000       0.094       0.186\n",
       "98112             0.2244      0.017     12.909      0.000       0.190       0.258\n",
       "98115            -0.0863      0.015     -5.756      0.000      -0.116      -0.057\n",
       "98116            -0.0496      0.018     -2.828      0.005      -0.084      -0.015\n",
       "98117            -0.0752      0.015     -4.978      0.000      -0.105      -0.046\n",
       "98118            -0.3742      0.017    -21.669      0.000      -0.408      -0.340\n",
       "98119             0.1554      0.019      7.971      0.000       0.117       0.194\n",
       "98122            -0.0134      0.017     -0.777      0.437      -0.047       0.020\n",
       "98125            -0.3994      0.017    -23.905      0.000      -0.432      -0.367\n",
       "98126            -0.2611      0.018    -14.183      0.000      -0.297      -0.225\n",
       "98133            -0.4956      0.017    -29.400      0.000      -0.529      -0.463\n",
       "98136            -0.1313      0.020     -6.669      0.000      -0.170      -0.093\n",
       "98144            -0.1594      0.017     -9.317      0.000      -0.193      -0.126\n",
       "98146            -0.5763      0.021    -27.588      0.000      -0.617      -0.535\n",
       "98148            -0.6798      0.035    -19.636      0.000      -0.748      -0.612\n",
       "98155            -0.5724      0.018    -32.092      0.000      -0.607      -0.537\n",
       "98166            -0.5263      0.024    -22.121      0.000      -0.573      -0.480\n",
       "98168            -0.7832      0.022    -35.687      0.000      -0.826      -0.740\n",
       "98177            -0.3714      0.019    -19.482      0.000      -0.409      -0.334\n",
       "98178            -0.7054      0.021    -33.104      0.000      -0.747      -0.664\n",
       "98188            -0.7487      0.027    -27.529      0.000      -0.802      -0.695\n",
       "98198            -0.7358      0.027    -26.966      0.000      -0.789      -0.682\n",
       "==============================================================================\n",
       "Omnibus:                     1388.666   Durbin-Watson:                   2.003\n",
       "Prob(Omnibus):                  0.000   Jarque-Bera (JB):             5108.686\n",
       "Skew:                          -0.313   Prob(JB):                         0.00\n",
       "Kurtosis:                       5.479   Cond. No.                         171.\n",
       "==============================================================================\n",
       "\n",
       "Warnings:\n",
       "[1] Standard Errors assume that the covariance matrix of the errors is correctly specified.\n",
       "\"\"\""
      ]
     },
     "execution_count": 67,
     "metadata": {},
     "output_type": "execute_result"
    }
   ],
   "source": [
    "# refit model\n",
    "model = sm.OLS(y_log, X).fit()\n",
    "model.summary()"
   ]
  },
  {
   "cell_type": "markdown",
   "metadata": {},
   "source": [
    "| Dep Var     | price | log_price | w/ removed vars |\n",
    "|-------------|-------|-----------|-----------------|\n",
    "| R-sq        | 0.753 | 0.872     | 0.866           |\n",
    "| Adj. R-sq   | 0.752 | 0.871     | 0.866           |\n",
    "| F-statistic | 685.7 | 1526      | 1529           |"
   ]
  },
  {
   "cell_type": "code",
   "execution_count": 68,
   "metadata": {
    "ExecuteTime": {
     "end_time": "2019-04-24T14:41:23.710899Z",
     "start_time": "2019-04-24T14:41:23.703666Z"
    }
   },
   "outputs": [
    {
     "data": {
      "text/plain": [
       "(18749, 1)"
      ]
     },
     "execution_count": 68,
     "metadata": {},
     "output_type": "execute_result"
    }
   ],
   "source": [
    "# Reformat our y_log variable to be a pandas series\n",
    "y = pd.DataFrame(y_log)\n",
    "y.shape"
   ]
  },
  {
   "cell_type": "markdown",
   "metadata": {},
   "source": [
    "<a id=\"4.3\"></a>\n",
    "### 3. Dimensionality Reduction\n",
    "*Find the best fit*\n",
    "\n",
    "Loop through all possible number of features to include and fit a regression model to it. Then use K-Fold Cross Validation to insure no overfitting. Because the zip code categories comprise of the majority of features we're using in the model, this might cause overfitting. We don't want to drop the zipcodes unless it effects the strength of our statistical analysis because location is known to have such a large impact on property values. So, we'll check our results on a couple of different measures. \n",
    "\n",
    "First, we will calculate the R Squared score for each trial in our k-fold cross validation. This gives us an idea of how well our model at that specific number of featurs fits the data. 1 is the best possible score. \n",
    "\n",
    "Second, we will calculate the standard deviation of the R Squared scores for each trial. This lets us know the variability of the data. Knowing the variability allows us to just save the mean of the r squares for each cross fold validation and it lets us know if the results of our cross fold validation is consistant and therefore more predictive.\n",
    "\n",
    "To add an extra layer of protection, we'll run all of these steps for different levels of k. This will let us know if our results are from sampling bias or are just predictive on it's own. \n",
    "\n",
    "Finally, we store the # of features that best predicts our dependent variable and fit a regression line to it."
   ]
  },
  {
   "cell_type": "code",
   "execution_count": 69,
   "metadata": {
    "ExecuteTime": {
     "end_time": "2019-04-24T14:59:07.284746Z",
     "start_time": "2019-04-24T14:41:23.712931Z"
    }
   },
   "outputs": [
    {
     "name": "stdout",
     "output_type": "stream",
     "text": [
      "[0, 79, 0.86285769619843788]\n"
     ]
    }
   ],
   "source": [
    "# find the best fit by looping through all possible number of features and storing the best predicting one\n",
    "linreg = LinearRegression()\n",
    "\n",
    "def multiple_cross_validations(columns):\n",
    "    results = [['folds', 'features', 'score', 'stdev']]\n",
    "    best_fit = [0, 0, -1]\n",
    "    for fold in range(10, 101, 10):\n",
    "        for i in range(1, len(columns)):\n",
    "            observation = []\n",
    "            observation.append(fold)\n",
    "            observation.append(i)\n",
    "            # Using i features, fit a model\n",
    "            selector = RFE(linreg, n_features_to_select=i)\n",
    "            selector = selector.fit(X, np.ravel(y_log))\n",
    "            selected_columns = X.columns[selector.support_]\n",
    "\n",
    "            # Cross Validation to ensure no overfitting\n",
    "            cv_10 = cross_val_score(linreg, X[selected_columns], y, cv=fold, scoring=\"r2\")\n",
    "            observation.append(np.mean(cv_10))\n",
    "            observation.append(np.std(cv_10))\n",
    "            # If the fit is better than the stored `best_fit`, replace it\n",
    "            if (np.mean(cv_10)) > (best_fit[2]):\n",
    "                best_fit[1] = i\n",
    "                best_fit[2] = np.mean(cv_10) \n",
    "#             # Print data for each iteration\n",
    "#             print(\"\"\"{}: {}, {}: {}, {}: {}, {}: {}\"\"\".format(results[0][0], observation[0], \n",
    "#                          results[0][1], observation[1],\n",
    "#                          results[0][2], round(observation[2], 4),\n",
    "#                          results[0][3], round(observation[3], 4)))        \n",
    "            results.append(observation)\n",
    "    return results, best_fit\n",
    "\n",
    "        \n",
    "data, best = multiple_cross_validations(X.columns)\n",
    "cross_results = pd.DataFrame(data=data, columns=data[0])\n",
    "cross_results.drop([0], inplace=True)\n",
    "cross_results.head(12)\n",
    "print(best)\n"
   ]
  },
  {
   "cell_type": "code",
   "execution_count": 70,
   "metadata": {
    "ExecuteTime": {
     "end_time": "2019-04-24T14:59:07.307376Z",
     "start_time": "2019-04-24T14:59:07.286997Z"
    }
   },
   "outputs": [
    {
     "name": "stdout",
     "output_type": "stream",
     "text": [
      "<class 'pandas.core.frame.DataFrame'>\n",
      "Int64Index: 790 entries, 1 to 790\n",
      "Data columns (total 4 columns):\n",
      "folds       790 non-null int64\n",
      "features    790 non-null int64\n",
      "score       790 non-null float64\n",
      "stdev       790 non-null float64\n",
      "dtypes: float64(2), int64(2)\n",
      "memory usage: 30.9 KB\n"
     ]
    }
   ],
   "source": [
    "cross_results = pd.DataFrame(data=data, columns=data[0])\n",
    "cross_results.drop([0], inplace=True)\n",
    "cross_results.head(3)\n",
    "cross_results.folds = cross_results.folds.astype(int)\n",
    "cross_results.features = cross_results.features.astype(int)\n",
    "cross_results.score = cross_results.score.astype(float)\n",
    "cross_results.stdev = cross_results.stdev.astype(float)\n",
    "cross_results.info()"
   ]
  },
  {
   "cell_type": "code",
   "execution_count": 71,
   "metadata": {
    "ExecuteTime": {
     "end_time": "2019-04-24T14:59:09.406208Z",
     "start_time": "2019-04-24T14:59:07.310083Z"
    }
   },
   "outputs": [
    {
     "data": {
      "image/png": "[encoded data removed]",
      "text/plain": [
       "<Figure size 432x288 with 1 Axes>"
      ]
     },
     "metadata": {},
     "output_type": "display_data"
    },
    {
     "data": {
      "image/png": "[encoded data removed]",
      "text/plain": [
       "<Figure size 432x288 with 1 Axes>"
      ]
     },
     "metadata": {},
     "output_type": "display_data"
    },
    {
     "data": {
      "image/png": "[encoded data removed]",
      "text/plain": [
       "<Figure size 432x288 with 1 Axes>"
      ]
     },
     "metadata": {},
     "output_type": "display_data"
    },
    {
     "data": {
      "image/png": "[encoded data removed]",
      "text/plain": [
       "<Figure size 432x288 with 1 Axes>"
      ]
     },
     "metadata": {},
     "output_type": "display_data"
    },
    {
     "data": {
      "image/png": "[encoded data removed]",
      "text/plain": [
       "<Figure size 432x288 with 1 Axes>"
      ]
     },
     "metadata": {},
     "output_type": "display_data"
    },
    {
     "data": {
      "image/png": "[encoded data removed]",
      "text/plain": [
       "<Figure size 432x288 with 1 Axes>"
      ]
     },
     "metadata": {},
     "output_type": "display_data"
    },
    {
     "data": {
      "image/png": "[encoded data removed]",
      "text/plain": [
       "<Figure size 432x288 with 1 Axes>"
      ]
     },
     "metadata": {},
     "output_type": "display_data"
    },
    {
     "data": {
      "image/png": "[encoded data removed]",
      "text/plain": [
       "<Figure size 432x288 with 1 Axes>"
      ]
     },
     "metadata": {},
     "output_type": "display_data"
    },
    {
     "data": {
      "image/png": "[encoded data removed]",
      "text/plain": [
       "<Figure size 432x288 with 1 Axes>"
      ]
     },
     "metadata": {},
     "output_type": "display_data"
    },
    {
     "data": {
      "image/png": "[encoded data removed]",
      "text/plain": [
       "<Figure size 432x288 with 1 Axes>"
      ]
     },
     "metadata": {},
     "output_type": "display_data"
    }
   ],
   "source": [
    "for i in range(10, 101, 10):\n",
    "    data = cross_results.loc[cross_results['folds'] == i]\n",
    "    plt.plot(data.features, data.score, color='blue')\n",
    "    plt.plot(data.features, data.stdev, color='red')\n",
    "    plt.title(\"{} Folds R Squared Score vs Std Dev\".format(i))\n",
    "    plt.ylabel(\"R Squared Score/Standard Deviation\")\n",
    "    plt.xlabel(\"Number of Features\")\n",
    "    plt.legend()\n",
    "    plt.show()"
   ]
  },
  {
   "cell_type": "code",
   "execution_count": 72,
   "metadata": {
    "ExecuteTime": {
     "end_time": "2019-04-24T14:59:09.493868Z",
     "start_time": "2019-04-24T14:59:09.408159Z"
    }
   },
   "outputs": [
    {
     "name": "stdout",
     "output_type": "stream",
     "text": [
      "(0.8621941219343027, 79)\n"
     ]
    }
   ],
   "source": [
    "highest_score = (0, 0)\n",
    "for i in range(79):\n",
    "    cnt = i + 1\n",
    "    # Just the rows with the same number of features\n",
    "    data = cross_results.loc[cross_results['features'] == cnt]\n",
    "    if (np.mean(data.score) > highest_score[0]):\n",
    "        highest_score = (np.mean(data.score), cnt)\n",
    "\n",
    "print(highest_score)"
   ]
  },
  {
   "cell_type": "markdown",
   "metadata": {},
   "source": [
    "Next we'll do the same process but without the zipcodes to see how that effects the outcome. We'll be looking to see if the the r squared score and variability don't change too much. If there isn't much of a difference or the scores without the zipcodes are actually better, we'll know that we were overfitting using all the zipcodes and we'll drop them moving forward."
   ]
  },
  {
   "cell_type": "code",
   "execution_count": 73,
   "metadata": {
    "ExecuteTime": {
     "end_time": "2019-04-24T15:00:56.828376Z",
     "start_time": "2019-04-24T14:59:09.495919Z"
    }
   },
   "outputs": [
    {
     "name": "stdout",
     "output_type": "stream",
     "text": [
      "<class 'pandas.core.frame.DataFrame'>\n",
      "Int64Index: 100 entries, 1 to 100\n",
      "Data columns (total 4 columns):\n",
      "folds       100 non-null int64\n",
      "features    100 non-null int64\n",
      "score       100 non-null float64\n",
      "stdev       100 non-null float64\n",
      "dtypes: float64(2), int64(2)\n",
      "memory usage: 3.9 KB\n"
     ]
    }
   ],
   "source": [
    "data2, best2 = multiple_cross_validations(X.columns[:11])\n",
    "cross_results2 = pd.DataFrame(data=data2, columns=data2[0])\n",
    "cross_results2.drop([0], inplace=True)\n",
    "cross_results2.head(3)\n",
    "cross_results2.folds = cross_results2.folds.astype(int)\n",
    "cross_results2.features = cross_results2.features.astype(int)\n",
    "cross_results2.score = cross_results2.score.astype(float)\n",
    "cross_results2.stdev = cross_results2.stdev.astype(float)\n",
    "cross_results2.info()"
   ]
  },
  {
   "cell_type": "code",
   "execution_count": 74,
   "metadata": {
    "ExecuteTime": {
     "end_time": "2019-04-24T15:00:58.742953Z",
     "start_time": "2019-04-24T15:00:56.831195Z"
    }
   },
   "outputs": [
    {
     "data": {
      "image/png": "[encoded data removed]",
      "text/plain": [
       "<Figure size 432x288 with 1 Axes>"
      ]
     },
     "metadata": {},
     "output_type": "display_data"
    },
    {
     "data": {
      "image/png": "[encoded data removed]",
      "text/plain": [
       "<Figure size 432x288 with 1 Axes>"
      ]
     },
     "metadata": {},
     "output_type": "display_data"
    },
    {
     "data": {
      "image/png": "[encoded data removed]",
      "text/plain": [
       "<Figure size 432x288 with 1 Axes>"
      ]
     },
     "metadata": {},
     "output_type": "display_data"
    },
    {
     "data": {
      "image/png": "[encoded data removed]",
      "text/plain": [
       "<Figure size 432x288 with 1 Axes>"
      ]
     },
     "metadata": {},
     "output_type": "display_data"
    },
    {
     "data": {
      "image/png": "[encoded data removed]",
      "text/plain": [
       "<Figure size 432x288 with 1 Axes>"
      ]
     },
     "metadata": {},
     "output_type": "display_data"
    },
    {
     "data": {
      "image/png": "[encoded data removed]",
      "text/plain": [
       "<Figure size 432x288 with 1 Axes>"
      ]
     },
     "metadata": {},
     "output_type": "display_data"
    },
    {
     "data": {
      "image/png": "[encoded data removed]",
      "text/plain": [
       "<Figure size 432x288 with 1 Axes>"
      ]
     },
     "metadata": {},
     "output_type": "display_data"
    },
    {
     "data": {
      "image/png": "[encoded data removed]",
      "text/plain": [
       "<Figure size 432x288 with 1 Axes>"
      ]
     },
     "metadata": {},
     "output_type": "display_data"
    },
    {
     "data": {
      "image/png": "[encoded data removed]",
      "text/plain": [
       "<Figure size 432x288 with 1 Axes>"
      ]
     },
     "metadata": {},
     "output_type": "display_data"
    },
    {
     "data": {
      "image/png": "[encoded data removed]",
      "text/plain": [
       "<Figure size 432x288 with 1 Axes>"
      ]
     },
     "metadata": {},
     "output_type": "display_data"
    }
   ],
   "source": [
    "for i in range(10, 101, 10):\n",
    "    data = cross_results2.loc[cross_results2['folds'] == i]\n",
    "    plt.plot(data.features, data.score, color='blue')\n",
    "    plt.plot(data.features, data.stdev, color='red')\n",
    "    plt.title(\"{} Folds Score vs Std Dev\".format(i))\n",
    "    plt.ylabel(\"Score/Standard Deviation\")\n",
    "    plt.xlabel(\"Number of Features\")\n",
    "    plt.legend()\n",
    "    plt.show()"
   ]
  },
  {
   "cell_type": "code",
   "execution_count": 75,
   "metadata": {
    "ExecuteTime": {
     "end_time": "2019-04-24T15:00:58.763812Z",
     "start_time": "2019-04-24T15:00:58.744860Z"
    }
   },
   "outputs": [
    {
     "name": "stdout",
     "output_type": "stream",
     "text": [
      "With Zips:\n",
      "Mean Score:  0.5893908670434521    Mean Std Dev:  0.03883867929266974\n",
      "Without Zips:\n",
      "Mean Score:  0.14111391796259476    Mean Std Dev:  0.04501294334439338\n"
     ]
    }
   ],
   "source": [
    "print('With Zips:')\n",
    "print('Mean Score: ', np.mean(cross_results.score), '   Mean Std Dev: ', np.mean(cross_results.stdev))\n",
    "print('Without Zips:')\n",
    "print('Mean Score: ', np.mean(cross_results2.score), '   Mean Std Dev: ', np.mean(cross_results2.stdev))"
   ]
  },
  {
   "cell_type": "markdown",
   "metadata": {},
   "source": [
    "As we can see, the r square scores are much higher with the zipcodes and standard deviations are also reduced. The fact that the number of folds in the cross fold validations didn't have much of an effect also goes to show that there wasn't sampling bias that was influencing our results. So we'll keep zipcodes in our dataset and refit the model based on the number of features that best predicted outcome (79). "
   ]
  },
  {
   "cell_type": "code",
   "execution_count": 76,
   "metadata": {
    "ExecuteTime": {
     "end_time": "2019-04-24T15:00:58.892566Z",
     "start_time": "2019-04-24T15:00:58.769756Z"
    }
   },
   "outputs": [
    {
     "data": {
      "text/html": [
       "<div>\n",
       "<style>\n",
       "    .dataframe thead tr:only-child th {\n",
       "        text-align: right;\n",
       "    }\n",
       "\n",
       "    .dataframe thead th {\n",
       "        text-align: left;\n",
       "    }\n",
       "\n",
       "    .dataframe tbody tr th {\n",
       "        vertical-align: top;\n",
       "    }\n",
       "</style>\n",
       "<table border=\"1\" class=\"dataframe\">\n",
       "  <thead>\n",
       "    <tr style=\"text-align: right;\">\n",
       "      <th></th>\n",
       "      <th>bedrooms</th>\n",
       "      <th>bathrooms</th>\n",
       "      <th>sqft_lot</th>\n",
       "      <th>floors</th>\n",
       "      <th>waterfront</th>\n",
       "      <th>view</th>\n",
       "      <th>sqft_above</th>\n",
       "      <th>sqft_basement</th>\n",
       "      <th>lat</th>\n",
       "      <th>sqft_living15</th>\n",
       "      <th>...</th>\n",
       "      <th>98144</th>\n",
       "      <th>98146</th>\n",
       "      <th>98148</th>\n",
       "      <th>98155</th>\n",
       "      <th>98166</th>\n",
       "      <th>98168</th>\n",
       "      <th>98177</th>\n",
       "      <th>98178</th>\n",
       "      <th>98188</th>\n",
       "      <th>98198</th>\n",
       "    </tr>\n",
       "  </thead>\n",
       "  <tbody>\n",
       "    <tr>\n",
       "      <th>1</th>\n",
       "      <td>-0.281743</td>\n",
       "      <td>0.337707</td>\n",
       "      <td>-0.116614</td>\n",
       "      <td>1.005307</td>\n",
       "      <td>-0.087046</td>\n",
       "      <td>0</td>\n",
       "      <td>0.667559</td>\n",
       "      <td>0.247220</td>\n",
       "      <td>1.159259</td>\n",
       "      <td>-0.329620</td>\n",
       "      <td>...</td>\n",
       "      <td>0</td>\n",
       "      <td>0</td>\n",
       "      <td>0</td>\n",
       "      <td>0</td>\n",
       "      <td>0</td>\n",
       "      <td>0</td>\n",
       "      <td>0</td>\n",
       "      <td>0</td>\n",
       "      <td>0</td>\n",
       "      <td>0</td>\n",
       "    </tr>\n",
       "    <tr>\n",
       "      <th>2</th>\n",
       "      <td>-1.716211</td>\n",
       "      <td>-1.730377</td>\n",
       "      <td>0.240961</td>\n",
       "      <td>-0.961209</td>\n",
       "      <td>-0.087046</td>\n",
       "      <td>0</td>\n",
       "      <td>-1.750968</td>\n",
       "      <td>-0.657315</td>\n",
       "      <td>1.281074</td>\n",
       "      <td>1.125781</td>\n",
       "      <td>...</td>\n",
       "      <td>0</td>\n",
       "      <td>0</td>\n",
       "      <td>0</td>\n",
       "      <td>0</td>\n",
       "      <td>0</td>\n",
       "      <td>0</td>\n",
       "      <td>0</td>\n",
       "      <td>0</td>\n",
       "      <td>0</td>\n",
       "      <td>0</td>\n",
       "    </tr>\n",
       "    <tr>\n",
       "      <th>3</th>\n",
       "      <td>0.736029</td>\n",
       "      <td>1.071372</td>\n",
       "      <td>-0.527126</td>\n",
       "      <td>-0.961209</td>\n",
       "      <td>-0.087046</td>\n",
       "      <td>0</td>\n",
       "      <td>-1.026980</td>\n",
       "      <td>1.400503</td>\n",
       "      <td>-0.283782</td>\n",
       "      <td>-0.993992</td>\n",
       "      <td>...</td>\n",
       "      <td>0</td>\n",
       "      <td>0</td>\n",
       "      <td>0</td>\n",
       "      <td>0</td>\n",
       "      <td>0</td>\n",
       "      <td>0</td>\n",
       "      <td>0</td>\n",
       "      <td>0</td>\n",
       "      <td>0</td>\n",
       "      <td>0</td>\n",
       "    </tr>\n",
       "    <tr>\n",
       "      <th>4</th>\n",
       "      <td>-0.281743</td>\n",
       "      <td>0.037330</td>\n",
       "      <td>0.004719</td>\n",
       "      <td>-0.961209</td>\n",
       "      <td>-0.087046</td>\n",
       "      <td>0</td>\n",
       "      <td>0.070139</td>\n",
       "      <td>-0.657315</td>\n",
       "      <td>0.408186</td>\n",
       "      <td>-0.136776</td>\n",
       "      <td>...</td>\n",
       "      <td>0</td>\n",
       "      <td>0</td>\n",
       "      <td>0</td>\n",
       "      <td>0</td>\n",
       "      <td>0</td>\n",
       "      <td>0</td>\n",
       "      <td>0</td>\n",
       "      <td>0</td>\n",
       "      <td>0</td>\n",
       "      <td>0</td>\n",
       "    </tr>\n",
       "    <tr>\n",
       "      <th>5</th>\n",
       "      <td>0.736029</td>\n",
       "      <td>2.105414</td>\n",
       "      <td>2.813674</td>\n",
       "      <td>-0.961209</td>\n",
       "      <td>-0.087046</td>\n",
       "      <td>0</td>\n",
       "      <td>2.030036</td>\n",
       "      <td>2.802532</td>\n",
       "      <td>0.691460</td>\n",
       "      <td>2.837190</td>\n",
       "      <td>...</td>\n",
       "      <td>0</td>\n",
       "      <td>0</td>\n",
       "      <td>0</td>\n",
       "      <td>0</td>\n",
       "      <td>0</td>\n",
       "      <td>0</td>\n",
       "      <td>0</td>\n",
       "      <td>0</td>\n",
       "      <td>0</td>\n",
       "      <td>0</td>\n",
       "    </tr>\n",
       "  </tbody>\n",
       "</table>\n",
       "<p>5 rows × 79 columns</p>\n",
       "</div>"
      ],
      "text/plain": [
       "   bedrooms  bathrooms  sqft_lot    floors  waterfront  view  sqft_above  \\\n",
       "1 -0.281743   0.337707 -0.116614  1.005307   -0.087046     0    0.667559   \n",
       "2 -1.716211  -1.730377  0.240961 -0.961209   -0.087046     0   -1.750968   \n",
       "3  0.736029   1.071372 -0.527126 -0.961209   -0.087046     0   -1.026980   \n",
       "4 -0.281743   0.037330  0.004719 -0.961209   -0.087046     0    0.070139   \n",
       "5  0.736029   2.105414  2.813674 -0.961209   -0.087046     0    2.030036   \n",
       "\n",
       "   sqft_basement       lat  sqft_living15  ...    98144  98146  98148  98155  \\\n",
       "1       0.247220  1.159259      -0.329620  ...        0      0      0      0   \n",
       "2      -0.657315  1.281074       1.125781  ...        0      0      0      0   \n",
       "3       1.400503 -0.283782      -0.993992  ...        0      0      0      0   \n",
       "4      -0.657315  0.408186      -0.136776  ...        0      0      0      0   \n",
       "5       2.802532  0.691460       2.837190  ...        0      0      0      0   \n",
       "\n",
       "   98166  98168  98177  98178  98188  98198  \n",
       "1      0      0      0      0      0      0  \n",
       "2      0      0      0      0      0      0  \n",
       "3      0      0      0      0      0      0  \n",
       "4      0      0      0      0      0      0  \n",
       "5      0      0      0      0      0      0  \n",
       "\n",
       "[5 rows x 79 columns]"
      ]
     },
     "execution_count": 76,
     "metadata": {},
     "output_type": "execute_result"
    }
   ],
   "source": [
    "# Save the columns we want to include\n",
    "selector = RFE(linreg, n_features_to_select=highest_score[1])\n",
    "selector = selector.fit(X, np.ravel(y))\n",
    "selected_columns = X.columns[selector.support_]\n",
    "X[selected_columns].head()"
   ]
  },
  {
   "cell_type": "code",
   "execution_count": 77,
   "metadata": {
    "ExecuteTime": {
     "end_time": "2019-04-24T15:00:59.056883Z",
     "start_time": "2019-04-24T15:00:58.895138Z"
    }
   },
   "outputs": [
    {
     "data": {
      "text/html": [
       "<table class=\"simpletable\">\n",
       "<caption>OLS Regression Results</caption>\n",
       "<tr>\n",
       "  <th>Dep. Variable:</th>          <td>price</td>      <th>  R-squared:         </th> <td>   0.989</td> \n",
       "</tr>\n",
       "<tr>\n",
       "  <th>Model:</th>                   <td>OLS</td>       <th>  Adj. R-squared:    </th> <td>   0.989</td> \n",
       "</tr>\n",
       "<tr>\n",
       "  <th>Method:</th>             <td>Least Squares</td>  <th>  F-statistic:       </th> <td>2.096e+04</td>\n",
       "</tr>\n",
       "<tr>\n",
       "  <th>Date:</th>             <td>Wed, 24 Apr 2019</td> <th>  Prob (F-statistic):</th>  <td>  0.00</td>  \n",
       "</tr>\n",
       "<tr>\n",
       "  <th>Time:</th>                 <td>10:00:58</td>     <th>  Log-Likelihood:    </th> <td> -32631.</td> \n",
       "</tr>\n",
       "<tr>\n",
       "  <th>No. Observations:</th>      <td> 18749</td>      <th>  AIC:               </th> <td>6.542e+04</td>\n",
       "</tr>\n",
       "<tr>\n",
       "  <th>Df Residuals:</th>          <td> 18670</td>      <th>  BIC:               </th> <td>6.604e+04</td>\n",
       "</tr>\n",
       "<tr>\n",
       "  <th>Df Model:</th>              <td>    79</td>      <th>                     </th>     <td> </td>    \n",
       "</tr>\n",
       "<tr>\n",
       "  <th>Covariance Type:</th>      <td>nonrobust</td>    <th>                     </th>     <td> </td>    \n",
       "</tr>\n",
       "</table>\n",
       "<table class=\"simpletable\">\n",
       "<tr>\n",
       "        <td></td>           <th>coef</th>     <th>std err</th>      <th>t</th>      <th>P>|t|</th>  <th>[0.025</th>    <th>0.975]</th>  \n",
       "</tr>\n",
       "<tr>\n",
       "  <th>bedrooms</th>      <td>   -0.0465</td> <td>    0.014</td> <td>   -3.416</td> <td> 0.001</td> <td>   -0.073</td> <td>   -0.020</td>\n",
       "</tr>\n",
       "<tr>\n",
       "  <th>bathrooms</th>     <td>   -0.0073</td> <td>    0.017</td> <td>   -0.426</td> <td> 0.670</td> <td>   -0.041</td> <td>    0.026</td>\n",
       "</tr>\n",
       "<tr>\n",
       "  <th>sqft_lot</th>      <td>   -0.0868</td> <td>    0.015</td> <td>   -5.831</td> <td> 0.000</td> <td>   -0.116</td> <td>   -0.058</td>\n",
       "</tr>\n",
       "<tr>\n",
       "  <th>floors</th>        <td>    0.0417</td> <td>    0.016</td> <td>    2.561</td> <td> 0.010</td> <td>    0.010</td> <td>    0.074</td>\n",
       "</tr>\n",
       "<tr>\n",
       "  <th>waterfront</th>    <td>    0.0262</td> <td>    0.011</td> <td>    2.449</td> <td> 0.014</td> <td>    0.005</td> <td>    0.047</td>\n",
       "</tr>\n",
       "<tr>\n",
       "  <th>view</th>          <td>    0.6622</td> <td>    0.039</td> <td>   16.836</td> <td> 0.000</td> <td>    0.585</td> <td>    0.739</td>\n",
       "</tr>\n",
       "<tr>\n",
       "  <th>sqft_above</th>    <td>    0.2104</td> <td>    0.022</td> <td>    9.441</td> <td> 0.000</td> <td>    0.167</td> <td>    0.254</td>\n",
       "</tr>\n",
       "<tr>\n",
       "  <th>sqft_basement</th> <td>    0.1930</td> <td>    0.014</td> <td>   13.793</td> <td> 0.000</td> <td>    0.166</td> <td>    0.220</td>\n",
       "</tr>\n",
       "<tr>\n",
       "  <th>lat</th>           <td>    5.7237</td> <td>    0.069</td> <td>   82.555</td> <td> 0.000</td> <td>    5.588</td> <td>    5.860</td>\n",
       "</tr>\n",
       "<tr>\n",
       "  <th>sqft_living15</th> <td>    0.0525</td> <td>    0.017</td> <td>    3.070</td> <td> 0.002</td> <td>    0.019</td> <td>    0.086</td>\n",
       "</tr>\n",
       "<tr>\n",
       "  <th>98001</th>         <td>   22.9142</td> <td>    0.147</td> <td>  155.679</td> <td> 0.000</td> <td>   22.626</td> <td>   23.203</td>\n",
       "</tr>\n",
       "<tr>\n",
       "  <th>98002</th>         <td>   22.8689</td> <td>    0.163</td> <td>  140.318</td> <td> 0.000</td> <td>   22.549</td> <td>   23.188</td>\n",
       "</tr>\n",
       "<tr>\n",
       "  <th>98003</th>         <td>   22.6061</td> <td>    0.150</td> <td>  150.402</td> <td> 0.000</td> <td>   22.311</td> <td>   22.901</td>\n",
       "</tr>\n",
       "<tr>\n",
       "  <th>98004</th>         <td>   11.3822</td> <td>    0.088</td> <td>  129.012</td> <td> 0.000</td> <td>   11.209</td> <td>   11.555</td>\n",
       "</tr>\n",
       "<tr>\n",
       "  <th>98005</th>         <td>   11.2832</td> <td>    0.114</td> <td>   98.747</td> <td> 0.000</td> <td>   11.059</td> <td>   11.507</td>\n",
       "</tr>\n",
       "<tr>\n",
       "  <th>98006</th>         <td>   13.2622</td> <td>    0.068</td> <td>  194.313</td> <td> 0.000</td> <td>   13.128</td> <td>   13.396</td>\n",
       "</tr>\n",
       "<tr>\n",
       "  <th>98007</th>         <td>   11.1973</td> <td>    0.129</td> <td>   86.552</td> <td> 0.000</td> <td>   10.944</td> <td>   11.451</td>\n",
       "</tr>\n",
       "<tr>\n",
       "  <th>98008</th>         <td>   10.9731</td> <td>    0.092</td> <td>  119.731</td> <td> 0.000</td> <td>   10.794</td> <td>   11.153</td>\n",
       "</tr>\n",
       "<tr>\n",
       "  <th>98010</th>         <td>   22.2722</td> <td>    0.188</td> <td>  118.640</td> <td> 0.000</td> <td>   21.904</td> <td>   22.640</td>\n",
       "</tr>\n",
       "<tr>\n",
       "  <th>98011</th>         <td>    4.9648</td> <td>    0.144</td> <td>   34.524</td> <td> 0.000</td> <td>    4.683</td> <td>    5.247</td>\n",
       "</tr>\n",
       "<tr>\n",
       "  <th>98014</th>         <td>    8.4421</td> <td>    0.147</td> <td>   57.247</td> <td> 0.000</td> <td>    8.153</td> <td>    8.731</td>\n",
       "</tr>\n",
       "<tr>\n",
       "  <th>98019</th>         <td>    5.6429</td> <td>    0.140</td> <td>   40.209</td> <td> 0.000</td> <td>    5.368</td> <td>    5.918</td>\n",
       "</tr>\n",
       "<tr>\n",
       "  <th>98022</th>         <td>   26.9859</td> <td>    0.199</td> <td>  135.579</td> <td> 0.000</td> <td>   26.596</td> <td>   27.376</td>\n",
       "</tr>\n",
       "<tr>\n",
       "  <th>98023</th>         <td>   22.9051</td> <td>    0.142</td> <td>  161.002</td> <td> 0.000</td> <td>   22.626</td> <td>   23.184</td>\n",
       "</tr>\n",
       "<tr>\n",
       "  <th>98024</th>         <td>   13.2938</td> <td>    0.165</td> <td>   80.484</td> <td> 0.000</td> <td>   12.970</td> <td>   13.618</td>\n",
       "</tr>\n",
       "<tr>\n",
       "  <th>98027</th>         <td>   14.6630</td> <td>    0.076</td> <td>  192.419</td> <td> 0.000</td> <td>   14.514</td> <td>   14.812</td>\n",
       "</tr>\n",
       "<tr>\n",
       "  <th>98028</th>         <td>    4.8900</td> <td>    0.131</td> <td>   37.322</td> <td> 0.000</td> <td>    4.633</td> <td>    5.147</td>\n",
       "</tr>\n",
       "<tr>\n",
       "  <th>98029</th>         <td>   13.1460</td> <td>    0.083</td> <td>  158.319</td> <td> 0.000</td> <td>   12.983</td> <td>   13.309</td>\n",
       "</tr>\n",
       "<tr>\n",
       "  <th>98030</th>         <td>   20.4823</td> <td>    0.132</td> <td>  155.378</td> <td> 0.000</td> <td>   20.224</td> <td>   20.741</td>\n",
       "</tr>\n",
       "<tr>\n",
       "  <th>98031</th>         <td>   19.1006</td> <td>    0.119</td> <td>  160.504</td> <td> 0.000</td> <td>   18.867</td> <td>   19.334</td>\n",
       "</tr>\n",
       "<tr>\n",
       "  <th>98032</th>         <td>   20.2153</td> <td>    0.160</td> <td>  126.153</td> <td> 0.000</td> <td>   19.901</td> <td>   20.529</td>\n",
       "</tr>\n",
       "<tr>\n",
       "  <th>98033</th>         <td>    8.3788</td> <td>    0.094</td> <td>   89.441</td> <td> 0.000</td> <td>    8.195</td> <td>    8.562</td>\n",
       "</tr>\n",
       "<tr>\n",
       "  <th>98034</th>         <td>    6.4606</td> <td>    0.102</td> <td>   63.202</td> <td> 0.000</td> <td>    6.260</td> <td>    6.661</td>\n",
       "</tr>\n",
       "<tr>\n",
       "  <th>98038</th>         <td>   20.5732</td> <td>    0.113</td> <td>  182.334</td> <td> 0.000</td> <td>   20.352</td> <td>   20.794</td>\n",
       "</tr>\n",
       "<tr>\n",
       "  <th>98039</th>         <td>   11.2235</td> <td>    0.212</td> <td>   52.955</td> <td> 0.000</td> <td>   10.808</td> <td>   11.639</td>\n",
       "</tr>\n",
       "<tr>\n",
       "  <th>98040</th>         <td>   13.3803</td> <td>    0.091</td> <td>  146.845</td> <td> 0.000</td> <td>   13.202</td> <td>   13.559</td>\n",
       "</tr>\n",
       "<tr>\n",
       "  <th>98042</th>         <td>   20.6834</td> <td>    0.116</td> <td>  179.048</td> <td> 0.000</td> <td>   20.457</td> <td>   20.910</td>\n",
       "</tr>\n",
       "<tr>\n",
       "  <th>98045</th>         <td>   16.5768</td> <td>    0.112</td> <td>  148.226</td> <td> 0.000</td> <td>   16.358</td> <td>   16.796</td>\n",
       "</tr>\n",
       "<tr>\n",
       "  <th>98052</th>         <td>    8.2726</td> <td>    0.087</td> <td>   95.387</td> <td> 0.000</td> <td>    8.103</td> <td>    8.443</td>\n",
       "</tr>\n",
       "<tr>\n",
       "  <th>98053</th>         <td>    8.3351</td> <td>    0.096</td> <td>   86.607</td> <td> 0.000</td> <td>    8.147</td> <td>    8.524</td>\n",
       "</tr>\n",
       "<tr>\n",
       "  <th>98055</th>         <td>   16.8361</td> <td>    0.104</td> <td>  161.341</td> <td> 0.000</td> <td>   16.632</td> <td>   17.041</td>\n",
       "</tr>\n",
       "<tr>\n",
       "  <th>98056</th>         <td>   14.9262</td> <td>    0.077</td> <td>  193.115</td> <td> 0.000</td> <td>   14.775</td> <td>   15.078</td>\n",
       "</tr>\n",
       "<tr>\n",
       "  <th>98058</th>         <td>   17.4747</td> <td>    0.091</td> <td>  192.291</td> <td> 0.000</td> <td>   17.297</td> <td>   17.653</td>\n",
       "</tr>\n",
       "<tr>\n",
       "  <th>98059</th>         <td>   15.7523</td> <td>    0.078</td> <td>  203.114</td> <td> 0.000</td> <td>   15.600</td> <td>   15.904</td>\n",
       "</tr>\n",
       "<tr>\n",
       "  <th>98065</th>         <td>   14.0620</td> <td>    0.086</td> <td>  163.593</td> <td> 0.000</td> <td>   13.894</td> <td>   14.231</td>\n",
       "</tr>\n",
       "<tr>\n",
       "  <th>98070</th>         <td>   18.8543</td> <td>    0.156</td> <td>  120.978</td> <td> 0.000</td> <td>   18.549</td> <td>   19.160</td>\n",
       "</tr>\n",
       "<tr>\n",
       "  <th>98072</th>         <td>    5.3066</td> <td>    0.132</td> <td>   40.140</td> <td> 0.000</td> <td>    5.048</td> <td>    5.566</td>\n",
       "</tr>\n",
       "<tr>\n",
       "  <th>98074</th>         <td>   10.5585</td> <td>    0.080</td> <td>  132.760</td> <td> 0.000</td> <td>   10.403</td> <td>   10.714</td>\n",
       "</tr>\n",
       "<tr>\n",
       "  <th>98075</th>         <td>   12.1090</td> <td>    0.081</td> <td>  149.463</td> <td> 0.000</td> <td>   11.950</td> <td>   12.268</td>\n",
       "</tr>\n",
       "<tr>\n",
       "  <th>98077</th>         <td>    5.6272</td> <td>    0.143</td> <td>   39.238</td> <td> 0.000</td> <td>    5.346</td> <td>    5.908</td>\n",
       "</tr>\n",
       "<tr>\n",
       "  <th>98092</th>         <td>   23.3602</td> <td>    0.152</td> <td>  153.693</td> <td> 0.000</td> <td>   23.062</td> <td>   23.658</td>\n",
       "</tr>\n",
       "<tr>\n",
       "  <th>98102</th>         <td>   10.3234</td> <td>    0.153</td> <td>   67.263</td> <td> 0.000</td> <td>   10.023</td> <td>   10.624</td>\n",
       "</tr>\n",
       "<tr>\n",
       "  <th>98103</th>         <td>    8.4200</td> <td>    0.085</td> <td>   99.428</td> <td> 0.000</td> <td>    8.254</td> <td>    8.586</td>\n",
       "</tr>\n",
       "<tr>\n",
       "  <th>98105</th>         <td>    9.0143</td> <td>    0.109</td> <td>   82.368</td> <td> 0.000</td> <td>    8.800</td> <td>    9.229</td>\n",
       "</tr>\n",
       "<tr>\n",
       "  <th>98106</th>         <td>   13.7686</td> <td>    0.083</td> <td>  165.344</td> <td> 0.000</td> <td>   13.605</td> <td>   13.932</td>\n",
       "</tr>\n",
       "<tr>\n",
       "  <th>98107</th>         <td>    8.6884</td> <td>    0.107</td> <td>   81.387</td> <td> 0.000</td> <td>    8.479</td> <td>    8.898</td>\n",
       "</tr>\n",
       "<tr>\n",
       "  <th>98108</th>         <td>   13.2050</td> <td>    0.109</td> <td>  121.409</td> <td> 0.000</td> <td>   12.992</td> <td>   13.418</td>\n",
       "</tr>\n",
       "<tr>\n",
       "  <th>98109</th>         <td>   10.2231</td> <td>    0.149</td> <td>   68.410</td> <td> 0.000</td> <td>    9.930</td> <td>   10.516</td>\n",
       "</tr>\n",
       "<tr>\n",
       "  <th>98112</th>         <td>   10.6454</td> <td>    0.097</td> <td>  109.819</td> <td> 0.000</td> <td>   10.455</td> <td>   10.835</td>\n",
       "</tr>\n",
       "<tr>\n",
       "  <th>98115</th>         <td>    8.0538</td> <td>    0.088</td> <td>   91.308</td> <td> 0.000</td> <td>    7.881</td> <td>    8.227</td>\n",
       "</tr>\n",
       "<tr>\n",
       "  <th>98116</th>         <td>   12.5239</td> <td>    0.083</td> <td>  150.062</td> <td> 0.000</td> <td>   12.360</td> <td>   12.687</td>\n",
       "</tr>\n",
       "<tr>\n",
       "  <th>98117</th>         <td>    7.9883</td> <td>    0.090</td> <td>   89.112</td> <td> 0.000</td> <td>    7.813</td> <td>    8.164</td>\n",
       "</tr>\n",
       "<tr>\n",
       "  <th>98118</th>         <td>   13.5192</td> <td>    0.068</td> <td>  199.575</td> <td> 0.000</td> <td>   13.386</td> <td>   13.652</td>\n",
       "</tr>\n",
       "<tr>\n",
       "  <th>98119</th>         <td>    9.9910</td> <td>    0.118</td> <td>   84.465</td> <td> 0.000</td> <td>    9.759</td> <td>   10.223</td>\n",
       "</tr>\n",
       "<tr>\n",
       "  <th>98122</th>         <td>   11.1338</td> <td>    0.092</td> <td>  121.543</td> <td> 0.000</td> <td>   10.954</td> <td>   11.313</td>\n",
       "</tr>\n",
       "<tr>\n",
       "  <th>98125</th>         <td>    6.5422</td> <td>    0.107</td> <td>   60.920</td> <td> 0.000</td> <td>    6.332</td> <td>    6.753</td>\n",
       "</tr>\n",
       "<tr>\n",
       "  <th>98126</th>         <td>   13.5615</td> <td>    0.082</td> <td>  164.942</td> <td> 0.000</td> <td>   13.400</td> <td>   13.723</td>\n",
       "</tr>\n",
       "<tr>\n",
       "  <th>98133</th>         <td>    5.7143</td> <td>    0.111</td> <td>   51.497</td> <td> 0.000</td> <td>    5.497</td> <td>    5.932</td>\n",
       "</tr>\n",
       "<tr>\n",
       "  <th>98136</th>         <td>   13.8731</td> <td>    0.095</td> <td>  146.681</td> <td> 0.000</td> <td>   13.688</td> <td>   14.058</td>\n",
       "</tr>\n",
       "<tr>\n",
       "  <th>98144</th>         <td>   11.9018</td> <td>    0.083</td> <td>  143.225</td> <td> 0.000</td> <td>   11.739</td> <td>   12.065</td>\n",
       "</tr>\n",
       "<tr>\n",
       "  <th>98146</th>         <td>   15.1356</td> <td>    0.093</td> <td>  162.667</td> <td> 0.000</td> <td>   14.953</td> <td>   15.318</td>\n",
       "</tr>\n",
       "<tr>\n",
       "  <th>98148</th>         <td>   17.8296</td> <td>    0.205</td> <td>   86.896</td> <td> 0.000</td> <td>   17.427</td> <td>   18.232</td>\n",
       "</tr>\n",
       "<tr>\n",
       "  <th>98155</th>         <td>    4.9125</td> <td>    0.120</td> <td>   40.797</td> <td> 0.000</td> <td>    4.676</td> <td>    5.148</td>\n",
       "</tr>\n",
       "<tr>\n",
       "  <th>98166</th>         <td>   17.0759</td> <td>    0.109</td> <td>  157.195</td> <td> 0.000</td> <td>   16.863</td> <td>   17.289</td>\n",
       "</tr>\n",
       "<tr>\n",
       "  <th>98168</th>         <td>   15.5093</td> <td>    0.100</td> <td>  155.594</td> <td> 0.000</td> <td>   15.314</td> <td>   15.705</td>\n",
       "</tr>\n",
       "<tr>\n",
       "  <th>98177</th>         <td>    5.5267</td> <td>    0.129</td> <td>   42.977</td> <td> 0.000</td> <td>    5.275</td> <td>    5.779</td>\n",
       "</tr>\n",
       "<tr>\n",
       "  <th>98178</th>         <td>   15.0497</td> <td>    0.097</td> <td>  154.592</td> <td> 0.000</td> <td>   14.859</td> <td>   15.240</td>\n",
       "</tr>\n",
       "<tr>\n",
       "  <th>98188</th>         <td>   17.2418</td> <td>    0.141</td> <td>  122.379</td> <td> 0.000</td> <td>   16.966</td> <td>   17.518</td>\n",
       "</tr>\n",
       "<tr>\n",
       "  <th>98198</th>         <td>   19.4530</td> <td>    0.125</td> <td>  156.170</td> <td> 0.000</td> <td>   19.209</td> <td>   19.697</td>\n",
       "</tr>\n",
       "</table>\n",
       "<table class=\"simpletable\">\n",
       "<tr>\n",
       "  <th>Omnibus:</th>       <td>17777.594</td> <th>  Durbin-Watson:     </th>  <td>   1.980</td> \n",
       "</tr>\n",
       "<tr>\n",
       "  <th>Prob(Omnibus):</th>  <td> 0.000</td>   <th>  Jarque-Bera (JB):  </th> <td>774919.189</td>\n",
       "</tr>\n",
       "<tr>\n",
       "  <th>Skew:</th>           <td> 4.664</td>   <th>  Prob(JB):          </th>  <td>    0.00</td> \n",
       "</tr>\n",
       "<tr>\n",
       "  <th>Kurtosis:</th>       <td>33.082</td>   <th>  Cond. No.          </th>  <td>    103.</td> \n",
       "</tr>\n",
       "</table>"
      ],
      "text/plain": [
       "<class 'statsmodels.iolib.summary.Summary'>\n",
       "\"\"\"\n",
       "                            OLS Regression Results                            \n",
       "==============================================================================\n",
       "Dep. Variable:                  price   R-squared:                       0.989\n",
       "Model:                            OLS   Adj. R-squared:                  0.989\n",
       "Method:                 Least Squares   F-statistic:                 2.096e+04\n",
       "Date:                Wed, 24 Apr 2019   Prob (F-statistic):               0.00\n",
       "Time:                        10:00:58   Log-Likelihood:                -32631.\n",
       "No. Observations:               18749   AIC:                         6.542e+04\n",
       "Df Residuals:                   18670   BIC:                         6.604e+04\n",
       "Df Model:                          79                                         \n",
       "Covariance Type:            nonrobust                                         \n",
       "=================================================================================\n",
       "                    coef    std err          t      P>|t|      [0.025      0.975]\n",
       "---------------------------------------------------------------------------------\n",
       "bedrooms         -0.0465      0.014     -3.416      0.001      -0.073      -0.020\n",
       "bathrooms        -0.0073      0.017     -0.426      0.670      -0.041       0.026\n",
       "sqft_lot         -0.0868      0.015     -5.831      0.000      -0.116      -0.058\n",
       "floors            0.0417      0.016      2.561      0.010       0.010       0.074\n",
       "waterfront        0.0262      0.011      2.449      0.014       0.005       0.047\n",
       "view              0.6622      0.039     16.836      0.000       0.585       0.739\n",
       "sqft_above        0.2104      0.022      9.441      0.000       0.167       0.254\n",
       "sqft_basement     0.1930      0.014     13.793      0.000       0.166       0.220\n",
       "lat               5.7237      0.069     82.555      0.000       5.588       5.860\n",
       "sqft_living15     0.0525      0.017      3.070      0.002       0.019       0.086\n",
       "98001            22.9142      0.147    155.679      0.000      22.626      23.203\n",
       "98002            22.8689      0.163    140.318      0.000      22.549      23.188\n",
       "98003            22.6061      0.150    150.402      0.000      22.311      22.901\n",
       "98004            11.3822      0.088    129.012      0.000      11.209      11.555\n",
       "98005            11.2832      0.114     98.747      0.000      11.059      11.507\n",
       "98006            13.2622      0.068    194.313      0.000      13.128      13.396\n",
       "98007            11.1973      0.129     86.552      0.000      10.944      11.451\n",
       "98008            10.9731      0.092    119.731      0.000      10.794      11.153\n",
       "98010            22.2722      0.188    118.640      0.000      21.904      22.640\n",
       "98011             4.9648      0.144     34.524      0.000       4.683       5.247\n",
       "98014             8.4421      0.147     57.247      0.000       8.153       8.731\n",
       "98019             5.6429      0.140     40.209      0.000       5.368       5.918\n",
       "98022            26.9859      0.199    135.579      0.000      26.596      27.376\n",
       "98023            22.9051      0.142    161.002      0.000      22.626      23.184\n",
       "98024            13.2938      0.165     80.484      0.000      12.970      13.618\n",
       "98027            14.6630      0.076    192.419      0.000      14.514      14.812\n",
       "98028             4.8900      0.131     37.322      0.000       4.633       5.147\n",
       "98029            13.1460      0.083    158.319      0.000      12.983      13.309\n",
       "98030            20.4823      0.132    155.378      0.000      20.224      20.741\n",
       "98031            19.1006      0.119    160.504      0.000      18.867      19.334\n",
       "98032            20.2153      0.160    126.153      0.000      19.901      20.529\n",
       "98033             8.3788      0.094     89.441      0.000       8.195       8.562\n",
       "98034             6.4606      0.102     63.202      0.000       6.260       6.661\n",
       "98038            20.5732      0.113    182.334      0.000      20.352      20.794\n",
       "98039            11.2235      0.212     52.955      0.000      10.808      11.639\n",
       "98040            13.3803      0.091    146.845      0.000      13.202      13.559\n",
       "98042            20.6834      0.116    179.048      0.000      20.457      20.910\n",
       "98045            16.5768      0.112    148.226      0.000      16.358      16.796\n",
       "98052             8.2726      0.087     95.387      0.000       8.103       8.443\n",
       "98053             8.3351      0.096     86.607      0.000       8.147       8.524\n",
       "98055            16.8361      0.104    161.341      0.000      16.632      17.041\n",
       "98056            14.9262      0.077    193.115      0.000      14.775      15.078\n",
       "98058            17.4747      0.091    192.291      0.000      17.297      17.653\n",
       "98059            15.7523      0.078    203.114      0.000      15.600      15.904\n",
       "98065            14.0620      0.086    163.593      0.000      13.894      14.231\n",
       "98070            18.8543      0.156    120.978      0.000      18.549      19.160\n",
       "98072             5.3066      0.132     40.140      0.000       5.048       5.566\n",
       "98074            10.5585      0.080    132.760      0.000      10.403      10.714\n",
       "98075            12.1090      0.081    149.463      0.000      11.950      12.268\n",
       "98077             5.6272      0.143     39.238      0.000       5.346       5.908\n",
       "98092            23.3602      0.152    153.693      0.000      23.062      23.658\n",
       "98102            10.3234      0.153     67.263      0.000      10.023      10.624\n",
       "98103             8.4200      0.085     99.428      0.000       8.254       8.586\n",
       "98105             9.0143      0.109     82.368      0.000       8.800       9.229\n",
       "98106            13.7686      0.083    165.344      0.000      13.605      13.932\n",
       "98107             8.6884      0.107     81.387      0.000       8.479       8.898\n",
       "98108            13.2050      0.109    121.409      0.000      12.992      13.418\n",
       "98109            10.2231      0.149     68.410      0.000       9.930      10.516\n",
       "98112            10.6454      0.097    109.819      0.000      10.455      10.835\n",
       "98115             8.0538      0.088     91.308      0.000       7.881       8.227\n",
       "98116            12.5239      0.083    150.062      0.000      12.360      12.687\n",
       "98117             7.9883      0.090     89.112      0.000       7.813       8.164\n",
       "98118            13.5192      0.068    199.575      0.000      13.386      13.652\n",
       "98119             9.9910      0.118     84.465      0.000       9.759      10.223\n",
       "98122            11.1338      0.092    121.543      0.000      10.954      11.313\n",
       "98125             6.5422      0.107     60.920      0.000       6.332       6.753\n",
       "98126            13.5615      0.082    164.942      0.000      13.400      13.723\n",
       "98133             5.7143      0.111     51.497      0.000       5.497       5.932\n",
       "98136            13.8731      0.095    146.681      0.000      13.688      14.058\n",
       "98144            11.9018      0.083    143.225      0.000      11.739      12.065\n",
       "98146            15.1356      0.093    162.667      0.000      14.953      15.318\n",
       "98148            17.8296      0.205     86.896      0.000      17.427      18.232\n",
       "98155             4.9125      0.120     40.797      0.000       4.676       5.148\n",
       "98166            17.0759      0.109    157.195      0.000      16.863      17.289\n",
       "98168            15.5093      0.100    155.594      0.000      15.314      15.705\n",
       "98177             5.5267      0.129     42.977      0.000       5.275       5.779\n",
       "98178            15.0497      0.097    154.592      0.000      14.859      15.240\n",
       "98188            17.2418      0.141    122.379      0.000      16.966      17.518\n",
       "98198            19.4530      0.125    156.170      0.000      19.209      19.697\n",
       "==============================================================================\n",
       "Omnibus:                    17777.594   Durbin-Watson:                   1.980\n",
       "Prob(Omnibus):                  0.000   Jarque-Bera (JB):           774919.189\n",
       "Skew:                           4.664   Prob(JB):                         0.00\n",
       "Kurtosis:                      33.082   Cond. No.                         103.\n",
       "==============================================================================\n",
       "\n",
       "Warnings:\n",
       "[1] Standard Errors assume that the covariance matrix of the errors is correctly specified.\n",
       "\"\"\""
      ]
     },
     "execution_count": 77,
     "metadata": {},
     "output_type": "execute_result"
    }
   ],
   "source": [
    "# Refit model based on the number of features that best predicts outcome\n",
    "model = sm.OLS(y_log, X[selected_columns]).fit()\n",
    "model.summary()"
   ]
  },
  {
   "cell_type": "markdown",
   "metadata": {},
   "source": [
    "<a id=\"4.4\"></a>\n",
    "### 4. Final Model"
   ]
  },
  {
   "cell_type": "code",
   "execution_count": 78,
   "metadata": {
    "ExecuteTime": {
     "end_time": "2019-04-24T15:00:59.257976Z",
     "start_time": "2019-04-24T15:00:59.059120Z"
    }
   },
   "outputs": [
    {
     "data": {
      "text/html": [
       "<table class=\"simpletable\">\n",
       "<caption>OLS Regression Results</caption>\n",
       "<tr>\n",
       "  <th>Dep. Variable:</th>          <td>price</td>      <th>  R-squared:         </th> <td>   0.989</td> \n",
       "</tr>\n",
       "<tr>\n",
       "  <th>Model:</th>                   <td>OLS</td>       <th>  Adj. R-squared:    </th> <td>   0.989</td> \n",
       "</tr>\n",
       "<tr>\n",
       "  <th>Method:</th>             <td>Least Squares</td>  <th>  F-statistic:       </th> <td>2.123e+04</td>\n",
       "</tr>\n",
       "<tr>\n",
       "  <th>Date:</th>             <td>Wed, 24 Apr 2019</td> <th>  Prob (F-statistic):</th>  <td>  0.00</td>  \n",
       "</tr>\n",
       "<tr>\n",
       "  <th>Time:</th>                 <td>10:00:59</td>     <th>  Log-Likelihood:    </th> <td> -32631.</td> \n",
       "</tr>\n",
       "<tr>\n",
       "  <th>No. Observations:</th>      <td> 18749</td>      <th>  AIC:               </th> <td>6.542e+04</td>\n",
       "</tr>\n",
       "<tr>\n",
       "  <th>Df Residuals:</th>          <td> 18671</td>      <th>  BIC:               </th> <td>6.603e+04</td>\n",
       "</tr>\n",
       "<tr>\n",
       "  <th>Df Model:</th>              <td>    78</td>      <th>                     </th>     <td> </td>    \n",
       "</tr>\n",
       "<tr>\n",
       "  <th>Covariance Type:</th>      <td>nonrobust</td>    <th>                     </th>     <td> </td>    \n",
       "</tr>\n",
       "</table>\n",
       "<table class=\"simpletable\">\n",
       "<tr>\n",
       "        <td></td>           <th>coef</th>     <th>std err</th>      <th>t</th>      <th>P>|t|</th>  <th>[0.025</th>    <th>0.975]</th>  \n",
       "</tr>\n",
       "<tr>\n",
       "  <th>bedrooms</th>      <td>   -0.0474</td> <td>    0.013</td> <td>   -3.521</td> <td> 0.000</td> <td>   -0.074</td> <td>   -0.021</td>\n",
       "</tr>\n",
       "<tr>\n",
       "  <th>sqft_lot</th>      <td>   -0.0858</td> <td>    0.015</td> <td>   -5.839</td> <td> 0.000</td> <td>   -0.115</td> <td>   -0.057</td>\n",
       "</tr>\n",
       "<tr>\n",
       "  <th>floors</th>        <td>    0.0398</td> <td>    0.016</td> <td>    2.542</td> <td> 0.011</td> <td>    0.009</td> <td>    0.070</td>\n",
       "</tr>\n",
       "<tr>\n",
       "  <th>waterfront</th>    <td>    0.0262</td> <td>    0.011</td> <td>    2.453</td> <td> 0.014</td> <td>    0.005</td> <td>    0.047</td>\n",
       "</tr>\n",
       "<tr>\n",
       "  <th>view</th>          <td>    0.6625</td> <td>    0.039</td> <td>   16.845</td> <td> 0.000</td> <td>    0.585</td> <td>    0.740</td>\n",
       "</tr>\n",
       "<tr>\n",
       "  <th>sqft_above</th>    <td>    0.2072</td> <td>    0.021</td> <td>    9.856</td> <td> 0.000</td> <td>    0.166</td> <td>    0.248</td>\n",
       "</tr>\n",
       "<tr>\n",
       "  <th>sqft_basement</th> <td>    0.1905</td> <td>    0.013</td> <td>   15.000</td> <td> 0.000</td> <td>    0.166</td> <td>    0.215</td>\n",
       "</tr>\n",
       "<tr>\n",
       "  <th>lat</th>           <td>    5.7239</td> <td>    0.069</td> <td>   82.564</td> <td> 0.000</td> <td>    5.588</td> <td>    5.860</td>\n",
       "</tr>\n",
       "<tr>\n",
       "  <th>sqft_living15</th> <td>    0.0520</td> <td>    0.017</td> <td>    3.047</td> <td> 0.002</td> <td>    0.019</td> <td>    0.085</td>\n",
       "</tr>\n",
       "<tr>\n",
       "  <th>98001</th>         <td>   22.9140</td> <td>    0.147</td> <td>  155.682</td> <td> 0.000</td> <td>   22.626</td> <td>   23.203</td>\n",
       "</tr>\n",
       "<tr>\n",
       "  <th>98002</th>         <td>   22.8692</td> <td>    0.163</td> <td>  140.325</td> <td> 0.000</td> <td>   22.550</td> <td>   23.189</td>\n",
       "</tr>\n",
       "<tr>\n",
       "  <th>98003</th>         <td>   22.6054</td> <td>    0.150</td> <td>  150.409</td> <td> 0.000</td> <td>   22.311</td> <td>   22.900</td>\n",
       "</tr>\n",
       "<tr>\n",
       "  <th>98004</th>         <td>   11.3823</td> <td>    0.088</td> <td>  129.016</td> <td> 0.000</td> <td>   11.209</td> <td>   11.555</td>\n",
       "</tr>\n",
       "<tr>\n",
       "  <th>98005</th>         <td>   11.2822</td> <td>    0.114</td> <td>   98.763</td> <td> 0.000</td> <td>   11.058</td> <td>   11.506</td>\n",
       "</tr>\n",
       "<tr>\n",
       "  <th>98006</th>         <td>   13.2622</td> <td>    0.068</td> <td>  194.317</td> <td> 0.000</td> <td>   13.128</td> <td>   13.396</td>\n",
       "</tr>\n",
       "<tr>\n",
       "  <th>98007</th>         <td>   11.1972</td> <td>    0.129</td> <td>   86.554</td> <td> 0.000</td> <td>   10.944</td> <td>   11.451</td>\n",
       "</tr>\n",
       "<tr>\n",
       "  <th>98008</th>         <td>   10.9726</td> <td>    0.092</td> <td>  119.740</td> <td> 0.000</td> <td>   10.793</td> <td>   11.152</td>\n",
       "</tr>\n",
       "<tr>\n",
       "  <th>98010</th>         <td>   22.2720</td> <td>    0.188</td> <td>  118.642</td> <td> 0.000</td> <td>   21.904</td> <td>   22.640</td>\n",
       "</tr>\n",
       "<tr>\n",
       "  <th>98011</th>         <td>    4.9634</td> <td>    0.144</td> <td>   34.524</td> <td> 0.000</td> <td>    4.682</td> <td>    5.245</td>\n",
       "</tr>\n",
       "<tr>\n",
       "  <th>98014</th>         <td>    8.4401</td> <td>    0.147</td> <td>   57.263</td> <td> 0.000</td> <td>    8.151</td> <td>    8.729</td>\n",
       "</tr>\n",
       "<tr>\n",
       "  <th>98019</th>         <td>    5.6412</td> <td>    0.140</td> <td>   40.214</td> <td> 0.000</td> <td>    5.366</td> <td>    5.916</td>\n",
       "</tr>\n",
       "<tr>\n",
       "  <th>98022</th>         <td>   26.9853</td> <td>    0.199</td> <td>  135.583</td> <td> 0.000</td> <td>   26.595</td> <td>   27.375</td>\n",
       "</tr>\n",
       "<tr>\n",
       "  <th>98023</th>         <td>   22.9048</td> <td>    0.142</td> <td>  161.005</td> <td> 0.000</td> <td>   22.626</td> <td>   23.184</td>\n",
       "</tr>\n",
       "<tr>\n",
       "  <th>98024</th>         <td>   13.2922</td> <td>    0.165</td> <td>   80.497</td> <td> 0.000</td> <td>   12.969</td> <td>   13.616</td>\n",
       "</tr>\n",
       "<tr>\n",
       "  <th>98027</th>         <td>   14.6623</td> <td>    0.076</td> <td>  192.463</td> <td> 0.000</td> <td>   14.513</td> <td>   14.812</td>\n",
       "</tr>\n",
       "<tr>\n",
       "  <th>98028</th>         <td>    4.8892</td> <td>    0.131</td> <td>   37.320</td> <td> 0.000</td> <td>    4.632</td> <td>    5.146</td>\n",
       "</tr>\n",
       "<tr>\n",
       "  <th>98029</th>         <td>   13.1445</td> <td>    0.083</td> <td>  158.450</td> <td> 0.000</td> <td>   12.982</td> <td>   13.307</td>\n",
       "</tr>\n",
       "<tr>\n",
       "  <th>98030</th>         <td>   20.4817</td> <td>    0.132</td> <td>  155.386</td> <td> 0.000</td> <td>   20.223</td> <td>   20.740</td>\n",
       "</tr>\n",
       "<tr>\n",
       "  <th>98031</th>         <td>   19.0995</td> <td>    0.119</td> <td>  160.539</td> <td> 0.000</td> <td>   18.866</td> <td>   19.333</td>\n",
       "</tr>\n",
       "<tr>\n",
       "  <th>98032</th>         <td>   20.2170</td> <td>    0.160</td> <td>  126.206</td> <td> 0.000</td> <td>   19.903</td> <td>   20.531</td>\n",
       "</tr>\n",
       "<tr>\n",
       "  <th>98033</th>         <td>    8.3782</td> <td>    0.094</td> <td>   89.446</td> <td> 0.000</td> <td>    8.195</td> <td>    8.562</td>\n",
       "</tr>\n",
       "<tr>\n",
       "  <th>98034</th>         <td>    6.4592</td> <td>    0.102</td> <td>   63.225</td> <td> 0.000</td> <td>    6.259</td> <td>    6.659</td>\n",
       "</tr>\n",
       "<tr>\n",
       "  <th>98038</th>         <td>   20.5717</td> <td>    0.113</td> <td>  182.422</td> <td> 0.000</td> <td>   20.351</td> <td>   20.793</td>\n",
       "</tr>\n",
       "<tr>\n",
       "  <th>98039</th>         <td>   11.2228</td> <td>    0.212</td> <td>   52.955</td> <td> 0.000</td> <td>   10.807</td> <td>   11.638</td>\n",
       "</tr>\n",
       "<tr>\n",
       "  <th>98040</th>         <td>   13.3805</td> <td>    0.091</td> <td>  146.850</td> <td> 0.000</td> <td>   13.202</td> <td>   13.559</td>\n",
       "</tr>\n",
       "<tr>\n",
       "  <th>98042</th>         <td>   20.6825</td> <td>    0.115</td> <td>  179.073</td> <td> 0.000</td> <td>   20.456</td> <td>   20.909</td>\n",
       "</tr>\n",
       "<tr>\n",
       "  <th>98045</th>         <td>   16.5750</td> <td>    0.112</td> <td>  148.315</td> <td> 0.000</td> <td>   16.356</td> <td>   16.794</td>\n",
       "</tr>\n",
       "<tr>\n",
       "  <th>98052</th>         <td>    8.2715</td> <td>    0.087</td> <td>   95.416</td> <td> 0.000</td> <td>    8.102</td> <td>    8.441</td>\n",
       "</tr>\n",
       "<tr>\n",
       "  <th>98053</th>         <td>    8.3332</td> <td>    0.096</td> <td>   86.689</td> <td> 0.000</td> <td>    8.145</td> <td>    8.522</td>\n",
       "</tr>\n",
       "<tr>\n",
       "  <th>98055</th>         <td>   16.8361</td> <td>    0.104</td> <td>  161.344</td> <td> 0.000</td> <td>   16.632</td> <td>   17.041</td>\n",
       "</tr>\n",
       "<tr>\n",
       "  <th>98056</th>         <td>   14.9265</td> <td>    0.077</td> <td>  193.130</td> <td> 0.000</td> <td>   14.775</td> <td>   15.078</td>\n",
       "</tr>\n",
       "<tr>\n",
       "  <th>98058</th>         <td>   17.4741</td> <td>    0.091</td> <td>  192.313</td> <td> 0.000</td> <td>   17.296</td> <td>   17.652</td>\n",
       "</tr>\n",
       "<tr>\n",
       "  <th>98059</th>         <td>   15.7520</td> <td>    0.078</td> <td>  203.121</td> <td> 0.000</td> <td>   15.600</td> <td>   15.904</td>\n",
       "</tr>\n",
       "<tr>\n",
       "  <th>98065</th>         <td>   14.0618</td> <td>    0.086</td> <td>  163.598</td> <td> 0.000</td> <td>   13.893</td> <td>   14.230</td>\n",
       "</tr>\n",
       "<tr>\n",
       "  <th>98070</th>         <td>   18.8528</td> <td>    0.156</td> <td>  121.002</td> <td> 0.000</td> <td>   18.547</td> <td>   19.158</td>\n",
       "</tr>\n",
       "<tr>\n",
       "  <th>98072</th>         <td>    5.3053</td> <td>    0.132</td> <td>   40.142</td> <td> 0.000</td> <td>    5.046</td> <td>    5.564</td>\n",
       "</tr>\n",
       "<tr>\n",
       "  <th>98074</th>         <td>   10.5577</td> <td>    0.080</td> <td>  132.794</td> <td> 0.000</td> <td>   10.402</td> <td>   10.714</td>\n",
       "</tr>\n",
       "<tr>\n",
       "  <th>98075</th>         <td>   12.1083</td> <td>    0.081</td> <td>  149.487</td> <td> 0.000</td> <td>   11.950</td> <td>   12.267</td>\n",
       "</tr>\n",
       "<tr>\n",
       "  <th>98077</th>         <td>    5.6257</td> <td>    0.143</td> <td>   39.240</td> <td> 0.000</td> <td>    5.345</td> <td>    5.907</td>\n",
       "</tr>\n",
       "<tr>\n",
       "  <th>98092</th>         <td>   23.3596</td> <td>    0.152</td> <td>  153.700</td> <td> 0.000</td> <td>   23.062</td> <td>   23.657</td>\n",
       "</tr>\n",
       "<tr>\n",
       "  <th>98102</th>         <td>   10.3247</td> <td>    0.153</td> <td>   67.287</td> <td> 0.000</td> <td>   10.024</td> <td>   10.625</td>\n",
       "</tr>\n",
       "<tr>\n",
       "  <th>98103</th>         <td>    8.4212</td> <td>    0.085</td> <td>   99.506</td> <td> 0.000</td> <td>    8.255</td> <td>    8.587</td>\n",
       "</tr>\n",
       "<tr>\n",
       "  <th>98105</th>         <td>    9.0156</td> <td>    0.109</td> <td>   82.414</td> <td> 0.000</td> <td>    8.801</td> <td>    9.230</td>\n",
       "</tr>\n",
       "<tr>\n",
       "  <th>98106</th>         <td>   13.7686</td> <td>    0.083</td> <td>  165.347</td> <td> 0.000</td> <td>   13.605</td> <td>   13.932</td>\n",
       "</tr>\n",
       "<tr>\n",
       "  <th>98107</th>         <td>    8.6883</td> <td>    0.107</td> <td>   81.388</td> <td> 0.000</td> <td>    8.479</td> <td>    8.898</td>\n",
       "</tr>\n",
       "<tr>\n",
       "  <th>98108</th>         <td>   13.2052</td> <td>    0.109</td> <td>  121.415</td> <td> 0.000</td> <td>   12.992</td> <td>   13.418</td>\n",
       "</tr>\n",
       "<tr>\n",
       "  <th>98109</th>         <td>   10.2245</td> <td>    0.149</td> <td>   68.438</td> <td> 0.000</td> <td>    9.932</td> <td>   10.517</td>\n",
       "</tr>\n",
       "<tr>\n",
       "  <th>98112</th>         <td>   10.6475</td> <td>    0.097</td> <td>  109.980</td> <td> 0.000</td> <td>   10.458</td> <td>   10.837</td>\n",
       "</tr>\n",
       "<tr>\n",
       "  <th>98115</th>         <td>    8.0552</td> <td>    0.088</td> <td>   91.385</td> <td> 0.000</td> <td>    7.882</td> <td>    8.228</td>\n",
       "</tr>\n",
       "<tr>\n",
       "  <th>98116</th>         <td>   12.5246</td> <td>    0.083</td> <td>  150.104</td> <td> 0.000</td> <td>   12.361</td> <td>   12.688</td>\n",
       "</tr>\n",
       "<tr>\n",
       "  <th>98117</th>         <td>    7.9893</td> <td>    0.090</td> <td>   89.161</td> <td> 0.000</td> <td>    7.814</td> <td>    8.165</td>\n",
       "</tr>\n",
       "<tr>\n",
       "  <th>98118</th>         <td>   13.5207</td> <td>    0.068</td> <td>  199.878</td> <td> 0.000</td> <td>   13.388</td> <td>   13.653</td>\n",
       "</tr>\n",
       "<tr>\n",
       "  <th>98119</th>         <td>    9.9919</td> <td>    0.118</td> <td>   84.489</td> <td> 0.000</td> <td>    9.760</td> <td>   10.224</td>\n",
       "</tr>\n",
       "<tr>\n",
       "  <th>98122</th>         <td>   11.1347</td> <td>    0.092</td> <td>  121.587</td> <td> 0.000</td> <td>   10.955</td> <td>   11.314</td>\n",
       "</tr>\n",
       "<tr>\n",
       "  <th>98125</th>         <td>    6.5430</td> <td>    0.107</td> <td>   60.936</td> <td> 0.000</td> <td>    6.333</td> <td>    6.753</td>\n",
       "</tr>\n",
       "<tr>\n",
       "  <th>98126</th>         <td>   13.5627</td> <td>    0.082</td> <td>  165.062</td> <td> 0.000</td> <td>   13.402</td> <td>   13.724</td>\n",
       "</tr>\n",
       "<tr>\n",
       "  <th>98133</th>         <td>    5.7152</td> <td>    0.111</td> <td>   51.514</td> <td> 0.000</td> <td>    5.498</td> <td>    5.933</td>\n",
       "</tr>\n",
       "<tr>\n",
       "  <th>98136</th>         <td>   13.8739</td> <td>    0.095</td> <td>  146.727</td> <td> 0.000</td> <td>   13.689</td> <td>   14.059</td>\n",
       "</tr>\n",
       "<tr>\n",
       "  <th>98144</th>         <td>   11.9032</td> <td>    0.083</td> <td>  143.356</td> <td> 0.000</td> <td>   11.740</td> <td>   12.066</td>\n",
       "</tr>\n",
       "<tr>\n",
       "  <th>98146</th>         <td>   15.1370</td> <td>    0.093</td> <td>  162.795</td> <td> 0.000</td> <td>   14.955</td> <td>   15.319</td>\n",
       "</tr>\n",
       "<tr>\n",
       "  <th>98148</th>         <td>   17.8293</td> <td>    0.205</td> <td>   86.897</td> <td> 0.000</td> <td>   17.427</td> <td>   18.231</td>\n",
       "</tr>\n",
       "<tr>\n",
       "  <th>98155</th>         <td>    4.9126</td> <td>    0.120</td> <td>   40.799</td> <td> 0.000</td> <td>    4.677</td> <td>    5.149</td>\n",
       "</tr>\n",
       "<tr>\n",
       "  <th>98166</th>         <td>   17.0766</td> <td>    0.109</td> <td>  157.223</td> <td> 0.000</td> <td>   16.864</td> <td>   17.290</td>\n",
       "</tr>\n",
       "<tr>\n",
       "  <th>98168</th>         <td>   15.5118</td> <td>    0.100</td> <td>  155.897</td> <td> 0.000</td> <td>   15.317</td> <td>   15.707</td>\n",
       "</tr>\n",
       "<tr>\n",
       "  <th>98177</th>         <td>    5.5270</td> <td>    0.129</td> <td>   42.981</td> <td> 0.000</td> <td>    5.275</td> <td>    5.779</td>\n",
       "</tr>\n",
       "<tr>\n",
       "  <th>98178</th>         <td>   15.0508</td> <td>    0.097</td> <td>  154.669</td> <td> 0.000</td> <td>   14.860</td> <td>   15.242</td>\n",
       "</tr>\n",
       "<tr>\n",
       "  <th>98188</th>         <td>   17.2426</td> <td>    0.141</td> <td>  122.400</td> <td> 0.000</td> <td>   16.967</td> <td>   17.519</td>\n",
       "</tr>\n",
       "<tr>\n",
       "  <th>98198</th>         <td>   19.4537</td> <td>    0.125</td> <td>  156.190</td> <td> 0.000</td> <td>   19.210</td> <td>   19.698</td>\n",
       "</tr>\n",
       "</table>\n",
       "<table class=\"simpletable\">\n",
       "<tr>\n",
       "  <th>Omnibus:</th>       <td>17779.969</td> <th>  Durbin-Watson:     </th>  <td>   1.980</td> \n",
       "</tr>\n",
       "<tr>\n",
       "  <th>Prob(Omnibus):</th>  <td> 0.000</td>   <th>  Jarque-Bera (JB):  </th> <td>775312.173</td>\n",
       "</tr>\n",
       "<tr>\n",
       "  <th>Skew:</th>           <td> 4.665</td>   <th>  Prob(JB):          </th>  <td>    0.00</td> \n",
       "</tr>\n",
       "<tr>\n",
       "  <th>Kurtosis:</th>       <td>33.090</td>   <th>  Cond. No.          </th>  <td>    92.0</td> \n",
       "</tr>\n",
       "</table>"
      ],
      "text/plain": [
       "<class 'statsmodels.iolib.summary.Summary'>\n",
       "\"\"\"\n",
       "                            OLS Regression Results                            \n",
       "==============================================================================\n",
       "Dep. Variable:                  price   R-squared:                       0.989\n",
       "Model:                            OLS   Adj. R-squared:                  0.989\n",
       "Method:                 Least Squares   F-statistic:                 2.123e+04\n",
       "Date:                Wed, 24 Apr 2019   Prob (F-statistic):               0.00\n",
       "Time:                        10:00:59   Log-Likelihood:                -32631.\n",
       "No. Observations:               18749   AIC:                         6.542e+04\n",
       "Df Residuals:                   18671   BIC:                         6.603e+04\n",
       "Df Model:                          78                                         \n",
       "Covariance Type:            nonrobust                                         \n",
       "=================================================================================\n",
       "                    coef    std err          t      P>|t|      [0.025      0.975]\n",
       "---------------------------------------------------------------------------------\n",
       "bedrooms         -0.0474      0.013     -3.521      0.000      -0.074      -0.021\n",
       "sqft_lot         -0.0858      0.015     -5.839      0.000      -0.115      -0.057\n",
       "floors            0.0398      0.016      2.542      0.011       0.009       0.070\n",
       "waterfront        0.0262      0.011      2.453      0.014       0.005       0.047\n",
       "view              0.6625      0.039     16.845      0.000       0.585       0.740\n",
       "sqft_above        0.2072      0.021      9.856      0.000       0.166       0.248\n",
       "sqft_basement     0.1905      0.013     15.000      0.000       0.166       0.215\n",
       "lat               5.7239      0.069     82.564      0.000       5.588       5.860\n",
       "sqft_living15     0.0520      0.017      3.047      0.002       0.019       0.085\n",
       "98001            22.9140      0.147    155.682      0.000      22.626      23.203\n",
       "98002            22.8692      0.163    140.325      0.000      22.550      23.189\n",
       "98003            22.6054      0.150    150.409      0.000      22.311      22.900\n",
       "98004            11.3823      0.088    129.016      0.000      11.209      11.555\n",
       "98005            11.2822      0.114     98.763      0.000      11.058      11.506\n",
       "98006            13.2622      0.068    194.317      0.000      13.128      13.396\n",
       "98007            11.1972      0.129     86.554      0.000      10.944      11.451\n",
       "98008            10.9726      0.092    119.740      0.000      10.793      11.152\n",
       "98010            22.2720      0.188    118.642      0.000      21.904      22.640\n",
       "98011             4.9634      0.144     34.524      0.000       4.682       5.245\n",
       "98014             8.4401      0.147     57.263      0.000       8.151       8.729\n",
       "98019             5.6412      0.140     40.214      0.000       5.366       5.916\n",
       "98022            26.9853      0.199    135.583      0.000      26.595      27.375\n",
       "98023            22.9048      0.142    161.005      0.000      22.626      23.184\n",
       "98024            13.2922      0.165     80.497      0.000      12.969      13.616\n",
       "98027            14.6623      0.076    192.463      0.000      14.513      14.812\n",
       "98028             4.8892      0.131     37.320      0.000       4.632       5.146\n",
       "98029            13.1445      0.083    158.450      0.000      12.982      13.307\n",
       "98030            20.4817      0.132    155.386      0.000      20.223      20.740\n",
       "98031            19.0995      0.119    160.539      0.000      18.866      19.333\n",
       "98032            20.2170      0.160    126.206      0.000      19.903      20.531\n",
       "98033             8.3782      0.094     89.446      0.000       8.195       8.562\n",
       "98034             6.4592      0.102     63.225      0.000       6.259       6.659\n",
       "98038            20.5717      0.113    182.422      0.000      20.351      20.793\n",
       "98039            11.2228      0.212     52.955      0.000      10.807      11.638\n",
       "98040            13.3805      0.091    146.850      0.000      13.202      13.559\n",
       "98042            20.6825      0.115    179.073      0.000      20.456      20.909\n",
       "98045            16.5750      0.112    148.315      0.000      16.356      16.794\n",
       "98052             8.2715      0.087     95.416      0.000       8.102       8.441\n",
       "98053             8.3332      0.096     86.689      0.000       8.145       8.522\n",
       "98055            16.8361      0.104    161.344      0.000      16.632      17.041\n",
       "98056            14.9265      0.077    193.130      0.000      14.775      15.078\n",
       "98058            17.4741      0.091    192.313      0.000      17.296      17.652\n",
       "98059            15.7520      0.078    203.121      0.000      15.600      15.904\n",
       "98065            14.0618      0.086    163.598      0.000      13.893      14.230\n",
       "98070            18.8528      0.156    121.002      0.000      18.547      19.158\n",
       "98072             5.3053      0.132     40.142      0.000       5.046       5.564\n",
       "98074            10.5577      0.080    132.794      0.000      10.402      10.714\n",
       "98075            12.1083      0.081    149.487      0.000      11.950      12.267\n",
       "98077             5.6257      0.143     39.240      0.000       5.345       5.907\n",
       "98092            23.3596      0.152    153.700      0.000      23.062      23.657\n",
       "98102            10.3247      0.153     67.287      0.000      10.024      10.625\n",
       "98103             8.4212      0.085     99.506      0.000       8.255       8.587\n",
       "98105             9.0156      0.109     82.414      0.000       8.801       9.230\n",
       "98106            13.7686      0.083    165.347      0.000      13.605      13.932\n",
       "98107             8.6883      0.107     81.388      0.000       8.479       8.898\n",
       "98108            13.2052      0.109    121.415      0.000      12.992      13.418\n",
       "98109            10.2245      0.149     68.438      0.000       9.932      10.517\n",
       "98112            10.6475      0.097    109.980      0.000      10.458      10.837\n",
       "98115             8.0552      0.088     91.385      0.000       7.882       8.228\n",
       "98116            12.5246      0.083    150.104      0.000      12.361      12.688\n",
       "98117             7.9893      0.090     89.161      0.000       7.814       8.165\n",
       "98118            13.5207      0.068    199.878      0.000      13.388      13.653\n",
       "98119             9.9919      0.118     84.489      0.000       9.760      10.224\n",
       "98122            11.1347      0.092    121.587      0.000      10.955      11.314\n",
       "98125             6.5430      0.107     60.936      0.000       6.333       6.753\n",
       "98126            13.5627      0.082    165.062      0.000      13.402      13.724\n",
       "98133             5.7152      0.111     51.514      0.000       5.498       5.933\n",
       "98136            13.8739      0.095    146.727      0.000      13.689      14.059\n",
       "98144            11.9032      0.083    143.356      0.000      11.740      12.066\n",
       "98146            15.1370      0.093    162.795      0.000      14.955      15.319\n",
       "98148            17.8293      0.205     86.897      0.000      17.427      18.231\n",
       "98155             4.9126      0.120     40.799      0.000       4.677       5.149\n",
       "98166            17.0766      0.109    157.223      0.000      16.864      17.290\n",
       "98168            15.5118      0.100    155.897      0.000      15.317      15.707\n",
       "98177             5.5270      0.129     42.981      0.000       5.275       5.779\n",
       "98178            15.0508      0.097    154.669      0.000      14.860      15.242\n",
       "98188            17.2426      0.141    122.400      0.000      16.967      17.519\n",
       "98198            19.4537      0.125    156.190      0.000      19.210      19.698\n",
       "==============================================================================\n",
       "Omnibus:                    17779.969   Durbin-Watson:                   1.980\n",
       "Prob(Omnibus):                  0.000   Jarque-Bera (JB):           775312.173\n",
       "Skew:                           4.665   Prob(JB):                         0.00\n",
       "Kurtosis:                      33.090   Cond. No.                         92.0\n",
       "==============================================================================\n",
       "\n",
       "Warnings:\n",
       "[1] Standard Errors assume that the covariance matrix of the errors is correctly specified.\n",
       "\"\"\""
      ]
     },
     "execution_count": 78,
     "metadata": {},
     "output_type": "execute_result"
    }
   ],
   "source": [
    "# Remove features with a pvalue < 0.05\n",
    "columns = model.pvalues[model.pvalues <= 0.05]\n",
    "columns.index\n",
    "model = sm.OLS(y_log, X[columns.index]).fit()\n",
    "model.summary()"
   ]
  },
  {
   "cell_type": "markdown",
   "metadata": {},
   "source": [
    "Since the r-squared doesn't change, we know removing the columns with a low p-value doesn't effect our model"
   ]
  },
  {
   "cell_type": "markdown",
   "metadata": {},
   "source": [
    "<a id=\"5\"></a>\n",
    "## Interpretation\n",
    "\n",
    "Our final model was highly predictive with an r-squared of  **0.989**, compared to **0.749** before feature selection and **0.799** before we log transformed our dependent variable. So, **98.9%** of of the variations are explained by our model. Our final model included 78 variables, 70 of which were zip code one hot encoded columns. Most of the numeric variables in our dataset were nearly as predicitive of price as the zip codes. In the end the biggest factors were variables that had to do with location and size. \n",
    "\n",
    "### Latitude\n",
    "The `lat` coefficient is **5.7239**. Meaning that with all other predictors held constant, a one standard deviation (**0.13873483127904035**) change in `lat` causes a **30,509.64%** change in price. For perspectie, that's about a **3182%** change for every mile. Since latitude gets bigger as it moves from the equator to the poles, `price` increases as we move North. This was was a little surprising to me, so I did some research on Seattle. It seems that the industrial parts are directly below downtown. So it would make sense that the more popular areas to live would be the suburbs to the North. Roughly **89.2%** of houses sold in this dataset were north of the industrial district despite the fact that the industrial district is relatively far north in terms of the county as a whole. So it would make sense that the more popular areas to live would be the suburbs to the North. \n",
    "\n",
    "### Square Feet Above\n",
    "Other than `lat` and the zip codes, the two predictors dealing with the size of the house had the largest impact on the `price` of the house. The `sqft_above` coefficient was **0.2072**, which means that for every 100 feet added `sqft_above`, `price` increases **2.38%**. We expected this to be the case where as a house gets bigger, so does the `price`. `sqft_basement` has a pretty similar effect, albeit slightly less.\n",
    "\n",
    "### View\n",
    "The `view` coefficient is **0.6625**. Meaning that with all other predictors held constant, a one standard deviation (0.29519038492) change in `view` causes a 93.96% change in price. Since `view` is binary, it's only helpful to calculate the difference between not having been viewed versus being viewed is. \n",
    "\n",
    "| View | Change in Price|\n",
    "|------|----------------|\n",
    "| Yes  | 287.61%        |\n",
    "| No   | -30.7%         |\n",
    "\n",
    "So you should always show the house before a sale because it has dramatic effect on the price you're able to sell it for and not showing it can actually hurt you. \n",
    "\n",
    "### Other Notable Observations\n",
    "The interesting thing is thtat none of the zip codes in our model had a negative impact on the price, just a wide variance in positive impacts. The highest impact zip code was `zipcode_98022` with a coefficient of **26.9853** and the lowest was `zipcode_98028` with a coefficient of **4.8892**. With the largest cofficient for a non-zip code independent variable being `lat` (**5.7239**) and all others being below **1**, we can conclude that location really is king in real estate. "
   ]
  },
  {
   "cell_type": "markdown",
   "metadata": {},
   "source": [
    "# Conclusion\n",
    "\n",
    "\n",
    "\n",
    "# Future Work\n",
    "\n",
    "1. Expand the time covered\n",
    "To make the results more reliable, we need to expand the timeframe of the data in this project. Currently, we only have a short period of time accounted for and none of it was in a bear market. \n",
    "\n",
    "2. Adjust our definitions\n",
    "Currently we are only calculating if the price of the stock increased, decreased or stayed the same. We should adjust our definitions to be in relation to the overal performance of the S&P 500. There are plenty of low cost ETF's and mutual funds that follow the S&P 500. So, for our model to be actionable, we need to make sure that the stocks we are recommending as growth companies will outperform easier, less risky options.\n",
    "\n",
    "3. Broaden our focus\n",
    "We can expand the reach of our project by including stocks taht aren't in the S&P 500. Potentially finding a lot more high growth companies. \n",
    "\n",
    "---\n",
    "\n",
    "# Recap\n",
    "## Scrub\n",
    "\n",
    "### Dealing with Datatypes\n",
    "- Waterfront and zipcode were cast to categorical variables\n",
    "- Sqft_basement, view and yr_renovated were cast to ints\n",
    "- Turned date into a numermerical column so that we can run statistics on it.\n",
    "\n",
    "### Dealing with Null Values\n",
    "- Chose to drop all rows that had null values in the view and sqft_basement columns\n",
    "- For yr_renovated, we replaced all null and 0 values with the year that the house was built. \n",
    "\n",
    "### Check for Multicolinearity\n",
    "\n",
    "**Columns with high correlation:**\n",
    "- sqft_living, sqft_above and grade\n",
    "- bathrooms, sqft_living\\*\n",
    "- sqft_lot and sqft_lot15\n",
    "- yr_built and year_renovated\n",
    "\n",
    "**DROPPED:**\n",
    "- id\n",
    "- grade\n",
    "- sqft_living\n",
    "- sqft_lot15\n",
    "- yr_renovated\n",
    "\n",
    "### Normalized Data\n",
    "\n",
    "- Log transformed certain independent variables and the dependent variable\n",
    "- Standardized numerical columns to reduce the influence of units or scale\n",
    "\n",
    "## Model\n",
    "\n",
    "### Dimensionality Reduction\n",
    "- Used K-Fold Cross Validation using several values for k to insure no overfitting. \n",
    "- Calculated the r squared scores and standard deviation of the r squared scores for each trial. \n",
    "- Determined that the results were consistent no matter how the data was divided into train/test sets. \n",
    "- Determined 79 features was the most perdictive model with the least variance\n",
    "\n",
    "### Final Model\n",
    "- Using 79 features, we built an OLS regression model for Price\n",
    "\n",
    "\n",
    "\n"
   ]
  },
  {
   "cell_type": "code",
   "execution_count": null,
   "metadata": {
    "collapsed": true
   },
   "outputs": [],
   "source": []
  }
 ],
 "metadata": {
  "hide_input": false,
  "kernelspec": {
   "display_name": "Python 3",
   "language": "python",
   "name": "python3"
  },
  "language_info": {
   "codemirror_mode": {
    "name": "ipython",
    "version": 3
   },
   "file_extension": ".py",
   "mimetype": "text/x-python",
   "name": "python",
   "nbconvert_exporter": "python",
   "pygments_lexer": "ipython3",
   "version": "3.6.9"
  },
  "toc": {
   "base_numbering": 1,
   "nav_menu": {},
   "number_sections": true,
   "sideBar": true,
   "skip_h1_title": false,
   "title_cell": "Table of Contents",
   "title_sidebar": "Contents",
   "toc_cell": false,
   "toc_position": {
    "height": "calc(100% - 180px)",
    "left": "10px",
    "top": "150px",
    "width": "165px"
   },
   "toc_section_display": true,
   "toc_window_display": false
  },
  "varInspector": {
   "cols": {
    "lenName": 16,
    "lenType": 16,
    "lenVar": 40
   },
   "kernels_config": {
    "python": {
     "delete_cmd_postfix": "",
     "delete_cmd_prefix": "del ",
     "library": "var_list.py",
     "varRefreshCmd": "print(var_dic_list())"
    },
    "r": {
     "delete_cmd_postfix": ") ",
     "delete_cmd_prefix": "rm(",
     "library": "var_list.r",
     "varRefreshCmd": "cat(var_dic_list()) "
    }
   },
   "oldHeight": 122.69881799999999,
   "position": {
    "height": "40px",
    "left": "968.078px",
    "right": "20px",
    "top": "2px",
    "width": "250px"
   },
   "types_to_exclude": [
    "module",
    "function",
    "builtin_function_or_method",
    "instance",
    "_Feature"
   ],
   "varInspector_section_display": "none",
   "window_display": true
  }
 },
 "nbformat": 4,
 "nbformat_minor": 2
}
