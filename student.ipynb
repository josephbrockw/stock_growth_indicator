{
 "cells": [
  {
   "cell_type": "markdown",
   "metadata": {},
   "source": [
    "# Growth Stock Indicator\n",
    "\n",
    "Please fill out:\n",
    "* Student name: Joe Wilkinson\n",
    "* Student pace: self paced\n",
    "* Scheduled project review date/time: \n",
    "* Instructor name: \n",
    "* Blog post URL:\n"
   ]
  },
  {
   "cell_type": "markdown",
   "metadata": {},
   "source": [
    "## OSEMN\n",
    "Obtain - Scrub - Explore - Model - Interpret\n",
    "\n",
    "We used the OSEMN framework to evaluate our stock market data with the intent of building a model to classify stock prices as growth, contract, or neutral based on where the stock will be one year out. \n",
    "\n",
    "## Table of Contents\n",
    "\n",
    "### [1. Obtain](#1)\n",
    "1. [Project Discovery](#1.1)\n",
    "2. [Library and Data Import](#1.2)\n",
    "\n",
    "### [2. Scrub and Explore](#2)\n",
    "1. [Subsample](#2.1)\n",
    "2. [Dealing with Data Types](#2.2)\n",
    "3. [Dealing with Null Values](#2.3)\n",
    "4. [Check for Multicollinearity](#2.4)\n",
    "5. [Normalize Data](#2.5)\n",
    "6. [Creating visualizations](#2.6)\n",
    "\n",
    "### [4. Model](#4)\n",
    "1. [One - Hot - Encoding](#4.1)\n",
    "2. [Regression](#4.2)\n",
    "3. [Dimensionality Reduction](#4.3)\n",
    "4. [Final Model](#4.4)\n",
    "\n",
    "\n",
    "### [5. Interpret](#5) "
   ]
  },
  {
   "cell_type": "markdown",
   "metadata": {},
   "source": [
    "<a id=\"1\"></a>\n",
    "## Obtain"
   ]
  },
  {
   "cell_type": "markdown",
   "metadata": {},
   "source": [
    "<a id=\"1.1\"></a>\n",
    "### New York Stock Exchange data from S&P 500\n",
    "The dataset we are using to build our model is from Dominik Gawlik and was posted on [Kaggle](https://www.kaggle.com/dgawlik/nyse) with a CCO: Public Domain liscense. Prices were fetched from Yahoo Finance, fundamentals are from Nasdaq Financials, extended by some fields from EDGAR SEC databases. The data is split up into multiple CSV files.\n",
    "\n",
    "1. **prices.csv:** Raw, as-is daily prices. Most of data spans from 2010 to the end 2016, for companies new on stock market date range is shorter. There have been approx. 140 stock splits in that time, this set doesn't account for that.\n",
    "\n",
    "2. **prices-split-adjusted.csv:** Same as prices, but there have been added adjustments for splits.\n",
    "\n",
    "3. **securities.csv:** General description of each company with division on sectors\n",
    "\n",
    "4. **fundamentals.csv:** Metrics extracted from annual SEC 10K fillings (2012-2016), should be enough to derive most of popular fundamental indicators."
   ]
  },
  {
   "cell_type": "markdown",
   "metadata": {},
   "source": [
    "<a id=\"1.2\"></a>\n",
    "### Importing Libraries and Data"
   ]
  },
  {
   "cell_type": "code",
   "execution_count": 2,
   "metadata": {
    "ExecuteTime": {
     "end_time": "2019-09-29T22:47:58.138962Z",
     "start_time": "2019-09-29T22:47:56.710703Z"
    }
   },
   "outputs": [
    {
     "data": {
      "application/javascript": [
       "if (!(\"Notification\" in window)) {\n",
       "    alert(\"This browser does not support desktop notifications, so the %%notify magic will not work.\");\n",
       "} else if (Notification.permission !== 'granted' && Notification.permission !== 'denied') {\n",
       "    Notification.requestPermission(function (permission) {\n",
       "        if(!('permission' in Notification)) {\n",
       "            Notification.permission = permission;\n",
       "        }\n",
       "    })\n",
       "}\n"
      ],
      "text/plain": [
       "<IPython.core.display.Javascript object>"
      ]
     },
     "metadata": {},
     "output_type": "display_data"
    }
   ],
   "source": [
    "#imports and loading in data\n",
    "import pandas as pd\n",
    "import seaborn as sns\n",
    "import matplotlib.pyplot as plt\n",
    "import numpy as np\n",
    "import datetime as dt\n",
    "from dateutil.relativedelta import relativedelta\n",
    "from sklearn.model_selection import train_test_split\n",
    "from sklearn.preprocessing import StandardScaler\n",
    "from sklearn.metrics import confusion_matrix\n",
    "from sklearn.ensemble import RandomForestClassifier\n",
    "import jupyternotify\n",
    "import time\n",
    "\n",
    "%load_ext jupyternotify\n",
    "%autonotify -a 30\n",
    "%matplotlib inline\n",
    "plt.style.use('ggplot')"
   ]
  },
  {
   "cell_type": "markdown",
   "metadata": {},
   "source": [
    "The `fundamentals` CSV is where we'll get most of our predictors from. This file contains data from the financial filings of each company. Filed once a year, so each row will join with 365 days of stock prices.\n",
    "\n",
    "In talking to industry experts, we can reduce dimensionality right away by dropping columns that are unlikely to have major impacts or are too highly correlated (sometimes caused) with other predictiors. "
   ]
  },
  {
   "cell_type": "code",
   "execution_count": 175,
   "metadata": {
    "ExecuteTime": {
     "end_time": "2019-09-06T02:46:18.485494Z",
     "start_time": "2019-09-06T02:46:18.428130Z"
    }
   },
   "outputs": [
    {
     "data": {
      "text/html": [
       "<div>\n",
       "<style scoped>\n",
       "    .dataframe tbody tr th:only-of-type {\n",
       "        vertical-align: middle;\n",
       "    }\n",
       "\n",
       "    .dataframe tbody tr th {\n",
       "        vertical-align: top;\n",
       "    }\n",
       "\n",
       "    .dataframe thead th {\n",
       "        text-align: right;\n",
       "    }\n",
       "</style>\n",
       "<table border=\"1\" class=\"dataframe\">\n",
       "  <thead>\n",
       "    <tr style=\"text-align: right;\">\n",
       "      <th></th>\n",
       "      <th>Ticker Symbol</th>\n",
       "      <th>Period Ending</th>\n",
       "      <th>Accounts Payable</th>\n",
       "      <th>Accounts Receivable</th>\n",
       "      <th>Add'l income/expense items</th>\n",
       "      <th>After Tax ROE</th>\n",
       "      <th>Capital Expenditures</th>\n",
       "      <th>Capital Surplus</th>\n",
       "      <th>Cash Ratio</th>\n",
       "      <th>Cash and Cash Equivalents</th>\n",
       "      <th>...</th>\n",
       "      <th>Total Current Assets</th>\n",
       "      <th>Total Current Liabilities</th>\n",
       "      <th>Total Equity</th>\n",
       "      <th>Total Liabilities</th>\n",
       "      <th>Total Liabilities &amp; Equity</th>\n",
       "      <th>Total Revenue</th>\n",
       "      <th>Treasury Stock</th>\n",
       "      <th>For Year</th>\n",
       "      <th>Earnings Per Share</th>\n",
       "      <th>Estimated Shares Outstanding</th>\n",
       "    </tr>\n",
       "  </thead>\n",
       "  <tbody>\n",
       "    <tr>\n",
       "      <td>0</td>\n",
       "      <td>AAL</td>\n",
       "      <td>2012-12-31</td>\n",
       "      <td>3.068000e+09</td>\n",
       "      <td>-222000000.0</td>\n",
       "      <td>-1.961000e+09</td>\n",
       "      <td>23.0</td>\n",
       "      <td>-1.888000e+09</td>\n",
       "      <td>4.695000e+09</td>\n",
       "      <td>53.0</td>\n",
       "      <td>1.330000e+09</td>\n",
       "      <td>...</td>\n",
       "      <td>7.072000e+09</td>\n",
       "      <td>9.011000e+09</td>\n",
       "      <td>-7.987000e+09</td>\n",
       "      <td>2.489100e+10</td>\n",
       "      <td>1.690400e+10</td>\n",
       "      <td>2.485500e+10</td>\n",
       "      <td>-367000000.0</td>\n",
       "      <td>2012.0</td>\n",
       "      <td>-5.60</td>\n",
       "      <td>3.350000e+08</td>\n",
       "    </tr>\n",
       "    <tr>\n",
       "      <td>1</td>\n",
       "      <td>AAL</td>\n",
       "      <td>2013-12-31</td>\n",
       "      <td>4.975000e+09</td>\n",
       "      <td>-93000000.0</td>\n",
       "      <td>-2.723000e+09</td>\n",
       "      <td>67.0</td>\n",
       "      <td>-3.114000e+09</td>\n",
       "      <td>1.059200e+10</td>\n",
       "      <td>75.0</td>\n",
       "      <td>2.175000e+09</td>\n",
       "      <td>...</td>\n",
       "      <td>1.432300e+10</td>\n",
       "      <td>1.380600e+10</td>\n",
       "      <td>-2.731000e+09</td>\n",
       "      <td>4.500900e+10</td>\n",
       "      <td>4.227800e+10</td>\n",
       "      <td>2.674300e+10</td>\n",
       "      <td>0.0</td>\n",
       "      <td>2013.0</td>\n",
       "      <td>-11.25</td>\n",
       "      <td>1.630222e+08</td>\n",
       "    </tr>\n",
       "    <tr>\n",
       "      <td>2</td>\n",
       "      <td>AAL</td>\n",
       "      <td>2014-12-31</td>\n",
       "      <td>4.668000e+09</td>\n",
       "      <td>-160000000.0</td>\n",
       "      <td>-1.500000e+08</td>\n",
       "      <td>143.0</td>\n",
       "      <td>-5.311000e+09</td>\n",
       "      <td>1.513500e+10</td>\n",
       "      <td>60.0</td>\n",
       "      <td>1.768000e+09</td>\n",
       "      <td>...</td>\n",
       "      <td>1.175000e+10</td>\n",
       "      <td>1.340400e+10</td>\n",
       "      <td>2.021000e+09</td>\n",
       "      <td>4.120400e+10</td>\n",
       "      <td>4.322500e+10</td>\n",
       "      <td>4.265000e+10</td>\n",
       "      <td>0.0</td>\n",
       "      <td>2014.0</td>\n",
       "      <td>4.02</td>\n",
       "      <td>7.169154e+08</td>\n",
       "    </tr>\n",
       "    <tr>\n",
       "      <td>3</td>\n",
       "      <td>AAL</td>\n",
       "      <td>2015-12-31</td>\n",
       "      <td>5.102000e+09</td>\n",
       "      <td>352000000.0</td>\n",
       "      <td>-7.080000e+08</td>\n",
       "      <td>135.0</td>\n",
       "      <td>-6.151000e+09</td>\n",
       "      <td>1.159100e+10</td>\n",
       "      <td>51.0</td>\n",
       "      <td>1.085000e+09</td>\n",
       "      <td>...</td>\n",
       "      <td>9.985000e+09</td>\n",
       "      <td>1.360500e+10</td>\n",
       "      <td>5.635000e+09</td>\n",
       "      <td>4.278000e+10</td>\n",
       "      <td>4.841500e+10</td>\n",
       "      <td>4.099000e+10</td>\n",
       "      <td>0.0</td>\n",
       "      <td>2015.0</td>\n",
       "      <td>11.39</td>\n",
       "      <td>6.681299e+08</td>\n",
       "    </tr>\n",
       "    <tr>\n",
       "      <td>4</td>\n",
       "      <td>AAP</td>\n",
       "      <td>2012-12-29</td>\n",
       "      <td>2.409453e+09</td>\n",
       "      <td>-89482000.0</td>\n",
       "      <td>6.000000e+05</td>\n",
       "      <td>32.0</td>\n",
       "      <td>-2.711820e+08</td>\n",
       "      <td>5.202150e+08</td>\n",
       "      <td>23.0</td>\n",
       "      <td>5.981110e+08</td>\n",
       "      <td>...</td>\n",
       "      <td>3.184200e+09</td>\n",
       "      <td>2.559638e+09</td>\n",
       "      <td>1.210694e+09</td>\n",
       "      <td>3.403120e+09</td>\n",
       "      <td>4.613814e+09</td>\n",
       "      <td>6.205003e+09</td>\n",
       "      <td>-27095000.0</td>\n",
       "      <td>2012.0</td>\n",
       "      <td>5.29</td>\n",
       "      <td>7.328355e+07</td>\n",
       "    </tr>\n",
       "  </tbody>\n",
       "</table>\n",
       "<p>5 rows × 78 columns</p>\n",
       "</div>"
      ],
      "text/plain": [
       "  Ticker Symbol Period Ending  Accounts Payable  Accounts Receivable  \\\n",
       "0           AAL    2012-12-31      3.068000e+09         -222000000.0   \n",
       "1           AAL    2013-12-31      4.975000e+09          -93000000.0   \n",
       "2           AAL    2014-12-31      4.668000e+09         -160000000.0   \n",
       "3           AAL    2015-12-31      5.102000e+09          352000000.0   \n",
       "4           AAP    2012-12-29      2.409453e+09          -89482000.0   \n",
       "\n",
       "   Add'l income/expense items  After Tax ROE  Capital Expenditures  \\\n",
       "0               -1.961000e+09           23.0         -1.888000e+09   \n",
       "1               -2.723000e+09           67.0         -3.114000e+09   \n",
       "2               -1.500000e+08          143.0         -5.311000e+09   \n",
       "3               -7.080000e+08          135.0         -6.151000e+09   \n",
       "4                6.000000e+05           32.0         -2.711820e+08   \n",
       "\n",
       "   Capital Surplus  Cash Ratio  Cash and Cash Equivalents  ...  \\\n",
       "0     4.695000e+09        53.0               1.330000e+09  ...   \n",
       "1     1.059200e+10        75.0               2.175000e+09  ...   \n",
       "2     1.513500e+10        60.0               1.768000e+09  ...   \n",
       "3     1.159100e+10        51.0               1.085000e+09  ...   \n",
       "4     5.202150e+08        23.0               5.981110e+08  ...   \n",
       "\n",
       "   Total Current Assets  Total Current Liabilities  Total Equity  \\\n",
       "0          7.072000e+09               9.011000e+09 -7.987000e+09   \n",
       "1          1.432300e+10               1.380600e+10 -2.731000e+09   \n",
       "2          1.175000e+10               1.340400e+10  2.021000e+09   \n",
       "3          9.985000e+09               1.360500e+10  5.635000e+09   \n",
       "4          3.184200e+09               2.559638e+09  1.210694e+09   \n",
       "\n",
       "   Total Liabilities  Total Liabilities & Equity  Total Revenue  \\\n",
       "0       2.489100e+10                1.690400e+10   2.485500e+10   \n",
       "1       4.500900e+10                4.227800e+10   2.674300e+10   \n",
       "2       4.120400e+10                4.322500e+10   4.265000e+10   \n",
       "3       4.278000e+10                4.841500e+10   4.099000e+10   \n",
       "4       3.403120e+09                4.613814e+09   6.205003e+09   \n",
       "\n",
       "   Treasury Stock  For Year  Earnings Per Share  Estimated Shares Outstanding  \n",
       "0    -367000000.0    2012.0               -5.60                  3.350000e+08  \n",
       "1             0.0    2013.0              -11.25                  1.630222e+08  \n",
       "2             0.0    2014.0                4.02                  7.169154e+08  \n",
       "3             0.0    2015.0               11.39                  6.681299e+08  \n",
       "4     -27095000.0    2012.0                5.29                  7.328355e+07  \n",
       "\n",
       "[5 rows x 78 columns]"
      ]
     },
     "execution_count": 175,
     "metadata": {},
     "output_type": "execute_result"
    }
   ],
   "source": [
    "fundamentals = pd.read_csv('fundamentals.csv', index_col=0)\n",
    "fundamentals.head()"
   ]
  },
  {
   "cell_type": "code",
   "execution_count": 176,
   "metadata": {
    "ExecuteTime": {
     "end_time": "2019-09-06T02:46:22.602384Z",
     "start_time": "2019-09-06T02:46:22.589283Z"
    }
   },
   "outputs": [
    {
     "name": "stdout",
     "output_type": "stream",
     "text": [
      "<class 'pandas.core.frame.DataFrame'>\n",
      "Int64Index: 1781 entries, 0 to 1780\n",
      "Data columns (total 26 columns):\n",
      "Ticker Symbol                                          1781 non-null object\n",
      "Period Ending                                          1781 non-null object\n",
      "Accounts Payable                                       1781 non-null float64\n",
      "Accounts Receivable                                    1781 non-null float64\n",
      "Cash and Cash Equivalents                              1781 non-null float64\n",
      "Fixed Assets                                           1781 non-null float64\n",
      "Inventory                                              1781 non-null float64\n",
      "Investments                                            1781 non-null float64\n",
      "Liabilities                                            1781 non-null float64\n",
      "Long-Term Debt                                         1781 non-null float64\n",
      "Long-Term Investments                                  1781 non-null float64\n",
      "Net Income                                             1781 non-null float64\n",
      "Operating Income                                       1781 non-null float64\n",
      "Other Current Assets                                   1781 non-null float64\n",
      "Other Current Liabilities                              1781 non-null float64\n",
      "Research and Development                               1781 non-null float64\n",
      "Short-Term Debt / Current Portion of Long-Term Debt    1781 non-null float64\n",
      "Short-Term Investments                                 1781 non-null float64\n",
      "Total Assets                                           1781 non-null float64\n",
      "Total Current Assets                                   1781 non-null float64\n",
      "Total Current Liabilities                              1781 non-null float64\n",
      "Total Equity                                           1781 non-null float64\n",
      "Total Liabilities                                      1781 non-null float64\n",
      "Total Liabilities & Equity                             1781 non-null float64\n",
      "Total Revenue                                          1781 non-null float64\n",
      "Earnings Per Share                                     1562 non-null float64\n",
      "dtypes: float64(24), object(2)\n",
      "memory usage: 375.7+ KB\n"
     ]
    }
   ],
   "source": [
    "fundamentals.drop(['Add\\'l income/expense items', 'After Tax ROE', 'Capital Expenditures', 'Capital Surplus', \n",
    "                   'Cash Ratio', 'Changes in Inventories', 'Common Stocks', 'Cost of Revenue', 'Current Ratio',\n",
    "                   'Deferred Asset Charges', 'Deferred Liability Charges', 'Depreciation', \n",
    "                   'Earnings Before Interest and Tax', 'Earnings Before Tax', 'Effect of Exchange Rate', \n",
    "                   'Equity Earnings/Loss Unconsolidated Subsidiary', 'Goodwill', 'Gross Margin',\n",
    "                   'Gross Profit', 'Income Tax', 'Intangible Assets', 'Interest Expense', 'Minority Interest', \n",
    "                   'Misc. Stocks', 'Net Borrowings', 'Net Cash Flow', 'Net Cash Flow-Operating', \n",
    "                   'Net Cash Flows-Financing', 'Net Cash Flows-Investing',\n",
    "                   'Net Income Adjustments', 'Net Income Applicable to Common Shareholders', \n",
    "                   'Net Income-Cont. Operations', 'Net Receivables', 'Non-Recurring Items', 'Operating Margin', \n",
    "                   'Other Assets', 'Other Equity', 'Other Financing Activities', 'Other Investing Activities', \n",
    "                   'Other Liabilities', 'Other Operating Activities', 'Other Operating Items', 'Pre-Tax Margin', \n",
    "                   'Pre-Tax ROE', 'Profit Margin', 'Quick Ratio', 'Retained Earnings',\n",
    "                   'Sale and Purchase of Stock', 'Sales, General and Admin.', 'Treasury Stock', 'For Year',\n",
    "                   'Estimated Shares Outstanding'],\n",
    "                  axis = 1, inplace = True)\n",
    "fundamentals.info()"
   ]
  },
  {
   "cell_type": "markdown",
   "metadata": {
    "ExecuteTime": {
     "end_time": "2019-08-12T17:03:13.593938Z",
     "start_time": "2019-08-12T17:03:12.685016Z"
    }
   },
   "source": [
    "For stock prices, we'll use the `adjusted for split` prices so that stock splits won't affect the outcomes of our classification."
   ]
  },
  {
   "cell_type": "code",
   "execution_count": 177,
   "metadata": {
    "ExecuteTime": {
     "end_time": "2019-09-06T02:46:25.816065Z",
     "start_time": "2019-09-06T02:46:25.108849Z"
    }
   },
   "outputs": [
    {
     "data": {
      "text/html": [
       "<div>\n",
       "<style scoped>\n",
       "    .dataframe tbody tr th:only-of-type {\n",
       "        vertical-align: middle;\n",
       "    }\n",
       "\n",
       "    .dataframe tbody tr th {\n",
       "        vertical-align: top;\n",
       "    }\n",
       "\n",
       "    .dataframe thead th {\n",
       "        text-align: right;\n",
       "    }\n",
       "</style>\n",
       "<table border=\"1\" class=\"dataframe\">\n",
       "  <thead>\n",
       "    <tr style=\"text-align: right;\">\n",
       "      <th></th>\n",
       "      <th>date</th>\n",
       "      <th>symbol</th>\n",
       "      <th>close</th>\n",
       "    </tr>\n",
       "  </thead>\n",
       "  <tbody>\n",
       "    <tr>\n",
       "      <td>0</td>\n",
       "      <td>2016-01-05</td>\n",
       "      <td>WLTW</td>\n",
       "      <td>125.839996</td>\n",
       "    </tr>\n",
       "    <tr>\n",
       "      <td>1</td>\n",
       "      <td>2016-01-06</td>\n",
       "      <td>WLTW</td>\n",
       "      <td>119.980003</td>\n",
       "    </tr>\n",
       "    <tr>\n",
       "      <td>2</td>\n",
       "      <td>2016-01-07</td>\n",
       "      <td>WLTW</td>\n",
       "      <td>114.949997</td>\n",
       "    </tr>\n",
       "    <tr>\n",
       "      <td>3</td>\n",
       "      <td>2016-01-08</td>\n",
       "      <td>WLTW</td>\n",
       "      <td>116.620003</td>\n",
       "    </tr>\n",
       "    <tr>\n",
       "      <td>4</td>\n",
       "      <td>2016-01-11</td>\n",
       "      <td>WLTW</td>\n",
       "      <td>114.970001</td>\n",
       "    </tr>\n",
       "  </tbody>\n",
       "</table>\n",
       "</div>"
      ],
      "text/plain": [
       "         date symbol       close\n",
       "0  2016-01-05   WLTW  125.839996\n",
       "1  2016-01-06   WLTW  119.980003\n",
       "2  2016-01-07   WLTW  114.949997\n",
       "3  2016-01-08   WLTW  116.620003\n",
       "4  2016-01-11   WLTW  114.970001"
      ]
     },
     "execution_count": 177,
     "metadata": {},
     "output_type": "execute_result"
    }
   ],
   "source": [
    "adj_price = pd.read_csv('prices-split-adjusted.csv')\n",
    "adj_price.drop(['open', 'high', 'low', 'volume'], axis = 1, inplace = True)\n",
    "adj_price.head()\n",
    "# adj_price.info()"
   ]
  },
  {
   "cell_type": "code",
   "execution_count": 178,
   "metadata": {
    "ExecuteTime": {
     "end_time": "2019-09-06T02:46:26.081358Z",
     "start_time": "2019-09-06T02:46:26.064538Z"
    }
   },
   "outputs": [
    {
     "data": {
      "text/html": [
       "<div>\n",
       "<style scoped>\n",
       "    .dataframe tbody tr th:only-of-type {\n",
       "        vertical-align: middle;\n",
       "    }\n",
       "\n",
       "    .dataframe tbody tr th {\n",
       "        vertical-align: top;\n",
       "    }\n",
       "\n",
       "    .dataframe thead th {\n",
       "        text-align: right;\n",
       "    }\n",
       "</style>\n",
       "<table border=\"1\" class=\"dataframe\">\n",
       "  <thead>\n",
       "    <tr style=\"text-align: right;\">\n",
       "      <th></th>\n",
       "      <th>Ticker symbol</th>\n",
       "      <th>GICS Sector</th>\n",
       "    </tr>\n",
       "  </thead>\n",
       "  <tbody>\n",
       "    <tr>\n",
       "      <td>0</td>\n",
       "      <td>MMM</td>\n",
       "      <td>Industrials</td>\n",
       "    </tr>\n",
       "    <tr>\n",
       "      <td>1</td>\n",
       "      <td>ABT</td>\n",
       "      <td>Health Care</td>\n",
       "    </tr>\n",
       "    <tr>\n",
       "      <td>2</td>\n",
       "      <td>ABBV</td>\n",
       "      <td>Health Care</td>\n",
       "    </tr>\n",
       "    <tr>\n",
       "      <td>3</td>\n",
       "      <td>ACN</td>\n",
       "      <td>Information Technology</td>\n",
       "    </tr>\n",
       "    <tr>\n",
       "      <td>4</td>\n",
       "      <td>ATVI</td>\n",
       "      <td>Information Technology</td>\n",
       "    </tr>\n",
       "  </tbody>\n",
       "</table>\n",
       "</div>"
      ],
      "text/plain": [
       "  Ticker symbol             GICS Sector\n",
       "0           MMM             Industrials\n",
       "1           ABT             Health Care\n",
       "2          ABBV             Health Care\n",
       "3           ACN  Information Technology\n",
       "4          ATVI  Information Technology"
      ]
     },
     "execution_count": 178,
     "metadata": {},
     "output_type": "execute_result"
    }
   ],
   "source": [
    "securities = pd.read_csv('securities.csv')\n",
    "securities.drop(['Security', 'SEC filings', 'GICS Sub Industry', 'Address of Headquarters', \n",
    "                 'Date first added', 'CIK'], axis = 1, inplace = True)\n",
    "securities.head()"
   ]
  },
  {
   "cell_type": "markdown",
   "metadata": {},
   "source": [
    "## Joining Tables\n",
    "Now that we have all the data, we have to combine it into one dataframe. Before we do that, we drop all the columns that we won't use.\n",
    "- fundamentals: [Unnamed: 0]\n",
    "- price: [open, low, high]\n",
    "- Securities: [SEC filings, Date first added, CIK]\n",
    "\n",
    "Then we'll add the `securities` details to each of the observations in `adj_price`, merging on the `stock symbol`. From there we can add columns for year to both our new master df and fundamentals. This will allow us to to merge the fundamental details to all price observations in that year. \n",
    "\n",
    "After we have one combined dataframe, we need to add a column for `pct_growth` that tells us how much the stock has grown or contracted one year from the date."
   ]
  },
  {
   "cell_type": "code",
   "execution_count": 179,
   "metadata": {
    "ExecuteTime": {
     "end_time": "2019-09-06T02:46:39.423775Z",
     "start_time": "2019-09-06T02:46:33.027289Z"
    }
   },
   "outputs": [],
   "source": [
    "df = adj_price.merge(securities, how='left', left_on='symbol', right_on='Ticker symbol')\n",
    "df.drop(['Ticker symbol'], axis=1, inplace=True)\n",
    "\n",
    "# Make date columns datetime\n",
    "df['date'] = pd.to_datetime(df['date'])\n",
    "fundamentals['Period Ending'] = pd.to_datetime(fundamentals['Period Ending'])\n",
    "\n",
    "# Create a new column for year\n",
    "df['year'] = [d.year for d in df['date']]\n",
    "df['month'] = [d.month for d in df['date']]\n",
    "df['day'] = [d.day for d in df['date']]\n",
    "# Plus one because we want to use 2012's EOY financials with 2013's prices\n",
    "fundamentals['year'] = [pe.year + 1 for pe in fundamentals['Period Ending']]\n",
    "\n",
    "# Merge on year\n",
    "df = df.merge(fundamentals, how='inner', left_on=['symbol', 'year'], right_on=['Ticker Symbol', 'year'])\n",
    "df.drop(['Ticker Symbol', 'Period Ending'], axis=1, inplace=True)\n"
   ]
  },
  {
   "cell_type": "code",
   "execution_count": 180,
   "metadata": {
    "ExecuteTime": {
     "end_time": "2019-09-06T02:46:39.732885Z",
     "start_time": "2019-09-06T02:46:39.629405Z"
    }
   },
   "outputs": [
    {
     "name": "stdout",
     "output_type": "stream",
     "text": [
      "<class 'pandas.core.frame.DataFrame'>\n",
      "Int64Index: 388642 entries, 0 to 388641\n",
      "Data columns (total 31 columns):\n",
      "date                                                   388642 non-null datetime64[ns]\n",
      "symbol                                                 388642 non-null object\n",
      "close                                                  388642 non-null float64\n",
      "GICS Sector                                            388642 non-null object\n",
      "year                                                   388642 non-null int64\n",
      "month                                                  388642 non-null int64\n",
      "day                                                    388642 non-null int64\n",
      "Accounts Payable                                       388642 non-null float64\n",
      "Accounts Receivable                                    388642 non-null float64\n",
      "Cash and Cash Equivalents                              388642 non-null float64\n",
      "Fixed Assets                                           388642 non-null float64\n",
      "Inventory                                              388642 non-null float64\n",
      "Investments                                            388642 non-null float64\n",
      "Liabilities                                            388642 non-null float64\n",
      "Long-Term Debt                                         388642 non-null float64\n",
      "Long-Term Investments                                  388642 non-null float64\n",
      "Net Income                                             388642 non-null float64\n",
      "Operating Income                                       388642 non-null float64\n",
      "Other Current Assets                                   388642 non-null float64\n",
      "Other Current Liabilities                              388642 non-null float64\n",
      "Research and Development                               388642 non-null float64\n",
      "Short-Term Debt / Current Portion of Long-Term Debt    388642 non-null float64\n",
      "Short-Term Investments                                 388642 non-null float64\n",
      "Total Assets                                           388642 non-null float64\n",
      "Total Current Assets                                   388642 non-null float64\n",
      "Total Current Liabilities                              388642 non-null float64\n",
      "Total Equity                                           388642 non-null float64\n",
      "Total Liabilities                                      388642 non-null float64\n",
      "Total Liabilities & Equity                             388642 non-null float64\n",
      "Total Revenue                                          388642 non-null float64\n",
      "Earnings Per Share                                     365148 non-null float64\n",
      "dtypes: datetime64[ns](1), float64(25), int64(3), object(2)\n",
      "memory usage: 94.9+ MB\n"
     ]
    }
   ],
   "source": [
    "df.info()"
   ]
  },
  {
   "cell_type": "markdown",
   "metadata": {},
   "source": [
    "\n"
   ]
  },
  {
   "cell_type": "code",
   "execution_count": 181,
   "metadata": {
    "ExecuteTime": {
     "end_time": "2019-09-06T02:46:40.883219Z",
     "start_time": "2019-09-06T02:46:40.876211Z"
    }
   },
   "outputs": [],
   "source": [
    "def get_future_price(row):\n",
    "    date = row.date + relativedelta(years=1)\n",
    "    price = None\n",
    "    symbol = row.symbol\n",
    "    cnt = 0\n",
    "    while price == None and cnt < 7:\n",
    "        try:\n",
    "            price = float(df.loc[(df['date'] == date) & (df['symbol'] == symbol)].close)\n",
    "            continue\n",
    "        except:\n",
    "            price = None\n",
    "        date = date + relativedelta(days=1)\n",
    "        cnt +=1\n",
    "    return price\n",
    "\n"
   ]
  },
  {
   "cell_type": "markdown",
   "metadata": {},
   "source": [
    "Our end of year financials are most relevant in the first month of the following year. The further into the next year that we get, the more the company has changed and the more outdated that information is. So, we'll just take the data from January of each year and drop any 2016 observations all together because they can't have a future date in our dataset."
   ]
  },
  {
   "cell_type": "code",
   "execution_count": 182,
   "metadata": {
    "ExecuteTime": {
     "end_time": "2019-09-06T10:21:20.221332Z",
     "start_time": "2019-09-06T02:47:09.387002Z"
    }
   },
   "outputs": [
    {
     "ename": "AttributeError",
     "evalue": "'DataFrame' object has no attribute 'future_close'",
     "output_type": "error",
     "traceback": [
      "\u001b[0;31m---------------------------------------------------------------------------\u001b[0m",
      "\u001b[0;31mAttributeError\u001b[0m                            Traceback (most recent call last)",
      "\u001b[0;32m<ipython-input-182-61cbd66dd043>\u001b[0m in \u001b[0;36m<module>\u001b[0;34m\u001b[0m\n\u001b[1;32m      7\u001b[0m \u001b[0mdf\u001b[0m\u001b[0;34m[\u001b[0m\u001b[0;34m'future_close'\u001b[0m\u001b[0;34m]\u001b[0m \u001b[0;34m=\u001b[0m \u001b[0mdf\u001b[0m\u001b[0;34m.\u001b[0m\u001b[0mapply\u001b[0m\u001b[0;34m(\u001b[0m\u001b[0;32mlambda\u001b[0m \u001b[0mrow\u001b[0m\u001b[0;34m:\u001b[0m \u001b[0mget_future_price\u001b[0m\u001b[0;34m(\u001b[0m\u001b[0mrow\u001b[0m\u001b[0;34m)\u001b[0m\u001b[0;34m,\u001b[0m \u001b[0maxis\u001b[0m\u001b[0;34m=\u001b[0m\u001b[0;36m1\u001b[0m\u001b[0;34m)\u001b[0m \u001b[0;31m# Estimated 6 hrs to execute\u001b[0m\u001b[0;34m\u001b[0m\u001b[0;34m\u001b[0m\u001b[0m\n\u001b[1;32m      8\u001b[0m \u001b[0;34m\u001b[0m\u001b[0m\n\u001b[0;32m----> 9\u001b[0;31m \u001b[0mdata\u001b[0m\u001b[0;34m.\u001b[0m\u001b[0mfuture_close\u001b[0m\u001b[0;34m.\u001b[0m\u001b[0misna\u001b[0m\u001b[0;34m(\u001b[0m\u001b[0;34m)\u001b[0m\u001b[0;34m.\u001b[0m\u001b[0msum\u001b[0m\u001b[0;34m(\u001b[0m\u001b[0;34m)\u001b[0m\u001b[0;34m\u001b[0m\u001b[0;34m\u001b[0m\u001b[0m\n\u001b[0m",
      "\u001b[0;32m~/anaconda3/lib/python3.6/site-packages/pandas/core/generic.py\u001b[0m in \u001b[0;36m__getattr__\u001b[0;34m(self, name)\u001b[0m\n\u001b[1;32m   5177\u001b[0m             \u001b[0;32mif\u001b[0m \u001b[0mself\u001b[0m\u001b[0;34m.\u001b[0m\u001b[0m_info_axis\u001b[0m\u001b[0;34m.\u001b[0m\u001b[0m_can_hold_identifiers_and_holds_name\u001b[0m\u001b[0;34m(\u001b[0m\u001b[0mname\u001b[0m\u001b[0;34m)\u001b[0m\u001b[0;34m:\u001b[0m\u001b[0;34m\u001b[0m\u001b[0;34m\u001b[0m\u001b[0m\n\u001b[1;32m   5178\u001b[0m                 \u001b[0;32mreturn\u001b[0m \u001b[0mself\u001b[0m\u001b[0;34m[\u001b[0m\u001b[0mname\u001b[0m\u001b[0;34m]\u001b[0m\u001b[0;34m\u001b[0m\u001b[0;34m\u001b[0m\u001b[0m\n\u001b[0;32m-> 5179\u001b[0;31m             \u001b[0;32mreturn\u001b[0m \u001b[0mobject\u001b[0m\u001b[0;34m.\u001b[0m\u001b[0m__getattribute__\u001b[0m\u001b[0;34m(\u001b[0m\u001b[0mself\u001b[0m\u001b[0;34m,\u001b[0m \u001b[0mname\u001b[0m\u001b[0;34m)\u001b[0m\u001b[0;34m\u001b[0m\u001b[0;34m\u001b[0m\u001b[0m\n\u001b[0m\u001b[1;32m   5180\u001b[0m \u001b[0;34m\u001b[0m\u001b[0m\n\u001b[1;32m   5181\u001b[0m     \u001b[0;32mdef\u001b[0m \u001b[0m__setattr__\u001b[0m\u001b[0;34m(\u001b[0m\u001b[0mself\u001b[0m\u001b[0;34m,\u001b[0m \u001b[0mname\u001b[0m\u001b[0;34m,\u001b[0m \u001b[0mvalue\u001b[0m\u001b[0;34m)\u001b[0m\u001b[0;34m:\u001b[0m\u001b[0;34m\u001b[0m\u001b[0;34m\u001b[0m\u001b[0m\n",
      "\u001b[0;31mAttributeError\u001b[0m: 'DataFrame' object has no attribute 'future_close'"
     ]
    }
   ],
   "source": [
    "# Get january future close price\n",
    "# data = df.loc[df['month'] == 1]\n",
    "\n",
    "# data['future_close'] = data.apply(lambda row: get_future_price(row), axis=1) #36 minutes to execute\n",
    "\n",
    "# Get full dataset future close price\n",
    "df['future_close'] = df.apply(lambda row: get_future_price(row), axis=1) # Estimated 6 hrs to execute\n",
    "\n",
    "data.future_close.isna().sum()"
   ]
  },
  {
   "cell_type": "code",
   "execution_count": 183,
   "metadata": {
    "ExecuteTime": {
     "end_time": "2019-09-06T12:45:42.656866Z",
     "start_time": "2019-09-06T12:45:42.649734Z"
    }
   },
   "outputs": [
    {
     "data": {
      "text/plain": [
       "115313"
      ]
     },
     "execution_count": 183,
     "metadata": {},
     "output_type": "execute_result"
    }
   ],
   "source": [
    "df.future_close.isna().sum()"
   ]
  },
  {
   "cell_type": "code",
   "execution_count": 13,
   "metadata": {
    "ExecuteTime": {
     "end_time": "2019-09-01T01:31:50.264773Z",
     "start_time": "2019-09-01T01:31:50.240807Z"
    }
   },
   "outputs": [
    {
     "name": "stdout",
     "output_type": "stream",
     "text": [
      "<class 'pandas.core.frame.DataFrame'>\n",
      "Int64Index: 31041 entries, 0 to 388408\n",
      "Data columns (total 32 columns):\n",
      "date                                                   31041 non-null datetime64[ns]\n",
      "symbol                                                 31041 non-null object\n",
      "close                                                  31041 non-null float64\n",
      "GICS Sector                                            31041 non-null object\n",
      "year                                                   31041 non-null int64\n",
      "month                                                  31041 non-null int64\n",
      "day                                                    31041 non-null int64\n",
      "Accounts Payable                                       31041 non-null float64\n",
      "Accounts Receivable                                    31041 non-null float64\n",
      "Cash and Cash Equivalents                              31041 non-null float64\n",
      "Fixed Assets                                           31041 non-null float64\n",
      "Inventory                                              31041 non-null float64\n",
      "Investments                                            31041 non-null float64\n",
      "Liabilities                                            31041 non-null float64\n",
      "Long-Term Debt                                         31041 non-null float64\n",
      "Long-Term Investments                                  31041 non-null float64\n",
      "Net Income                                             31041 non-null float64\n",
      "Operating Income                                       31041 non-null float64\n",
      "Other Current Assets                                   31041 non-null float64\n",
      "Other Current Liabilities                              31041 non-null float64\n",
      "Research and Development                               31041 non-null float64\n",
      "Short-Term Debt / Current Portion of Long-Term Debt    31041 non-null float64\n",
      "Short-Term Investments                                 31041 non-null float64\n",
      "Total Assets                                           31041 non-null float64\n",
      "Total Current Assets                                   31041 non-null float64\n",
      "Total Current Liabilities                              31041 non-null float64\n",
      "Total Equity                                           31041 non-null float64\n",
      "Total Liabilities                                      31041 non-null float64\n",
      "Total Liabilities & Equity                             31041 non-null float64\n",
      "Total Revenue                                          31041 non-null float64\n",
      "Earnings Per Share                                     29201 non-null float64\n",
      "future_close                                           22356 non-null float64\n",
      "dtypes: datetime64[ns](1), float64(26), int64(3), object(2)\n",
      "memory usage: 7.8+ MB\n"
     ]
    }
   ],
   "source": [
    "df.info()"
   ]
  },
  {
   "cell_type": "code",
   "execution_count": 184,
   "metadata": {
    "ExecuteTime": {
     "end_time": "2019-09-06T12:46:09.782903Z",
     "start_time": "2019-09-06T12:45:54.431362Z"
    }
   },
   "outputs": [],
   "source": [
    "# Save dataset to csv so we don't have to rerun the last bit of code\n",
    "# data.to_csv('january_data.csv')\n",
    "df.to_csv('full_data.csv')\n",
    "# data.drop(['Unnamed: 0'], axis=1, inplace=True)"
   ]
  },
  {
   "cell_type": "markdown",
   "metadata": {},
   "source": [
    "--- Checkpoint ---"
   ]
  },
  {
   "cell_type": "markdown",
   "metadata": {},
   "source": [
    "<a id=\"2\"></a>\n",
    "## Scrub\n",
    "<a id=\"2.1\"></a>\n",
    "### 1. Subsample\n",
    "We took a subsample of the data to imporove run times and stored it in the variable 'df'. \n",
    "\n",
    "*To see the final results, comment out.*"
   ]
  },
  {
   "cell_type": "code",
   "execution_count": 6,
   "metadata": {
    "ExecuteTime": {
     "end_time": "2019-09-29T22:48:40.585501Z",
     "start_time": "2019-09-29T22:48:38.959132Z"
    }
   },
   "outputs": [],
   "source": [
    "# df = pd.read_csv('january_data.csv', index_col=0)\n",
    "df = pd.read_csv('full_data.csv', index_col=0)\n",
    "# df = df.sample(frac=0.2, random_state=5)\n"
   ]
  },
  {
   "cell_type": "code",
   "execution_count": 7,
   "metadata": {
    "ExecuteTime": {
     "end_time": "2019-09-29T22:48:40.935741Z",
     "start_time": "2019-09-29T22:48:40.810527Z"
    }
   },
   "outputs": [
    {
     "name": "stdout",
     "output_type": "stream",
     "text": [
      "<class 'pandas.core.frame.DataFrame'>\n",
      "Int64Index: 388642 entries, 0 to 388641\n",
      "Data columns (total 32 columns):\n",
      "date                                                   388642 non-null object\n",
      "symbol                                                 388642 non-null object\n",
      "close                                                  388642 non-null float64\n",
      "GICS Sector                                            388642 non-null object\n",
      "year                                                   388642 non-null int64\n",
      "month                                                  388642 non-null int64\n",
      "day                                                    388642 non-null int64\n",
      "Accounts Payable                                       388642 non-null float64\n",
      "Accounts Receivable                                    388642 non-null float64\n",
      "Cash and Cash Equivalents                              388642 non-null float64\n",
      "Fixed Assets                                           388642 non-null float64\n",
      "Inventory                                              388642 non-null float64\n",
      "Investments                                            388642 non-null float64\n",
      "Liabilities                                            388642 non-null float64\n",
      "Long-Term Debt                                         388642 non-null float64\n",
      "Long-Term Investments                                  388642 non-null float64\n",
      "Net Income                                             388642 non-null float64\n",
      "Operating Income                                       388642 non-null float64\n",
      "Other Current Assets                                   388642 non-null float64\n",
      "Other Current Liabilities                              388642 non-null float64\n",
      "Research and Development                               388642 non-null float64\n",
      "Short-Term Debt / Current Portion of Long-Term Debt    388642 non-null float64\n",
      "Short-Term Investments                                 388642 non-null float64\n",
      "Total Assets                                           388642 non-null float64\n",
      "Total Current Assets                                   388642 non-null float64\n",
      "Total Current Liabilities                              388642 non-null float64\n",
      "Total Equity                                           388642 non-null float64\n",
      "Total Liabilities                                      388642 non-null float64\n",
      "Total Liabilities & Equity                             388642 non-null float64\n",
      "Total Revenue                                          388642 non-null float64\n",
      "Earnings Per Share                                     365148 non-null float64\n",
      "future_close                                           273329 non-null float64\n",
      "dtypes: float64(26), int64(3), object(3)\n",
      "memory usage: 97.8+ MB\n"
     ]
    }
   ],
   "source": [
    "df.info()"
   ]
  },
  {
   "cell_type": "markdown",
   "metadata": {},
   "source": [
    "<a id=\"2.2\"></a>\n",
    "### 2. Dealing with Datatypes \n",
    "When looking at the data we can see there are only two categorical data columns. We'll need to make sure that we are only adding variables that will add a lot of value without needlessly growing complexity.\n",
    "\n",
    "- `GICS Sector`: There aren't too many different sectors, so we'll keep thiss column and convert to categorical data type\n",
    "- `Symbol`: We'll drop this column as they are arbitrary stock names\n",
    "\n"
   ]
  },
  {
   "cell_type": "code",
   "execution_count": 8,
   "metadata": {
    "ExecuteTime": {
     "end_time": "2019-09-29T22:48:41.317692Z",
     "start_time": "2019-09-29T22:48:41.168357Z"
    }
   },
   "outputs": [
    {
     "name": "stdout",
     "output_type": "stream",
     "text": [
      "<class 'pandas.core.frame.DataFrame'>\n",
      "Int64Index: 388642 entries, 0 to 388641\n",
      "Data columns (total 32 columns):\n",
      "date                                                   388642 non-null object\n",
      "symbol                                                 388642 non-null object\n",
      "close                                                  388642 non-null float64\n",
      "GICS Sector                                            388642 non-null category\n",
      "year                                                   388642 non-null int64\n",
      "month                                                  388642 non-null int64\n",
      "day                                                    388642 non-null int64\n",
      "Accounts Payable                                       388642 non-null float64\n",
      "Accounts Receivable                                    388642 non-null float64\n",
      "Cash and Cash Equivalents                              388642 non-null float64\n",
      "Fixed Assets                                           388642 non-null float64\n",
      "Inventory                                              388642 non-null float64\n",
      "Investments                                            388642 non-null float64\n",
      "Liabilities                                            388642 non-null float64\n",
      "Long-Term Debt                                         388642 non-null float64\n",
      "Long-Term Investments                                  388642 non-null float64\n",
      "Net Income                                             388642 non-null float64\n",
      "Operating Income                                       388642 non-null float64\n",
      "Other Current Assets                                   388642 non-null float64\n",
      "Other Current Liabilities                              388642 non-null float64\n",
      "Research and Development                               388642 non-null float64\n",
      "Short-Term Debt / Current Portion of Long-Term Debt    388642 non-null float64\n",
      "Short-Term Investments                                 388642 non-null float64\n",
      "Total Assets                                           388642 non-null float64\n",
      "Total Current Assets                                   388642 non-null float64\n",
      "Total Current Liabilities                              388642 non-null float64\n",
      "Total Equity                                           388642 non-null float64\n",
      "Total Liabilities                                      388642 non-null float64\n",
      "Total Liabilities & Equity                             388642 non-null float64\n",
      "Total Revenue                                          388642 non-null float64\n",
      "Earnings Per Share                                     365148 non-null float64\n",
      "future_close                                           273329 non-null float64\n",
      "dtypes: category(1), float64(26), int64(3), object(2)\n",
      "memory usage: 95.3+ MB\n"
     ]
    }
   ],
   "source": [
    "df['GICS Sector'] = df['GICS Sector'].astype('category')\n",
    "\n",
    "df.info()"
   ]
  },
  {
   "cell_type": "markdown",
   "metadata": {},
   "source": [
    "<a id=\"2.3\"></a>\n",
    "### 3. Dealing with Null Values\n",
    "We'll drop the `Cash Ratio`, `Current Ratio`, and `Quick Ratio` columns because the information here is just a calculation based on other columns, so there's no new information.\n",
    "\n",
    "We chose to drop all rows that had null values in the `For Year`, `Earnings Per Share`, `Estimated Shares Outstanding`, `future_close` columns. There was a low number of rows that were missing data."
   ]
  },
  {
   "cell_type": "code",
   "execution_count": 9,
   "metadata": {
    "ExecuteTime": {
     "end_time": "2019-09-29T22:49:52.094085Z",
     "start_time": "2019-09-29T22:49:51.948996Z"
    }
   },
   "outputs": [],
   "source": [
    "# Drop null values\n",
    "df.dropna(inplace=True)"
   ]
  },
  {
   "cell_type": "code",
   "execution_count": 10,
   "metadata": {
    "ExecuteTime": {
     "end_time": "2019-09-29T22:49:52.897022Z",
     "start_time": "2019-09-29T22:49:52.870157Z"
    }
   },
   "outputs": [],
   "source": [
    "# Additionally, we'll drop day as it should have no effect on the outcome\n",
    "df.drop(['day'], axis=1, inplace=True)\n",
    "# data.info()"
   ]
  },
  {
   "cell_type": "markdown",
   "metadata": {
    "ExecuteTime": {
     "end_time": "2019-08-13T18:52:42.861044Z",
     "start_time": "2019-08-13T18:52:39.792780Z"
    }
   },
   "source": [
    "The next step is to calculate our dependent variable by calculating the percentage change from the current price to the future price."
   ]
  },
  {
   "cell_type": "code",
   "execution_count": 11,
   "metadata": {
    "ExecuteTime": {
     "end_time": "2019-09-29T22:50:06.167216Z",
     "start_time": "2019-09-29T22:50:06.163214Z"
    }
   },
   "outputs": [],
   "source": [
    "def growth_category(row):\n",
    "    p1 = row.close\n",
    "    p2 = row.future_close\n",
    "    result = (p2 - p1)/(p1)\n",
    "    if result >= .1:\n",
    "        return 2\n",
    "    elif result >= 0:\n",
    "        return 1\n",
    "    else:\n",
    "        return 0"
   ]
  },
  {
   "cell_type": "code",
   "execution_count": 12,
   "metadata": {
    "ExecuteTime": {
     "end_time": "2019-09-29T22:50:43.789718Z",
     "start_time": "2019-09-29T22:50:07.662884Z"
    }
   },
   "outputs": [
    {
     "data": {
      "application/javascript": [
       "$(document).ready(\n",
       "    function() {\n",
       "        function appendUniqueDiv(){\n",
       "            // append a div with our uuid so we can check that it's already\n",
       "            // been sent and avoid duplicates on page reload\n",
       "            var notifiedDiv = document.createElement(\"div\")\n",
       "            notifiedDiv.id = \"a63cc2d5-be1f-42f0-8675-27710c618b63\"\n",
       "            element.append(notifiedDiv)\n",
       "        }\n",
       "\n",
       "        // only send notifications if the pageload is complete; this will\n",
       "        // help stop extra notifications when a saved notebook is loaded,\n",
       "        // which during testing gives us state \"interactive\", not \"complete\"\n",
       "        if (document.readyState === 'complete') {\n",
       "            // check for the div that signifies that the notification\n",
       "            // was already sent\n",
       "            if (document.getElementById(\"a63cc2d5-be1f-42f0-8675-27710c618b63\") === null) {\n",
       "                var notificationPayload = {\"requireInteraction\": false, \"icon\": \"/static/base/images/favicon.ico\", \"body\": \"Cell Execution Has Finished!!\", \"autonotify_after\": \"30\", \"autonotify_output\": false};\n",
       "                if (Notification.permission !== 'denied') {\n",
       "                    if (Notification.permission !== 'granted') { \n",
       "                        Notification.requestPermission(function (permission) {\n",
       "                            if(!('permission' in Notification)) {\n",
       "                                Notification.permission = permission\n",
       "                            }\n",
       "                        })\n",
       "                    }\n",
       "                    if (Notification.permission === 'granted') {\n",
       "                    var notification = new Notification(\"Jupyter Notebook\", notificationPayload)\n",
       "                    appendUniqueDiv()\n",
       "                    notification.onclick = function () {\n",
       "                        window.focus();\n",
       "                        this.close();\n",
       "                        };\n",
       "                    } \n",
       "                }     \n",
       "            }\n",
       "        }\n",
       "    }\n",
       ")\n"
      ],
      "text/plain": [
       "<IPython.core.display.Javascript object>"
      ]
     },
     "metadata": {},
     "output_type": "display_data"
    }
   ],
   "source": [
    "df['growth_category'] = df.apply(lambda row: growth_category(row), axis=1)"
   ]
  },
  {
   "cell_type": "code",
   "execution_count": 13,
   "metadata": {
    "ExecuteTime": {
     "end_time": "2019-09-29T22:51:39.008283Z",
     "start_time": "2019-09-29T22:51:38.999829Z"
    }
   },
   "outputs": [
    {
     "name": "stdout",
     "output_type": "stream",
     "text": [
      "258676\n"
     ]
    },
    {
     "data": {
      "text/plain": [
       "2    120131\n",
       "0     89125\n",
       "1     49420\n",
       "Name: growth_category, dtype: int64"
      ]
     },
     "execution_count": 13,
     "metadata": {},
     "output_type": "execute_result"
    }
   ],
   "source": [
    "print(len(df.growth_category))\n",
    "df.growth_category.value_counts()"
   ]
  },
  {
   "cell_type": "markdown",
   "metadata": {},
   "source": [
    "At this point we can drop the `future_close` column since we were only using it to calculate the growth_category, as well as `symbol` and `date`."
   ]
  },
  {
   "cell_type": "code",
   "execution_count": 14,
   "metadata": {
    "ExecuteTime": {
     "end_time": "2019-09-29T22:53:37.689522Z",
     "start_time": "2019-09-29T22:53:37.595342Z"
    }
   },
   "outputs": [
    {
     "data": {
      "text/html": [
       "<div>\n",
       "<style scoped>\n",
       "    .dataframe tbody tr th:only-of-type {\n",
       "        vertical-align: middle;\n",
       "    }\n",
       "\n",
       "    .dataframe tbody tr th {\n",
       "        vertical-align: top;\n",
       "    }\n",
       "\n",
       "    .dataframe thead th {\n",
       "        text-align: right;\n",
       "    }\n",
       "</style>\n",
       "<table border=\"1\" class=\"dataframe\">\n",
       "  <thead>\n",
       "    <tr style=\"text-align: right;\">\n",
       "      <th></th>\n",
       "      <th>date</th>\n",
       "      <th>symbol</th>\n",
       "      <th>close</th>\n",
       "      <th>GICS Sector</th>\n",
       "      <th>year</th>\n",
       "      <th>month</th>\n",
       "      <th>Accounts Payable</th>\n",
       "      <th>Accounts Receivable</th>\n",
       "      <th>Cash and Cash Equivalents</th>\n",
       "      <th>Fixed Assets</th>\n",
       "      <th>...</th>\n",
       "      <th>Short-Term Investments</th>\n",
       "      <th>Total Assets</th>\n",
       "      <th>Total Current Assets</th>\n",
       "      <th>Total Current Liabilities</th>\n",
       "      <th>Total Equity</th>\n",
       "      <th>Total Liabilities</th>\n",
       "      <th>Total Liabilities &amp; Equity</th>\n",
       "      <th>Total Revenue</th>\n",
       "      <th>Earnings Per Share</th>\n",
       "      <th>growth_category</th>\n",
       "    </tr>\n",
       "  </thead>\n",
       "  <tbody>\n",
       "    <tr>\n",
       "      <td>251</td>\n",
       "      <td>2013-01-02</td>\n",
       "      <td>AAL</td>\n",
       "      <td>13.98</td>\n",
       "      <td>Industrials</td>\n",
       "      <td>2013</td>\n",
       "      <td>1</td>\n",
       "      <td>3.068000e+09</td>\n",
       "      <td>-222000000.0</td>\n",
       "      <td>1.330000e+09</td>\n",
       "      <td>1.340200e+10</td>\n",
       "      <td>...</td>\n",
       "      <td>3.412000e+09</td>\n",
       "      <td>2.351000e+10</td>\n",
       "      <td>7.072000e+09</td>\n",
       "      <td>9.011000e+09</td>\n",
       "      <td>-7.987000e+09</td>\n",
       "      <td>2.489100e+10</td>\n",
       "      <td>1.690400e+10</td>\n",
       "      <td>2.485500e+10</td>\n",
       "      <td>-5.6</td>\n",
       "      <td>2</td>\n",
       "    </tr>\n",
       "    <tr>\n",
       "      <td>252</td>\n",
       "      <td>2013-01-03</td>\n",
       "      <td>AAL</td>\n",
       "      <td>13.66</td>\n",
       "      <td>Industrials</td>\n",
       "      <td>2013</td>\n",
       "      <td>1</td>\n",
       "      <td>3.068000e+09</td>\n",
       "      <td>-222000000.0</td>\n",
       "      <td>1.330000e+09</td>\n",
       "      <td>1.340200e+10</td>\n",
       "      <td>...</td>\n",
       "      <td>3.412000e+09</td>\n",
       "      <td>2.351000e+10</td>\n",
       "      <td>7.072000e+09</td>\n",
       "      <td>9.011000e+09</td>\n",
       "      <td>-7.987000e+09</td>\n",
       "      <td>2.489100e+10</td>\n",
       "      <td>1.690400e+10</td>\n",
       "      <td>2.485500e+10</td>\n",
       "      <td>-5.6</td>\n",
       "      <td>2</td>\n",
       "    </tr>\n",
       "    <tr>\n",
       "      <td>253</td>\n",
       "      <td>2013-01-04</td>\n",
       "      <td>AAL</td>\n",
       "      <td>14.73</td>\n",
       "      <td>Industrials</td>\n",
       "      <td>2013</td>\n",
       "      <td>1</td>\n",
       "      <td>3.068000e+09</td>\n",
       "      <td>-222000000.0</td>\n",
       "      <td>1.330000e+09</td>\n",
       "      <td>1.340200e+10</td>\n",
       "      <td>...</td>\n",
       "      <td>3.412000e+09</td>\n",
       "      <td>2.351000e+10</td>\n",
       "      <td>7.072000e+09</td>\n",
       "      <td>9.011000e+09</td>\n",
       "      <td>-7.987000e+09</td>\n",
       "      <td>2.489100e+10</td>\n",
       "      <td>1.690400e+10</td>\n",
       "      <td>2.485500e+10</td>\n",
       "      <td>-5.6</td>\n",
       "      <td>2</td>\n",
       "    </tr>\n",
       "    <tr>\n",
       "      <td>254</td>\n",
       "      <td>2013-01-07</td>\n",
       "      <td>AAL</td>\n",
       "      <td>14.84</td>\n",
       "      <td>Industrials</td>\n",
       "      <td>2013</td>\n",
       "      <td>1</td>\n",
       "      <td>3.068000e+09</td>\n",
       "      <td>-222000000.0</td>\n",
       "      <td>1.330000e+09</td>\n",
       "      <td>1.340200e+10</td>\n",
       "      <td>...</td>\n",
       "      <td>3.412000e+09</td>\n",
       "      <td>2.351000e+10</td>\n",
       "      <td>7.072000e+09</td>\n",
       "      <td>9.011000e+09</td>\n",
       "      <td>-7.987000e+09</td>\n",
       "      <td>2.489100e+10</td>\n",
       "      <td>1.690400e+10</td>\n",
       "      <td>2.485500e+10</td>\n",
       "      <td>-5.6</td>\n",
       "      <td>2</td>\n",
       "    </tr>\n",
       "    <tr>\n",
       "      <td>255</td>\n",
       "      <td>2013-01-08</td>\n",
       "      <td>AAL</td>\n",
       "      <td>15.16</td>\n",
       "      <td>Industrials</td>\n",
       "      <td>2013</td>\n",
       "      <td>1</td>\n",
       "      <td>3.068000e+09</td>\n",
       "      <td>-222000000.0</td>\n",
       "      <td>1.330000e+09</td>\n",
       "      <td>1.340200e+10</td>\n",
       "      <td>...</td>\n",
       "      <td>3.412000e+09</td>\n",
       "      <td>2.351000e+10</td>\n",
       "      <td>7.072000e+09</td>\n",
       "      <td>9.011000e+09</td>\n",
       "      <td>-7.987000e+09</td>\n",
       "      <td>2.489100e+10</td>\n",
       "      <td>1.690400e+10</td>\n",
       "      <td>2.485500e+10</td>\n",
       "      <td>-5.6</td>\n",
       "      <td>2</td>\n",
       "    </tr>\n",
       "  </tbody>\n",
       "</table>\n",
       "<p>5 rows × 31 columns</p>\n",
       "</div>"
      ],
      "text/plain": [
       "           date symbol  close  GICS Sector  year  month  Accounts Payable  \\\n",
       "251  2013-01-02    AAL  13.98  Industrials  2013      1      3.068000e+09   \n",
       "252  2013-01-03    AAL  13.66  Industrials  2013      1      3.068000e+09   \n",
       "253  2013-01-04    AAL  14.73  Industrials  2013      1      3.068000e+09   \n",
       "254  2013-01-07    AAL  14.84  Industrials  2013      1      3.068000e+09   \n",
       "255  2013-01-08    AAL  15.16  Industrials  2013      1      3.068000e+09   \n",
       "\n",
       "     Accounts Receivable  Cash and Cash Equivalents  Fixed Assets  ...  \\\n",
       "251         -222000000.0               1.330000e+09  1.340200e+10  ...   \n",
       "252         -222000000.0               1.330000e+09  1.340200e+10  ...   \n",
       "253         -222000000.0               1.330000e+09  1.340200e+10  ...   \n",
       "254         -222000000.0               1.330000e+09  1.340200e+10  ...   \n",
       "255         -222000000.0               1.330000e+09  1.340200e+10  ...   \n",
       "\n",
       "     Short-Term Investments  Total Assets  Total Current Assets  \\\n",
       "251            3.412000e+09  2.351000e+10          7.072000e+09   \n",
       "252            3.412000e+09  2.351000e+10          7.072000e+09   \n",
       "253            3.412000e+09  2.351000e+10          7.072000e+09   \n",
       "254            3.412000e+09  2.351000e+10          7.072000e+09   \n",
       "255            3.412000e+09  2.351000e+10          7.072000e+09   \n",
       "\n",
       "     Total Current Liabilities  Total Equity  Total Liabilities  \\\n",
       "251               9.011000e+09 -7.987000e+09       2.489100e+10   \n",
       "252               9.011000e+09 -7.987000e+09       2.489100e+10   \n",
       "253               9.011000e+09 -7.987000e+09       2.489100e+10   \n",
       "254               9.011000e+09 -7.987000e+09       2.489100e+10   \n",
       "255               9.011000e+09 -7.987000e+09       2.489100e+10   \n",
       "\n",
       "     Total Liabilities & Equity  Total Revenue  Earnings Per Share  \\\n",
       "251                1.690400e+10   2.485500e+10                -5.6   \n",
       "252                1.690400e+10   2.485500e+10                -5.6   \n",
       "253                1.690400e+10   2.485500e+10                -5.6   \n",
       "254                1.690400e+10   2.485500e+10                -5.6   \n",
       "255                1.690400e+10   2.485500e+10                -5.6   \n",
       "\n",
       "     growth_category  \n",
       "251                2  \n",
       "252                2  \n",
       "253                2  \n",
       "254                2  \n",
       "255                2  \n",
       "\n",
       "[5 rows x 31 columns]"
      ]
     },
     "execution_count": 14,
     "metadata": {},
     "output_type": "execute_result"
    }
   ],
   "source": [
    "df.drop(['future_close'], axis=1, inplace=True)\n",
    "df.head()"
   ]
  },
  {
   "cell_type": "markdown",
   "metadata": {},
   "source": [
    "### 4. One Hot Encoding\n",
    "\n",
    "We'll have to one hot encode our data early because we're about to use a Groupby function and that operation will delete `GICS Sector` from our featureset."
   ]
  },
  {
   "cell_type": "code",
   "execution_count": 15,
   "metadata": {
    "ExecuteTime": {
     "end_time": "2019-09-29T22:58:53.572407Z",
     "start_time": "2019-09-29T22:58:53.357447Z"
    }
   },
   "outputs": [
    {
     "name": "stdout",
     "output_type": "stream",
     "text": [
      "<class 'pandas.core.frame.DataFrame'>\n",
      "Int64Index: 258676 entries, 251 to 276693\n",
      "Data columns (total 41 columns):\n",
      "date                                                   258676 non-null object\n",
      "symbol                                                 258676 non-null object\n",
      "close                                                  258676 non-null float64\n",
      "year                                                   258676 non-null int64\n",
      "month                                                  258676 non-null int64\n",
      "Accounts Payable                                       258676 non-null float64\n",
      "Accounts Receivable                                    258676 non-null float64\n",
      "Cash and Cash Equivalents                              258676 non-null float64\n",
      "Fixed Assets                                           258676 non-null float64\n",
      "Inventory                                              258676 non-null float64\n",
      "Investments                                            258676 non-null float64\n",
      "Liabilities                                            258676 non-null float64\n",
      "Long-Term Debt                                         258676 non-null float64\n",
      "Long-Term Investments                                  258676 non-null float64\n",
      "Net Income                                             258676 non-null float64\n",
      "Operating Income                                       258676 non-null float64\n",
      "Other Current Assets                                   258676 non-null float64\n",
      "Other Current Liabilities                              258676 non-null float64\n",
      "Research and Development                               258676 non-null float64\n",
      "Short-Term Debt / Current Portion of Long-Term Debt    258676 non-null float64\n",
      "Short-Term Investments                                 258676 non-null float64\n",
      "Total Assets                                           258676 non-null float64\n",
      "Total Current Assets                                   258676 non-null float64\n",
      "Total Current Liabilities                              258676 non-null float64\n",
      "Total Equity                                           258676 non-null float64\n",
      "Total Liabilities                                      258676 non-null float64\n",
      "Total Liabilities & Equity                             258676 non-null float64\n",
      "Total Revenue                                          258676 non-null float64\n",
      "Earnings Per Share                                     258676 non-null float64\n",
      "growth_category                                        258676 non-null int64\n",
      "sector_Consumer Discretionary                          258676 non-null uint8\n",
      "sector_Consumer Staples                                258676 non-null uint8\n",
      "sector_Energy                                          258676 non-null uint8\n",
      "sector_Financials                                      258676 non-null uint8\n",
      "sector_Health Care                                     258676 non-null uint8\n",
      "sector_Industrials                                     258676 non-null uint8\n",
      "sector_Information Technology                          258676 non-null uint8\n",
      "sector_Materials                                       258676 non-null uint8\n",
      "sector_Real Estate                                     258676 non-null uint8\n",
      "sector_Telecommunications Services                     258676 non-null uint8\n",
      "sector_Utilities                                       258676 non-null uint8\n",
      "dtypes: float64(25), int64(3), object(2), uint8(11)\n",
      "memory usage: 63.9+ MB\n"
     ]
    }
   ],
   "source": [
    "# Create one-hot-encoded data for categorical columns\n",
    "df['GICS Sector'] = pd.Categorical(df['GICS Sector'])\n",
    "sector = pd.get_dummies(df['GICS Sector'], prefix='sector')\n",
    "df.drop(['GICS Sector'], axis=1, inplace=True)\n",
    "column_names = df.columns\n",
    "\n",
    "# Concat standardized columns with one-hot-encoded columns\n",
    "df = pd.concat([df, sector], axis=1)\n",
    "\n",
    "df.info()"
   ]
  },
  {
   "cell_type": "code",
   "execution_count": 17,
   "metadata": {
    "ExecuteTime": {
     "end_time": "2019-09-29T22:59:08.832066Z",
     "start_time": "2019-09-29T22:59:08.636015Z"
    }
   },
   "outputs": [
    {
     "name": "stdout",
     "output_type": "stream",
     "text": [
      "<class 'pandas.core.frame.DataFrame'>\n",
      "Int64Index: 12344 entries, 0 to 12343\n",
      "Data columns (total 40 columns):\n",
      "symbol                                                 12344 non-null object\n",
      "month                                                  12344 non-null int64\n",
      "year                                                   12344 non-null int64\n",
      "close                                                  12344 non-null float64\n",
      "Accounts Payable                                       12344 non-null float64\n",
      "Accounts Receivable                                    12344 non-null float64\n",
      "Cash and Cash Equivalents                              12344 non-null float64\n",
      "Fixed Assets                                           12344 non-null float64\n",
      "Inventory                                              12344 non-null float64\n",
      "Investments                                            12344 non-null float64\n",
      "Liabilities                                            12344 non-null float64\n",
      "Long-Term Debt                                         12344 non-null float64\n",
      "Long-Term Investments                                  12344 non-null float64\n",
      "Net Income                                             12344 non-null float64\n",
      "Operating Income                                       12344 non-null float64\n",
      "Other Current Assets                                   12344 non-null float64\n",
      "Other Current Liabilities                              12344 non-null float64\n",
      "Research and Development                               12344 non-null float64\n",
      "Short-Term Debt / Current Portion of Long-Term Debt    12344 non-null float64\n",
      "Short-Term Investments                                 12344 non-null float64\n",
      "Total Assets                                           12344 non-null float64\n",
      "Total Current Assets                                   12344 non-null float64\n",
      "Total Current Liabilities                              12344 non-null float64\n",
      "Total Equity                                           12344 non-null float64\n",
      "Total Liabilities                                      12344 non-null float64\n",
      "Total Liabilities & Equity                             12344 non-null float64\n",
      "Total Revenue                                          12344 non-null float64\n",
      "Earnings Per Share                                     12344 non-null float64\n",
      "growth_category                                        12344 non-null float64\n",
      "sector_Consumer Discretionary                          12344 non-null uint8\n",
      "sector_Consumer Staples                                12344 non-null uint8\n",
      "sector_Energy                                          12344 non-null uint8\n",
      "sector_Financials                                      12344 non-null uint8\n",
      "sector_Health Care                                     12344 non-null uint8\n",
      "sector_Industrials                                     12344 non-null uint8\n",
      "sector_Information Technology                          12344 non-null uint8\n",
      "sector_Materials                                       12344 non-null uint8\n",
      "sector_Real Estate                                     12344 non-null uint8\n",
      "sector_Telecommunications Services                     12344 non-null uint8\n",
      "sector_Utilities                                       12344 non-null uint8\n",
      "dtypes: float64(26), int64(2), object(1), uint8(11)\n",
      "memory usage: 3.0+ MB\n"
     ]
    }
   ],
   "source": [
    "df.index = df.date\n",
    "df = df.groupby(by=[df.symbol, df.month, df.year], as_index=False).mean()\n",
    "df.info()"
   ]
  },
  {
   "cell_type": "markdown",
   "metadata": {},
   "source": [
    "We want our model to be agnostic of the year since we're not doing time series analysis of our data. This means we can drop the year. We'll also drop close because we're only trying to predict percentage growth based on financial statements."
   ]
  },
  {
   "cell_type": "code",
   "execution_count": 18,
   "metadata": {
    "ExecuteTime": {
     "end_time": "2019-09-29T22:59:20.657765Z",
     "start_time": "2019-09-29T22:59:20.641520Z"
    }
   },
   "outputs": [
    {
     "name": "stdout",
     "output_type": "stream",
     "text": [
      "<class 'pandas.core.frame.DataFrame'>\n",
      "Int64Index: 12344 entries, 0 to 12343\n",
      "Data columns (total 37 columns):\n",
      "month                                                  12344 non-null int64\n",
      "Accounts Payable                                       12344 non-null float64\n",
      "Accounts Receivable                                    12344 non-null float64\n",
      "Cash and Cash Equivalents                              12344 non-null float64\n",
      "Fixed Assets                                           12344 non-null float64\n",
      "Inventory                                              12344 non-null float64\n",
      "Investments                                            12344 non-null float64\n",
      "Liabilities                                            12344 non-null float64\n",
      "Long-Term Debt                                         12344 non-null float64\n",
      "Long-Term Investments                                  12344 non-null float64\n",
      "Net Income                                             12344 non-null float64\n",
      "Operating Income                                       12344 non-null float64\n",
      "Other Current Assets                                   12344 non-null float64\n",
      "Other Current Liabilities                              12344 non-null float64\n",
      "Research and Development                               12344 non-null float64\n",
      "Short-Term Debt / Current Portion of Long-Term Debt    12344 non-null float64\n",
      "Short-Term Investments                                 12344 non-null float64\n",
      "Total Assets                                           12344 non-null float64\n",
      "Total Current Assets                                   12344 non-null float64\n",
      "Total Current Liabilities                              12344 non-null float64\n",
      "Total Equity                                           12344 non-null float64\n",
      "Total Liabilities                                      12344 non-null float64\n",
      "Total Liabilities & Equity                             12344 non-null float64\n",
      "Total Revenue                                          12344 non-null float64\n",
      "Earnings Per Share                                     12344 non-null float64\n",
      "growth_category                                        12344 non-null float64\n",
      "sector_Consumer Discretionary                          12344 non-null uint8\n",
      "sector_Consumer Staples                                12344 non-null uint8\n",
      "sector_Energy                                          12344 non-null uint8\n",
      "sector_Financials                                      12344 non-null uint8\n",
      "sector_Health Care                                     12344 non-null uint8\n",
      "sector_Industrials                                     12344 non-null uint8\n",
      "sector_Information Technology                          12344 non-null uint8\n",
      "sector_Materials                                       12344 non-null uint8\n",
      "sector_Real Estate                                     12344 non-null uint8\n",
      "sector_Telecommunications Services                     12344 non-null uint8\n",
      "sector_Utilities                                       12344 non-null uint8\n",
      "dtypes: float64(25), int64(1), uint8(11)\n",
      "memory usage: 2.7 MB\n"
     ]
    }
   ],
   "source": [
    "df.drop(['close', 'year', 'symbol'], axis = 1, inplace = True)\n",
    "df.info()"
   ]
  },
  {
   "cell_type": "code",
   "execution_count": 19,
   "metadata": {
    "ExecuteTime": {
     "end_time": "2019-09-29T22:59:37.808900Z",
     "start_time": "2019-09-29T22:59:37.284387Z"
    }
   },
   "outputs": [],
   "source": [
    "# df.to_csv('average_by_month_january.csv')\n",
    "df.to_csv('average_by_month.csv')"
   ]
  },
  {
   "cell_type": "markdown",
   "metadata": {},
   "source": [
    "--- Checkpoint ---"
   ]
  },
  {
   "cell_type": "code",
   "execution_count": 20,
   "metadata": {
    "ExecuteTime": {
     "end_time": "2019-09-29T22:59:41.150480Z",
     "start_time": "2019-09-29T22:59:41.077094Z"
    }
   },
   "outputs": [
    {
     "name": "stdout",
     "output_type": "stream",
     "text": [
      "<class 'pandas.core.frame.DataFrame'>\n",
      "Int64Index: 12344 entries, 0 to 12343\n",
      "Data columns (total 37 columns):\n",
      "month                                                  12344 non-null int64\n",
      "Accounts Payable                                       12344 non-null float64\n",
      "Accounts Receivable                                    12344 non-null float64\n",
      "Cash and Cash Equivalents                              12344 non-null float64\n",
      "Fixed Assets                                           12344 non-null float64\n",
      "Inventory                                              12344 non-null float64\n",
      "Investments                                            12344 non-null float64\n",
      "Liabilities                                            12344 non-null float64\n",
      "Long-Term Debt                                         12344 non-null float64\n",
      "Long-Term Investments                                  12344 non-null float64\n",
      "Net Income                                             12344 non-null float64\n",
      "Operating Income                                       12344 non-null float64\n",
      "Other Current Assets                                   12344 non-null float64\n",
      "Other Current Liabilities                              12344 non-null float64\n",
      "Research and Development                               12344 non-null float64\n",
      "Short-Term Debt / Current Portion of Long-Term Debt    12344 non-null float64\n",
      "Short-Term Investments                                 12344 non-null float64\n",
      "Total Assets                                           12344 non-null float64\n",
      "Total Current Assets                                   12344 non-null float64\n",
      "Total Current Liabilities                              12344 non-null float64\n",
      "Total Equity                                           12344 non-null float64\n",
      "Total Liabilities                                      12344 non-null float64\n",
      "Total Liabilities & Equity                             12344 non-null float64\n",
      "Total Revenue                                          12344 non-null float64\n",
      "Earnings Per Share                                     12344 non-null float64\n",
      "growth_category                                        12344 non-null float64\n",
      "sector_Consumer Discretionary                          12344 non-null int64\n",
      "sector_Consumer Staples                                12344 non-null int64\n",
      "sector_Energy                                          12344 non-null int64\n",
      "sector_Financials                                      12344 non-null int64\n",
      "sector_Health Care                                     12344 non-null int64\n",
      "sector_Industrials                                     12344 non-null int64\n",
      "sector_Information Technology                          12344 non-null int64\n",
      "sector_Materials                                       12344 non-null int64\n",
      "sector_Real Estate                                     12344 non-null int64\n",
      "sector_Telecommunications Services                     12344 non-null int64\n",
      "sector_Utilities                                       12344 non-null int64\n",
      "dtypes: float64(25), int64(12)\n",
      "memory usage: 3.6 MB\n"
     ]
    }
   ],
   "source": [
    "# df = pd.read_csv('average_by_month_january.csv', index_col=0)\n",
    "df = pd.read_csv('average_by_month.csv', index_col=0)\n",
    "df.info()"
   ]
  },
  {
   "cell_type": "code",
   "execution_count": 21,
   "metadata": {
    "ExecuteTime": {
     "end_time": "2019-09-29T22:59:46.544537Z",
     "start_time": "2019-09-29T22:59:46.537473Z"
    }
   },
   "outputs": [],
   "source": [
    "# Get our independent and dependent variables\n",
    "y = df['growth_category'].astype('int')\n",
    "X = df.drop(['growth_category'], axis = 1)"
   ]
  },
  {
   "cell_type": "markdown",
   "metadata": {},
   "source": [
    "<a id=\"2.5\"></a>\n",
    "### 5. Normalize Data\n",
    "Our next step it to standardize all the data. We don't want certain features to have too strong of an influence just because the nature of that particular feature, the numbers are higher. For example, Earnings per share is generally a low number because it's Revenue divided by the number of shares outstanding, while Our total Assets number is going to be astronomical compared to EPS. We don't want Assets to simply out rank EPS. EPS could potentially be more important, so by standardizing all features, we can even the playing field.\n",
    "\n",
    "** We will want to exclude the one hot encoded columns from this process **"
   ]
  },
  {
   "cell_type": "code",
   "execution_count": 22,
   "metadata": {
    "ExecuteTime": {
     "end_time": "2019-09-29T22:59:49.906996Z",
     "start_time": "2019-09-29T22:59:49.901227Z"
    }
   },
   "outputs": [],
   "source": [
    "# Split categorical data from numeric\n",
    "numeric = X.iloc[:, 0:-11]\n",
    "categorical = X.iloc[:, -11:]"
   ]
  },
  {
   "cell_type": "code",
   "execution_count": 23,
   "metadata": {
    "ExecuteTime": {
     "end_time": "2019-09-29T22:59:51.018937Z",
     "start_time": "2019-09-29T22:59:51.003979Z"
    }
   },
   "outputs": [],
   "source": [
    "from sklearn.preprocessing import StandardScaler\n",
    "scaler = StandardScaler()\n",
    "numeric_scaled = scaler.fit_transform(numeric)"
   ]
  },
  {
   "cell_type": "code",
   "execution_count": 24,
   "metadata": {
    "ExecuteTime": {
     "end_time": "2019-09-29T22:59:51.867205Z",
     "start_time": "2019-09-29T22:59:51.852485Z"
    }
   },
   "outputs": [
    {
     "name": "stdout",
     "output_type": "stream",
     "text": [
      "<class 'pandas.core.frame.DataFrame'>\n",
      "RangeIndex: 12344 entries, 0 to 12343\n",
      "Data columns (total 36 columns):\n",
      "month                                                  12344 non-null float64\n",
      "Accounts Payable                                       12344 non-null float64\n",
      "Accounts Receivable                                    12344 non-null float64\n",
      "Cash and Cash Equivalents                              12344 non-null float64\n",
      "Fixed Assets                                           12344 non-null float64\n",
      "Inventory                                              12344 non-null float64\n",
      "Investments                                            12344 non-null float64\n",
      "Liabilities                                            12344 non-null float64\n",
      "Long-Term Debt                                         12344 non-null float64\n",
      "Long-Term Investments                                  12344 non-null float64\n",
      "Net Income                                             12344 non-null float64\n",
      "Operating Income                                       12344 non-null float64\n",
      "Other Current Assets                                   12344 non-null float64\n",
      "Other Current Liabilities                              12344 non-null float64\n",
      "Research and Development                               12344 non-null float64\n",
      "Short-Term Debt / Current Portion of Long-Term Debt    12344 non-null float64\n",
      "Short-Term Investments                                 12344 non-null float64\n",
      "Total Assets                                           12344 non-null float64\n",
      "Total Current Assets                                   12344 non-null float64\n",
      "Total Current Liabilities                              12344 non-null float64\n",
      "Total Equity                                           12344 non-null float64\n",
      "Total Liabilities                                      12344 non-null float64\n",
      "Total Liabilities & Equity                             12344 non-null float64\n",
      "Total Revenue                                          12344 non-null float64\n",
      "Earnings Per Share                                     12344 non-null float64\n",
      "sector_Consumer Discretionary                          12344 non-null int64\n",
      "sector_Consumer Staples                                12344 non-null int64\n",
      "sector_Energy                                          12344 non-null int64\n",
      "sector_Financials                                      12344 non-null int64\n",
      "sector_Health Care                                     12344 non-null int64\n",
      "sector_Industrials                                     12344 non-null int64\n",
      "sector_Information Technology                          12344 non-null int64\n",
      "sector_Materials                                       12344 non-null int64\n",
      "sector_Real Estate                                     12344 non-null int64\n",
      "sector_Telecommunications Services                     12344 non-null int64\n",
      "sector_Utilities                                       12344 non-null int64\n",
      "dtypes: float64(25), int64(11)\n",
      "memory usage: 3.4 MB\n"
     ]
    }
   ],
   "source": [
    "# Put them back together\n",
    "numeric = pd.DataFrame(numeric_scaled, columns=numeric.columns)\n",
    "categorical = pd.DataFrame(categorical)\n",
    "X = pd.concat([numeric, categorical], axis=1)\n",
    "X.info()"
   ]
  },
  {
   "cell_type": "markdown",
   "metadata": {},
   "source": [
    "### Dimensionality Reduction"
   ]
  },
  {
   "cell_type": "code",
   "execution_count": 25,
   "metadata": {
    "ExecuteTime": {
     "end_time": "2019-09-29T22:59:54.003341Z",
     "start_time": "2019-09-29T22:59:53.707604Z"
    }
   },
   "outputs": [
    {
     "name": "stdout",
     "output_type": "stream",
     "text": [
      "[3.87848720e-01 2.04739093e-01 6.53274686e-02 4.63282946e-02\n",
      " 4.26997371e-02 3.86232776e-02 3.49942813e-02 3.41398372e-02\n",
      " 2.81851112e-02 2.45944015e-02 1.68252177e-02 1.00887085e-02\n",
      " 8.90655395e-03 7.44170047e-03 5.77721064e-03 5.42716935e-03\n",
      " 4.44647560e-03 4.41990695e-03 3.87784546e-03 3.67728292e-03\n",
      " 2.98726981e-03 2.82474350e-03 2.69170859e-03 2.48005922e-03\n",
      " 2.35186900e-03 2.07949779e-03 1.70922664e-03 1.35460318e-03\n",
      " 1.14247986e-03 1.11415579e-03 4.60075959e-04 3.59779660e-04\n",
      " 7.62026424e-05 3.46902808e-08 7.64896732e-32 8.99217915e-33]\n"
     ]
    },
    {
     "data": {
      "image/png": "[encoded data removed]",
      "text/plain": [
       "<Figure size 432x288 with 1 Axes>"
      ]
     },
     "metadata": {
      "needs_background": "light"
     },
     "output_type": "display_data"
    }
   ],
   "source": [
    "from sklearn.decomposition import PCA\n",
    "pca = PCA(n_components = None)\n",
    "X_reduced = pca.fit_transform(X)\n",
    "\n",
    "print(pca.explained_variance_ratio_)\n",
    "\n",
    "plt.plot(np.cumsum(pca.explained_variance_ratio_))\n",
    "plt.xlabel('number of components')\n",
    "plt.ylabel('cumulative explained variance');"
   ]
  },
  {
   "cell_type": "markdown",
   "metadata": {},
   "source": [
    "14 Features look best"
   ]
  },
  {
   "cell_type": "code",
   "execution_count": 26,
   "metadata": {
    "ExecuteTime": {
     "end_time": "2019-09-29T22:59:55.603561Z",
     "start_time": "2019-09-29T22:59:55.585194Z"
    }
   },
   "outputs": [
    {
     "name": "stdout",
     "output_type": "stream",
     "text": [
      "1 :  0.38784872032409573 \t\t 0.38784872032409573\n",
      "2 :  0.5925878130007608 \t\t 0.20473909267666504\n",
      "3 :  0.6579152816378491 \t\t 0.06532746863708833\n",
      "4 :  0.7042435762429969 \t\t 0.04632829460514792\n",
      "5 :  0.7469433132946831 \t\t 0.04269973705168621\n",
      "6 :  0.7855665908684937 \t\t 0.03862327757381055\n",
      "7 :  0.8205608721955671 \t\t 0.034994281327073336\n",
      "8 :  0.8547007093983588 \t\t 0.03413983720279177\n",
      "9 :  0.8828858206149474 \t\t 0.028185111216588475\n",
      "10 :  0.9074802221142406 \t\t 0.024594401499293258\n",
      "11 :  0.9243054397906632 \t\t 0.01682521767642251\n",
      "12 :  0.9343941483168948 \t\t 0.010088708526231642\n",
      "13 :  0.9433007022646016 \t\t 0.008906553947706836\n",
      "14 :  0.950742402736972 \t\t 0.007441700472370377\n",
      "15 :  0.9565196133803479 \t\t 0.00577721064337584\n",
      "16 :  0.9619467827325447 \t\t 0.005427169352196894\n",
      "17 :  0.966393258331244 \t\t 0.004446475598699257\n",
      "18 :  0.9708131652790075 \t\t 0.004419906947763528\n",
      "19 :  0.9746910107373707 \t\t 0.003877845458363184\n",
      "20 :  0.9783682936552424 \t\t 0.0036772829178716208\n",
      "21 :  0.9813555634630604 \t\t 0.00298726980781807\n",
      "22 :  0.9841803069678231 \t\t 0.0028247435047627162\n",
      "23 :  0.986872015556412 \t\t 0.0026917085885889303\n",
      "24 :  0.9893520747808836 \t\t 0.0024800592244715756\n",
      "25 :  0.9917039437811825 \t\t 0.002351869000298915\n",
      "26 :  0.9937834415750172 \t\t 0.0020794977938346482\n",
      "27 :  0.9954926682192771 \t\t 0.0017092266442599055\n",
      "28 :  0.9968472713969618 \t\t 0.0013546031776847176\n",
      "29 :  0.9979897512570198 \t\t 0.001142479860058041\n",
      "30 :  0.9991039070477206 \t\t 0.0011141557907007112\n",
      "31 :  0.9995639830071837 \t\t 0.00046007595946317666\n",
      "32 :  0.99992376266734 \t\t 0.00035977966015619914\n",
      "33 :  0.9999999653097192 \t\t 7.620264237928478e-05\n",
      "34 :  1.0 \t\t 3.469028076530414e-08\n",
      "35 :  1.0 \t\t 7.64896731509193e-32\n",
      "36 :  1.0 \t\t 8.992179153983315e-33\n"
     ]
    }
   ],
   "source": [
    "total_var = 0\n",
    "cnt = 1\n",
    "for i in pca.explained_variance_ratio_:\n",
    "    total_var += i\n",
    "    print(cnt, ': ', total_var, '\\t\\t', i)\n",
    "    cnt += 1"
   ]
  },
  {
   "cell_type": "code",
   "execution_count": 27,
   "metadata": {
    "ExecuteTime": {
     "end_time": "2019-09-29T23:00:00.036602Z",
     "start_time": "2019-09-29T22:59:59.986770Z"
    }
   },
   "outputs": [
    {
     "name": "stdout",
     "output_type": "stream",
     "text": [
      "0.9507417194056427\n"
     ]
    }
   ],
   "source": [
    "pca = PCA(n_components = 14)\n",
    "X_reduced = pca.fit_transform(X)\n",
    "\n",
    "print(sum(pca.explained_variance_ratio_))"
   ]
  },
  {
   "cell_type": "markdown",
   "metadata": {},
   "source": [
    "Even though we reduced our features to 14 which is roughly half what we started with, we are still able to explain 95% of all variation in the data. \n",
    "\n",
    "<a id=\"4\"></a>\n",
    "## 4. Model\n",
    "Our first step is to split our data into two sets, training data and testing data. We'll use a test size of 25% of of our total data. \n",
    "\n",
    "From here, we can train different types of classifiers to see which ones produce the most predictive models. Once we have determined which type of classifier is best, we'll us reduce dimensionality and tune the parameters to increase the accuracy of our model."
   ]
  },
  {
   "cell_type": "code",
   "execution_count": 28,
   "metadata": {
    "ExecuteTime": {
     "end_time": "2019-09-29T23:00:10.583742Z",
     "start_time": "2019-09-29T23:00:10.575788Z"
    }
   },
   "outputs": [],
   "source": [
    "from sklearn.model_selection import train_test_split\n",
    "X_train, X_test, y_train, y_test = train_test_split(X_reduced, y, test_size = 0.25, random_state = 3)"
   ]
  },
  {
   "cell_type": "markdown",
   "metadata": {},
   "source": [
    "### K Neighbors Classifier\n",
    "The K Neighbors Classifier takes the n closest data points and uses those to 'vote' for which outcome the current point should be classified. Whichever class has the most 'votes'from the n neighbors, wins. In this case we are using the 5 nearest neighbors (the number has to be odd and not divisible by 3 to guarantee one wins out)."
   ]
  },
  {
   "cell_type": "code",
   "execution_count": 32,
   "metadata": {
    "ExecuteTime": {
     "end_time": "2019-09-29T23:02:29.411260Z",
     "start_time": "2019-09-29T23:02:29.398134Z"
    }
   },
   "outputs": [
    {
     "data": {
      "text/plain": [
       "KNeighborsClassifier(algorithm='auto', leaf_size=30, metric='minkowski',\n",
       "                     metric_params=None, n_jobs=None, n_neighbors=5, p=2,\n",
       "                     weights='uniform')"
      ]
     },
     "execution_count": 32,
     "metadata": {},
     "output_type": "execute_result"
    }
   ],
   "source": [
    "from sklearn.neighbors import KNeighborsClassifier\n",
    "clf = KNeighborsClassifier(n_neighbors = 5, metric = 'minkowski', p = 2)\n",
    "clf.fit(X_train, y_train)"
   ]
  },
  {
   "cell_type": "code",
   "execution_count": 33,
   "metadata": {
    "ExecuteTime": {
     "end_time": "2019-09-29T23:02:30.379628Z",
     "start_time": "2019-09-29T23:02:30.163973Z"
    }
   },
   "outputs": [
    {
     "name": "stdout",
     "output_type": "stream",
     "text": [
      "[[998 158 158]\n",
      " [276 240 181]\n",
      " [328 216 531]]\n",
      "Accuracy:  0.5732339598185353\n"
     ]
    }
   ],
   "source": [
    "y_pred = clf.predict(X_test)\n",
    "\n",
    "from sklearn.metrics import confusion_matrix, accuracy_score\n",
    "cm = confusion_matrix(y_test, y_pred)\n",
    "acc = accuracy_score(y_test, y_pred)\n",
    "print(cm)\n",
    "print('Accuracy: ', acc)"
   ]
  },
  {
   "cell_type": "markdown",
   "metadata": {},
   "source": [
    "With an accuracy of 0.57, our model is better than random chance (0.33) but not nearly as high as we would like.\n",
    "\n",
    "### Support Vector Machine\n",
    "> A Support Vector Machine (SVM) is a discriminative classifier formally defined by a separating hyperplane. In other words, given labeled training data (supervised learning), the algorithm outputs an optimal hyperplane which categorizes new examples. In two dimentional space this hyperplane is a line dividing a plane in two parts where in each class lay in either side.\n",
    "\n",
    "[citation](https://medium.com/machine-learning-101/chapter-2-svm-support-vector-machine-theory-f0812effc72)"
   ]
  },
  {
   "cell_type": "code",
   "execution_count": 34,
   "metadata": {
    "ExecuteTime": {
     "end_time": "2019-09-29T23:02:40.527296Z",
     "start_time": "2019-09-29T23:02:31.942172Z"
    }
   },
   "outputs": [
    {
     "data": {
      "text/plain": [
       "SVC(C=1.0, cache_size=200, class_weight=None, coef0=0.0,\n",
       "    decision_function_shape='ovr', degree=3, gamma='auto_deprecated',\n",
       "    kernel='linear', max_iter=-1, probability=False, random_state=3,\n",
       "    shrinking=True, tol=0.001, verbose=False)"
      ]
     },
     "execution_count": 34,
     "metadata": {},
     "output_type": "execute_result"
    }
   ],
   "source": [
    "from sklearn.svm import SVC\n",
    "clf = SVC(kernel = 'linear', random_state = 3)\n",
    "clf.fit(X_train, y_train)"
   ]
  },
  {
   "cell_type": "code",
   "execution_count": 35,
   "metadata": {
    "ExecuteTime": {
     "end_time": "2019-09-29T23:02:41.048003Z",
     "start_time": "2019-09-29T23:02:40.685806Z"
    }
   },
   "outputs": [
    {
     "name": "stdout",
     "output_type": "stream",
     "text": [
      "[[1314    0    0]\n",
      " [ 697    0    0]\n",
      " [1075    0    0]]\n",
      "Accuracy:  0.42579390797148414\n"
     ]
    }
   ],
   "source": [
    "y_pred = clf.predict(X_test)\n",
    "\n",
    "cm = confusion_matrix(y_test, y_pred)\n",
    "acc = accuracy_score(y_test, y_pred)\n",
    "print(cm)\n",
    "print('Accuracy: ', acc)"
   ]
  },
  {
   "cell_type": "markdown",
   "metadata": {},
   "source": [
    "Using a linear kernel, we had low expectations as our data is much more complex and we have a multi-class problem. The accuracy result reflects this. \n",
    "\n",
    "### Kernel SVM\n",
    "\n",
    "Using the radial basis function kernel, we'll hope to improve the results."
   ]
  },
  {
   "cell_type": "code",
   "execution_count": 38,
   "metadata": {
    "ExecuteTime": {
     "end_time": "2019-09-29T23:03:16.739915Z",
     "start_time": "2019-09-29T23:03:12.000123Z"
    }
   },
   "outputs": [
    {
     "data": {
      "text/plain": [
       "SVC(C=1.0, cache_size=200, class_weight=None, coef0=0.0,\n",
       "    decision_function_shape='ovr', degree=3, gamma='auto', kernel='rbf',\n",
       "    max_iter=-1, probability=False, random_state=3, shrinking=True, tol=0.001,\n",
       "    verbose=False)"
      ]
     },
     "execution_count": 38,
     "metadata": {},
     "output_type": "execute_result"
    }
   ],
   "source": [
    "clf = SVC(kernel = 'rbf', gamma='auto', random_state = 3)\n",
    "clf.fit(X_train, y_train)"
   ]
  },
  {
   "cell_type": "code",
   "execution_count": 39,
   "metadata": {
    "ExecuteTime": {
     "end_time": "2019-09-29T23:03:17.629577Z",
     "start_time": "2019-09-29T23:03:16.896139Z"
    }
   },
   "outputs": [
    {
     "name": "stdout",
     "output_type": "stream",
     "text": [
      "[[916   7 391]\n",
      " [370  28 299]\n",
      " [434  22 619]]\n",
      "Accuracy:  0.5064808813998704\n"
     ]
    }
   ],
   "source": [
    "y_pred = clf.predict(X_test)\n",
    "\n",
    "cm = confusion_matrix(y_test, y_pred)\n",
    "acc = accuracy_score(y_test, y_pred)\n",
    "print(cm)\n",
    "print('Accuracy: ', acc)"
   ]
  },
  {
   "cell_type": "markdown",
   "metadata": {},
   "source": [
    "The results did imporove from 0.425 to 0.5. Still not nearly as predictive as we would like.\n",
    "\n",
    "### Decision Tree\n",
    "\n",
    "> Decision tree builds classification or regression models in the form of a tree structure. It breaks down a data set into smaller and smaller subsets while at the same time an associated decision tree is incrementally developed. The final result is a tree with decision nodes and leaf nodes. A decision node has two or more branches. Leaf node represents a classification or decision. The topmost decision node in a tree which corresponds to the best predictor called root node. Decision trees can handle both categorical and numerical data.\n",
    "\n",
    "[citation](https://medium.com/@chiragsehra42/decision-trees-explained-easily-28f23241248)"
   ]
  },
  {
   "cell_type": "code",
   "execution_count": 40,
   "metadata": {
    "ExecuteTime": {
     "end_time": "2019-09-29T23:03:49.902298Z",
     "start_time": "2019-09-29T23:03:49.582915Z"
    }
   },
   "outputs": [
    {
     "data": {
      "text/plain": [
       "DecisionTreeClassifier(class_weight=None, criterion='entropy', max_depth=None,\n",
       "                       max_features=None, max_leaf_nodes=None,\n",
       "                       min_impurity_decrease=0.0, min_impurity_split=None,\n",
       "                       min_samples_leaf=1, min_samples_split=2,\n",
       "                       min_weight_fraction_leaf=0.0, presort=False,\n",
       "                       random_state=3, splitter='best')"
      ]
     },
     "execution_count": 40,
     "metadata": {},
     "output_type": "execute_result"
    }
   ],
   "source": [
    "from sklearn.tree import DecisionTreeClassifier\n",
    "clf_dt = DecisionTreeClassifier(criterion = 'entropy', random_state = 3)\n",
    "clf_dt.fit(X_train, y_train)"
   ]
  },
  {
   "cell_type": "code",
   "execution_count": 41,
   "metadata": {
    "ExecuteTime": {
     "end_time": "2019-09-29T23:03:50.449808Z",
     "start_time": "2019-09-29T23:03:50.438015Z"
    }
   },
   "outputs": [
    {
     "name": "stdout",
     "output_type": "stream",
     "text": [
      "[[1122  170   22]\n",
      " [ 144  378  175]\n",
      " [  18  186  871]]\n",
      "Accuracy:  0.7683084899546339\n"
     ]
    }
   ],
   "source": [
    "y_pred = clf_dt.predict(X_test)\n",
    "\n",
    "cm = confusion_matrix(y_test, y_pred)\n",
    "acc = accuracy_score(y_test, y_pred)\n",
    "print(cm)\n",
    "print('Accuracy: ', acc)"
   ]
  },
  {
   "cell_type": "markdown",
   "metadata": {},
   "source": [
    "Our Decision Tree classifier was a major imporovement from all of our other models. With an accuracy of 0.766, we can say it's a major upgrade from random chance as it's has more than twice the accuracy.\n",
    "\n",
    "### Random Forest\n",
    "\n",
    "> Random forests or random decision forests are an ensemble learning method for classification, regression and other tasks that operates by constructing a multitude of decision trees at training time and outputting the class that is the mode of the classes or mean prediction of the individual trees.\n",
    "\n",
    "[citation](https://en.wikipedia.org/wiki/Random_forest)"
   ]
  },
  {
   "cell_type": "code",
   "execution_count": 42,
   "metadata": {
    "ExecuteTime": {
     "end_time": "2019-09-29T23:03:52.777573Z",
     "start_time": "2019-09-29T23:03:52.284284Z"
    }
   },
   "outputs": [
    {
     "data": {
      "text/plain": [
       "RandomForestClassifier(bootstrap=True, class_weight=None, criterion='entropy',\n",
       "                       max_depth=None, max_features='auto', max_leaf_nodes=None,\n",
       "                       min_impurity_decrease=0.0, min_impurity_split=None,\n",
       "                       min_samples_leaf=1, min_samples_split=2,\n",
       "                       min_weight_fraction_leaf=0.0, n_estimators=10,\n",
       "                       n_jobs=None, oob_score=False, random_state=3, verbose=0,\n",
       "                       warm_start=False)"
      ]
     },
     "execution_count": 42,
     "metadata": {},
     "output_type": "execute_result"
    }
   ],
   "source": [
    "from sklearn.ensemble import RandomForestClassifier\n",
    "clf_rf = RandomForestClassifier(n_estimators = 10, criterion = 'entropy', random_state = 3)\n",
    "clf_rf.fit(X_train, y_train)"
   ]
  },
  {
   "cell_type": "code",
   "execution_count": 43,
   "metadata": {
    "ExecuteTime": {
     "end_time": "2019-09-29T23:03:52.991610Z",
     "start_time": "2019-09-29T23:03:52.974471Z"
    }
   },
   "outputs": [
    {
     "name": "stdout",
     "output_type": "stream",
     "text": [
      "[[1147  154   13]\n",
      " [ 157  379  161]\n",
      " [  17  197  861]]\n",
      "Accuracy:  0.7734931950745302\n"
     ]
    }
   ],
   "source": [
    "y_pred = clf_rf.predict(X_test)\n",
    "\n",
    "cm = confusion_matrix(y_test, y_pred)\n",
    "acc = accuracy_score(y_test, y_pred)\n",
    "print(cm)\n",
    "print('Accuracy: ', acc)"
   ]
  },
  {
   "cell_type": "markdown",
   "metadata": {},
   "source": [
    "Random Forest was an improvement over Decision Tree, which is to be expected as it's built on Decision Tree foundational ideas but adds more certainty to it. Although, I expected a larger difference.\n",
    "\n",
    "### Validation\n",
    "Here are the accuracy results from our initial models. \n",
    "\n",
    "| Model         | Accuracy |\n",
    "|---------------|----------|\n",
    "| K Neighbors   | 0.5749   |\n",
    "| SVM           | 0.4258   |\n",
    "| Kernel SVM    | 0.5065   |\n",
    "| Decision Tree | 0.7683   |\n",
    "| Random Forest | 0.7735   |\n",
    "\n",
    "There are two models that are clearly better than the rest, Decision Tree and Random Forest. Next we'll use K-Fold Cross Validation to get a more reliable picture of which model is stronger by eliminating the chance that random sampling caused the difference in outcomes."
   ]
  },
  {
   "cell_type": "code",
   "execution_count": 44,
   "metadata": {
    "ExecuteTime": {
     "end_time": "2019-09-29T23:05:37.876536Z",
     "start_time": "2019-09-29T23:05:30.531075Z"
    }
   },
   "outputs": [
    {
     "name": "stdout",
     "output_type": "stream",
     "text": [
      "Decision Tree Results:\n",
      "Accuracies Mean:  0.7450819499930196\n",
      "Accuracies Standard Deviation:  0.01104929185471611\n",
      "Random Forest Results:\n",
      "Accuracies Mean:  0.7526435687383914\n",
      "Accuracies Standard Deviation:  0.012763178639095311\n"
     ]
    },
    {
     "data": {
      "text/plain": [
       "Text(0, 0.5, 'Accuracy Score')"
      ]
     },
     "execution_count": 44,
     "metadata": {},
     "output_type": "execute_result"
    },
    {
     "data": {
      "image/png": "[encoded data removed]",
      "text/plain": [
       "<Figure size 432x288 with 1 Axes>"
      ]
     },
     "metadata": {
      "needs_background": "light"
     },
     "output_type": "display_data"
    }
   ],
   "source": [
    "from sklearn.model_selection import cross_val_score\n",
    "\n",
    "accuracies_dt = cross_val_score(clf_dt, X = X_train, y = y_train, cv = 10)\n",
    "print('Decision Tree Results:')\n",
    "print('Accuracies Mean: ', accuracies_dt.mean())\n",
    "print('Accuracies Standard Deviation: ', accuracies_dt.std())\n",
    "\n",
    "accuracies_rf = cross_val_score(clf_rf, X = X_train, y = y_train, cv = 10)\n",
    "print('Random Forest Results:')\n",
    "print('Accuracies Mean: ', accuracies_rf.mean())\n",
    "print('Accuracies Standard Deviation: ', accuracies_rf.std())\n",
    "\n",
    "plt.bar(['Decision Tree', 'Random Forest'],[accuracies_dt.mean(), accuracies_rf.mean()],\n",
    "        yerr=[accuracies_dt.std(), accuracies_rf.std()])\n",
    "plt.ylim(0.65, 0.8)\n",
    "plt.title('Decision Tree vs Random Forest (w/ STDV)')\n",
    "plt.ylabel('Accuracy Score')"
   ]
  },
  {
   "cell_type": "markdown",
   "metadata": {},
   "source": [
    "There seems to be minimal difference between the two models, so we move forward with both of them to see which one we can get to be the most predictive.\n",
    "\n",
    "Our next steps are to imporove our results is hyperparameter tuning. This will help us narrow in on the specific parameters of each model to find the set that best fits our data."
   ]
  },
  {
   "cell_type": "markdown",
   "metadata": {},
   "source": [
    "## Hyperparameter Tuning"
   ]
  },
  {
   "cell_type": "code",
   "execution_count": 45,
   "metadata": {
    "ExecuteTime": {
     "end_time": "2019-09-29T23:07:19.531001Z",
     "start_time": "2019-09-29T23:07:12.850144Z"
    }
   },
   "outputs": [
    {
     "name": "stderr",
     "output_type": "stream",
     "text": [
      "/Users/joe/anaconda3/lib/python3.6/site-packages/sklearn/model_selection/_split.py:1978: FutureWarning: The default value of cv will change from 3 to 5 in version 0.22. Specify it explicitly to silence this warning.\n",
      "  warnings.warn(CV_WARNING, FutureWarning)\n"
     ]
    },
    {
     "data": {
      "text/plain": [
       "{'criterion': 'gini', 'max_depth': 20, 'min_samples_split': 2}"
      ]
     },
     "execution_count": 45,
     "metadata": {},
     "output_type": "execute_result"
    }
   ],
   "source": [
    "from sklearn.model_selection import GridSearchCV\n",
    "\n",
    "dt_clf = DecisionTreeClassifier()\n",
    "\n",
    "dt_param_grid = {\n",
    "    \"criterion\": ['gini', 'entropy'],\n",
    "    'max_depth': [7, 10, 20],\n",
    "    'min_samples_split': [1., 2, 3, 4]\n",
    "}\n",
    "\n",
    "gs_dt = GridSearchCV(dt_clf, dt_param_grid)\n",
    "gs_dt.fit(X_train, y_train)\n",
    "\n",
    "gs_dt.best_params_"
   ]
  },
  {
   "cell_type": "code",
   "execution_count": 46,
   "metadata": {
    "ExecuteTime": {
     "end_time": "2019-09-29T23:08:07.175213Z",
     "start_time": "2019-09-29T23:08:06.988872Z"
    }
   },
   "outputs": [
    {
     "name": "stdout",
     "output_type": "stream",
     "text": [
      "0.7527543745949449\n"
     ]
    }
   ],
   "source": [
    "dt_clf = DecisionTreeClassifier(criterion='gini', max_depth=20, min_samples_split=2, random_state=3)\n",
    "dt_clf.fit(X_train, y_train)\n",
    "\n",
    "y_pred = dt_clf.predict(X_test)\n",
    "\n",
    "cm = confusion_matrix(y_test, y_pred)\n",
    "acc = accuracy_score(y_test, y_pred)\n",
    "print(acc)"
   ]
  },
  {
   "cell_type": "code",
   "execution_count": 48,
   "metadata": {
    "ExecuteTime": {
     "end_time": "2019-09-29T23:14:15.882055Z",
     "start_time": "2019-09-29T23:13:49.953189Z"
    }
   },
   "outputs": [
    {
     "name": "stderr",
     "output_type": "stream",
     "text": [
      "/Users/joe/anaconda3/lib/python3.6/site-packages/sklearn/model_selection/_split.py:1978: FutureWarning: The default value of cv will change from 3 to 5 in version 0.22. Specify it explicitly to silence this warning.\n",
      "  warnings.warn(CV_WARNING, FutureWarning)\n"
     ]
    },
    {
     "data": {
      "text/plain": [
       "{'criterion': 'entropy',\n",
       " 'max_depth': None,\n",
       " 'min_samples_split': 2,\n",
       " 'n_estimators': 100}"
      ]
     },
     "execution_count": 48,
     "metadata": {},
     "output_type": "execute_result"
    }
   ],
   "source": [
    "rf_clf = RandomForestClassifier()\n",
    "\n",
    "rf_param_grid = {\n",
    "    'n_estimators': [50, 75, 100],\n",
    "    'criterion': ['entropy'],\n",
    "    'max_depth': [None],\n",
    "    'min_samples_split': [2]\n",
    "}\n",
    "\n",
    "gs_rf = GridSearchCV(rf_clf, rf_param_grid)\n",
    "gs_rf.fit(X_train, y_train)\n",
    "\n",
    "gs_rf.best_params_"
   ]
  },
  {
   "cell_type": "code",
   "execution_count": 49,
   "metadata": {
    "ExecuteTime": {
     "end_time": "2019-09-29T23:16:15.565415Z",
     "start_time": "2019-09-29T23:16:10.757050Z"
    }
   },
   "outputs": [
    {
     "name": "stdout",
     "output_type": "stream",
     "text": [
      "[[1150  155    9]\n",
      " [ 143  385  169]\n",
      " [  12  175  888]]\n",
      "Accuracy:  0.7851587815942969\n"
     ]
    }
   ],
   "source": [
    "clf_rf = RandomForestClassifier(n_estimators = 100, criterion = 'entropy', \n",
    "                                max_depth=None, min_samples_split=2, random_state = 3)\n",
    "clf_rf.fit(X_train, y_train)\n",
    "\n",
    "y_pred = clf_rf.predict(X_test)\n",
    "\n",
    "cm = confusion_matrix(y_test, y_pred)\n",
    "acc = accuracy_score(y_test, y_pred)\n",
    "print(cm)\n",
    "print('Accuracy: ', acc)"
   ]
  },
  {
   "cell_type": "markdown",
   "metadata": {},
   "source": [
    "Random Forest is better.\n",
    "\n",
    "Next is XG boost"
   ]
  },
  {
   "cell_type": "code",
   "execution_count": 26,
   "metadata": {
    "ExecuteTime": {
     "end_time": "2019-09-28T19:36:02.472965Z",
     "start_time": "2019-09-28T19:20:47.675299Z"
    }
   },
   "outputs": [
    {
     "name": "stderr",
     "output_type": "stream",
     "text": [
      "/Users/joe/anaconda3/lib/python3.6/site-packages/sklearn/model_selection/_split.py:1978: FutureWarning: The default value of cv will change from 3 to 5 in version 0.22. Specify it explicitly to silence this warning.\n",
      "  warnings.warn(CV_WARNING, FutureWarning)\n"
     ]
    },
    {
     "data": {
      "text/plain": [
       "{'colsample_bytree': 1,\n",
       " 'gamma': 1,\n",
       " 'learning_rate': 0.008,\n",
       " 'max_depth': 15,\n",
       " 'n_estimators': 1000,\n",
       " 'objective': 'multi:softmax',\n",
       " 'subsample': 0.9}"
      ]
     },
     "execution_count": 26,
     "metadata": {},
     "output_type": "execute_result"
    }
   ],
   "source": [
    "from xgboost import XGBClassifier\n",
    "from sklearn.model_selection import GridSearchCV\n",
    "\n",
    "xgb_param_grid = {\n",
    "    'objective': ['multi:softmax'],\n",
    "    'learning_rate': [0.008],\n",
    "    'n_estimators': [1000],\n",
    "    'max_depth': [15],\n",
    "    'subsample': [0.9, 1],\n",
    "    'colsample_bytree': [1],\n",
    "    'gamma': [1]\n",
    "}\n",
    "\n",
    "clf_xgb = XGBClassifier()\n",
    "gs_xgb = GridSearchCV(clf_xgb, xgb_param_grid)\n",
    "gs_xgb.fit(X_train, y_train)\n",
    "gs_xgb.best_params_"
   ]
  },
  {
   "cell_type": "code",
   "execution_count": 27,
   "metadata": {
    "ExecuteTime": {
     "end_time": "2019-09-28T19:40:45.322864Z",
     "start_time": "2019-09-28T19:36:18.727336Z"
    }
   },
   "outputs": [
    {
     "name": "stdout",
     "output_type": "stream",
     "text": [
      "[[1158  135   21]\n",
      " [ 162  340  195]\n",
      " [  28  163  884]]\n",
      "Accuracy:  0.7718729747245625\n"
     ]
    }
   ],
   "source": [
    "clf_xgb = XGBClassifier(objective='multi:softmax', learning_rate=0.008,\n",
    "                       n_estimators=1000, max_depth=25, subsample=0.9,\n",
    "                       colsample_bytree=1, gamma=1)\n",
    "clf_xgb.fit(X_train, y_train)\n",
    "\n",
    "y_pred = clf_xgb.predict(X_test)\n",
    "\n",
    "cm = confusion_matrix(y_test, y_pred)\n",
    "acc = accuracy_score(y_test, y_pred)\n",
    "print(cm)\n",
    "print('Accuracy: ', acc)"
   ]
  },
  {
   "cell_type": "markdown",
   "metadata": {},
   "source": [
    "<a id=\"4.4\"></a>\n",
    "# Conclusion"
   ]
  },
  {
   "cell_type": "markdown",
   "metadata": {},
   "source": [
    "| Model | Accuracy |\n",
    "|-------|----------|\n",
    "| RF    | 0.7852   |\n",
    "| XGB   | 0.7719   |\n",
    "\n",
    "We were able to tune `Random Forrest` to outperform `XG Boost` by a little. There is also a major difference in performance in terms of the time it takes to execute. When we port this code over to a data set that includes more years or more stocks, `Random Forest` will be a significant time saver."
   ]
  },
  {
   "cell_type": "markdown",
   "metadata": {},
   "source": [
    "# Future Work\n",
    "\n",
    "1. Expand the time covered\n",
    "To make the results more reliable, we need to expand the timeframe of the data in this project. Currently, we only have a short period of time accounted for and none of it was in a bear market. \n",
    "\n",
    "2. Adjust our definitions\n",
    "Currently we are only calculating if the price of the stock increased, decreased or stayed the same. We should adjust our definitions to be in relation to the overal performance of the S&P 500. There are plenty of low cost ETF's and mutual funds that follow the S&P 500. So, for our model to be actionable, we need to make sure that the stocks we are recommending as growth companies will outperform easier, less risky options.\n",
    "\n",
    "3. Broaden our focus\n",
    "We can expand the reach of our project by including stocks taht aren't in the S&P 500. Potentially finding a lot more high growth companies. \n",
    "\n",
    "---\n",
    "\n",
    "# Recap\n",
    "## Scrub\n",
    "\n",
    "### Dealing with Datatypes\n",
    "- Waterfront and zipcode were cast to categorical variables\n",
    "- Sqft_basement, view and yr_renovated were cast to ints\n",
    "- Turned date into a numermerical column so that we can run statistics on it.\n",
    "\n",
    "### Dealing with Null Values\n",
    "- Chose to drop all rows that had null values in the view and sqft_basement columns\n",
    "- For yr_renovated, we replaced all null and 0 values with the year that the house was built. \n",
    "\n",
    "### Check for Multicolinearity\n",
    "\n",
    "**Columns with high correlation:**\n",
    "- sqft_living, sqft_above and grade\n",
    "- bathrooms, sqft_living\\*\n",
    "- sqft_lot and sqft_lot15\n",
    "- yr_built and year_renovated\n",
    "\n",
    "**DROPPED:**\n",
    "- id\n",
    "- grade\n",
    "- sqft_living\n",
    "- sqft_lot15\n",
    "- yr_renovated\n",
    "\n",
    "### Normalized Data\n",
    "\n",
    "- Log transformed certain independent variables and the dependent variable\n",
    "- Standardized numerical columns to reduce the influence of units or scale\n",
    "\n",
    "## Model\n",
    "\n",
    "### Dimensionality Reduction\n",
    "- Used K-Fold Cross Validation using several values for k to insure no overfitting. \n",
    "- Calculated the r squared scores and standard deviation of the r squared scores for each trial. \n",
    "- Determined that the results were consistent no matter how the data was divided into train/test sets. \n",
    "- Determined 79 features was the most perdictive model with the least variance\n",
    "\n",
    "### Final Model\n",
    "- Using 79 features, we built an OLS regression model for Price\n",
    "\n",
    "\n",
    "\n"
   ]
  },
  {
   "cell_type": "markdown",
   "metadata": {},
   "source": [
    "Since the r-squared doesn't change, we know removing the columns with a low p-value doesn't effect our model"
   ]
  },
  {
   "cell_type": "code",
   "execution_count": null,
   "metadata": {
    "collapsed": true
   },
   "outputs": [],
   "source": []
  }
 ],
 "metadata": {
  "hide_input": false,
  "kernelspec": {
   "display_name": "Python 3",
   "language": "python",
   "name": "python3"
  },
  "language_info": {
   "codemirror_mode": {
    "name": "ipython",
    "version": 3
   },
   "file_extension": ".py",
   "mimetype": "text/x-python",
   "name": "python",
   "nbconvert_exporter": "python",
   "pygments_lexer": "ipython3",
   "version": "3.6.9"
  },
  "toc": {
   "base_numbering": 1,
   "nav_menu": {},
   "number_sections": true,
   "sideBar": true,
   "skip_h1_title": false,
   "title_cell": "Table of Contents",
   "title_sidebar": "Contents",
   "toc_cell": false,
   "toc_position": {
    "height": "calc(100% - 180px)",
    "left": "10px",
    "top": "150px",
    "width": "165px"
   },
   "toc_section_display": true,
   "toc_window_display": true
  },
  "varInspector": {
   "cols": {
    "lenName": 16,
    "lenType": 16,
    "lenVar": 40
   },
   "kernels_config": {
    "python": {
     "delete_cmd_postfix": "",
     "delete_cmd_prefix": "del ",
     "library": "var_list.py",
     "varRefreshCmd": "print(var_dic_list())"
    },
    "r": {
     "delete_cmd_postfix": ") ",
     "delete_cmd_prefix": "rm(",
     "library": "var_list.r",
     "varRefreshCmd": "cat(var_dic_list()) "
    }
   },
   "oldHeight": 122.69881799999999,
   "position": {
    "height": "40px",
    "left": "968.078px",
    "right": "20px",
    "top": "2px",
    "width": "250px"
   },
   "types_to_exclude": [
    "module",
    "function",
    "builtin_function_or_method",
    "instance",
    "_Feature"
   ],
   "varInspector_section_display": "none",
   "window_display": true
  }
 },
 "nbformat": 4,
 "nbformat_minor": 2
}
